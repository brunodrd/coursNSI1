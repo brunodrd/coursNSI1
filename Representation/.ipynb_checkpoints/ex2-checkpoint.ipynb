{
 "cells": [
  {
   "cell_type": "markdown",
   "metadata": {},
   "source": [
    "## Préambule: manipulations hexdécimales en python\n",
    "Python possède une fonction native permettant de convertir un entier en hexadécimal: `hex()`. \n",
    "1. Consulter la documentation de `hex`.\n",
    "2. Convertir $N_1=352_{10}$ en hexadécimal.\n",
    "3. Afficher la valeur sans le préfixe '0x'. *Conseil: voir exercice précédent*"
   ]
  },
  {
   "cell_type": "markdown",
   "metadata": {},
   "source": [
    "## Traitement d'une chaine hexadécimale\n",
    "Une fonction dont le code est donnée ci-dessous est proposée. Malheureusement, une partie de sa spécification n'a pas été complétée.\n",
    "1. Que réalise cette fonction ? Faire des tests avec les nombres \"10FA1000\" et \"84BD1001\".\n",
    "2. Afficher la conversion en entier de ces nombres préalablement transformés par la fonction `big2little()`."
   ]
  },
  {
   "cell_type": "code",
   "execution_count": 12,
   "metadata": {},
   "outputs": [],
   "source": [
    "def big2little(nh):\n",
    "    \"\"\"\n",
    "    Retourne .....\n",
    "    On suppose que nh est une chaine de longueur multiple de 2 pouvant\n",
    "    être interprété comme un nombre hexadécimal.\n",
    "    \"\"\"\n",
    "    resultat = \"\"\n",
    "    l = len(nh)\n",
    "    for i in range(0,l-1,2):\n",
    "        resultat = nh[i:i+2] + resultat\n",
    "    return resultat"
   ]
  },
  {
   "cell_type": "code",
   "execution_count": 16,
   "metadata": {},
   "outputs": [
    {
     "name": "stdout",
     "output_type": "stream",
     "text": [
      "0010FA10\n"
     ]
    }
   ],
   "source": [
    "print(big2little(\"10FA1000\"))"
   ]
  },
  {
   "cell_type": "code",
   "execution_count": 17,
   "metadata": {},
   "outputs": [
    {
     "name": "stdout",
     "output_type": "stream",
     "text": [
      "1112592\n"
     ]
    }
   ],
   "source": [
    "print(int('0010FA10',16))"
   ]
  },
  {
   "cell_type": "code",
   "execution_count": null,
   "metadata": {},
   "outputs": [],
   "source": []
  }
 ],
 "metadata": {
  "kernelspec": {
   "display_name": "Python 3",
   "language": "python",
   "name": "python3"
  },
  "language_info": {
   "codemirror_mode": {
    "name": "ipython",
    "version": 3
   },
   "file_extension": ".py",
   "mimetype": "text/x-python",
   "name": "python",
   "nbconvert_exporter": "python",
   "pygments_lexer": "ipython3",
   "version": "3.7.2"
  }
 },
 "nbformat": 4,
 "nbformat_minor": 2
}
