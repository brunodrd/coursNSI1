{
 "cells": [
  {
   "cell_type": "markdown",
   "metadata": {},
   "source": [
    "# Chap. III \n",
    "# Travailler en base 2, 10 et 16\n",
    "\n",
    "\n",
    "## Plan\n",
    "1. Repères historiques\n",
    "2. Comment représenter des informations sur une machine numérique?\n",
    "3. Représentation hexadécimale\n",
    "4. À retenir\n",
    "5. E1C3 Manipulations binaires en python\n",
    "6. E2C3 Manipulations hexdécimales en python\n",
    "7. Résumé des fonctions python rencontrées\n",
    "\n",
    "## Repères du programme\n",
    "| Contenus |  Capacités attendues | Commentaires |\n",
    "|:----------|:----------------------| :-------------|\n",
    "|Écriture d’un entier positif dans une base b ⩾ 2| Passer de la représentation d’une base dans une autre.|Les bases 2, 10 et 16 sont privilégiées.|\n",
    "\n",
    "## Prérequis\n",
    "*  *Mathématique*: division euclidienne  \n",
    "*  *Langage*: constructions élémentaires en python  \n",
    "\n",
    "## Durée & déroulement\n",
    "3h sont prévues pour ce chapitre. Les élèves disposent du notebook et les questions d'application directe sont traitées et testées pendant le cours. Le découpage horaire prévu est le suivant:  \n",
    "*  Cours interactif: 45 min  \n",
    "*  Activités guidées (E1C3 et E2C3): 2h\n",
    "*  Evaluation: QCM 15 min"
   ]
  }
 ],
 "metadata": {
  "kernelspec": {
   "display_name": "Python 3",
   "language": "python",
   "name": "python3"
  },
  "language_info": {
   "codemirror_mode": {
    "name": "ipython",
    "version": 3
   },
   "file_extension": ".py",
   "mimetype": "text/x-python",
   "name": "python",
   "nbconvert_exporter": "python",
   "pygments_lexer": "ipython3",
   "version": "3.7.2"
  }
 },
 "nbformat": 4,
 "nbformat_minor": 2
}
