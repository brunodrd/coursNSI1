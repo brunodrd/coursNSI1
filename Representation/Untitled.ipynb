{
 "cells": [
  {
   "cell_type": "code",
   "execution_count": 11,
   "metadata": {},
   "outputs": [],
   "source": [
    "def dec2bin(n):\n",
    "    \"\"\"\n",
    "    Réalise la conversion d'un nombre n en binaire;\n",
    "    n est un entier naturel;\n",
    "    Le retour est une chaine de caractère\n",
    "    \"\"\"\n",
    "    \n",
    "    resultat = ''\n",
    "    quotient = n\n",
    "    if n == 0:\n",
    "        resultat = '0'\n",
    "    else:\n",
    "        while quotient != 0:\n",
    "            resultat = str(quotient % 2) + resultat\n",
    "            quotient = quotient // 2\n",
    "    return resultat"
   ]
  },
  {
   "cell_type": "code",
   "execution_count": 16,
   "metadata": {},
   "outputs": [
    {
     "name": "stdout",
     "output_type": "stream",
     "text": [
      "160\n"
     ]
    }
   ],
   "source": [
    "print(hex(352).lstrip('0x'))"
   ]
  },
  {
   "cell_type": "code",
   "execution_count": 10,
   "metadata": {},
   "outputs": [],
   "source": [
    "def big2little(nh):\n",
    "    \"\"\"\n",
    "    Retourne .....\n",
    "    On suppose que nh est une chaine de longueur multiple de 2 pouvant\n",
    "    être interprété comme un nombre hexadécimal.\n",
    "    \"\"\"\n",
    "    resultat = \"\"\n",
    "    l = len(nh)\n",
    "    for i in range(0,l-1,2):\n",
    "        resultat = nh[i:i+2] + resultat\n",
    "    return resultat\n",
    "#print('big2little(\"10FA1000\") = ', big2little(\"10FA1000\"))\n",
    "#print('big2little(\"84BD1001\") = ', big2little(\"84BD1001\"))\n",
    "\n",
    "def lecturefichier(nomfichier):\n",
    "    \"\"\"\n",
    "    \"\"\"\n",
    "    f = open(nomfichier, 'rb')\n",
    "    #question 2\n",
    "    typefichier = f.read(2)\n",
    "    taille_big = f.read(4).hex()\n",
    "    f.close()\n",
    "    taille = big2little(taille_big)\n",
    "    taille = int(taille, 16)\n",
    "    return taille\n",
    "\n"
   ]
  },
  {
   "cell_type": "code",
   "execution_count": 11,
   "metadata": {},
   "outputs": [
    {
     "name": "stdout",
     "output_type": "stream",
     "text": [
      "1000138\n"
     ]
    }
   ],
   "source": [
    "print(lecturefichier('alien.bmp'))"
   ]
  },
  {
   "cell_type": "code",
   "execution_count": null,
   "metadata": {},
   "outputs": [],
   "source": []
  }
 ],
 "metadata": {
  "kernelspec": {
   "display_name": "Python 3",
   "language": "python",
   "name": "python3"
  },
  "language_info": {
   "codemirror_mode": {
    "name": "ipython",
    "version": 3
   },
   "file_extension": ".py",
   "mimetype": "text/x-python",
   "name": "python",
   "nbconvert_exporter": "python",
   "pygments_lexer": "ipython3",
   "version": "3.7.2"
  }
 },
 "nbformat": 4,
 "nbformat_minor": 2
}
