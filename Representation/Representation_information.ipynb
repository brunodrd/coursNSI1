{
 "cells": [
  {
   "cell_type": "markdown",
   "metadata": {},
   "source": [
    "# TRAVAILLER EN BASE 2, 10 ET 16"
   ]
  },
  {
   "cell_type": "markdown",
   "metadata": {},
   "source": [
    "# Repères historiques\n",
    "L'invention du système binaire est souvent attribué à tort au savant allemand [Wilhelm Gottfried Leibniz](https://fr.wikipedia.org/wiki/Gottfried_Wilhelm_Leibniz#Syst%C3%A8me_binaire) (1646-1716). En effet, le mathématicien et astronome anglais [Thomas Harriot](https://fr.wikipedia.org/wiki/Thomas_Harriot#Le_math%C3%A9maticien) (1560-1621) avait déjà travaillé sur les systèmes non décimaux.  \n",
    "Leibniz s'inspire des figures de le l'empereur chinois Fuxi (-3000) que l'on peut considérer comme la première expression d'un codage binaire.  \n",
    "![Trigramme](img/trigramme_200px.png)"
   ]
  },
  {
   "cell_type": "markdown",
   "metadata": {},
   "source": [
    "# Comment représenter des informations sur une machine numérique ? \n",
    "## Unité d'information\n",
    "Les machines numériques sont composées d'éléments manipulant l'information sous forme de **deux états distincts**. C'est la raison pour laquelle on les appelle machine **binaire**. Par convention, ces états sont notés $0$ ou $1$. En anglais, ces informations élémentaires sont appelées *binary digit* ou **bit**.  \n",
    "Un bit permet de représenter $2^1=2$ informations.  \n",
    "*  Citer un système qui nécessite **un** bit pour coder son information.  \n",
    "*  Combien de bits sont nécessaires pour distinguer les 4 familles d'un jeu de cartes?  \n",
    "\n",
    "En généralisant on a la propriété importante: $n$ bits permettent de représenter $2^n$ informations.  \n",
    "\n",
    "*Autres exemples*  \n",
    "*  Combien de bits sont nécessaires pour distinguer les 26 lettres de l'alphabet ?  \n",
    "*  Justifier le fait qu'à l'origine 7 bits étaient suffisants pour coder du texte (*en anglais!*)"
   ]
  },
  {
   "cell_type": "code",
   "execution_count": 1,
   "metadata": {
    "hideCode": true
   },
   "outputs": [],
   "source": [
    "##################Réponses aux questions##################\n",
    "# 1) Un détecteur de fumée: présence de fumée activation alarme -> état 1\n",
    "# pas de fumée, pas d'alarme -> état 0\n",
    "# 2) Deux bits sont suffisants (voir schéma)"
   ]
  },
  {
   "cell_type": "code",
   "execution_count": null,
   "metadata": {
    "hideCode": true
   },
   "outputs": [],
   "source": [
    "# 3) 5 bits nécessaire, car 2^4 < 26 < 2^5\n",
    "# 4) 26*2 (lettres minuscules et majuscules) + 10 (chiffres) + ponctuation (environ 30) = 92\n",
    "# Or 2^6 < 92 < 2^7"
   ]
  },
  {
   "cell_type": "markdown",
   "metadata": {},
   "source": [
    "Les machines numériques manipulent habituellement des groupes de bits. Ainsi, un groupe de 8 bits forment un **octet** (!!!! ATTENTION !!!!! en anglais un **octet** est traduit par **BYTE**). Au delà de 8 bits on utilise le terme **mot**. On parle par exemple de mot de 16 bits, de mot de 32 bits (on trouve aussi le terme *double mot*) ou de mot de 64 bits (ou *quadruple mot*)."
   ]
  },
  {
   "cell_type": "markdown",
   "metadata": {},
   "source": [
    "Les quantités d'informations stockées ou manipulées s'expriment avec les préfixes habituels reliés aux puissances de 10 (1 kilooctet (ko) $= 1\\times10^3$ octets, 1 mégaoctet (Mo) $= 1\\times10^6$ octets, 1 gigaoctet (Go) $= 1\\times10^9$ octets etc).  \n",
    "*Remarque*: certains informaticiens/électroniciens utilisent encore des définitions de ces quantités exprimées en puissances de 2 ($2^{10}$, $2^{20}$, $2^{30}$, etc). Pour éviter les confusions, l'International Electrotechnical Commission (IEC) a normalisé ces appellations en décembre 1998. Voir [lien](https://physics.nist.gov/cuu/Units/binary.html)."
   ]
  },
  {
   "cell_type": "markdown",
   "metadata": {},
   "source": [
    "## Représentation binaire des entiers naturels\n",
    "###  Représentation positionnelle\n",
    "On présente les nombres entiers de manière classique en *représentation positionnelle*. Par exemple en base 10, la suite 123 signifie $1\\times 10^2+2\\times 10^1+3\\times 10^0$. En base 2, la suite 10011 signifie $1\\times 2^4+0\\times 2^3+0\\times 2^2+1\\times 2^1+1\\times 2^0$.  \n",
    "Dans un motif binaire, le bit le plus à droite est le **bit de poids faible** ou **LSB** (*Least Significant Bit*). A l'opposé, le bit le plus à gauche est le **bit de poids fort** ou **MSB** (*Most Significant Bit*). Le bit de poids faible peut être utilisé pour trouver la parité du nombre: $0$ indique un nombre pair et $1$ un nombre impair."
   ]
  },
  {
   "cell_type": "markdown",
   "metadata": {},
   "source": [
    "### Conversion binaire - décimal \n",
    "La conversion binaire - décimale d'un entier naturel découle simplement du mode de représentation positionnelle: on additionne les puissances de 2 présentes dans le motif binaire. Ainsi, pour l'exemple précédent on a:  \n",
    "$10011_2=(1\\times 2^4+0\\times 2^3+0\\times 2^2+1\\times 2^1+1\\times 2^0)_{10}=19_{10}$  \n",
    "*Remarque*  \n",
    "La base a été indiquée ici en indice, on peut l'omettre lorsqu'il n'y a pas d'ambiguité."
   ]
  },
  {
   "cell_type": "markdown",
   "metadata": {},
   "source": [
    "### Conversion décimal - binaire\n",
    "On décompose le nombre entier en une somme de puissance de 2 par divisions entières successives tant que le quotient est supérieur ou égal à 2.  \n",
    "Exemple: soit $N=23$ à convertir en binaire"
   ]
  },
  {
   "cell_type": "code",
   "execution_count": 5,
   "metadata": {
    "hideCode": true,
    "hidePrompt": true
   },
   "outputs": [
    {
     "data": {
      "text/latex": [
       "\\begin{align*} \n",
       "23 &=  2\\times 11+1 \\\\ \n",
       " &=  2\\times(2\\times5 +1)+1\\\\\n",
       " &= 2\\times(2\\times(2\\times2 +1)+1)+1\\\\\n",
       " &= 2\\times(2\\times(2\\times(2\\times1+0)+1)+1)+1\n",
       "\\end{align*}"
      ],
      "text/plain": [
       "<IPython.core.display.Latex object>"
      ]
     },
     "metadata": {},
     "output_type": "display_data"
    }
   ],
   "source": [
    "%%latex\n",
    "\\begin{align*} \n",
    "23 &=  2\\times 11+1 \\\\ \n",
    " &=  2\\times(2\\times5 +1)+1\\\\\n",
    " &= 2\\times(2\\times(2\\times2 +1)+1)+1\\\\\n",
    " &= 2\\times(2\\times(2\\times(2\\times1+0)+1)+1)+1\n",
    "\\end{align*}"
   ]
  },
  {
   "cell_type": "markdown",
   "metadata": {},
   "source": [
    "Le résultat est donc $N=10111_2$. On peut le retrouver en juxtaposant les restes des divisions \"potences\" (voir exemple au tableau).  \n",
    "Applications  \n",
    "1.  Trouver la représentation binaire de $77_{10}$ et $123_{10}$.\n",
    "2.  Trouver la représentation décimale de $1101\\ 1011_2$."
   ]
  },
  {
   "cell_type": "code",
   "execution_count": 7,
   "metadata": {},
   "outputs": [
    {
     "data": {
      "text/plain": [
       "1"
      ]
     },
     "execution_count": 7,
     "metadata": {},
     "output_type": "execute_result"
    }
   ],
   "source": [
    "77%2"
   ]
  },
  {
   "cell_type": "markdown",
   "metadata": {},
   "source": [
    "# Représentation hexadécimale\n",
    "La représentation binaire devient rapidement encombrante. On lui préfère souvent la représentation *hexadécimale* (base 16). L'utilisation de cette base nécessite 16 caractères. Le tableau ci-dessous présente ces caractères ainsi que leur équivalence en base 10 et 2.  \n",
    "![Caractères hexadécimaux](img/caracteres_hexa.png)\n",
    "#### Conversions décimal - hexadécimal\n",
    "Les principes de conversion décimal-hexdécimal et vice-versa sont identiques aux principes de conversion vus pour le binaire.  \n",
    "Applications\n",
    "1.  Trouver la représentation hexdécimale de $77_{10}$ et $123_{10}$.\n",
    "2.  Trouver la représentation décimale de $6A0_{16}$.\n",
    "\n",
    "#### Conversions binaire - hexadécimal\n",
    "Pour passer du binaire à l'hexadécimal il suffit de grouper les bits par 4 et de les remplacer par leur équivalent hexdécimal (*voir tableau ci-dessus*).  \n",
    "Exemple  \n",
    "$1101\\ 1011_2 = DB_{16}$  \n",
    "Pour convertir de l'hexadécimal en binaire, on remplace chaque chiffre hexadécimal par son équivalent binaire sur 4 bits.  \n",
    "Exemple\n",
    "$7A5_{16}= 0111\\ 1010\\ 0101_2$"
   ]
  },
  {
   "cell_type": "code",
   "execution_count": 4,
   "metadata": {},
   "outputs": [
    {
     "data": {
      "text/plain": [
       "1696"
      ]
     },
     "execution_count": 4,
     "metadata": {},
     "output_type": "execute_result"
    }
   ],
   "source": [
    "0 * 16**0 + 10 * 16**1 + 6 * 16**2"
   ]
  },
  {
   "cell_type": "code",
   "execution_count": 3,
   "metadata": {},
   "outputs": [
    {
     "data": {
      "text/plain": [
       "219"
      ]
     },
     "execution_count": 3,
     "metadata": {},
     "output_type": "execute_result"
    }
   ],
   "source": [
    "int('DB', 16)"
   ]
  },
  {
   "cell_type": "markdown",
   "metadata": {},
   "source": [
    "# &Agrave; retenir\n",
    "L'information numérique est manipulée sous forme de *bits*. Les machines numériques travaillent avec des groupes de bits: des octets (8 bits) ou des mots (16, 32 ou 64 bits).  \n",
    "Les nombres entiers sont représentés en machine par des motifs binaires, c'est-à-dire une décomposition suivant les puissances de 2, par divisions successives par exemple.  \n",
    "Afin de limiter l'encombrement des motifs binaires on peut utiliser la représentation hexadécimale où chaque groupe de 4 bits du nombre binaire est remplacé par un chiffre hexadécimal compris entre 0 et $F$. Le passage du décimal à l'hexadécimal se fait par divisions successives par 16."
   ]
  },
  {
   "cell_type": "markdown",
   "metadata": {},
   "source": [
    "## E1C3 Manipulations binaires en python\n",
    "#### A. Préambule: types natifs\n",
    "Python possède trois types numériques natifs, parmi lesquels on peux citer les entiers **relatifs** (*integers*) et les nombres décimaux à virgule flottante (*float*). Pour manipuler du texte, on dispose du type chaine de caractères (*string*). Ces dernières sont déclarées en étant entourées de double quotes \" \" ou de simples quotes ' '. Par exemple \n",
    "```python\n",
    "mavariable = \"programmation\"```\n",
    "Pour accéder au type d'un objet `obj`on utilise la fonction native `type()` sur cet objet:  \n",
    "```python\n",
    "type(obj)\n",
    "```\n",
    "Donner le type des objets suivants: 11, 11.0 et \"11\". Représentent-ils le même objet ?\n",
    "#### B. Convertisseur decimal binaire version 1\n",
    "Python possède une fonction native qui permet la conversion d'un entier en binaire: la fonction `bin()`.\n",
    "1. Consulter la documentation associée à cette fonction.\n",
    "2. Convertir l'entier 77 en binaire et l'affecter à une variable nommée `valeurbinaire`. \n",
    "3. Quel est le type de `valeurbinaire` ?\n",
    "4. On souhaiterait afficher `valeurbinaire` sans le préfixe `0b`. La fonction (on dit ici *méthode* associée aux chaines de caractères) qui pourrait être utilisée est `str.lstrip()`. Exemple d'utilisation:\n",
    "```python\n",
    "com = \"# Ceci n'est pas un commentaire valide en python\"\n",
    "print(com.lstrip(\"# \"))\n",
    "Ceci n'est pas un commentaire valide en python\n",
    "```\n",
    " * Consulter la documentation associée à `str.strip`.\n",
    " * Afficher `valeurbinaire` sans le préfixe `0b`.\n",
    " \n",
    "#### C. Convertisseur decimal binaire version 2\n",
    "Dans cette partie on va implémenter en python l'algorithme évoqué au paragraphe \"Conversion décimal - binaire\". L'algorithme est écrit en pseudo-code, dans lequel l'affectation est notée $\\leftarrow$ et la chaine de caractères vide \"\".\n",
    "![Algorithme conversion binaire](img/cnvbinaire.png)\n",
    "1. Ecrire une fonction en python `dec2bin(n)` qui retourne la conversion en binaire d'un entier $n$.   \n",
    "*Indications*:\n",
    "  *  en python le reste de la division de $a$ par $b$ est obtenu par `a % b`; \n",
    "  *  la division entière de $a$ par $b$ s'obtient par `a // b`;\n",
    "  *  pour convertir un nombre $x$ en caractère $\"x\"$ on utilise `str(x)`.  \n",
    "2. Justifier simplement que la boucle tant que termine.\n",
    "3. *Pour les plus rapides*: retourner le résultat sur 16 bits en complétant le cas échéant avec des zéros. Indication: se documenter sur la fonction `str.zfill()`."
   ]
  },
  {
   "cell_type": "code",
   "execution_count": 15,
   "metadata": {},
   "outputs": [],
   "source": [
    "def dec2bin(n):\n",
    "    \"\"\"\n",
    "    Retourne la representation binaire d'un entier n;\n",
    "    n entier naturel\n",
    "    \"\"\"\n",
    "    resultat = ''\n",
    "    quotient = n\n",
    "    if n == 0:\n",
    "        resultat = '0'\n",
    "    else:\n",
    "        while quotient != 0:\n",
    "            resultat =  str(quotient % 2)+ resultat\n",
    "            quotient = quotient // 2\n",
    "    return resultat"
   ]
  },
  {
   "cell_type": "markdown",
   "metadata": {},
   "source": [
    "## E2C3 Manipulations hexdécimales en python\n",
    "### Préambule\n",
    "Python possède une fonction native permettant de convertir un entier en hexadécimal: `hex()`. \n",
    "1. Consulter la documentation de `hex`.\n",
    "2. Convertir $N_1=352_{10}$ en hexadécimal.\n",
    "3. Afficher la valeur sans le préfixe '0x'. *Conseil: voir exercice précédent*\n",
    "\n",
    "### Traitement d'une chaine hexadécimale\n",
    "Une fonction dont le code est donnée ci-dessous est proposée. Malheureusement, une partie de sa spécification n'a pas été complétée.\n",
    "1. Que réalise cette fonction ? Faire des tests avec les nombres \"10FA1000\" et \"84BD1001\".\n",
    "2. Afficher la conversion en entier de ces nombres préalablement transformés par la fonction `big2little()`."
   ]
  },
  {
   "cell_type": "code",
   "execution_count": 16,
   "metadata": {},
   "outputs": [
    {
     "name": "stdout",
     "output_type": "stream",
     "text": [
      "10111\n"
     ]
    }
   ],
   "source": [
    "print(dec2bin(23))"
   ]
  },
  {
   "cell_type": "code",
   "execution_count": 1,
   "metadata": {
    "hideOutput": false,
    "hidePrompt": true
   },
   "outputs": [],
   "source": [
    "def big2little(nh):\n",
    "    \"\"\"\n",
    "    Retourne la chaine hexadécimale nh à l'envers\n",
    "    On suppose que nh est une chaine de longueur multiple de 2 pouvant\n",
    "    être interprété comme un nombre hexadécimal.\n",
    "    \"\"\"\n",
    "    resultat = \"\"\n",
    "    l = len(nh)\n",
    "    for i in range(0,l-1,2):\n",
    "        resultat = nh[i:i+2] + resultat\n",
    "    return resultat"
   ]
  },
  {
   "cell_type": "code",
   "execution_count": 2,
   "metadata": {},
   "outputs": [
    {
     "data": {
      "text/plain": [
       "'0010FA10'"
      ]
     },
     "execution_count": 2,
     "metadata": {},
     "output_type": "execute_result"
    }
   ],
   "source": [
    "big2little(\"10FA1000\")"
   ]
  },
  {
   "cell_type": "code",
   "execution_count": 2,
   "metadata": {
    "hidePrompt": true
   },
   "outputs": [
    {
     "data": {
      "text/plain": [
       "1112592"
      ]
     },
     "execution_count": 2,
     "metadata": {},
     "output_type": "execute_result"
    }
   ],
   "source": [
    "########REPONSES##########\n",
    "int(big2little(\"10FA1000\"),16)"
   ]
  },
  {
   "cell_type": "markdown",
   "metadata": {},
   "source": [
    "### Application: entête d'un fichier image\n",
    "Les fichiers images au format [BMP](https://fr.wikipedia.org/wiki/Windows_bitmap) sont bien documentés. On peut aisemment consulter les informations avec un éditeur hexadecimal. Les 2 premiers octets servent à identifier le fichier et les 4 suivants nous donnent la taille du fichier (*en hexadécimal!*).  \n",
    "En python l'ouverture d'un fichier se fait avec la fonction native `open()` et obeit à la construction suivante:\n",
    "```python\n",
    "f = open('nom_fichier','rb')#l'option 'rb' signifie read (mode lecture) binary (mode binaire)\n",
    "#traitement(s)\n",
    "#\n",
    "f.close()#important !!\n",
    "```\n",
    "La séquence `f = open()` retourne un objet \"fichier\" qui dispose de nombreuses *méthodes*, parmi lesquelles on peut citer `read(n)` qui permet de lire $n$ octets.  \n",
    "1.  Ouvrir le fichier \"alien.bmp\" en lecture binaire.\n",
    "2.  Lire et afficher le type de fichier (lire les 2 premiers octets)\n",
    "3.  Lire les 4 octets suivants et les stocker dans une variable `taille_big`.\n",
    "4.  Stocker dans une variable `taille` la taille du fichier BMP. Il suffit de passer `taille_big` à la fonction `big2little()`.\n",
    "5.  Convertir cette taille en entier (fonction `int()`). Cette valeur est-elle cohérente avec celle fournie par le système d'exploitation."
   ]
  },
  {
   "cell_type": "code",
   "execution_count": 4,
   "metadata": {
    "hideCode": true,
    "hidePrompt": false
   },
   "outputs": [
    {
     "name": "stdout",
     "output_type": "stream",
     "text": [
      "b'BM'\n"
     ]
    },
    {
     "ename": "TypeError",
     "evalue": "can't concat str to bytes",
     "output_type": "error",
     "traceback": [
      "\u001b[1;31m---------------------------------------------------------------------------\u001b[0m",
      "\u001b[1;31mTypeError\u001b[0m                                 Traceback (most recent call last)",
      "\u001b[1;32m<ipython-input-4-907c33e13bbf>\u001b[0m in \u001b[0;36m<module>\u001b[1;34m()\u001b[0m\n\u001b[0;32m      5\u001b[0m \u001b[0mtaille_big\u001b[0m \u001b[1;33m=\u001b[0m \u001b[0mf\u001b[0m\u001b[1;33m.\u001b[0m\u001b[0mread\u001b[0m\u001b[1;33m(\u001b[0m\u001b[1;36m4\u001b[0m\u001b[1;33m)\u001b[0m\u001b[1;31m# on lit les 4 octets suivants\u001b[0m\u001b[1;33m\u001b[0m\u001b[1;33m\u001b[0m\u001b[0m\n\u001b[0;32m      6\u001b[0m \u001b[0mf\u001b[0m\u001b[1;33m.\u001b[0m\u001b[0mclose\u001b[0m\u001b[1;33m(\u001b[0m\u001b[1;33m)\u001b[0m\u001b[1;31m# on n'a plus besoin du fichier, on le referme !\u001b[0m\u001b[1;33m\u001b[0m\u001b[1;33m\u001b[0m\u001b[0m\n\u001b[1;32m----> 7\u001b[1;33m \u001b[0mtaille\u001b[0m \u001b[1;33m=\u001b[0m \u001b[0mbig2little\u001b[0m\u001b[1;33m(\u001b[0m\u001b[0mtaille_big\u001b[0m\u001b[1;33m)\u001b[0m\u001b[1;33m\u001b[0m\u001b[1;33m\u001b[0m\u001b[0m\n\u001b[0m\u001b[0;32m      8\u001b[0m \u001b[0mprint\u001b[0m\u001b[1;33m(\u001b[0m\u001b[0mint\u001b[0m\u001b[1;33m(\u001b[0m\u001b[0mtaille\u001b[0m\u001b[1;33m,\u001b[0m \u001b[1;36m16\u001b[0m\u001b[1;33m)\u001b[0m\u001b[1;33m)\u001b[0m\u001b[1;31m# int permet la conversion en entier, si on lui indique la base (ici 16)\u001b[0m\u001b[1;33m\u001b[0m\u001b[1;33m\u001b[0m\u001b[0m\n",
      "\u001b[1;32m<ipython-input-1-4b135cffcad4>\u001b[0m in \u001b[0;36mbig2little\u001b[1;34m(nh)\u001b[0m\n\u001b[0;32m      8\u001b[0m     \u001b[0ml\u001b[0m \u001b[1;33m=\u001b[0m \u001b[0mlen\u001b[0m\u001b[1;33m(\u001b[0m\u001b[0mnh\u001b[0m\u001b[1;33m)\u001b[0m\u001b[1;33m\u001b[0m\u001b[1;33m\u001b[0m\u001b[0m\n\u001b[0;32m      9\u001b[0m     \u001b[1;32mfor\u001b[0m \u001b[0mi\u001b[0m \u001b[1;32min\u001b[0m \u001b[0mrange\u001b[0m\u001b[1;33m(\u001b[0m\u001b[1;36m0\u001b[0m\u001b[1;33m,\u001b[0m\u001b[0ml\u001b[0m\u001b[1;33m-\u001b[0m\u001b[1;36m1\u001b[0m\u001b[1;33m,\u001b[0m\u001b[1;36m2\u001b[0m\u001b[1;33m)\u001b[0m\u001b[1;33m:\u001b[0m\u001b[1;33m\u001b[0m\u001b[1;33m\u001b[0m\u001b[0m\n\u001b[1;32m---> 10\u001b[1;33m         \u001b[0mresultat\u001b[0m \u001b[1;33m=\u001b[0m \u001b[0mnh\u001b[0m\u001b[1;33m[\u001b[0m\u001b[0mi\u001b[0m\u001b[1;33m:\u001b[0m\u001b[0mi\u001b[0m\u001b[1;33m+\u001b[0m\u001b[1;36m2\u001b[0m\u001b[1;33m]\u001b[0m \u001b[1;33m+\u001b[0m \u001b[0mresultat\u001b[0m\u001b[1;33m\u001b[0m\u001b[1;33m\u001b[0m\u001b[0m\n\u001b[0m\u001b[0;32m     11\u001b[0m     \u001b[1;32mreturn\u001b[0m \u001b[0mresultat\u001b[0m\u001b[1;33m\u001b[0m\u001b[1;33m\u001b[0m\u001b[0m\n",
      "\u001b[1;31mTypeError\u001b[0m: can't concat str to bytes"
     ]
    }
   ],
   "source": [
    "##############CORRECTION##################\n",
    "f = open('alien.bmp', 'rb')# ouverture du fichier en lecture binaire\n",
    "type_fichier = f.read(2)# on lit 2 octets\n",
    "print(type_fichier)\n",
    "taille_big = f.read(4)# on lit les 4 octets suivants\n",
    "f.close()# on n'a plus besoin du fichier, on le referme !\n",
    "taille = big2little(taille_big)\n",
    "print(int(taille, 16))# int permet la conversion en entier, si on lui indique la base (ici 16)"
   ]
  },
  {
   "cell_type": "markdown",
   "metadata": {},
   "source": [
    "# Résumé des fonctions python rencontrées\n",
    "Le type d'un objet python `obj` s'obtient par `type(obj)`.\n",
    "Les changements de base se font avec les fonctions `int(), bin(), hex()`. La conversion en chaine de caractères est réalisée par la fonction `str()`. Les chaines de caractères possèdent de nombreuses méthodes. Dans ce chapitre, la méthode `strip()` a été utilisée; elle permet d'éliminer des caractères en début et fin de chaine.  \n",
    "La division euclidienne d'un entier $a$ par un entier $b$ a également été abordée: $a=b\\times q + r$. En python, le quotient s'obtient par `q = a // b` et le reste par `r = a % b`."
   ]
  },
  {
   "cell_type": "markdown",
   "metadata": {},
   "source": [
    "<a rel=\"license\" href=\"http://creativecommons.org/licenses/by-nc/4.0/\"><img alt=\"Licence Creative Commons\" style=\"dislay: block; margin-left:auto; margin-right: auto; border-width:0;\" src=\"img/Cc-by-nc_icon.svg.png\" /></a><br />Ce(tte) œuvre est mise à disposition selon les termes de la <a rel=\"license\" href=\"http://creativecommons.org/licenses/by-nc/4.0/\">Licence Creative Commons Attribution - Pas d’Utilisation Commerciale 4.0 International</a>. "
   ]
  },
  {
   "cell_type": "code",
   "execution_count": 3,
   "metadata": {},
   "outputs": [
    {
     "name": "stdout",
     "output_type": "stream",
     "text": [
      "Help on method_descriptor:\n",
      "\n",
      "rstrip(self, chars=None, /)\n",
      "    Return a copy of the string with trailing whitespace removed.\n",
      "    \n",
      "    If chars is given and not None, remove characters in chars instead.\n",
      "\n"
     ]
    }
   ],
   "source": [
    "help(str.rstrip)"
   ]
  },
  {
   "cell_type": "code",
   "execution_count": null,
   "metadata": {},
   "outputs": [],
   "source": []
  }
 ],
 "metadata": {
  "celltoolbar": "Hide code",
  "kernelspec": {
   "display_name": "Python 3",
   "language": "python",
   "name": "python3"
  },
  "language_info": {
   "codemirror_mode": {
    "name": "ipython",
    "version": 3
   },
   "file_extension": ".py",
   "mimetype": "text/x-python",
   "name": "python",
   "nbconvert_exporter": "python",
   "pygments_lexer": "ipython3",
   "version": "3.7.2"
  }
 },
 "nbformat": 4,
 "nbformat_minor": 2
}
