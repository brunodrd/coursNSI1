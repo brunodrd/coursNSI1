{
 "cells": [
  {
   "cell_type": "markdown",
   "metadata": {},
   "source": [
    "#### Soit $N_1=1000\\ 1100_2$\n",
    "A) Dans quelle base $N_1$ est-il écrit?\n",
    "*  $N_1$ est écrit en base 10\n",
    "*  $N_1$ est écrit en base 16\n",
    "*  $N_1$ est écrit en base 2\n",
    "*  il manque une information pour répondre avec certitude  \n",
    "\n",
    "B) $N_1$ est formé de  \n",
    "*  8 bits\n",
    "*  8 octets\n",
    "*  8 bytes\n",
    "*  4 doubles mots  \n",
    "\n",
    "C) Conversions de $N_1$ dans une autre base \n",
    "*  $N_1=140_{10}$\n",
    "*  $N_1=280_{10}$\n",
    "*  $N_1=136_{10}$\n",
    "*  $N_1=77_{10}$  \n",
    "\n",
    "#### D) Soit $N_2=80A$  Choisir la bonne conversion  \n",
    "*  $N_2=1000\\ 0000\\ 1010_2$\n",
    "*  $N_2=1000\\ 0000\\ 1011_2$\n",
    "*  $N_2=1010\\ 0000\\ 1000_2$\n",
    "*  $N_2=1010\\ 0000\\ 1111_2$  \n",
    "\n",
    "#### E) Convertir $777_{10}$ en héxadécimal\n",
    "*  $777_{10}= 309_{16}$\n",
    "*  $777_{10}= 0011\\ 0011\\ 0011_{16}$\n",
    "*  $777_{10}= 3090_{16}$\n",
    "*  $777_{10}= 0011\\ 0000\\ 1001_{16}$"
   ]
  },
  {
   "cell_type": "code",
   "execution_count": 16,
   "metadata": {},
   "outputs": [
    {
     "data": {
      "text/plain": [
       "140"
      ]
     },
     "execution_count": 16,
     "metadata": {},
     "output_type": "execute_result"
    }
   ],
   "source": [
    "int('10001100',2)"
   ]
  },
  {
   "cell_type": "code",
   "execution_count": 15,
   "metadata": {},
   "outputs": [
    {
     "data": {
      "text/plain": [
       "'0b1100001001'"
      ]
     },
     "execution_count": 15,
     "metadata": {},
     "output_type": "execute_result"
    }
   ],
   "source": [
    "bin(777)"
   ]
  },
  {
   "cell_type": "code",
   "execution_count": null,
   "metadata": {},
   "outputs": [],
   "source": []
  }
 ],
 "metadata": {
  "kernelspec": {
   "display_name": "Python 3",
   "language": "python",
   "name": "python3"
  },
  "language_info": {
   "codemirror_mode": {
    "name": "ipython",
    "version": 3
   },
   "file_extension": ".py",
   "mimetype": "text/x-python",
   "name": "python",
   "nbconvert_exporter": "python",
   "pygments_lexer": "ipython3",
   "version": "3.7.2"
  }
 },
 "nbformat": 4,
 "nbformat_minor": 2
}
