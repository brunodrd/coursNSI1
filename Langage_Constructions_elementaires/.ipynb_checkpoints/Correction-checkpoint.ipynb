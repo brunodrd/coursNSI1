{
 "cells": [
  {
   "cell_type": "markdown",
   "metadata": {},
   "source": [
    "# Exercice E1C1"
   ]
  },
  {
   "cell_type": "code",
   "execution_count": null,
   "metadata": {},
   "outputs": [],
   "source": [
    "#Aire d'un disque\n",
    "pi = 3.14\n",
    "entree = input(\"Entrer r: \")\n",
    "r = float(entree)#float convertit l'entree en decimal\n",
    "S = pi * r * r\n",
    "print(\"La surface est:\", S)"
   ]
  },
  {
   "cell_type": "markdown",
   "metadata": {},
   "source": [
    "# Exercice E2C1"
   ]
  },
  {
   "cell_type": "code",
   "execution_count": null,
   "metadata": {},
   "outputs": [],
   "source": [
    "#Nombre divisible par 8\n",
    "entree = input(\"Entrer n: \")\n",
    "n = int(entree)\n",
    "if n%8 == 0:\n",
    "    print(n, \"est divisible par 8\")"
   ]
  },
  {
   "cell_type": "markdown",
   "metadata": {},
   "source": [
    "# Exercice E3C1"
   ]
  },
  {
   "cell_type": "code",
   "execution_count": null,
   "metadata": {},
   "outputs": [],
   "source": [
    "#Valeur absolue\n",
    "entree = input(\"Entrer un nombre: \")\n",
    "n = float(entree)\n",
    "valabsolue = n\n",
    "if n < 0:\n",
    "    valabsolue = -n\n",
    "print(\"La valeur absolue de\", n, 'est', valabsolue)    "
   ]
  },
  {
   "cell_type": "markdown",
   "metadata": {},
   "source": [
    "# Exercice E4C1"
   ]
  },
  {
   "cell_type": "code",
   "execution_count": null,
   "metadata": {},
   "outputs": [],
   "source": [
    "#A emmener selon temérature\n",
    "entree = input(\"Entrer la température: \")\n",
    "temp = float(entree)\n",
    "if temp > 20:\n",
    "    print(\"Maillot + Crème !!\")\n",
    "else:\n",
    "    print(\"Parapluie + pull\")"
   ]
  },
  {
   "cell_type": "markdown",
   "metadata": {},
   "source": [
    "# Exercice E5C1"
   ]
  },
  {
   "cell_type": "code",
   "execution_count": null,
   "metadata": {},
   "outputs": [],
   "source": [
    "an = 1987\n",
    "if an%4 == 0:\n",
    "    if an%100 == 0:\n",
    "        if an%400 == 0:\n",
    "            print(\"Bissextile\")\n",
    "        else:\n",
    "            print(\"Non bissextile\")\n",
    "    else:\n",
    "        print(\"Bissextile\")\n",
    "else:\n",
    "    print(\"Non bissextile\")"
   ]
  },
  {
   "cell_type": "markdown",
   "metadata": {},
   "source": [
    "# Problème"
   ]
  },
  {
   "cell_type": "code",
   "execution_count": null,
   "metadata": {},
   "outputs": [],
   "source": [
    "print(\"-------- Affichage de l'heure + une seconde ------\")\n",
    "heure = int(input(\"Entrer l'heure HH = \"))\n",
    "minute = int(input(\"Entrer les minutes mm = \"))\n",
    "seconde = int(input(\"Entrer les secondes ss = \"))\n",
    "if seconde < 59:\n",
    "    seconde = seconde + 1\n",
    "else:\n",
    "    seconde = 0\n",
    "    if minute < 59:\n",
    "        minute = minute + 1\n",
    "    else:\n",
    "        minute = 0\n",
    "        if heure < 23:\n",
    "            heure = heure + 1\n",
    "        else:\n",
    "            heure = 0\n",
    "print(\"Une seconde après il sera \", heure,\"h\", minute,\"min\", seconde, \"s\")"
   ]
  },
  {
   "cell_type": "markdown",
   "metadata": {},
   "source": [
    "# E6C1 Table de multiplication"
   ]
  },
  {
   "cell_type": "code",
   "execution_count": null,
   "metadata": {},
   "outputs": [],
   "source": [
    "multiplicateur = 1\n",
    "while multiplicateur <= 10:\n",
    "    print(multiplicateur, \"x 7 = \", multiplicateur*7)\n",
    "    multiplicateur = multiplicateur + 1"
   ]
  },
  {
   "cell_type": "markdown",
   "metadata": {},
   "source": [
    "# E7C1 Affichage"
   ]
  },
  {
   "cell_type": "code",
   "execution_count": null,
   "metadata": {},
   "outputs": [],
   "source": [
    "nligne = 1#numero de ligne\n",
    "while nligne <= 7:\n",
    "    print(nligne * \"*\")\n",
    "    nligne = nligne +1"
   ]
  },
  {
   "cell_type": "markdown",
   "metadata": {},
   "source": [
    "# E8C1"
   ]
  },
  {
   "cell_type": "code",
   "execution_count": null,
   "metadata": {},
   "outputs": [],
   "source": [
    "#Exercices C1E8\n",
    "#Table de 7\n",
    "for n in range(1,11):\n",
    "    print(n, \"x 7 = \", n*7)\n",
    "\n",
    "#Affichage étoile\n",
    "for numligne in range(1,8):\n",
    "    print(numligne * '*')"
   ]
  },
  {
   "cell_type": "markdown",
   "metadata": {},
   "source": [
    "# Problème France IOI"
   ]
  },
  {
   "cell_type": "code",
   "execution_count": null,
   "metadata": {},
   "outputs": [],
   "source": [
    "nbjours = int(input(\"Entrer le nombre jours marché: \"))\n",
    "record = 0\n",
    "for jour in range(nbjours):\n",
    "    d = int(input(\"Distance marchée?: \"))\n",
    "    if d > record:\n",
    "        record = d\n",
    "print(\"Record:\", record)"
   ]
  }
 ],
 "metadata": {
  "kernelspec": {
   "display_name": "Python 3",
   "language": "python",
   "name": "python3"
  },
  "language_info": {
   "codemirror_mode": {
    "name": "ipython",
    "version": 3
   },
   "file_extension": ".py",
   "mimetype": "text/x-python",
   "name": "python",
   "nbconvert_exporter": "python",
   "pygments_lexer": "ipython3",
   "version": "3.7.2"
  }
 },
 "nbformat": 4,
 "nbformat_minor": 2
}
