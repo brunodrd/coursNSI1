{
 "cells": [
  {
   "cell_type": "markdown",
   "metadata": {},
   "source": [
    "# Chap. II\n",
    "# LES FONCTIONS  \n",
    "## Plan\n",
    "1.  Repères historiques  \n",
    "2.  Notion de fonction: première approche  \n",
    "3.  Passer des arguments et récupérer une valeur  \n",
    "4.  Concevoir une fonction\n",
    "5.  Fonctions de la bibliothèque standard\n",
    "\n",
    "## Repères du programme\n",
    "| Contenus |  Capacités attendues | Commentaires |\n",
    "|:----------|:----------------------| :-------------|\n",
    "|Constructions élémentaires| Mettre en évidence un corpus de constructions élémentaires.| Appels de fonction.|\n",
    "|Utilisation de bibliothèques|Utiliser la documentation d’une bibliothèque.|Aucune connaissance exhaustive d’une bibliothèque particulière n’est exigible.|  \n",
    "\n",
    "## Prérequis\n",
    "Les constructions élémentaires en langage python (chapitre I): affectation, test et boucles.\n",
    "\n",
    "## Contexte\n",
    "Durée prévue: 2h  \n",
    "Déroulement: cours avec exécution cellules du notebook + exercices (activité de codage de fonctions)"
   ]
  }
 ],
 "metadata": {
  "kernelspec": {
   "display_name": "Python 3",
   "language": "python",
   "name": "python3"
  },
  "language_info": {
   "codemirror_mode": {
    "name": "ipython",
    "version": 3
   },
   "file_extension": ".py",
   "mimetype": "text/x-python",
   "name": "python",
   "nbconvert_exporter": "python",
   "pygments_lexer": "ipython3",
   "version": "3.7.2"
  }
 },
 "nbformat": 4,
 "nbformat_minor": 2
}
