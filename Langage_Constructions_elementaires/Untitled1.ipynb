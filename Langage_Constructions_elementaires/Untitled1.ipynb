{
 "cells": [
  {
   "cell_type": "code",
   "execution_count": 2,
   "metadata": {},
   "outputs": [
    {
     "name": "stdout",
     "output_type": "stream",
     "text": [
      "xA 2\n",
      "xB 6\n",
      "yA 3\n",
      "yB 7\n",
      "La distance entre A et B est:  5.656854249492381\n"
     ]
    }
   ],
   "source": [
    "import math\n",
    "\n",
    "def distance(xA, yA, xB, yB):\n",
    "    \"\"\"\n",
    "    Calcule la distance entre 2 points A et B;\n",
    "    xA, yA, xB, yB sont des nombres décimaux.\n",
    "    \"\"\"\n",
    "    d = math.sqrt((xB - xA)**2 + (yB - yA)**2)\n",
    "    return d\n",
    "\n",
    "xA = float(input(\"xA \"))\n",
    "xB = float(input(\"xB \"))\n",
    "yA = float(input(\"yA \"))\n",
    "yB = float(input(\"yB \"))\n",
    "print(\"La distance entre A et B est: \", distance(xA,yA,xB,yB))"
   ]
  },
  {
   "cell_type": "code",
   "execution_count": null,
   "metadata": {},
   "outputs": [],
   "source": []
  }
 ],
 "metadata": {
  "kernelspec": {
   "display_name": "Python 3",
   "language": "python",
   "name": "python3"
  },
  "language_info": {
   "codemirror_mode": {
    "name": "ipython",
    "version": 3
   },
   "file_extension": ".py",
   "mimetype": "text/x-python",
   "name": "python",
   "nbconvert_exporter": "python",
   "pygments_lexer": "ipython3",
   "version": "3.7.2"
  }
 },
 "nbformat": 4,
 "nbformat_minor": 2
}
