{
 "cells": [
  {
   "cell_type": "markdown",
   "metadata": {},
   "source": [
    "# Chap. I\n",
    "# LANGAGE  DE PROGRAMMATION- CONSTRUCTIONS ELEMENTAIRES  \n",
    "\n",
    "<h2 style=\"width: 40%;padding-left:100px; font-style: italic;\">1 spé NSI</h2>  \n",
    "\n",
    "<h3 style=\"width: 40%;padding-left:100px; font-style: italic;\">Bruno DARID</h3>  \n",
    "\n",
    "## Plan\n",
    "1.  Repères historiques  \n",
    "2.  Le langage Python \n",
    "  *  Présentation\n",
    "  *  Les entrées/sorties\n",
    "3.  Les instructions simples: la déclaration-affectation des variables\n",
    "4.  Les instructions composées\n",
    "  *  La séquence\n",
    "  *  Le test\n",
    "  *  La boucle\n",
    "     - La boucle bornée\n",
    "     - La boucle non bornée"
   ]
  },
  {
   "cell_type": "markdown",
   "metadata": {},
   "source": [
    "# Repères historiques\n",
    "<img src=\"img/John_Backus_3.png\"  alt=\"John Backus\"\n",
    "     style=\"text-align:center; border: 2px; height: 180; width: 120;\" />\n",
    "<div style=\"text-align: center;\">\n",
    "    <strong>John Backus</strong> by <a href=\"//commons.wikimedia.org/w/index.php?title=User:PIerre.Lescanne&amp;action=edit&amp;redlink=1\" class=\"new\" title=\"User:PIerre.Lescanne (page does not exist)\">PIerre.Lescanne</a> - <span class=\"int-own-work\" lang=\"en\">Own work</span>, <a href=\"https://creativecommons.org/licenses/by-sa/4.0\" title=\"Creative Commons Attribution-Share Alike 4.0\">CC BY-SA 4.0</a>, <a href=\"https://commons.wikimedia.org/w/index.php?curid=66119797\">Link</a>  \n",
    "</div>  \n",
    "\n",
    "En 1954, [John Backus](https://fr.wikipedia.org/wiki/John_Backus)(*1924-2007*) présente le premier vrai langage de programmation tel qu'on l'entend aujourd'hui: le [Fortran](https://fr.wikipedia.org/wiki/Fortran). Il mit au point vers la fin des années 50 le langage [Algol](https://fr.wikipedia.org/wiki/Algol_(langage)). Il a, par la suite, proposé la *forme Backus-Naur* notation qui permet de décrire la *grammaire* des langages de programmation."
   ]
  },
  {
   "cell_type": "markdown",
   "metadata": {},
   "source": [
    "# Le langage Python\n",
    "*  Introduction  \n",
    "Un programme est un texte qui décrit un algorithme que l’on souhaite faire exécuter par une machine. Ce texte est écrit dans un langage particulier, appelé *langage de programmation*. Le premier langage abordé en spécialité NSI est le langage **Python** en version 3. C'est un langage de haut niveau (*d'abstraction*) et interprété (*un programme appelé interpréteur se charge d'exécuter ligne par ligne le code \"source\"*).\n",
    "*  Les entrées/sorties  \n",
    "Dans un langage de programmation on appelle *entrées/sorties* des constructions permettant une communication avec l'utilisateur, donnant ainsi un aspect interactif au programme.  \n",
    "En python l'instruction `print()` affiche à l'écran les expressions passées en arguments:"
   ]
  },
  {
   "cell_type": "code",
   "execution_count": null,
   "metadata": {},
   "outputs": [],
   "source": [
    "print(\"Hello World!\")\n",
    "print(\"Python version 3.\", \"Environnement\", \"Jupyter Notebook 5.7\")\n",
    "print(\"Python version 3.\", \"Environnement\", \"Jupyter Notebook 5.7\", sep=\"//\", end=\" \")\n",
    "print(\"Pas de retour à la ligne.\")"
   ]
  },
  {
   "cell_type": "markdown",
   "metadata": {},
   "source": [
    "Des arguments optionnels comme `sep`ou `end` par exemple, permettent d'adapter l'affichage aux besoins.  \n",
    "Par ailleurs, l'instruction `input()` interrompt le déroulement du programme et attend que l'utilisateur tape quelque chose au clavier."
   ]
  },
  {
   "cell_type": "code",
   "execution_count": null,
   "metadata": {},
   "outputs": [],
   "source": [
    "niveau = input(\"Quel est votre niveau en programmation (novice/intermédiaire/avancé)?\")\n",
    "moyenne = input(\"Quelle était votre moyenne annuelle en math ?\")\n",
    "print(\"Vous avez répondu:\",niveau,\"avec \", moyenne, \"en math!\")"
   ]
  },
  {
   "cell_type": "markdown",
   "metadata": {},
   "source": [
    "*Remarques*  \n",
    "*  `input()` retourne toujours une chaine de caractères (même si l'utilisateur entre un nombre!);  \n",
    "*  la syntaxe employée à l'intérieur de la fonction `print()` bien que correcte, sera simplifiée dans les cours ultérieurs tenant compte des dernières évolutions du langage.  \n",
    "\n",
    "\n",
    "# Les instructions simples\n",
    "Pour pouvoir accéder aux données, un programme d’ordinateur fait abondamment usage de **variables**. Une variable est une *référence* désignant une adresse mémoire (*c’est-à-dire un emplacement précis dans la mémoire vive*).  \n",
    "Les instructions *simples* sont la **déclaration et l'affectation de variables**. En python cette opération est réalisée de la manière suivante:  \n",
    "`nom_variable = valeur`  \n",
    "Exemples\n",
    "```python\n",
    "n = 7\n",
    "msg = \"Affectation\"\n",
    "pi = 3.14\n",
    "```\n",
    "*Remarques*  \n",
    "  *  Le nom de variable doit commencer par une lettre et ne pas être un mot réservé (voir [liste](https://docs.python.org/fr/3.7/reference/lexical_analysis.html#keywords));  \n",
    "  *  Contrairement à d'autres langages, on n'indique pas le type d'une variable lors de sa déclaration en python. Le type est déterminé lors de l'affectation. Dans l'exemple précédent, `n` est du type entier, `msg` est du type chaîne de caractères, `pi` est du type *flottant* (décimal).  "
   ]
  },
  {
   "cell_type": "code",
   "execution_count": null,
   "metadata": {},
   "outputs": [],
   "source": [
    "autremsg = 'chaine2 '"
   ]
  },
  {
   "cell_type": "markdown",
   "metadata": {},
   "source": [
    "# Les instructions composées\n",
    "## La séquence  \n",
    "On peut définir une séquence d'instruction comme un ensemble de deux instructions exécutées l'une **à la suite** de l'autre (l'ordre est important!). Par exemple, les lignes\n",
    "```python\n",
    "x = x + 1\n",
    "x = x * 2\n",
    "```\n",
    "constituent une séquence d'instructions (*à condition que la variable x ait été affectée au préalable*). Nos programmes comporteront généralement des séquences de plus de deux instructions, on parlera alors de **bloc d'instructions**.  \n",
    "\n",
    "**Exercice C1E1**  \n",
    "\n",
    "Soit un disque de centre O et de rayon $r$. Ecrire un programme qui calcule et affiche l'aire $S$ de ce disque à partir de la valeur du rayon qui sera demandée à l'utilisateur. *Indication*: $S=\\pi*r^{2}$.\n"
   ]
  },
  {
   "cell_type": "code",
   "execution_count": null,
   "metadata": {},
   "outputs": [],
   "source": []
  },
  {
   "cell_type": "code",
   "execution_count": null,
   "metadata": {},
   "outputs": [],
   "source": [
    "pi = 3.14\n",
    "\n",
    "#Code à rajouter au dessous. Le caractère # n'est interprété par python. \n",
    "#Toute suite de caractères (jusqu'à la fin de ligne) placés après un dièse est ignorée.\n",
    "#On s'en sert pour placer des commentaires.\n",
    "r = float(input(\"Entrer r = \"))\n",
    "S = pi * r * r\n",
    "print(\"La surface est: \",S, \" cm2\")"
   ]
  },
  {
   "cell_type": "markdown",
   "metadata": {},
   "source": [
    "## Le test\n",
    "### Le test simple\n",
    "Une instruction (ou un bloc d'instructions) conditionnelle n'est executée que si une condition est vérifiée. En python, la syntaxe est la suivante:\n",
    "```python\n",
    "if condition:\n",
    "    bloc_instructions\n",
    "```\n",
    "Dans l'exemple ci-dessous, `%` désigne le reste de la division euclidienne et `==` désigne l'égalité au sens test (et non l'affectation!)"
   ]
  },
  {
   "cell_type": "code",
   "execution_count": null,
   "metadata": {},
   "outputs": [],
   "source": [
    "x = int(input(\"Entrer un nombre: \"))# 'int' sert à convertir notre entrée en nombre entier\n",
    "if x%2 == 0:#Si le reste de la division de x par 2 est nul\n",
    "    print(\"Le reste de sa division par 2 est nul, \")\n",
    "    print(x,\"est un nombre pair.\")#alors on affiche la parité"
   ]
  },
  {
   "cell_type": "code",
   "execution_count": null,
   "metadata": {},
   "outputs": [],
   "source": [
    "1245 % 5"
   ]
  },
  {
   "cell_type": "markdown",
   "metadata": {},
   "source": [
    "Pour identifier sans ambiguités les instructions appartenant au bloc vérifiant la condition, on **DOIT LES INDENTER** en python. Indenter signifie décaler d'un certain nombre de colonne (*la bonne pratique indique 4 espaces*) par rapport au bloc d'instructions précédent.  \n",
    "La condition est souvent exprimée avec des opérateurs de comparaisons, dont voici la liste:  \n",
    "```python\n",
    "x == y # x est égal à y\n",
    "x != y # x est différent de y\n",
    "x > y # x est plus grand que y\n",
    "x < y # x est plus petit que y\n",
    "x >= y # x est plus grand que, ou égal à y\n",
    "x <= y # x est plus petit que, ou égal à y\n",
    "```\n",
    "**Exercice C1E2: nombre pair divisible par 8**  \n",
    "Ecrire un programme python qui affiche le message \"N est pair et divisible par 8\" si le nombre $N$ demandé à l'utilisateur vérifie cette condition.  \n",
    "**Exercice C1E3: valeur absolue**  \n",
    "Ecrire un programme qui transforme un nombre demandé à l'utilisateur, en sa valeur absolue. \n",
    "### Le test avec alternative\n",
    "Parfois il est intéressant d'indiquer un bloc à traiter lorsque la condition *n'est pas* vérifiée. La syntaxe devient alors:\n",
    "```python\n",
    "if condition:\n",
    "    bloc_instructions_SI\n",
    "else:\n",
    "    bloc_instructions_SINON\n",
    "```\n",
    "L'exemple précédent devient:"
   ]
  },
  {
   "cell_type": "code",
   "execution_count": null,
   "metadata": {},
   "outputs": [],
   "source": [
    "N = 64\n",
    "if N%8 == 0:\n",
    "    print(\"N est pair et divisible par 8\")"
   ]
  },
  {
   "cell_type": "code",
   "execution_count": null,
   "metadata": {},
   "outputs": [],
   "source": [
    "x = int(input(\"Entrer un nombre: \"))# 'int' sert à convertir notre entrée en nombre entier\n",
    "if x%2 == 0:#Si le reste de la division de x par 2 est nul\n",
    "    print(\"Le reste de sa division par 2 est nul, \")\n",
    "    print(x,\"est un nombre pair.\")#alors on affiche la parité\n",
    "else:#x%2 est donc différent de 0\n",
    "    print(\"Le reste de sa division par 2 n'est pas nul, \")\n",
    "    print(x,\"est un nombre impair.\")"
   ]
  },
  {
   "cell_type": "markdown",
   "metadata": {},
   "source": [
    "Question: aurait-on pu utiliser le code suivant pour tester la parité d'un nombre?\n",
    "```python\n",
    "x = int(input(\"Entrer un nombre: \"))# 'int' sert à convertir notre entrée en nombre entier\n",
    "if x%2 == 0:#Si le reste de la division de x par 2 est nul\n",
    "    print(\"Le reste de sa division par 2 est nul, \")\n",
    "    print(x,\"est un nombre pair.\")#alors on affiche la parité\n",
    "    else:#x%2 est donc différent de 0\n",
    "        print(\"Le reste de sa division par 2 n'est pas nul, \")\n",
    "        print(x,\"est un nombre impair.\")\n",
    "```"
   ]
  },
  {
   "cell_type": "markdown",
   "metadata": {},
   "source": [
    "**Exercice C1E4: Que doit-on emmener?**  \n",
    "Ecrire un programme capable de conseiller deux objets utiles à emporter en voyage, en fonction de la température de l'air. On demande à l'utilisateur la température prévue.\n",
    "Si celle-ci est supérieure à 20°, il conseille \"maillot\" et \"crème bronzante\". Sinon, il conseille \"parapluie\" et \"pull\".  \n",
    "\n",
    "**Exercice C1E5: année bissextile**  \n",
    "Une année est bissextile si son millésime est multiple de 4; cependant, les années dont le millésime est multiple de 100 ne sont bissextiles que si c'est aussi un multiple de 400 (*1900 n'était pas bissextile, 2000 l'a été*).\n",
    "Ecrire un programme qui détermine si une année $N$ est bissextile ou non.  \n",
    "[Coup de pouce ?](./images/bissext.png)  \n",
    "\n",
    "**Problème C1P1: Affichage de l'heure**  \n",
    "Ecrire un programme qui récupère l'heure d'un utilisateur sous la forme HH mm ss. Le programme doit afficher cette heure augmentée d'une seconde."
   ]
  },
  {
   "cell_type": "code",
   "execution_count": null,
   "metadata": {},
   "outputs": [],
   "source": [
    "help(max)"
   ]
  },
  {
   "cell_type": "code",
   "execution_count": null,
   "metadata": {},
   "outputs": [],
   "source": [
    "#Exercice C1E5: année bissextile\n",
    "an = 1987\n",
    "if an%4 == 0:\n",
    "    if an%100 == 0:\n",
    "        if an%400 == 0:\n",
    "            print(\"Bissextile\")\n",
    "        else:\n",
    "            print(\"Non bissextile\")\n",
    "    else:\n",
    "        print(\"Bissextile\")\n",
    "else:\n",
    "    print(\"Non bissextile\")"
   ]
  },
  {
   "cell_type": "code",
   "execution_count": null,
   "metadata": {},
   "outputs": [],
   "source": [
    "#Problème C1P1\n",
    "print(\"-------- Affichage de l'heure + une seconde ------\")\n",
    "heure = int(input(\"Entrer l'heure HH = \"))\n",
    "minute = int(input(\"Entrer les minutes mm = \"))\n",
    "seconde = int(input(\"Entrer les secondes ss = \"))\n",
    "if seconde < 59:\n",
    "    seconde = seconde + 1\n",
    "else:\n",
    "    seconde = 0\n",
    "    if minute < 59:\n",
    "        minute = minute + 1\n",
    "    else:\n",
    "        minute = 0\n",
    "        if heure < 23:\n",
    "            heure = heure + 1\n",
    "        else:\n",
    "            heure = 0\n",
    "print(\"Une seconde après il sera \", heure,\"h\", minute,\"min\", seconde, \"s\")"
   ]
  },
  {
   "cell_type": "markdown",
   "metadata": {},
   "source": [
    "## La boucle\n",
    "### La boucle conditionnelle, *non bornée*\n",
    "#### Nécessité  \n",
    "1.  Exécuter le programme ci-dessous pour des valeurs de $N$ entières comprises entre 1 et 4. Que réalise-t-il?  \n",
    "2.  Quel commentaire peut-on faire à propos du bloc d'instruction conditionnel?  \n",
    "3.  Que faudrait-il apporter comme modification (*ne pas le faire!*) si on souhaitait rendre possible le calcul jusqu'à $N=10$?"
   ]
  },
  {
   "cell_type": "code",
   "execution_count": null,
   "metadata": {},
   "outputs": [],
   "source": [
    "N = 2\n",
    "c = N\n",
    "p = 1\n",
    "if c != 0:\n",
    "    p = p * 2\n",
    "    c = c - 1\n",
    "    if c != 0:\n",
    "        p = p * 2\n",
    "        c = c - 1\n",
    "        if c != 0:\n",
    "            p = p * 2\n",
    "            c = c - 1\n",
    "            if c != 0:\n",
    "                p = p * 2\n",
    "                c = c - 1\n",
    "print(p)"
   ]
  },
  {
   "cell_type": "markdown",
   "metadata": {},
   "source": [
    "La méthode précédente montre ses limites: pour des valeurs quelconques de $N$ il faudrait répéter un grand nombre de fois les mêmes lignes. On aimerait exécuter les instructions \n",
    "```python\n",
    "p = p * 2\n",
    "c = c - 1\n",
    "```\n",
    "tant que le test ```c != 0``` est vérifié. Il s'agit d'une **boucle conditionnelle** ou encore **boucle while** (*en anglais*) ou **boucle tant que** (*en français*).  \n",
    "#### Syntaxe\n",
    "En python, la boucle conditionnelle a la forme suivante:  \n",
    "```python\n",
    "while condition:\n",
    "    bloc_instructions\n",
    "```\n",
    "*Remarques*  \n",
    "*  la condition s'exprime souvent avec les opérateurs de comparaisons vu plus haut;  \n",
    "*  le bloc d'instructions est indenté.  \n",
    "\n",
    "\n",
    "Le programme précédent peut ainsi s'écrire (le vérifier en l'exécutant):"
   ]
  },
  {
   "cell_type": "code",
   "execution_count": null,
   "metadata": {},
   "outputs": [],
   "source": [
    "N = 8\n",
    "c = N\n",
    "p = 1\n",
    "while c > 0:\n",
    "    p = p * 2\n",
    "    c = c - 1\n",
    "print(p)"
   ]
  },
  {
   "cell_type": "markdown",
   "metadata": {},
   "source": [
    "**Exercice C1E6: table de multiplication**  \n",
    "Écrire un programme qui affiche les 10 premiers termes de la table de multiplication par 7 en utilisant une boucle conditionnelle.  \n",
    "**Exercice C1E7: affichage**  \n",
    "Ecrire un programme qui produit l'affichage ci-dessous, en utilisant une boucle conditionnelle:\n",
    "```python\n",
    "*\n",
    "**\n",
    "***\n",
    "****\n",
    "*****\n",
    "******\n",
    "*******\n",
    "```\n"
   ]
  },
  {
   "cell_type": "code",
   "execution_count": null,
   "metadata": {},
   "outputs": [],
   "source": [
    "#Table de 7\n",
    "n = 1\n",
    "while n <= 10:\n",
    "    print(n, \"x 7 = \", n*7)\n",
    "    n = n + 1"
   ]
  },
  {
   "cell_type": "code",
   "execution_count": null,
   "metadata": {},
   "outputs": [],
   "source": [
    "#Affichage étoile\n",
    "NBLIGNE = 7\n",
    "numligne = 1\n",
    "while numligne <= NBLIGNE:\n",
    "    print(numligne * '*')\n",
    "    numligne = numligne + 1"
   ]
  },
  {
   "cell_type": "markdown",
   "metadata": {},
   "source": [
    "#### Danger lié à l'utilisation des boucles conditionnelles\n",
    "Il faut s'assurer que la condition ne soit plus vérifiée à un moment donné pour assurer la **terminaison** de la boucle et éviter le bouclage infini. Ce point sera détaillé dans le cours d'algorithmique.  \n",
    "Dans le cas précédent, $c$ est un entier positif et décroit à chaque tour de boucle. On est sûr d'avoir $c=0$ et sortir ainsi de la boucle au bout d'un certain nombre d'*itérations*.  \n",
    "### La boucle inconditionnelle ou *bornée*   \n",
    "Lorsque le nombre d'itérations est connu d'avance la boucle devient inconditionnelle. On l'appelle encore **boucle for** ou **boucle pour**.  \n",
    "En python, la syntaxe de la boucle `for`est la suivante:\n",
    "```python\n",
    "for variable_compteur in sequence:\n",
    "    bloc_instructions\n",
    "```\n",
    "*Remarques*  \n",
    "*  `sequence` doit une collection d'objets itérables, comme une suite d'entiers par exemple (d'autres séquences seront vus dans les prochains cours); typiquement une séquence d'entiers est obtenue par l'objet `range(n)` qui fourni les entiers allant de 0 à $n-1$.  \n",
    "*  Le bloc d'instructions doit être indenté.  \n",
    "\n",
    "Le programme utilisé pour exposer la boucle conditionnelle peut s'écrire de la manière suivante:"
   ]
  },
  {
   "cell_type": "code",
   "execution_count": null,
   "metadata": {},
   "outputs": [],
   "source": [
    "for nb in range(7,11):\n",
    "    print(nb)"
   ]
  },
  {
   "cell_type": "code",
   "execution_count": null,
   "metadata": {},
   "outputs": [],
   "source": [
    "N = 8\n",
    "p = 1\n",
    "for c in range(N):\n",
    "    p = p * 2\n",
    "print(p)"
   ]
  },
  {
   "cell_type": "markdown",
   "metadata": {},
   "source": [
    "**Exercice C1E8: boucle for**  \n",
    "Résoudre les exercices C1E6, C1E7 en utilisant inconditionnelle (*for*).  \n",
    "\n",
    "**Problème à résoudre** Étape la plus longue *(Origine: [France-IOI](http://www.france-ioi.org))*  \n",
    "Dans votre petit carnet de voyage, vous avez noté la distance que vous avez parcourue chaque jour. Aujourd'hui, vous êtes particulièrement en forme et vous décidez donc de marcher plus que les jours précédents. Vous souhaitez utiliser un programme pour déterminer quel est votre record pour l'instant.  \n",
    "*Ce que doit faire votre programme :*  \n",
    "Votre programme doit d'abord lire un entier strictement positif, le nombre de jours de marche effectués jusqu'à présent. Il doit ensuite lire, pour chaque jour, la distance parcourue ce jour-là. Il doit alors afficher la distance maximale parcourue en une journée.  \n",
    "*Exemple d'entrée*  \n",
    "```python\n",
    "4\n",
    "8\n",
    "3\n",
    "12\n",
    "2\n",
    "```\n",
    "*Sortie*  \n",
    "```python\n",
    "12\n",
    "```\n"
   ]
  },
  {
   "cell_type": "code",
   "execution_count": 5,
   "metadata": {},
   "outputs": [
    {
     "name": "stdout",
     "output_type": "stream",
     "text": [
      "Entrer le nb de jours de marche: 3\n",
      "Entrer la distance parcourue: 10\n",
      "Entrer la distance parcourue: 10\n",
      "Entrer la distance parcourue: 2\n",
      "Le record est 10 km\n"
     ]
    }
   ],
   "source": [
    "record = 0\n",
    "nb_jours = int(input(\"Entrer le nb de jours de marche: \"))\n",
    "for jour in range(nb_jours):\n",
    "    distance = int(input(\"Entrer la distance parcourue: \"))\n",
    "    if distance > record:\n",
    "        record = distance\n",
    "print(\"Le record est\", record, \"km\")"
   ]
  },
  {
   "cell_type": "markdown",
   "metadata": {},
   "source": [
    "<a rel=\"license\" href=\"http://creativecommons.org/licenses/by-nc/4.0/\"><img alt=\"Licence Creative Commons\" style=\"dislay: block; margin-left:auto; margin-right: auto; border-width:0;\" src=\"https://i.creativecommons.org/l/by-nc/4.0/88x31.png\" /></a><br />Ce(tte) œuvre est mise à disposition selon les termes de la <a rel=\"license\" href=\"http://creativecommons.org/licenses/by-nc/4.0/\">Licence Creative Commons Attribution - Pas d’Utilisation Commerciale 4.0 International</a>. "
   ]
  },
  {
   "cell_type": "code",
   "execution_count": null,
   "metadata": {},
   "outputs": [],
   "source": []
  }
 ],
 "metadata": {
  "kernelspec": {
   "display_name": "Python 3",
   "language": "python",
   "name": "python3"
  },
  "language_info": {
   "codemirror_mode": {
    "name": "ipython",
    "version": 3
   },
   "file_extension": ".py",
   "mimetype": "text/x-python",
   "name": "python",
   "nbconvert_exporter": "python",
   "pygments_lexer": "ipython3",
   "version": "3.7.2"
  }
 },
 "nbformat": 4,
 "nbformat_minor": 2
}
