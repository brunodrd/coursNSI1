{
 "cells": [
  {
   "cell_type": "markdown",
   "metadata": {
    "nbgrader": {
     "grade": false,
     "grade_id": "exercice1",
     "locked": true,
     "schema_version": 3,
     "solution": false,
     "task": false
    }
   },
   "source": [
    "# Exercice 1\n",
    "Etant donné un tableau de *directions*: `directions = ['nord', 'ouest', 'sud', 'est']`. Ecrire le code qui produit l'affichage suivant:  \n",
    "* nord\n",
    "* ouest\n",
    "* sud\n",
    "* est  \n",
    "\n",
    "**Donnée**: le point de code du symbole 'point' (on dit aussi *bullet*) dans la norme unicode est U+2022. En python on peut afficher ce caractère avec '\\u2022'."
   ]
  },
  {
   "cell_type": "code",
   "execution_count": null,
   "metadata": {
    "nbgrader": {
     "grade": true,
     "grade_id": "iterer_tableau1",
     "locked": false,
     "points": 2,
     "schema_version": 3,
     "solution": true,
     "task": false
    }
   },
   "outputs": [],
   "source": [
    "#Votre code dans cette cellule\n",
    "directions = ['nord', 'ouest', 'sud', 'est']\n",
    "\n",
    "### BEGIN SOLUTION\n",
    "for direction in directions:\n",
    "    print('\\u2022', ' ', direction)\n",
    "### END SOLUTION"
   ]
  },
  {
   "cell_type": "markdown",
   "metadata": {
    "nbgrader": {
     "grade": false,
     "grade_id": "exercice2",
     "locked": true,
     "schema_version": 3,
     "solution": false,
     "task": false
    }
   },
   "source": [
    "# Exercice 2\n",
    "Ecrire une fonction qui prend en paramètre un tableau de notes et qui en retourne la moyenne."
   ]
  },
  {
   "cell_type": "code",
   "execution_count": 3,
   "metadata": {
    "nbgrader": {
     "grade": false,
     "grade_id": "iterer_tableau2",
     "locked": false,
     "schema_version": 3,
     "solution": true,
     "task": false
    }
   },
   "outputs": [],
   "source": [
    "#Votre code dans cette cellule\n",
    "def moyenne(notes):\n",
    "    \"\"\"\n",
    "    Retourne la moyenne (type flottant) des notes présentes dans un tableau.\n",
    "    notes: tableau de nombres compris entre 0.0 et 20.0 inclus\n",
    "    \"\"\"\n",
    "    assert all(x >= 0 and x <= 20 for x in notes), \"Présence de note(s) invalide(s)\"\n",
    "    \n",
    "    ### BEGIN SOLUTION\n",
    "    somme_notes = 0\n",
    "    for note in notes:\n",
    "        somme_notes = somme_notes + note\n",
    "    return somme_notes / len(notes)\n",
    "    ### END SOLUTION  \n",
    "    "
   ]
  },
  {
   "cell_type": "code",
   "execution_count": 15,
   "metadata": {
    "nbgrader": {
     "grade": true,
     "grade_id": "tests_exo2",
     "locked": true,
     "points": 4,
     "schema_version": 3,
     "solution": false,
     "task": false
    }
   },
   "outputs": [],
   "source": [
    "#<------------------ Tests - Ne rien modifier ici --------------------------->\n",
    "from math import fabs\n",
    "epsilon = 1e-5\n",
    "assert moyenne([10, 14, 9]) == 11\n",
    "assert fabs(moyenne([12.5, 15, 14.5, 0, 0.5, 7, 17, 6.5]) - 9.125) <= epsilon\n",
    "### BEGIN HIDDEN TESTS\n",
    "assert fabs(moyenne([12.5, 15.75, 19.5, 0, 6.5]) - 10.85) <= epsilon\n",
    "### END HIDDEN TESTS"
   ]
  },
  {
   "cell_type": "markdown",
   "metadata": {
    "nbgrader": {
     "grade": false,
     "grade_id": "exercice3",
     "locked": true,
     "schema_version": 3,
     "solution": false,
     "task": false
    }
   },
   "source": [
    "# Exercice 3\n",
    "Soit une fonction polynomiale $f(x)=2x^2-3x-2$. Ecrire une fonction python `image` qui prend en paramètre un tableau de nombres entiers et qui retourne l'image de ces nombres par $f$ sous la forme d'un tableau. "
   ]
  },
  {
   "cell_type": "code",
   "execution_count": 24,
   "metadata": {
    "nbgrader": {
     "grade": false,
     "grade_id": "comprehension_tableau",
     "locked": false,
     "schema_version": 3,
     "solution": true,
     "task": false
    }
   },
   "outputs": [],
   "source": [
    "#Votre code dans cette cellule\n",
    "def image(t):\n",
    "    \"\"\"\n",
    "    Retourne l'image de t par f sous la forme d'un tableau.\n",
    "    t: tableau d'entiers.\n",
    "    \"\"\"\n",
    "    \n",
    "    assert isinstance(t, list), \"t doit être un tableau\"\n",
    "    assert all(isinstance (x, int) for x in t), \"les valeurs du tableau doivent être entières\"\n",
    "    \n",
    "    ### BEGIN SOLUTION\n",
    "    return [2 * x**2 - 3 * x - 2 for x in t]\n",
    "    ### END SOLUTION\n",
    "    "
   ]
  },
  {
   "cell_type": "code",
   "execution_count": 25,
   "metadata": {
    "nbgrader": {
     "grade": true,
     "grade_id": "tests_exo3",
     "locked": true,
     "points": 4,
     "schema_version": 3,
     "solution": false,
     "task": false
    }
   },
   "outputs": [],
   "source": [
    "#<---------------------------- Test - Ne rien modifier ici --------------------------->\n",
    "assert image([0, 1, 2, 3, 4]) == [-2, -3, 0, 7, 18], \"La fonction ne passe pas le test\"\n",
    "assert image([-100, 0, 100]) == [20298, -2, 19698], \"La fonction ne passe pas le test\"\n",
    "### BEGIN HIDDEN TESTS\n",
    "assert image([4, 10, 1, 5]) == [18, 168, -3, 33]\n",
    "### END HIDDEN TESTS"
   ]
  },
  {
   "cell_type": "markdown",
   "metadata": {
    "nbgrader": {
     "grade": false,
     "grade_id": "exercice3_sup",
     "locked": true,
     "schema_version": 3,
     "solution": false,
     "task": false
    }
   },
   "source": [
    "## Pour les plus rapides\n",
    "Définir une fonction python $f$ qui retourne l'expression de la fonction. Modifier la *signature* et le corps de la fonction `image` en conséquence. Vérifier le code en appliquant les tests précédents."
   ]
  },
  {
   "cell_type": "markdown",
   "metadata": {
    "nbgrader": {
     "grade": false,
     "grade_id": "exercice4",
     "locked": true,
     "schema_version": 3,
     "solution": false,
     "task": false
    }
   },
   "source": [
    "# Exercice 4 Composantes d'un vecteur\n",
    "Ecrire une fonction `vecteur` qui prend en paramètres deux n-uplets qui correspondent aux coordonnées dans le plan de deux points A et B. La fonction `vecteur` retourne un n-uplet correspondant aux coordonnées du vecteur $\\vec{AB}$ dans le plan."
   ]
  },
  {
   "cell_type": "code",
   "execution_count": 26,
   "metadata": {
    "nbgrader": {
     "grade": false,
     "grade_id": "retourner_p-uplet_1",
     "locked": false,
     "schema_version": 3,
     "solution": true,
     "task": false
    }
   },
   "outputs": [],
   "source": [
    "#Votre code dans cette cellule\n",
    "def vecteur(A,B):\n",
    "    \"\"\"\n",
    "    Retourne un n-uplet ayant deux composantes correspondant aux coordonnées d'un vecteur AB.\n",
    "    A, B: tuple à deux éléments\n",
    "    \"\"\"\n",
    "    \n",
    "    assert isinstance(A, tuple), \"A doit être un n-uplet\"\n",
    "    assert isinstance(B, tuple), \"B doit être un n-uplet\"\n",
    "    assert all((len(A) == 2, len(B) == 2))\n",
    "    \n",
    "    ### BEGIN SOLUTION\n",
    "    xA, yA = A[0], A[1]\n",
    "    xB, yB = B[0], B[1]\n",
    "    return (xB - xA, yB - yA)\n",
    "    ### END SOLUTION\n",
    "    "
   ]
  },
  {
   "cell_type": "code",
   "execution_count": 29,
   "metadata": {
    "nbgrader": {
     "grade": true,
     "grade_id": "tests_exo4",
     "locked": true,
     "points": 4,
     "schema_version": 3,
     "solution": false,
     "task": false
    }
   },
   "outputs": [],
   "source": [
    "#<----------------Tests - Ne rien modifier ici --------------------------->\n",
    "assert vecteur((5,1), (3,4)) == (-2, 3), \"La fonction ne passe pas le test\"\n",
    "### BEGIN HIDDEN TESTS\n",
    "assert vecteur((1, 8), (3, 4)) == (2, -4), \"La fonction ne passe pas le test\"\n",
    "### END HIDDEN TESTS"
   ]
  },
  {
   "cell_type": "markdown",
   "metadata": {
    "nbgrader": {
     "grade": false,
     "grade_id": "exercice5",
     "locked": true,
     "schema_version": 3,
     "solution": false,
     "task": false
    }
   },
   "source": [
    "# Exercice 5 Jour correspondant à une date\n",
    "Python possède un module permettant de gérer les dates. Il s'agit du module `datetime`. On y trouve, entre autres, une classe qui permet la création d'objet `date` à partir d'entiers naturels représentant l'année, le mois et le jour. Par exemple, pour créer un objet `date` correspondant au 31 décembre 2019, on procèdera de la manière suivante:  \n",
    "```python\n",
    "from datetime import date\n",
    "d = date(2019, 12, 31)\n",
    "```\n",
    "Les attributs year (*année*), month (*mois*) et day (*jour*) d'un objet date `d` peuvent être obtenus par `d.year`, `d.month` et `d.day`."
   ]
  },
  {
   "cell_type": "code",
   "execution_count": 2,
   "metadata": {
    "nbgrader": {
     "grade": false,
     "grade_id": "aide_date",
     "locked": true,
     "schema_version": 3,
     "solution": false,
     "task": false
    }
   },
   "outputs": [
    {
     "name": "stdout",
     "output_type": "stream",
     "text": [
      "31 / 12 / 2019\n"
     ]
    }
   ],
   "source": [
    "from datetime import date\n",
    "\n",
    "d = date(2019, 12, 31)\n",
    "print(d.day, '/', d.month, '/', d.year) "
   ]
  },
  {
   "cell_type": "markdown",
   "metadata": {
    "nbgrader": {
     "grade": false,
     "grade_id": "exercice5_enonce",
     "locked": true,
     "schema_version": 3,
     "solution": false,
     "task": false
    }
   },
   "source": [
    "1.  Consulter la documentation relative  aux objets de type `date` (*ne pas oublier d'importer la classe date, voir ci-dessus*).  \n",
    "2.  Créer un objet `madate` de type `date` correspondant à votre date d'anniversaire.  \n",
    "3.  Créer une fonction `date_jour` qui prend en paramètre un objet de type date et qui retourne un n-uplet dont les composantes sont: le jour (*chaine de caractères valant \"lundi\", \"mardi\", etc.*), le jour dans le mois (*int*), le mois (*int*) et l'année (*int*).  \n",
    "*Indication*: les objets de type `date` de python possèdent une fonction (*méthode*) **weekday()** qui permet d'obtenir le jour qui correspondant. Par exemple, le premier jour de l'an 2000 correspondait à :  \n",
    "```python\n",
    "from datetime import date\n",
    "d2000 = date(2000,1,1)\n",
    "print(d2000.weekday())\n",
    "5\n",
    "```\n",
    "D'après la documentation, si lundi correspond à 0 alors 5 correspond à un samedi"
   ]
  },
  {
   "cell_type": "code",
   "execution_count": 1,
   "metadata": {
    "nbgrader": {
     "grade": false,
     "grade_id": "retourner_p-uplet_2",
     "locked": false,
     "schema_version": 3,
     "solution": true,
     "task": false
    }
   },
   "outputs": [],
   "source": [
    "#Votre code dans cette cellule\n",
    "def date_jour(madate):\n",
    "    \"\"\"\n",
    "    Retourne un jour sous la forme d'un n-uplet à 4 composantes: jour de la semaine (string), \n",
    "    jour dans le mois (int), mois (int) et année (int).\n",
    "    madate: objet de type date\n",
    "    \"\"\"\n",
    "    \n",
    "    assert isinstance(madate, datetime.date)\n",
    "    \n",
    "    jours = ('lundi', 'mardi', 'mercredi', 'jeudi', 'vendredi', 'samedi', 'dimanche')\n",
    "    ### BEGIN SOLUTION\n",
    "    num_jour = madate.weekday()\n",
    "    return (jours[num_jour], madate.day, madate.month, madate.year)\n",
    "    ### END SOLUTION\n",
    "    "
   ]
  },
  {
   "cell_type": "code",
   "execution_count": 2,
   "metadata": {
    "nbgrader": {
     "grade": true,
     "grade_id": "tests_exo5",
     "locked": true,
     "points": 6,
     "schema_version": 3,
     "solution": false,
     "task": false
    }
   },
   "outputs": [],
   "source": [
    "#<---------------------------------- Test - Ne rien modifier ici -------------------------------->\n",
    "import datetime\n",
    "\n",
    "assert date_jour(datetime.date(1989,1,29)) == (\"dimanche\", 29, 1, 1989), \"La fonction ne passe pas le test\"\n",
    "### BEGIN HIDDEN TESTS\n",
    "assert date_jour(datetime.date(2019,12,29)) == (\"dimanche\", 29, 12, 2019), \"La fonction ne passe pas le test\"\n",
    "### END HIDDEN TESTS"
   ]
  },
  {
   "cell_type": "markdown",
   "metadata": {
    "nbgrader": {
     "grade": false,
     "grade_id": "exercice6",
     "locked": true,
     "schema_version": 3,
     "solution": false,
     "task": false
    }
   },
   "source": [
    "# Exercice 6 Analyse d'un tableau de notes\n",
    "On souhaite analyser les notes obtenues par un groupe de spécialité NSI. Ces résultats sont modélisés sous la forme d'un tableau de nombres entiers compris entre 0 et 20. Ecrire une fonction `analyse_note` qui prend comme paramètre un tableau de notes et qui retourne un n-uplet composé de la médiane, la moyenne et l'écart type.  \n",
    "On utilisera des fonctions disponibles dans la librairie standard de python (module `statistics`): `median`, `mean` et `variance`."
   ]
  },
  {
   "cell_type": "markdown",
   "metadata": {
    "nbgrader": {
     "grade": false,
     "grade_id": "enonce_exercice6",
     "locked": true,
     "schema_version": 3,
     "solution": false,
     "task": false
    }
   },
   "source": [
    "1.  Prendre connaissance de la documentation sur les fonctions `median`, `mean` et `variance` du module `statistics`.  \n",
    "2.  L'écart type est défini comme la racine carrée de la variance. La fonction racine carrée `sqrt` peut être importée depuis le module `math`. Compléter la fonction `analyse_note` dans la cellule déjà préparée ci-dessous, puis l'exécuter."
   ]
  },
  {
   "cell_type": "code",
   "execution_count": null,
   "metadata": {
    "nbgrader": {
     "grade": true,
     "grade_id": "utilisation_aide_ex6",
     "locked": false,
     "points": 2,
     "schema_version": 3,
     "solution": true,
     "task": false
    }
   },
   "outputs": [],
   "source": [
    "#1. Afficher l'aide sur les fonctions median, mean et variance du module statistics"
   ]
  },
  {
   "cell_type": "code",
   "execution_count": 5,
   "metadata": {
    "nbgrader": {
     "grade": false,
     "grade_id": "retourner_p-uplet_3",
     "locked": false,
     "schema_version": 3,
     "solution": true,
     "task": false
    }
   },
   "outputs": [],
   "source": [
    "#2. Votre code dans cette cellule\n",
    "import statistics as st\n",
    "from math import sqrt\n",
    "\n",
    "def analyse_note(notes):\n",
    "    \"\"\"\n",
    "    Retourne un n-uplet composé de la médiane, la moyenne et l'écart type des notes obtenues par une classe.\n",
    "    notes: tableau d'entiers compris entre 0 et 20\n",
    "    \"\"\"\n",
    "    \n",
    "    assert isinstance(notes, list), \"t doit être un tableau\"\n",
    "    assert all(isinstance (x, int) for x in notes), \"Les notes doivent être entières\"\n",
    "    assert all(x >= 0 and x <= 20 for x in notes), \"Présence de note(s) invalide(s)\"\n",
    "    \n",
    "    ### BEGIN SOLUTION\n",
    "    mediane = st.median(notes)\n",
    "    moyenne = st.mean(notes)\n",
    "    ecarttype = sqrt(st.variance(notes))\n",
    "    return (mediane, moyenne, ecarttype)\n",
    "    ### END SOLUTION"
   ]
  },
  {
   "cell_type": "code",
   "execution_count": 10,
   "metadata": {
    "nbgrader": {
     "grade": true,
     "grade_id": "tests_exo6",
     "locked": true,
     "points": 4,
     "schema_version": 3,
     "solution": false,
     "task": false
    }
   },
   "outputs": [],
   "source": [
    "#<----------------------------- Test - Ne rien modifier ici ----------------------------->\n",
    "from math import fabs\n",
    "\n",
    "notes = [15, 10, 3, 9, 5, 13, 2]\n",
    "epsilon = 1e-5\n",
    "assert fabs(analyse_note(notes)[0] - 9.0) < epsilon, \"La fonction ne passe pas le test\"\n",
    "assert fabs(analyse_note(notes)[1] - 8.14285) < epsilon, \"La fonction ne passe pas le test\"\n",
    "assert fabs(analyse_note(notes)[2] - 4.98091) < epsilon, \"La fonction ne passe pas le test\" \n",
    "### BEGIN HIDDEN TESTS\n",
    "notes = [5, 16, 12, 3]\n",
    "assert fabs(analyse_note(notes)[0] - 8.5) < epsilon, \"La fonction ne passe pas le test\"\n",
    "assert fabs(analyse_note(notes)[1] - 9) < epsilon, \"La fonction ne passe pas le test\"\n",
    "assert fabs(analyse_note(notes)[2] - 6.05530) < epsilon, \"La fonction ne passe pas le test\" \n",
    "### END HIDDEN TESTS"
   ]
  },
  {
   "cell_type": "markdown",
   "metadata": {
    "nbgrader": {
     "grade": false,
     "grade_id": "exercice7",
     "locked": true,
     "schema_version": 3,
     "solution": false,
     "task": false
    }
   },
   "source": [
    "# Exercice 7 Itérer sur les éléments d'un dictionnaire\n",
    "Au zoo de Beauval, il y a 5 éléphants d'Asie, 17 écureuils d'Asie, 2 pandas d'Asie, etc. On modélise cet inventaire avec un dictionnaire, de la façon suivante:"
   ]
  },
  {
   "cell_type": "code",
   "execution_count": null,
   "metadata": {
    "nbgrader": {
     "grade": false,
     "grade_id": "enonce_ex7_1",
     "locked": true,
     "schema_version": 3,
     "solution": false,
     "task": false
    }
   },
   "outputs": [],
   "source": [
    "zoo_Beauval = {\n",
    "    \"éléphant\" : (\"Asie\", 5),\n",
    "    \"écureuil\" : (\"Asie\", 17),\n",
    "    \"panda\" : (\"Asie\", 2),\n",
    "    \"hippopotame\" : (\"Afrique\", 7),\n",
    "    \"girafe\" : (\"Afrique\", 4)}"
   ]
  },
  {
   "cell_type": "markdown",
   "metadata": {
    "nbgrader": {
     "grade": false,
     "grade_id": "enonce_ex7_2",
     "locked": true,
     "schema_version": 3,
     "solution": false,
     "task": false
    }
   },
   "source": [
    "De la même façon on représente le zoo de La Flèche:"
   ]
  },
  {
   "cell_type": "code",
   "execution_count": null,
   "metadata": {
    "nbgrader": {
     "grade": false,
     "grade_id": "enonce_ex7_3",
     "locked": true,
     "schema_version": 3,
     "solution": false,
     "task": false
    }
   },
   "outputs": [],
   "source": [
    "zoo_LaFleche = {\n",
    "    \"ours\" : (\"Europe\", 4),\n",
    "    \"tigre\" : (\"Asie\", 7),\n",
    "    \"hippopotame\" : (\"Afrique\", 3),\n",
    "    \"girafe\" : (\"Afrique\", 11)}"
   ]
  },
  {
   "cell_type": "markdown",
   "metadata": {
    "nbgrader": {
     "grade": false,
     "grade_id": "enonce_ex7_4",
     "locked": true,
     "schema_version": 3,
     "solution": false,
     "task": false
    }
   },
   "source": [
    "On souhaite écrire une fonction `plus_grand_nombre` qui prend un zoo en paramètre et qui retourne le nom de l'animal le plus représenté dans ce zoo.  \n",
    "1.  Quel type d'itération doit-on utiliser dans cette fonction?\n",
    "   *  \n",
    "   ```python\n",
    "for cle in d:\n",
    "    ...\n",
    "```  \n",
    "   *  \n",
    "```python\n",
    "for val in d.values():\n",
    "    ...\n",
    "```\n",
    "   *  \n",
    "```python\n",
    "for cle,val in d.items():\n",
    "    ...\n",
    "```\n",
    "   * Aucune itération\n",
    "   \n",
    "2. Coder cette fonction"
   ]
  },
  {
   "cell_type": "code",
   "execution_count": 14,
   "metadata": {
    "nbgrader": {
     "grade": false,
     "grade_id": "iterer_dictionnaire_1",
     "locked": false,
     "schema_version": 3,
     "solution": true,
     "task": false
    }
   },
   "outputs": [],
   "source": [
    "#Votre code dans cette cellule\n",
    "def plus_grand_nombre(zoo):\n",
    "    \"\"\"\n",
    "    Retourne le nom de l'animal (string) le plus représenté dans le zoo passé en paramètre.\n",
    "    zoo: dictionnaire\n",
    "    \"\"\"\n",
    "    \n",
    "    assert isinstance(zoo, dict), \"zoo doit être un dictionnaire\"\n",
    "    \n",
    "    ### BEGIN SOLUTION\n",
    "    nb_animal = 0\n",
    "    nom_animal = None\n",
    "    for animal, (origine, nb) in zoo.items():\n",
    "        if nb > nb_animal:\n",
    "            nb_animal = nb\n",
    "            nom_animal = animal\n",
    "    return nom_animal\n",
    "    ### END SOLUTION\n",
    "    "
   ]
  },
  {
   "cell_type": "code",
   "execution_count": 16,
   "metadata": {
    "nbgrader": {
     "grade": true,
     "grade_id": "tests_exo7_1",
     "locked": true,
     "points": 8,
     "schema_version": 3,
     "solution": false,
     "task": false
    }
   },
   "outputs": [],
   "source": [
    "#<-------------------------- Tests - Ne rien modifier ici -------------------------->\n",
    "zoo_Beauval = {\n",
    "    \"éléphant\" : (\"Asie\", 5),\n",
    "    \"écureuil\" : (\"Asie\", 17),\n",
    "    \"panda\" : (\"Asie\", 2),\n",
    "    \"hippopotame\" : (\"Afrique\", 7),\n",
    "    \"girafe\" : (\"Afrique\", 4)}\n",
    "zoo_LaFleche = {\n",
    "    \"ours\" : (\"Europe\", 4),\n",
    "    \"tigre\" : (\"Asie\", 7),\n",
    "    \"hippopotame\" : (\"Afrique\", 3),\n",
    "    \"girafe\" : (\"Afrique\", 11)}\n",
    "\n",
    "assert plus_grand_nombre(zoo_LaFleche) == \"girafe\", \"La fonction ne passe pas le test\"\n",
    "assert plus_grand_nombre(zoo_Beauval) == \"écureuil\", \"La fonction ne passe pas le test\"\n",
    "### BEGIN HIDDEN TESTS\n",
    "zoo_Beauval[\"tangue\"] = (\"Reunion\", 50)\n",
    "assert plus_grand_nombre(zoo_Beauval) == \"tangue\", \"La fonction ne passe pas le test\"\n",
    "### END HIDDEN TESTS"
   ]
  },
  {
   "cell_type": "markdown",
   "metadata": {
    "nbgrader": {
     "grade": false,
     "grade_id": "enonce_ex7_5",
     "locked": true,
     "schema_version": 3,
     "solution": false,
     "task": false
    }
   },
   "source": [
    "3.  On souhaite écrire une fonction `nombre_total` qui prend en paramètres un zoo et un nom de continent. Cette fonction doit retourner le nombre total d'animaux originaires de ce continent. Quel type d'itération doit-on utiliser dans cette fonction?\n",
    "   *  \n",
    "   ```python\n",
    "for cle in d:\n",
    "    ...\n",
    "```  \n",
    "   *  \n",
    "```python\n",
    "for val in d.values():\n",
    "    ...\n",
    "```\n",
    "   *  \n",
    "```python\n",
    "for cle,val in d.items():\n",
    "    ...\n",
    "```\n",
    "   * Aucune itération  \n",
    "   \n",
    "4. Coder cette fonction"
   ]
  },
  {
   "cell_type": "code",
   "execution_count": 17,
   "metadata": {
    "nbgrader": {
     "grade": false,
     "grade_id": "iterer_dictionnaire_2",
     "locked": false,
     "schema_version": 3,
     "solution": true,
     "task": false
    }
   },
   "outputs": [],
   "source": [
    "#Votre code dans cette cellule\n",
    "def nombre_total(zoo, continent):\n",
    "    \"\"\"\n",
    "    Retourne le nombre total d'animaux (entier naturel) présents dans le zoo \n",
    "    et originaire du continent.\n",
    "    zoo: dictionnaire\n",
    "    continent: string\n",
    "    \"\"\"\n",
    "    assert isinstance(zoo, dict), \"zoo doit être un dictionnaire\"\n",
    "    assert isinstance(continent, str), \"continent est une chaine de caractères\"\n",
    "    \n",
    "    ### BEGIN SOLUTION\n",
    "    nb_animaux = 0\n",
    "    for animal, (origine, nb) in zoo.items():\n",
    "        if origine == continent:\n",
    "            nb_animaux = nb_animaux + nb\n",
    "    return nb_animaux\n",
    "    ### END SOLUTION\n",
    "    "
   ]
  },
  {
   "cell_type": "code",
   "execution_count": 19,
   "metadata": {
    "nbgrader": {
     "grade": true,
     "grade_id": "tests_exo7_2",
     "locked": true,
     "points": 8,
     "schema_version": 3,
     "solution": false,
     "task": false
    }
   },
   "outputs": [],
   "source": [
    "#<------------------------------ Tests - Ne rien modifier ici ---------------------->\n",
    "zoo_Beauval = {\n",
    "    \"éléphant\" : (\"Asie\", 5),\n",
    "    \"écureuil\" : (\"Asie\", 17),\n",
    "    \"panda\" : (\"Asie\", 2),\n",
    "    \"hippopotame\" : (\"Afrique\", 7),\n",
    "    \"girafe\" : (\"Afrique\", 4)}\n",
    "zoo_LaFleche = {\n",
    "    \"ours\" : (\"Europe\", 4),\n",
    "    \"tigre\" : (\"Asie\", 7),\n",
    "    \"hippopotame\" : (\"Afrique\", 3),\n",
    "    \"girafe\" : (\"Afrique\", 11)}\n",
    "\n",
    "assert nombre_total(zoo_LaFleche, \"Afrique\") == 14, \"La fonction ne passe pas le test\"\n",
    "assert nombre_total(zoo_Beauval, \"Asie\") == 24, \"La fonction ne passe pas le test\"\n",
    "### BEGIN HIDDEN TESTS\n",
    "zoo_Beauval[\"tangue\"] = (\"Reunion\", 50)\n",
    "assert nombre_total(zoo_Beauval, \"Reunion\") == 50, \"La fonction ne passe pas le test\"\n",
    "### END HIDDEN TESTS"
   ]
  },
  {
   "cell_type": "markdown",
   "metadata": {
    "nbgrader": {
     "grade": false,
     "grade_id": "enonce_ex7_6",
     "locked": true,
     "schema_version": 3,
     "solution": false,
     "task": false
    }
   },
   "source": [
    "5.  On souhaite écrire une fonction `nombre` qui prend en paramètres un zoo et un nom d'animal. La fonction doit retourner le nombre de représentant de cet animal (entier naturel) dans le zoo. Quel type d'itération doit-on utiliser dans cette fonction?\n",
    "   *  \n",
    "   ```python\n",
    "for cle in d:\n",
    "    ...\n",
    "```  \n",
    "   *  \n",
    "```python\n",
    "for val in d.values():\n",
    "    ...\n",
    "```\n",
    "   *  \n",
    "```python\n",
    "for cle,val in d.items():\n",
    "    ...\n",
    "```\n",
    "   * Aucune itération\n",
    "\n",
    "6. Coder cette fonction"
   ]
  },
  {
   "cell_type": "code",
   "execution_count": 20,
   "metadata": {
    "nbgrader": {
     "grade": false,
     "grade_id": "iterer_dictionnaire_3",
     "locked": false,
     "schema_version": 3,
     "solution": true,
     "task": false
    }
   },
   "outputs": [],
   "source": [
    "#Votre code dans cette cellule\n",
    "def nombre(zoo, animal):\n",
    "    \"\"\"\n",
    "    Retourne le nombre total d'animaux (entier naturel) présents dans le zoo \n",
    "    et originaire du continent.\n",
    "    zoo: dictionnaire\n",
    "    continent: string\n",
    "    \"\"\"\n",
    "    assert isinstance(zoo, dict), \"zoo doit être un dictionnaire\"\n",
    "    assert isinstance(animal, str), \"animal est une chaine de caractères\"\n",
    "    \n",
    "    if animal in zoo:\n",
    "        inventaire_animal = zoo[animal]#On récupère un n-uplet\n",
    "        nb_total_animaux = inventaire_animal[1]#Le nb d'animaux est la 2eme composante\n",
    "    else:\n",
    "        nb_total_animaux = 0\n",
    "    return nb_total_animaux\n",
    "    "
   ]
  },
  {
   "cell_type": "code",
   "execution_count": 24,
   "metadata": {
    "nbgrader": {
     "grade": true,
     "grade_id": "tests_exo7_3",
     "locked": true,
     "points": 8,
     "schema_version": 3,
     "solution": false,
     "task": false
    }
   },
   "outputs": [],
   "source": [
    "#<----------------------- Tests - Ne rien modifier ici ----------------------------->\n",
    "zoo_Beauval = {\n",
    "    \"éléphant\" : (\"Asie\", 5),\n",
    "    \"écureuil\" : (\"Asie\", 17),\n",
    "    \"panda\" : (\"Asie\", 2),\n",
    "    \"hippopotame\" : (\"Afrique\", 7),\n",
    "    \"girafe\" : (\"Afrique\", 4)}\n",
    "zoo_LaFleche = {\n",
    "    \"ours\" : (\"Europe\", 4),\n",
    "    \"tigre\" : (\"Asie\", 7),\n",
    "    \"hippopotame\" : (\"Afrique\", 3),\n",
    "    \"girafe\" : (\"Afrique\", 11)}\n",
    "\n",
    "assert nombre(zoo_LaFleche, \"panda\") == 0, \"La fonction ne passe pas le test\"\n",
    "assert nombre(zoo_Beauval, \"panda\") == 2, \"La fonction ne passe pas le test\"\n",
    "### BEGIN HIDDEN TESTS\n",
    "zoo_Beauval[\"tangue\"] = (\"Reunion\", 50)\n",
    "assert nombre(zoo_Beauval, \"tangue\") == 50, \"La fonction ne passe pas le test\"\n",
    "### END HIDDEN TESTS"
   ]
  }
 ],
 "metadata": {
  "celltoolbar": "Create Assignment",
  "kernelspec": {
   "display_name": "Python 3",
   "language": "python",
   "name": "python3"
  },
  "language_info": {
   "codemirror_mode": {
    "name": "ipython",
    "version": 3
   },
   "file_extension": ".py",
   "mimetype": "text/x-python",
   "name": "python",
   "nbconvert_exporter": "python",
   "pygments_lexer": "ipython3",
   "version": "3.7.2"
  },
  "metadata": {
   "deletable": false,
   "editable": false,
   "trusted": true
  }
 },
 "nbformat": 4,
 "nbformat_minor": 2
}
