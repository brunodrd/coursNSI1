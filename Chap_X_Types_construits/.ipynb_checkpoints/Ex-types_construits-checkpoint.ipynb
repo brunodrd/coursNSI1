{
 "cells": [
  {
   "cell_type": "markdown",
   "metadata": {},
   "source": [
    "# Activité de programmation - NSI 1ère\n",
    "\n",
    "Complétez le document ci-dessous. Vous validerez les cellules au fur-à-mesure en prenant le temps de lire attentivement les consignes.\n",
    "\n",
    "Certaines cellules contiennent ce texte :\n",
    "    # YOUR CODE HERE\n",
    "    raise NotImplementedError()\n",
    "Vous **remplacerez** ce contenu par votre propre code afin de répondre au problème posé. L'instruction `raise NotImplementedError()` est conçue pour provoquer une erreur si vous ne traitez pas la question.\n",
    "\n",
    "Une fois le document complété, si le professeur le demande, cliquer sur le bouton **submit** dans l'onglet *assignments*.\n",
    "\n",
    "Ce *notebook* peut être considéré comme un cahier interactif. N'hésitez pas à vous l'approprier en ajoutant des cellules de texte ou de code selon vos besoins !"
   ]
  },
  {
   "cell_type": "markdown",
   "metadata": {
    "deletable": false,
    "editable": false,
    "nbgrader": {
     "cell_type": "markdown",
     "checksum": "41e7755db929c53bce7eea7607ed9cd8",
     "grade": false,
     "grade_id": "cell-a168256280998c2c",
     "locked": true,
     "schema_version": 3,
     "solution": false,
     "task": false
    }
   },
   "source": [
    "# Exercice 1\n",
    "Etant donné un tableau de *directions*: `directions = ['nord', 'ouest', 'sud', 'est']`. Ecrire le code qui produit l'affichage suivant:  \n",
    "* nord\n",
    "* ouest\n",
    "* sud\n",
    "* est  \n",
    "\n",
    "**Donnée**: le point de code du symbole 'point' (on dit aussi *bullet*) dans la norme unicode est U+2022. En python on peut afficher ce caractère avec '\\u2022'."
   ]
  },
  {
   "cell_type": "code",
   "execution_count": null,
   "metadata": {
    "deletable": false,
    "nbgrader": {
     "cell_type": "code",
     "checksum": "6b6b3e05d5c2fefbe85b1cb3fdc501c8",
     "grade": true,
     "grade_id": "cell-5807736ebda17cce",
     "locked": false,
     "points": 2,
     "schema_version": 3,
     "solution": true,
     "task": false
    }
   },
   "outputs": [],
   "source": [
    "#Votre code dans cette cellule\n",
    "directions = ['nord', 'ouest', 'sud', 'est']\n",
    "\n",
    "# YOUR CODE HERE\n",
    "raise NotImplementedError()"
   ]
  },
  {
   "cell_type": "markdown",
   "metadata": {
    "deletable": false,
    "editable": false,
    "nbgrader": {
     "cell_type": "markdown",
     "checksum": "77a32df6d35ffa3e217b110f3397f12c",
     "grade": false,
     "grade_id": "cell-f3711ae37c56031a",
     "locked": true,
     "schema_version": 3,
     "solution": false,
     "task": false
    }
   },
   "source": [
    "# Exercice 2\n",
    "Ecrire une fonction qui prend en paramètre un tableau de notes et qui en retourne la moyenne."
   ]
  },
  {
   "cell_type": "code",
   "execution_count": null,
   "metadata": {
    "deletable": false,
    "nbgrader": {
     "cell_type": "code",
     "checksum": "a05933fd64f1e01819b6724a1d6e6c63",
     "grade": false,
     "grade_id": "cell-2257c308b5a3e402",
     "locked": false,
     "schema_version": 3,
     "solution": true,
     "task": false
    }
   },
   "outputs": [],
   "source": [
    "#Votre code dans cette cellule\n",
    "def moyenne(notes):\n",
    "    \"\"\"\n",
    "    Retourne la moyenne (type flottant) des notes présentes dans un tableau.\n",
    "    notes: tableau de nombres compris entre 0.0 et 20.0 inclus\n",
    "    \"\"\"\n",
    "    assert all(x >= 0 and x <= 20 for x in notes), \"Présence de note(s) invalide(s)\"\n",
    "    \n",
    "    # YOUR CODE HERE\n",
    "    raise NotImplementedError()\n",
    "    "
   ]
  },
  {
   "cell_type": "code",
   "execution_count": null,
   "metadata": {
    "deletable": false,
    "editable": false,
    "nbgrader": {
     "cell_type": "code",
     "checksum": "1d1de787396e7763f4f65287d82cb05c",
     "grade": true,
     "grade_id": "cell-dba67b104284ce75",
     "locked": true,
     "points": 4,
     "schema_version": 3,
     "solution": false,
     "task": false
    }
   },
   "outputs": [],
   "source": [
    "#<------------------ Tests - Ne rien modifier ici --------------------------->\n",
    "from math import fabs\n",
    "epsilon = 1e-5\n",
    "assert moyenne([10, 14, 9]) == 11\n",
    "assert fabs(moyenne([12.5, 15, 14.5, 0, 0.5, 7, 17, 6.5]) - 9.125) <= epsilon"
   ]
  },
  {
   "cell_type": "markdown",
   "metadata": {
    "deletable": false,
    "editable": false,
    "nbgrader": {
     "cell_type": "markdown",
     "checksum": "8bf561c61068f4d66b04c1a46af01183",
     "grade": false,
     "grade_id": "cell-44297ecc650e1a7c",
     "locked": true,
     "schema_version": 3,
     "solution": false,
     "task": false
    }
   },
   "source": [
    "# Exercice 3\n",
    "Soit une fonction polynomiale $f(x)=2x^2-3x-2$. Ecrire une fonction python `image` qui prend en paramètre un tableau de nombres entiers et qui retourne l'image de ces nombres par $f$ sous la forme d'un tableau. "
   ]
  },
  {
   "cell_type": "code",
   "execution_count": null,
   "metadata": {
    "deletable": false,
    "nbgrader": {
     "cell_type": "code",
     "checksum": "37c7409a5fba0f7f2d0efebaec051074",
     "grade": false,
     "grade_id": "cell-f6bfbfc63b78ec9c",
     "locked": false,
     "schema_version": 3,
     "solution": true,
     "task": false
    }
   },
   "outputs": [],
   "source": [
    "#Votre code dans cette cellule\n",
    "def image(t):\n",
    "    \"\"\"\n",
    "    Retourne l'image de t par f sous la forme d'un tableau.\n",
    "    t: tableau d'entiers.\n",
    "    \"\"\"\n",
    "    \n",
    "    assert isinstance(t, list), \"t doit être un tableau\"\n",
    "    assert all(isinstance (x, int) for x in t), \"les valeurs du tableau doivent être entières\"\n",
    "    \n",
    "    # YOUR CODE HERE\n",
    "    raise NotImplementedError()\n",
    "    "
   ]
  },
  {
   "cell_type": "code",
   "execution_count": null,
   "metadata": {
    "deletable": false,
    "editable": false,
    "nbgrader": {
     "cell_type": "code",
     "checksum": "66500f38567c24528e8c1f1cacbabe90",
     "grade": true,
     "grade_id": "cell-c269c0ec00793133",
     "locked": true,
     "points": 4,
     "schema_version": 3,
     "solution": false,
     "task": false
    }
   },
   "outputs": [],
   "source": [
    "#<---------------------------- Test - Ne rien modifier ici --------------------------->\n",
    "assert image([0, 1, 2, 3, 4]) == [-2, -3, 0, 7, 18], \"La fonction ne passe pas le test\"\n",
    "assert image([-100, 0, 100]) == [20298, -2, 19698], \"La fonction ne passe pas le test\""
   ]
  },
  {
   "cell_type": "markdown",
   "metadata": {
    "deletable": false,
    "editable": false,
    "nbgrader": {
     "cell_type": "markdown",
     "checksum": "d34a640d5c4d7341d1105975ee7a2a4e",
     "grade": false,
     "grade_id": "cell-51ea945e958fb0aa",
     "locked": true,
     "schema_version": 3,
     "solution": false,
     "task": false
    }
   },
   "source": [
    "## Pour les plus rapides\n",
    "Définir une fonction python $f$ qui retourne l'expression de la fonction. Modifier la *signature* et le corps de la fonction `image` en conséquence. Vérifier le code en appliquant les tests précédents."
   ]
  },
  {
   "cell_type": "markdown",
   "metadata": {
    "deletable": false,
    "editable": false,
    "nbgrader": {
     "cell_type": "markdown",
     "checksum": "1668ec92aac46a37f26223c5d9dfdd6a",
     "grade": false,
     "grade_id": "cell-cc9ec51f564b3e0c",
     "locked": true,
     "schema_version": 3,
     "solution": false,
     "task": false
    }
   },
   "source": [
    "# Exercice 4 Composantes d'un vecteur\n",
    "Ecrire une fonction `vecteur` qui prend en paramètres deux n-uplets qui correspondent aux coordonnées dans le plan de deux points A et B. La fonction `vecteur` retourne un n-uplet correspondant aux coordonnées du vecteur $\\vec{AB}$ dans le plan."
   ]
  },
  {
   "cell_type": "code",
   "execution_count": null,
   "metadata": {
    "deletable": false,
    "nbgrader": {
     "cell_type": "code",
     "checksum": "2f7adbecbbc0cecba33f056594f18ba2",
     "grade": false,
     "grade_id": "cell-7d6a20914c0ed600",
     "locked": false,
     "schema_version": 3,
     "solution": true,
     "task": false
    }
   },
   "outputs": [],
   "source": [
    "#Votre code dans cette cellule\n",
    "def vecteur(A,B):\n",
    "    \"\"\"\n",
    "    Retourne un n-uplet ayant deux composantes correspondant aux coordonnées d'un vecteur AB.\n",
    "    A, B: tuple à deux éléments\n",
    "    \"\"\"\n",
    "    \n",
    "    assert isinstance(A, tuple), \"A doit être un n-uplet\"\n",
    "    assert isinstance(B, tuple), \"B doit être un n-uplet\"\n",
    "    assert all((len(A) == 2, len(B) == 2))\n",
    "    \n",
    "    # YOUR CODE HERE\n",
    "    raise NotImplementedError()\n",
    "    "
   ]
  },
  {
   "cell_type": "code",
   "execution_count": null,
   "metadata": {
    "deletable": false,
    "editable": false,
    "nbgrader": {
     "cell_type": "code",
     "checksum": "ed197be258e131e551eb031830b932b6",
     "grade": true,
     "grade_id": "cell-a35fe8b931421ca0",
     "locked": true,
     "points": 4,
     "schema_version": 3,
     "solution": false,
     "task": false
    }
   },
   "outputs": [],
   "source": [
    "#<----------------Tests - Ne rien modifier ici --------------------------->\n",
    "assert vecteur((5,1), (3,4)) == (-2, 3), \"La fonction ne passe pas le test\""
   ]
  },
  {
   "cell_type": "markdown",
   "metadata": {
    "deletable": false,
    "editable": false,
    "nbgrader": {
     "cell_type": "markdown",
     "checksum": "15d9e5ba22d7d055025a8cfe9b62f3a5",
     "grade": false,
     "grade_id": "cell-fe641b8a6a2072d1",
     "locked": true,
     "schema_version": 3,
     "solution": false,
     "task": false
    }
   },
   "source": [
    "# Exercice 5 Jour correspondant à une date\n",
    "Python possède un module permettant de gérer les dates. Il s'agit du module `datetime`. On y trouve, entre autres, une classe qui permet la création d'objet `date` à partir d'entiers naturels représentant l'année, le mois et le jour. Par exemple, pour créer un objet `date` correspondant au 31 décembre 2019, on procèdera de la manière suivante:  \n",
    "```python\n",
    "from datetime import date\n",
    "d = date(2019, 12, 31)\n",
    "```\n",
    "Les attributs year (*année*), month (*mois*) et day (*jour*) d'un objet date `d` peuvent être obtenus par `d.year`, `d.month` et `d.day`."
   ]
  },
  {
   "cell_type": "code",
   "execution_count": null,
   "metadata": {
    "deletable": false,
    "editable": false,
    "nbgrader": {
     "cell_type": "code",
     "checksum": "a244eef37592a77947b33049d6f3d416",
     "grade": false,
     "grade_id": "cell-91f884e721feefb2",
     "locked": true,
     "schema_version": 3,
     "solution": false,
     "task": false
    }
   },
   "outputs": [],
   "source": [
    "from datetime import date\n",
    "\n",
    "d = date(2019, 12, 31)\n",
    "print(d.day, '/', d.month, '/', d.year) "
   ]
  },
  {
   "cell_type": "markdown",
   "metadata": {
    "deletable": false,
    "editable": false,
    "nbgrader": {
     "cell_type": "markdown",
     "checksum": "de1321f2eeb3070c68ec0781117d7237",
     "grade": false,
     "grade_id": "cell-30d88d798e1349b3",
     "locked": true,
     "schema_version": 3,
     "solution": false,
     "task": false
    }
   },
   "source": [
    "1.  Consulter la documentation relative  aux objets de type `date` (*ne pas oublier d'importer la classe date, voir ci-dessus*).  \n",
    "2.  Créer un objet `madate` de type `date` correspondant à votre date d'anniversaire.  \n",
    "3.  Créer une fonction `date_jour` qui prend en paramètre un objet de type date et qui retourne un n-uplet dont les composantes sont: le jour (*chaine de caractères valant \"lundi\", \"mardi\", etc.*), le jour dans le mois (*int*), le mois (*int*) et l'année (*int*).  \n",
    "*Indication*: les objets de type `date` de python possèdent une fonction (*méthode*) **weekday()** qui permet d'obtenir le jour qui correspondant. Par exemple, le premier jour de l'an 2000 correspondait à :  \n",
    "```python\n",
    "from datetime import date\n",
    "d2000 = date(2000,1,1)\n",
    "print(d2000.weekday())\n",
    "5\n",
    "```\n",
    "D'après la documentation, si lundi correspond à 0 alors 5 correspond à un samedi"
   ]
  },
  {
   "cell_type": "code",
   "execution_count": null,
   "metadata": {
    "deletable": false,
    "nbgrader": {
     "cell_type": "code",
     "checksum": "0d962549798918363555ce2d58c6b2a9",
     "grade": false,
     "grade_id": "cell-d5d69522a508877f",
     "locked": false,
     "schema_version": 3,
     "solution": true,
     "task": false
    }
   },
   "outputs": [],
   "source": [
    "#Votre code dans cette cellule\n",
    "def date_jour(madate):\n",
    "    \"\"\"\n",
    "    Retourne un jour sous la forme d'un n-uplet à 4 composantes: jour de la semaine (string), \n",
    "    jour dans le mois (int), mois (int) et année (int).\n",
    "    madate: objet de type date\n",
    "    \"\"\"\n",
    "    \n",
    "    assert isinstance(madate, datetime.date)\n",
    "    \n",
    "    jours = ('lundi', 'mardi', 'mercredi', 'jeudi', 'vendredi', 'samedi', 'dimanche')\n",
    "    # YOUR CODE HERE\n",
    "    raise NotImplementedError()\n",
    "    "
   ]
  },
  {
   "cell_type": "code",
   "execution_count": null,
   "metadata": {
    "deletable": false,
    "editable": false,
    "nbgrader": {
     "cell_type": "code",
     "checksum": "5a5388e73d79272e48e2a9a177380619",
     "grade": true,
     "grade_id": "cell-e52359e15334a780",
     "locked": true,
     "points": 6,
     "schema_version": 3,
     "solution": false,
     "task": false
    }
   },
   "outputs": [],
   "source": [
    "#<---------------------------------- Test - Ne rien modifier ici -------------------------------->\n",
    "import datetime\n",
    "\n",
    "assert date_jour(datetime.date(1989,1,29)) == (\"dimanche\", 29, 1, 1989), \"La fonction ne passe pas le test\""
   ]
  },
  {
   "cell_type": "markdown",
   "metadata": {
    "deletable": false,
    "editable": false,
    "nbgrader": {
     "cell_type": "markdown",
     "checksum": "6e068b79fefe828fb01883f884907174",
     "grade": false,
     "grade_id": "cell-0250fe0ab350d4c4",
     "locked": true,
     "schema_version": 3,
     "solution": false,
     "task": false
    }
   },
   "source": [
    "# Exercice 6 Analyse d'un tableau de notes\n",
    "On souhaite analyser les notes obtenues par un groupe de spécialité NSI. Ces résultats sont modélisés sous la forme d'un tableau de nombres entiers compris entre 0 et 20. Ecrire une fonction `analyse_note` qui prend comme paramètre un tableau de notes et qui retourne un n-uplet composé de la médiane, la moyenne et l'écart type.  \n",
    "On utilisera des fonctions disponibles dans la librairie standard de python (module `statistics`): `median`, `mean` et `variance`."
   ]
  },
  {
   "cell_type": "markdown",
   "metadata": {
    "deletable": false,
    "editable": false,
    "nbgrader": {
     "cell_type": "markdown",
     "checksum": "3951629a1556fc55e6fccde073868789",
     "grade": false,
     "grade_id": "cell-5cbf125fd8d57d8f",
     "locked": true,
     "schema_version": 3,
     "solution": false,
     "task": false
    }
   },
   "source": [
    "1.  Prendre connaissance de la documentation sur les fonctions `median`, `mean` et `variance` du module `statistics`.  \n",
    "2.  L'écart type est défini comme la racine carrée de la variance. La fonction racine carrée `sqrt` peut être importée depuis le module `math`. Compléter la fonction `analyse_note` dans la cellule déjà préparée ci-dessous, puis l'exécuter."
   ]
  },
  {
   "cell_type": "code",
   "execution_count": null,
   "metadata": {
    "deletable": false,
    "nbgrader": {
     "cell_type": "code",
     "checksum": "aab7ba06239b12bed87ce9f4aef94b48",
     "grade": true,
     "grade_id": "cell-7b26735046051083",
     "locked": false,
     "points": 2,
     "schema_version": 3,
     "solution": true,
     "task": false
    }
   },
   "outputs": [],
   "source": [
    "# YOUR CODE HERE\n",
    "raise NotImplementedError()"
   ]
  },
  {
   "cell_type": "code",
   "execution_count": null,
   "metadata": {
    "deletable": false,
    "nbgrader": {
     "cell_type": "code",
     "checksum": "ae6e7402b2d45e8ace7573b79e1ca5a3",
     "grade": false,
     "grade_id": "cell-fc464773093a15e4",
     "locked": false,
     "schema_version": 3,
     "solution": true,
     "task": false
    }
   },
   "outputs": [],
   "source": [
    "#2. Votre code dans cette cellule\n",
    "import statistics as st\n",
    "from math import sqrt\n",
    "\n",
    "def analyse_note(notes):\n",
    "    \"\"\"\n",
    "    Retourne un n-uplet composé de la médiane, la moyenne et l'écart type des notes obtenues par une classe.\n",
    "    notes: tableau d'entiers compris entre 0 et 20\n",
    "    \"\"\"\n",
    "    \n",
    "    assert isinstance(notes, list), \"t doit être un tableau\"\n",
    "    assert all(isinstance (x, int) for x in notes), \"Les notes doivent être entières\"\n",
    "    assert all(x >= 0 and x <= 20 for x in notes), \"Présence de note(s) invalide(s)\"\n",
    "    \n",
    "    # YOUR CODE HERE\n",
    "    raise NotImplementedError()"
   ]
  },
  {
   "cell_type": "code",
   "execution_count": null,
   "metadata": {
    "deletable": false,
    "editable": false,
    "nbgrader": {
     "cell_type": "code",
     "checksum": "354aca31d10150c63094885ec6f1f9cc",
     "grade": true,
     "grade_id": "cell-3a12820e540ff3bb",
     "locked": true,
     "points": 4,
     "schema_version": 3,
     "solution": false,
     "task": false
    }
   },
   "outputs": [],
   "source": [
    "#<----------------------------- Test - Ne rien modifier ici ----------------------------->\n",
    "from math import fabs\n",
    "\n",
    "notes = [15, 10, 3, 9, 5, 13, 2]\n",
    "epsilon = 1e-5\n",
    "assert fabs(analyse_note(notes)[0] - 9.0) < epsilon, \"La fonction ne passe pas le test\"\n",
    "assert fabs(analyse_note(notes)[1] - 8.14285) < epsilon, \"La fonction ne passe pas le test\"\n",
    "assert fabs(analyse_note(notes)[2] - 4.98091) < epsilon, \"La fonction ne passe pas le test\" "
   ]
  },
  {
   "cell_type": "markdown",
   "metadata": {
    "deletable": false,
    "editable": false,
    "nbgrader": {
     "cell_type": "markdown",
     "checksum": "90cb2fbda292f3aea5a8c6c14f8cbdb8",
     "grade": false,
     "grade_id": "cell-14cb1ee01d935d2c",
     "locked": true,
     "schema_version": 3,
     "solution": false,
     "task": false
    }
   },
   "source": [
    "# Exercice 7 Itérer sur les éléments d'un dictionnaire\n",
    "Au zoo de Beauval, il y a 5 éléphants d'Asie, 17 écureuils d'Asie, 2 pandas d'Asie, etc. On modélise cet inventaire avec un dictionnaire, de la façon suivante:"
   ]
  },
  {
   "cell_type": "code",
   "execution_count": null,
   "metadata": {
    "deletable": false,
    "editable": false,
    "nbgrader": {
     "cell_type": "code",
     "checksum": "73494994ea4cbd1b941dfea0e5e661ca",
     "grade": false,
     "grade_id": "cell-a510d3230eb25b0d",
     "locked": true,
     "schema_version": 3,
     "solution": false,
     "task": false
    }
   },
   "outputs": [],
   "source": [
    "zoo_Beauval = {\n",
    "    \"éléphant\" : (\"Asie\", 5),\n",
    "    \"écureuil\" : (\"Asie\", 17),\n",
    "    \"panda\" : (\"Asie\", 2),\n",
    "    \"hippopotame\" : (\"Afrique\", 7),\n",
    "    \"girafe\" : (\"Afrique\", 4)}"
   ]
  },
  {
   "cell_type": "markdown",
   "metadata": {
    "deletable": false,
    "editable": false,
    "nbgrader": {
     "cell_type": "markdown",
     "checksum": "f6d972795545f5a83730e1dffc08f090",
     "grade": false,
     "grade_id": "cell-3b04b46a6ced9804",
     "locked": true,
     "schema_version": 3,
     "solution": false,
     "task": false
    }
   },
   "source": [
    "De la même façon on représente le zoo de La Flèche:"
   ]
  },
  {
   "cell_type": "code",
   "execution_count": null,
   "metadata": {
    "deletable": false,
    "editable": false,
    "nbgrader": {
     "cell_type": "code",
     "checksum": "09ba071f5247930b062e70329699d6cc",
     "grade": false,
     "grade_id": "cell-d04d4a05c84fd7b7",
     "locked": true,
     "schema_version": 3,
     "solution": false,
     "task": false
    }
   },
   "outputs": [],
   "source": [
    "zoo_LaFleche = {\n",
    "    \"ours\" : (\"Europe\", 4),\n",
    "    \"tigre\" : (\"Asie\", 7),\n",
    "    \"hippopotame\" : (\"Afrique\", 3),\n",
    "    \"girafe\" : (\"Afrique\", 11)}"
   ]
  },
  {
   "cell_type": "markdown",
   "metadata": {
    "deletable": false,
    "editable": false,
    "nbgrader": {
     "cell_type": "markdown",
     "checksum": "cae23612e261f211651056335c9ab08a",
     "grade": false,
     "grade_id": "cell-812d1f98852a5685",
     "locked": true,
     "schema_version": 3,
     "solution": false,
     "task": false
    }
   },
   "source": [
    "On souhaite écrire une fonction `plus_grand_nombre` qui prend un zoo en paramètre et qui retourne le nom de l'animal le plus représenté dans ce zoo.  \n",
    "1.  Quel type d'itération doit-on utiliser dans cette fonction?\n",
    "   *  \n",
    "   ```python\n",
    "for cle in d:\n",
    "    ...\n",
    "```  \n",
    "   *  \n",
    "```python\n",
    "for val in d.values():\n",
    "    ...\n",
    "```\n",
    "   *  \n",
    "```python\n",
    "for cle,val in d.items():\n",
    "    ...\n",
    "```\n",
    "   * Aucune itération\n",
    "   \n",
    "2. Coder cette fonction"
   ]
  },
  {
   "cell_type": "code",
   "execution_count": null,
   "metadata": {
    "deletable": false,
    "nbgrader": {
     "cell_type": "code",
     "checksum": "97c564c6a7881cd23f303025d0d4f371",
     "grade": false,
     "grade_id": "cell-cf9689cf82a2b6b1",
     "locked": false,
     "schema_version": 3,
     "solution": true,
     "task": false
    }
   },
   "outputs": [],
   "source": [
    "#Votre code dans cette cellule\n",
    "def plus_grand_nombre(zoo):\n",
    "    \"\"\"\n",
    "    Retourne le nom de l'animal (string) le plus représenté dans le zoo passé en paramètre.\n",
    "    zoo: dictionnaire\n",
    "    \"\"\"\n",
    "    \n",
    "    assert isinstance(zoo, dict), \"zoo doit être un dictionnaire\"\n",
    "    \n",
    "    # YOUR CODE HERE\n",
    "    raise NotImplementedError()\n",
    "    "
   ]
  },
  {
   "cell_type": "code",
   "execution_count": null,
   "metadata": {
    "deletable": false,
    "editable": false,
    "nbgrader": {
     "cell_type": "code",
     "checksum": "87659ba9fdfdbc276a8a15e694e75c10",
     "grade": true,
     "grade_id": "cell-3bedc877ee9950a2",
     "locked": true,
     "points": 8,
     "schema_version": 3,
     "solution": false,
     "task": false
    }
   },
   "outputs": [],
   "source": [
    "#<-------------------------- Tests - Ne rien modifier ici -------------------------->\n",
    "zoo_Beauval = {\n",
    "    \"éléphant\" : (\"Asie\", 5),\n",
    "    \"écureuil\" : (\"Asie\", 17),\n",
    "    \"panda\" : (\"Asie\", 2),\n",
    "    \"hippopotame\" : (\"Afrique\", 7),\n",
    "    \"girafe\" : (\"Afrique\", 4)}\n",
    "zoo_LaFleche = {\n",
    "    \"ours\" : (\"Europe\", 4),\n",
    "    \"tigre\" : (\"Asie\", 7),\n",
    "    \"hippopotame\" : (\"Afrique\", 3),\n",
    "    \"girafe\" : (\"Afrique\", 11)}\n",
    "\n",
    "assert plus_grand_nombre(zoo_LaFleche) == \"girafe\", \"La fonction ne passe pas le test\"\n",
    "assert plus_grand_nombre(zoo_Beauval) == \"écureuil\", \"La fonction ne passe pas le test\""
   ]
  },
  {
   "cell_type": "markdown",
   "metadata": {
    "deletable": false,
    "editable": false,
    "nbgrader": {
     "cell_type": "markdown",
     "checksum": "46321127547ff2cae0af5cafad4aabe2",
     "grade": false,
     "grade_id": "cell-ad5448f2ac1895ce",
     "locked": true,
     "schema_version": 3,
     "solution": false,
     "task": false
    }
   },
   "source": [
    "3.  On souhaite écrire une fonction `nombre_total` qui prend en paramètres un zoo et un nom de continent. Cette fonction doit retourner le nombre total d'animaux originaires de ce continent. Quel type d'itération doit-on utiliser dans cette fonction?\n",
    "   *  \n",
    "   ```python\n",
    "for cle in d:\n",
    "    ...\n",
    "```  \n",
    "   *  \n",
    "```python\n",
    "for val in d.values():\n",
    "    ...\n",
    "```\n",
    "   *  \n",
    "```python\n",
    "for cle,val in d.items():\n",
    "    ...\n",
    "```\n",
    "   * Aucune itération  \n",
    "   \n",
    "4. Coder cette fonction"
   ]
  },
  {
   "cell_type": "code",
   "execution_count": null,
   "metadata": {
    "deletable": false,
    "nbgrader": {
     "cell_type": "code",
     "checksum": "886c9d110ebb084a757cbd7857c0e51c",
     "grade": false,
     "grade_id": "cell-2f6bc8397310f3d8",
     "locked": false,
     "schema_version": 3,
     "solution": true,
     "task": false
    }
   },
   "outputs": [],
   "source": [
    "#Votre code dans cette cellule\n",
    "def nombre_total(zoo, continent):\n",
    "    \"\"\"\n",
    "    Retourne le nombre total d'animaux (entier naturel) présents dans le zoo \n",
    "    et originaire du continent.\n",
    "    zoo: dictionnaire\n",
    "    continent: string\n",
    "    \"\"\"\n",
    "    assert isinstance(zoo, dict), \"zoo doit être un dictionnaire\"\n",
    "    assert isinstance(continent, str), \"continent est une chaine de caractères\"\n",
    "    \n",
    "    # YOUR CODE HERE\n",
    "    raise NotImplementedError()\n",
    "    "
   ]
  },
  {
   "cell_type": "code",
   "execution_count": null,
   "metadata": {
    "deletable": false,
    "editable": false,
    "nbgrader": {
     "cell_type": "code",
     "checksum": "c7e82086cb512e935752ea72795689f0",
     "grade": true,
     "grade_id": "cell-e704c032985e52dd",
     "locked": true,
     "points": 8,
     "schema_version": 3,
     "solution": false,
     "task": false
    }
   },
   "outputs": [],
   "source": [
    "#<------------------------------ Tests - Ne rien modifier ici ---------------------->\n",
    "zoo_Beauval = {\n",
    "    \"éléphant\" : (\"Asie\", 5),\n",
    "    \"écureuil\" : (\"Asie\", 17),\n",
    "    \"panda\" : (\"Asie\", 2),\n",
    "    \"hippopotame\" : (\"Afrique\", 7),\n",
    "    \"girafe\" : (\"Afrique\", 4)}\n",
    "zoo_LaFleche = {\n",
    "    \"ours\" : (\"Europe\", 4),\n",
    "    \"tigre\" : (\"Asie\", 7),\n",
    "    \"hippopotame\" : (\"Afrique\", 3),\n",
    "    \"girafe\" : (\"Afrique\", 11)}\n",
    "\n",
    "assert nombre_total(zoo_LaFleche, \"Afrique\") == 14, \"La fonction ne passe pas le test\"\n",
    "assert nombre_total(zoo_Beauval, \"Asie\") == 24, \"La fonction ne passe pas le test\""
   ]
  },
  {
   "cell_type": "markdown",
   "metadata": {
    "deletable": false,
    "editable": false,
    "nbgrader": {
     "cell_type": "markdown",
     "checksum": "2051ec38a9273f42cf80740c7eea2d49",
     "grade": false,
     "grade_id": "cell-220aed24ef45b24a",
     "locked": true,
     "schema_version": 3,
     "solution": false,
     "task": false
    }
   },
   "source": [
    "5.  On souhaite écrire une fonction `nombre` qui prend en paramètres un zoo et un nom d'animal. La fonction doit retourner le nombre de représentant de cet animal (entier naturel) dans le zoo. Quel type d'itération doit-on utiliser dans cette fonction?\n",
    "   *  \n",
    "   ```python\n",
    "for cle in d:\n",
    "    ...\n",
    "```  \n",
    "   *  \n",
    "```python\n",
    "for val in d.values():\n",
    "    ...\n",
    "```\n",
    "   *  \n",
    "```python\n",
    "for cle,val in d.items():\n",
    "    ...\n",
    "```\n",
    "   * Aucune itération\n",
    "\n",
    "6. Coder cette fonction"
   ]
  },
  {
   "cell_type": "code",
   "execution_count": null,
   "metadata": {
    "deletable": false,
    "nbgrader": {
     "cell_type": "code",
     "checksum": "b90179e1267f9d344a93a0150bf24417",
     "grade": false,
     "grade_id": "cell-697e91a6c8291ef4",
     "locked": false,
     "schema_version": 3,
     "solution": true,
     "task": false
    }
   },
   "outputs": [],
   "source": [
    "# YOUR CODE HERE\n",
    "raise NotImplementedError()"
   ]
  },
  {
   "cell_type": "code",
   "execution_count": null,
   "metadata": {
    "deletable": false,
    "editable": false,
    "nbgrader": {
     "cell_type": "code",
     "checksum": "2fd8a76bdbac009376f89ee7e854a7d1",
     "grade": true,
     "grade_id": "cell-a646b73c286f7bb4",
     "locked": true,
     "points": 8,
     "schema_version": 3,
     "solution": false,
     "task": false
    }
   },
   "outputs": [],
   "source": [
    "#<----------------------- Tests - Ne rien modifier ici ----------------------------->\n",
    "zoo_Beauval = {\n",
    "    \"éléphant\" : (\"Asie\", 5),\n",
    "    \"écureuil\" : (\"Asie\", 17),\n",
    "    \"panda\" : (\"Asie\", 2),\n",
    "    \"hippopotame\" : (\"Afrique\", 7),\n",
    "    \"girafe\" : (\"Afrique\", 4)}\n",
    "zoo_LaFleche = {\n",
    "    \"ours\" : (\"Europe\", 4),\n",
    "    \"tigre\" : (\"Asie\", 7),\n",
    "    \"hippopotame\" : (\"Afrique\", 3),\n",
    "    \"girafe\" : (\"Afrique\", 11)}\n",
    "\n",
    "assert nombre(zoo_LaFleche, \"panda\") == 0, \"La fonction ne passe pas le test\"\n",
    "assert nombre(zoo_Beauval, \"panda\") == 2, \"La fonction ne passe pas le test\""
   ]
  }
 ],
 "metadata": {
  "kernelspec": {
   "display_name": "Python 3",
   "language": "python",
   "name": "python3"
  },
  "language_info": {
   "codemirror_mode": {
    "name": "ipython",
    "version": 3
   },
   "file_extension": ".py",
   "mimetype": "text/x-python",
   "name": "python",
   "nbconvert_exporter": "python",
   "pygments_lexer": "ipython3",
   "version": "3.6.7"
  },
  "metadata": {
   "deletable": false,
   "editable": false,
   "trusted": true
  }
 },
 "nbformat": 4,
 "nbformat_minor": 2
}
