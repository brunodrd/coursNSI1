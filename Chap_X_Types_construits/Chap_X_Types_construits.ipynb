{
 "cells": [
  {
   "cell_type": "markdown",
   "metadata": {
    "hideCode": true,
    "hidePrompt": true
   },
   "source": [
    "********************\n",
    "Les types construits\n",
    "********************"
   ]
  },
  {
   "cell_type": "markdown",
   "metadata": {
    "hideCode": true,
    "hidePrompt": true
   },
   "source": [
    "# Les tableaux - part. 2   \n",
    "## Itérer sur les éléments d'un tableau  \n",
    "Dans la partie 1 on a vu qu'on pouvait accéder aux éléments d'un tableau en itérant sur les index de celui-ci avec une syntaxe du type: `for element in range(len(tableau)):`. Par exemple:\n",
    "```python\n",
    "notes = [17, 14, 16]\n",
    "for i in range(len(notes)):\n",
    "        print(notes[i])\n",
    "```\n",
    "On peut obtenir le même résultat en itérant sur les éléments. La syntaxe est la suivante:\n",
    "```python\n",
    "notes = [17, 14, 16]\n",
    "for note in notes:\n",
    "    print(note)\n",
    "```\n",
    "*Note\n",
    "Il est d'usage (*mais non obligatoire*) d'utiliser un nom au pluriel pour le tableau et le même nom au singulier pour la variable de boucle.\n",
    "*\n",
    "\n",
    "## Construction de tableaux en compréhension  \n",
    "Supposons le problème suivant: construire un tableau des 10 premiers entiers naturels multiples de 9.    \n",
    "On peut construire ce tableau comme dans la partie 1 (on dit aussi en extension):  \n",
    "```python\n",
    "t = [0, 9, 18, 27, ...]\n",
    "```\n",
    "C'est long et pas très élégant! Une deuxième solution serait d'utiliser une boucle `for`:  \n",
    "```python\n",
    "t = [0] * 10\n",
    "for i in range(10):\n",
    "    t[i] = 9 * i\n",
    "```\n",
    "Python propose une syntaxe plus compacte pour réaliser cette opération. Il s'agit de la construction par **compréhension** (on dit aussi en intension):  \n",
    "```python\n",
    "t = [9 * i for i in range(10)]\n",
    "```\n",
    "**Plus généralement, au lieu de déclarer un tableau puis de le remplir avec une boucle, on préfèrera une construction plus concise appelée construction par compréhension, qui est de la forme:**  \n",
    "```python\n",
    "tableau = [expr(x) for x in sequence]\n",
    "```\n",
    "`expr(x)` est une expression de la variable `x` qui parcourt tous les éléments de `sequence` (qui peut être un tableau, une chaine de caractère ou un des types qui seront vus dans les paragraphes ci-après).  \n",
    "Modifions notre consigne de départ: parmi les 10 premiers entiers naturels multiples de 9, construire un tableau des entiers pairs uniquement. La construction par compréhension permet ici une écriture compacte:  \n",
    "```python\n",
    "t = [9 * i for i in range(10) if 9 * i % 2 == 0]\n",
    "```\n",
    "**La construction par compréhension permet d'ajouter une condition booléenne**."
   ]
  },
  {
   "cell_type": "code",
   "execution_count": 1,
   "metadata": {},
   "outputs": [
    {
     "name": "stdout",
     "output_type": "stream",
     "text": [
      "[0, 18, 36, 54, 72, 90, 108, 126, 144, 162]\n"
     ]
    }
   ],
   "source": [
    "t = [9 * i for i in range(20) if 9 * i % 2 == 0]\n",
    "print(t)"
   ]
  },
  {
   "cell_type": "markdown",
   "metadata": {},
   "source": [
    "## Complément: ajouter un élément à un tableau\n",
    "Le langage python autorise un traitement particulier sur un tableau: pouvoir y ajouter un élément même si sa taille a déjà été fixée. La syntaxe est la suivante:"
   ]
  },
  {
   "cell_type": "code",
   "execution_count": 2,
   "metadata": {},
   "outputs": [
    {
     "name": "stdout",
     "output_type": "stream",
     "text": [
      "[1, 2, 3, 5]\n"
     ]
    }
   ],
   "source": [
    "tab = [1, 2, 3]\n",
    "tab.append(5)\n",
    "print(tab)"
   ]
  },
  {
   "cell_type": "markdown",
   "metadata": {},
   "source": [
    "**Dans la mesure du possible, on évitera le recours à la méthode append**."
   ]
  },
  {
   "cell_type": "markdown",
   "metadata": {
    "hideCode": true,
    "hidePrompt": true
   },
   "source": [
    "# Les p-uplets\n",
    "## Construction et propriétés d'un p-uplet  \n",
    "En mathématique, un **p-uplet** est une collection ordonnée d'objets. Python fournit un type adapté à la représentation des p-uplets: le type `tuple`.  On créé un tuple en écrivant les composantes du p-uplet séparées par une virgule et de préférence entre parenthèses:  \n",
    "```python\n",
    "notes = (\"Maxime\", 17, 15, 16) \n",
    "```\n",
    "Comme avec les tableaux, on peut obtenir la taille d'un tuple avec la fonction native `len` et accéder au $i^{ème}$ élément avec la notation utilisant des crochets:"
   ]
  },
  {
   "cell_type": "code",
   "execution_count": 3,
   "metadata": {},
   "outputs": [
    {
     "name": "stdout",
     "output_type": "stream",
     "text": [
      "Taille du p-uplet:  5\n",
      "Valeur du 3ème élément (index 2):  15\n"
     ]
    }
   ],
   "source": [
    "notes = (\"Maxime\", 17, 15, 16, 10)\n",
    "print(\"Taille du p-uplet: \", len(notes))\n",
    "print(\"Valeur du 3ème élément (index 2): \", notes[2])"
   ]
  },
  {
   "cell_type": "markdown",
   "metadata": {},
   "source": [
    "**Contrairement aux tableaux les composantes d'un tuple ne sont pas modifiables**. On dit que les tuples sont des objets immutables (ou non mutables). "
   ]
  },
  {
   "cell_type": "code",
   "execution_count": 4,
   "metadata": {},
   "outputs": [
    {
     "ename": "TypeError",
     "evalue": "'tuple' object does not support item assignment",
     "output_type": "error",
     "traceback": [
      "\u001b[1;31m---------------------------------------------------------------------------\u001b[0m",
      "\u001b[1;31mTypeError\u001b[0m                                 Traceback (most recent call last)",
      "\u001b[1;32m<ipython-input-4-06e2d03882e0>\u001b[0m in \u001b[0;36m<module>\u001b[1;34m()\u001b[0m\n\u001b[1;32m----> 1\u001b[1;33m \u001b[0mnotes\u001b[0m\u001b[1;33m[\u001b[0m\u001b[1;36m3\u001b[0m\u001b[1;33m]\u001b[0m \u001b[1;33m=\u001b[0m \u001b[1;36m16.5\u001b[0m\u001b[1;33m\u001b[0m\u001b[1;33m\u001b[0m\u001b[0m\n\u001b[0m",
      "\u001b[1;31mTypeError\u001b[0m: 'tuple' object does not support item assignment"
     ]
    }
   ],
   "source": [
    "notes[3] = 16.5"
   ]
  },
  {
   "cell_type": "markdown",
   "metadata": {},
   "source": [
    "## Parcourir un p-uplet  \n",
    "Les méthodes de parcours rencontrées lors de la découverte des tableaux sont toujours valables. On peut itérer sur les index ou sur les éléments."
   ]
  },
  {
   "cell_type": "code",
   "execution_count": 5,
   "metadata": {},
   "outputs": [
    {
     "name": "stdout",
     "output_type": "stream",
     "text": [
      "****Relevé de notes  ****\n",
      "Maxime\n",
      "17\n",
      "15\n",
      "16\n",
      "10\n",
      "****Moyenne****\n",
      "14.5\n"
     ]
    }
   ],
   "source": [
    "print(\"****Relevé de notes \", \"****\")\n",
    "for note in notes:\n",
    "    print(note)\n",
    "print(\"****Moyenne****\")\n",
    "s = 0\n",
    "for i in range(1, len(notes)):\n",
    "    s = s + notes[i]\n",
    "m = s / (len(notes) - 1)\n",
    "print(m)"
   ]
  },
  {
   "cell_type": "markdown",
   "metadata": {
    "hideCode": true,
    "hidePrompt": true
   },
   "source": [
    "# Les dictionnaires\n",
    "## Construction et propriétés des dictionnaires  \n",
    "Python possède une autre structure de données très importante: **le dictionnaire**. Contrairement aux tableaux ou aux tuples, les valeurs ne sont plus associées à des index forcément numériques mais à des **clés** qui peuvent être des nombres, des chaines de caractères, des tuples.  On déclare un dictionnaire en plaçant ses paires clé-valeur entre accolades et séparées par une virgule. La clé et la valeur étant séparées par le caractère `:`.  \n",
    "\n",
    "Exemple:    \n",
    "```python\n",
    "cyclones_reunion = {\"fakir\":(24, 4, 2018), \"berguitta\":(18, 1, 2018)}\n",
    "```\n",
    "On peut également construire un dictionnaire à partir d'un dictionnaire vide:"
   ]
  },
  {
   "cell_type": "code",
   "execution_count": 6,
   "metadata": {},
   "outputs": [
    {
     "name": "stdout",
     "output_type": "stream",
     "text": [
      "{'bejisa': (2, 1, 2014), 'dumile': (3, 1, 2013), 'dina': (22, 1, 2002), 'gamede': (25, 2, 2007)}\n"
     ]
    }
   ],
   "source": [
    "cyclones_reunion = {}\n",
    "cyclones_reunion[\"bejisa\"] = (2, 1, 2014)\n",
    "cyclones_reunion[\"dumile\"] = (3, 1, 2013)\n",
    "cyclones_reunion[\"dina\"] = (22, 1, 2002)\n",
    "cyclones_reunion[\"gamede\"] = (25, 2, 2007)\n",
    "print(cyclones_reunion)"
   ]
  },
  {
   "cell_type": "markdown",
   "metadata": {},
   "source": [
    "Le nombre d'entrées du dictionnaire est obtenu avec la fonction `len`."
   ]
  },
  {
   "cell_type": "code",
   "execution_count": 7,
   "metadata": {},
   "outputs": [
    {
     "data": {
      "text/plain": [
       "4"
      ]
     },
     "execution_count": 7,
     "metadata": {},
     "output_type": "execute_result"
    }
   ],
   "source": [
    "len(cyclones_reunion)"
   ]
  },
  {
   "cell_type": "markdown",
   "metadata": {},
   "source": [
    "On accède à la **valeur** associée à une **clé** d'un dictionnaire `d` avec une construction du type `d[clé]`. Si la clé n'existe pas, python lèvera une exception **KeyError**."
   ]
  },
  {
   "cell_type": "code",
   "execution_count": 8,
   "metadata": {},
   "outputs": [
    {
     "name": "stdout",
     "output_type": "stream",
     "text": [
      "(22, 1, 2002)\n"
     ]
    }
   ],
   "source": [
    "print(cyclones_reunion[\"dina\"])"
   ]
  },
  {
   "cell_type": "code",
   "execution_count": 9,
   "metadata": {},
   "outputs": [
    {
     "ename": "KeyError",
     "evalue": "'carlos'",
     "output_type": "error",
     "traceback": [
      "\u001b[1;31m---------------------------------------------------------------------------\u001b[0m",
      "\u001b[1;31mKeyError\u001b[0m                                  Traceback (most recent call last)",
      "\u001b[1;32m<ipython-input-9-0306c0a2304c>\u001b[0m in \u001b[0;36m<module>\u001b[1;34m()\u001b[0m\n\u001b[1;32m----> 1\u001b[1;33m \u001b[0mprint\u001b[0m\u001b[1;33m(\u001b[0m\u001b[0mcyclones_reunion\u001b[0m\u001b[1;33m[\u001b[0m\u001b[1;34m\"carlos\"\u001b[0m\u001b[1;33m]\u001b[0m\u001b[1;33m)\u001b[0m\u001b[1;33m\u001b[0m\u001b[1;33m\u001b[0m\u001b[0m\n\u001b[0m",
      "\u001b[1;31mKeyError\u001b[0m: 'carlos'"
     ]
    }
   ],
   "source": [
    "print(cyclones_reunion[\"carlos\"])"
   ]
  },
  {
   "cell_type": "markdown",
   "metadata": {},
   "source": [
    "Enfin, **un dictionnaire n'est pas ordonné**. Les éléments ne sont pas forcément afichés dans l'ordre de leur création."
   ]
  },
  {
   "cell_type": "markdown",
   "metadata": {},
   "source": [
    "## Parcours d'un dictionnaire  \n",
    "L'appartenance à un dictionnaire se fait avec le mot clé `in`. Ainsi:"
   ]
  },
  {
   "cell_type": "code",
   "execution_count": 10,
   "metadata": {},
   "outputs": [
    {
     "data": {
      "text/plain": [
       "True"
      ]
     },
     "execution_count": 10,
     "metadata": {},
     "output_type": "execute_result"
    }
   ],
   "source": [
    "'dina' in cyclones_reunion"
   ]
  },
  {
   "cell_type": "code",
   "execution_count": 11,
   "metadata": {},
   "outputs": [
    {
     "data": {
      "text/plain": [
       "False"
      ]
     },
     "execution_count": 11,
     "metadata": {},
     "output_type": "execute_result"
    }
   ],
   "source": [
    "'carlos' in cyclones_reunion"
   ]
  },
  {
   "cell_type": "markdown",
   "metadata": {},
   "source": [
    "Le parcours d'un dictionnaire `d` peut se faire en itérant avec une boucle `for` sur:  \n",
    "*  les clés \n",
    "```python\n",
    "for cle in d:#équivalent à for cle in d.keys()\n",
    "    ...\n",
    "```  \n",
    "*  les valeurs\n",
    "```python\n",
    "for val in d.values():\n",
    "    ...\n",
    "```\n",
    "*  les couples (clé,valeur)\n",
    "```python\n",
    "for cle,val in d.items():\n",
    "    ...\n",
    "```"
   ]
  },
  {
   "cell_type": "markdown",
   "metadata": {
    "hideCode": true,
    "hidePrompt": true
   },
   "source": [
    "# Les p-uplets nommés"
   ]
  },
  {
   "cell_type": "markdown",
   "metadata": {},
   "source": [
    "## Insuffisance des p-uplets"
   ]
  },
  {
   "cell_type": "markdown",
   "metadata": {
    "hideCode": true,
    "hidePrompt": true
   },
   "source": [
    "Etant donné le problème suivant: on souhaite stocker les informations concernant des fichers image dans un p-uplet. Ce dernier aura pour composante le nom du fichier, sa largeur en pixel, sa hauteur en pixel et sa taille en kilo-octet. Par exemple, soit le fichier \"dog.jpg\" qui a une largeur de 6720 pixels, une hauteur de 4480 pixels et dont la taille est de 3319 ko. On peut le modéliser par un simple tuple:"
   ]
  },
  {
   "cell_type": "code",
   "execution_count": 12,
   "metadata": {},
   "outputs": [],
   "source": [
    "image = (\"dog.jpg\", 6720, 4480, 3319)"
   ]
  },
  {
   "cell_type": "markdown",
   "metadata": {},
   "source": [
    "Cependant cette solution n'est pas idéale. En effet, il faut se souvenir de l'ordre dans lequel les entiers ont été rentrés !  \n",
    "**On évitera d'utiliser des p-uplets lorsque des ambiguités ou confusions sont possibles**."
   ]
  },
  {
   "cell_type": "markdown",
   "metadata": {},
   "source": [
    "## Une solution possible\n",
    "Pour contourner le problème soulevé précédemment, Python a une solution: les **p-uplets nommés**. Chaque composante du p-uplet se voit donner un nom !  \n",
    "Python possède un type permettant de manipuler les p-uplets nommés: les `namedtuple` du module `collections`. Cependant, et conformément au programme, en classe de $1^{ère}$ NSI, **on utilisera des dictionnaires pour implémenter des p-uplets nommés**. Le problème précédent peut être modélisé par:"
   ]
  },
  {
   "cell_type": "code",
   "execution_count": 13,
   "metadata": {},
   "outputs": [
    {
     "name": "stdout",
     "output_type": "stream",
     "text": [
      "Taille de l'image:  dog.jpg\n",
      "Hauteur:  4480\n"
     ]
    }
   ],
   "source": [
    "image = {'nom':'dog.jpg', 'larg':6720, 'haut':4480, 'taille':3319}\n",
    "print(\"Taille de l'image: \", image['nom'])\n",
    "print(\"Hauteur: \", image['haut'])"
   ]
  },
  {
   "cell_type": "markdown",
   "metadata": {},
   "source": [
    "---"
   ]
  },
  {
   "cell_type": "markdown",
   "metadata": {},
   "source": [
    "# Résumé\n",
    "## Tableau\n",
    "On peut itérer directement sur les éléments d'un tableau avec la construction du type `for element in tableau:`.\n",
    "Pour remplir un tableau on peut utiliser une construction par compréhension:\n",
    "```python\n",
    "tableau = [expr(x) for x in sequence]\n",
    "```\n",
    "## p-uplet\n",
    "Les p-uplets sont implémentés en python par le type `tuple`. Il s'agit d'un objet non mutable. La syntaxe pour construire un p-uplet ayant N composantes, est:\n",
    "```python\n",
    "mon_objet = (comp1, comp2, ..., compN)\n",
    "```\n",
    "Les différentes composantes sont accessibles par indexation, comme pour un tableau: `mon_objet[0]`, `mob_objet[1]` etc.  \n",
    "Le parcours est identique à celui d'un tableau.\n",
    "\n",
    "## Dictionnaires\n",
    "Un dictionnaire est une structure regroupant des paires \"clé:valeur\". En python, ces paires sont situées entre accolades et séparées par une virgule.  \n",
    "```python\n",
    "image = {'nom':'dog.jpg', 'larg':6720, 'haut':4480, 'taille':3319}\n",
    "```\n",
    "On peut itérer sur les clés, les valeurs ou les paires clé,valeur avec les méthodes `keys()`, `values()` ou `items()`.\n",
    "\n",
    "## p-uplets nommés\n",
    "En python, les p-uplets nommés sont implémentés avec des dictionnaires."
   ]
  },
  {
   "cell_type": "markdown",
   "metadata": {},
   "source": [
    "---"
   ]
  },
  {
   "cell_type": "markdown",
   "metadata": {},
   "source": [
    "B. DARID\n",
    "![licence](img/Cc-by-nc_icon.svg.png)"
   ]
  }
 ],
 "metadata": {
  "hide_code_all_hidden": true,
  "kernelspec": {
   "display_name": "Python 3",
   "language": "python",
   "name": "python3"
  },
  "language_info": {
   "codemirror_mode": {
    "name": "ipython",
    "version": 3
   },
   "file_extension": ".py",
   "mimetype": "text/x-python",
   "name": "python",
   "nbconvert_exporter": "python",
   "pygments_lexer": "ipython3",
   "version": "3.7.2"
  }
 },
 "nbformat": 4,
 "nbformat_minor": 2
}
