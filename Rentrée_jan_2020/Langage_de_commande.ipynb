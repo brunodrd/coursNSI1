{
 "cells": [
  {
   "cell_type": "markdown",
   "metadata": {},
   "source": [
    "----------------------\n",
    "Manipuler des archives\n",
    "**********************"
   ]
  },
  {
   "cell_type": "markdown",
   "metadata": {},
   "source": [
    "# Création du dossier notebook\n",
    "Rappels de quelques commandes (décembre 2019):  \n",
    "`cd` : changer de dossier (répertoire);  \n",
    "`ls` : lister les fichiers/répertoires présents dans le répertoire courant;  \n",
    "`mkdir` : créer un répertoire;  \n",
    "`pwd` : afficher le chemin complet du répertoire courant\n",
    "\n",
    "1. Se placer dans le dossier personnel créé lors d'une séance précédente:  \n",
    "```bash\n",
    "cd ~/Documents/prenom\n",
    "```\n",
    "où on remplacera évidemment `prenom` par la valeur adéquate.  \n",
    "\n",
    "\n",
    "2. Créer un répertoire, le nommer `notebook`.  \n",
    "\n",
    "\n",
    "3. Se déplacer dans le dossier `notebook` et noter son chemin complet."
   ]
  },
  {
   "cell_type": "markdown",
   "metadata": {},
   "source": [
    "# Les archives sous Linux\n",
    "Il est très courant de vouloir grouper des fichiers et les compresser afin de les diffuser efficacement. Sous la plateforme Windows, ces regroupements portent souvent l'extension `.zip` ou `.rar`.  \n",
    "Sous Linux, on préfèrera utiliser les solutions libres comme les programmes `tar` et `bzip2`.  \n",
    "![image](144493.png)\n",
    "\n",
    "1. Consulter l'aide du programme `tar` avec la commande dans un terminal:\n",
    "```bash\n",
    "tar --help\n",
    "```\n",
    "2. Quelle option permet de lister le contenu de l'archive?  \n",
    "3. Parmi les options de compression, laquelle permet travailler avec le programme `bzip2` ?\n",
    "4. Si l'archive est un fichier, on ajoutera l'option `-f` à la ligne de commande. Si en plus, on souhaite des informations supplémentaires, l'option `-v` peut être rajoutée. Compte tenu de ces éléments, donner alors la signification de la ligne de commande:\n",
    "```bash\n",
    "tar -jtf Chap_X.tar.bz2\n",
    "```"
   ]
  },
  {
   "cell_type": "markdown",
   "metadata": {},
   "source": [
    "# Compresser ou décompresser une archive bzippée\n",
    "Pour créer une archive bzippée, on active les options `-jcvf`. La lettre `c` signifie `create`.  \n",
    "**Exemple**\n",
    "```bash\n",
    "tar -jcvf cours_nsi.tar.bz2 NSI/\n",
    "```\n",
    "Cette ligne créé une archive compressée au format bzip2 nommée `cours_nsi.tar.bz2` et contiendra l'ensemble du répertoire `NSI/`.  \n",
    "\n",
    "Pour décompresser, on remplace l'option `-c` par `-x` pour `eXtract`.  \n",
    "**Exemple**\n",
    "```bash\n",
    "tar -jxvf cours_nsi.tar.bz2 \n",
    "```\n",
    "Cette ligne décompresse l'archive `cours_nsi.tar` dans le répertoire courant.  "
   ]
  },
  {
   "cell_type": "markdown",
   "metadata": {},
   "source": [
    "# Télécharger un fichier en ligne de commande\n",
    "On utilise un outil puissant qui est présent sur les distributions Linux: **cURL**. L'aide `curl --help` est très volumineuse. On va l'utiliser simplement pour télécharger les notebook du cours de NSI. La syntaxe générale est:  \n",
    "```bash\n",
    "curl http://www.exemple.com/fichier > monfichier\n",
    "```\n",
    "\n",
    "L'opérateur `>` permet de rediriger la sortie vers un fichier et non le terminal (par défaut)"
   ]
  },
  {
   "cell_type": "markdown",
   "metadata": {},
   "source": [
    "# Application\n",
    "\n",
    "\n",
    "1. Télécharger l'archive bzippée du chapitre X du cours de NSI à l'adresse:\n",
    "https://filez.ac-reunion.fr/ia9ca/download ou à l'adresse de secours https://brdarid.nohost.me/nextcloud/index.php/s/pyw23DmqtQqQ4aL en redirigeant la sortie vers `Chap_X.tar.bz2`.\n",
    "\n",
    "2. Décompresser cette archive dans le répertoire courant.\n"
   ]
  }
 ],
 "metadata": {
  "kernelspec": {
   "display_name": "Python 3",
   "language": "python",
   "name": "python3"
  },
  "language_info": {
   "codemirror_mode": {
    "name": "ipython",
    "version": 3
   },
   "file_extension": ".py",
   "mimetype": "text/x-python",
   "name": "python",
   "nbconvert_exporter": "python",
   "pygments_lexer": "ipython3",
   "version": "3.6.9"
  }
 },
 "nbformat": 4,
 "nbformat_minor": 2
}
