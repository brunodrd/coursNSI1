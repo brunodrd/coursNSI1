{
 "cells": [
  {
   "cell_type": "markdown",
   "metadata": {},
   "source": [
    "# Activité de programmation - NSI 1ère\n",
    "\n",
    "Complétez le document ci-dessous. Vous validerez les cellules au fur-à-mesure en prenant le temps de lire attentivement les consignes.\n",
    "\n",
    "Certaines cellules contiennent ce texte :\n",
    "    # YOUR CODE HERE\n",
    "    raise NotImplementedError()\n",
    "Vous **remplacerez** ce contenu par votre propre code afin de répondre au problème posé. L'instruction `raise NotImplementedError()` est conçue pour provoquer une erreur si vous ne traitez pas la question.\n",
    "\n",
    "Une fois le document complété, si le professeur le demande, cliquer sur le bouton **submit** dans l'onglet *assignments*.\n",
    "\n",
    "Ce *notebook* peut être considéré comme un cahier interactif. N'hésitez pas à vous l'approprier en ajoutant des cellules de texte ou de code selon vos besoins !"
   ]
  },
  {
   "cell_type": "markdown",
   "metadata": {
    "deletable": false,
    "editable": false,
    "nbgrader": {
     "cell_type": "markdown",
     "checksum": "8130a148ee00a6e81d04fe3969d97cc3",
     "grade": false,
     "grade_id": "cell-c1e2d9b9fa470f01",
     "locked": true,
     "schema_version": 3,
     "solution": false,
     "task": false
    }
   },
   "source": [
    "# Exercice 1\n",
    "Soit le tableau `t = [[1, 2, 3], [4, 5, 6], [7, 8, 9]]`.\n",
    "On considère les instructions suivantes:\n",
    "```python\n",
    "a = t[1]\n",
    "b = a[2]\n",
    "```\n",
    "Que valent `a` et `b`?"
   ]
  },
  {
   "cell_type": "markdown",
   "metadata": {
    "deletable": false,
    "editable": false,
    "nbgrader": {
     "cell_type": "markdown",
     "checksum": "e728d3da9af12eab04d7171b48312eed",
     "grade": false,
     "grade_id": "cell-ba678845d5c9fa70",
     "locked": true,
     "schema_version": 3,
     "solution": false,
     "task": false
    }
   },
   "source": [
    "# Exercice 2\n",
    "Ecrire une fonction f qui prend un tableau de tableaux `t` en paramètre. La fonction effectuera une copie `t2`de `t` puis remplacera le dernier élément de chacun des tableaux de `t2` par la moyenne des éléments précédents et enfin retournera `t2`. Par exemple, pour le tableau de l'exercice 1, on aurait:\n",
    "```python\n",
    "print(f(t))\n",
    "[[1, 2, 1.5], [4, 5, 4.5], [7, 8, 7.5]]\n",
    "```\n",
    "Attention, la tableau `t` passé en paramètre a un nombre quelconque de colonne et que chaque ligne a la même taille!"
   ]
  },
  {
   "cell_type": "code",
   "execution_count": null,
   "metadata": {
    "deletable": false,
    "nbgrader": {
     "cell_type": "code",
     "checksum": "6123f89ffac1879f0da840aef6700cf2",
     "grade": false,
     "grade_id": "cell-1a1c34b68a943c77",
     "locked": false,
     "schema_version": 3,
     "solution": true,
     "task": false
    }
   },
   "outputs": [],
   "source": [
    "from copy import deepcopy\n",
    "\n",
    "def f(t):\n",
    "    \"\"\"\n",
    "    \"\"\"\n",
    "    \n",
    "    t2 = deepcopy(t)\n",
    "    #Pour une copie de tableau de tableaux, utiliser une fonction dédiée\n",
    "    # YOUR CODE HERE\n",
    "    raise NotImplementedError()\n",
    "    return t2"
   ]
  },
  {
   "cell_type": "code",
   "execution_count": null,
   "metadata": {
    "deletable": false,
    "editable": false,
    "nbgrader": {
     "cell_type": "code",
     "checksum": "6b7d26428e0713f9d2f9ac54145b3bbd",
     "grade": true,
     "grade_id": "cell-68926d5c86da5478",
     "locked": true,
     "points": 4,
     "schema_version": 3,
     "solution": false,
     "task": false
    }
   },
   "outputs": [],
   "source": [
    "assert f([[1, 2, 3], [4, 5, 6], [7, 8, 9]]) == [[1, 2, 1.5], [4, 5, 4.5], [7, 8, 7.5]]"
   ]
  }
 ],
 "metadata": {
  "kernelspec": {
   "display_name": "Python 3",
   "language": "python",
   "name": "python3"
  },
  "language_info": {
   "codemirror_mode": {
    "name": "ipython",
    "version": 3
   },
   "file_extension": ".py",
   "mimetype": "text/x-python",
   "name": "python",
   "nbconvert_exporter": "python",
   "pygments_lexer": "ipython3",
   "version": "3.6.7"
  }
 },
 "nbformat": 4,
 "nbformat_minor": 2
}
