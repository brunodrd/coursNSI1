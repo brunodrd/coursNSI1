{
 "cells": [
  {
   "cell_type": "code",
   "execution_count": 52,
   "metadata": {},
   "outputs": [],
   "source": [
    "import csv\n",
    "from pathlib import Path\n",
    "\n",
    "\n",
    "def clean(fichier):\n",
    "    \"\"\"\n",
    "    Construit un fichier 'bac_L_ES_S.csv' sans données manquantes, en \"oubliant\"\n",
    "    systématiquement les lignes incomplètes du 'fichier' original présent dans le\n",
    "    répertoire courant.\n",
    "    fichier: nom de fichier (string)\n",
    "    \"\"\"\n",
    "    \n",
    "    assert Path('./' + fichier).is_file(), \"Fichier absent\"\n",
    "    \n",
    "    with open(fichier, 'r', encoding='utf8') as f:\n",
    "        tableau = csv.reader(f, delimiter=';')\n",
    "        with open('bac_L_ES_S.csv', 'w', newline='', encoding='utf8') as dst_csv:\n",
    "            bac_writer = csv.writer(dst_csv, delimiter=';')\n",
    "            bac_writer.writerow(['id_lycee', 'annee', 'ville',\n",
    "                                'taux_L', 'taux_ES', 'taux_S',\n",
    "                                'academie'])\n",
    "            next(tableau)\n",
    "            for ligne in tableau:\n",
    "                if all(item for item in ligne):\n",
    "                    bac_writer.writerow(ligne)"
   ]
  },
  {
   "cell_type": "code",
   "execution_count": 53,
   "metadata": {},
   "outputs": [],
   "source": [
    "clean('resultats_bac.csv')"
   ]
  },
  {
   "cell_type": "code",
   "execution_count": 48,
   "metadata": {},
   "outputs": [],
   "source": [
    "def affiche(file):\n",
    "    with open(file, 'r', encoding='utf8') as f:\n",
    "        tableau = csv.reader(f, delimiter=';')\n",
    "        print(next(tableau))\n",
    "        for ligne in tableau:\n",
    "            if ligne[-1] == 'LA REUNION' and ligne[1] == '2018':\n",
    "                print(ligne)"
   ]
  },
  {
   "cell_type": "code",
   "execution_count": null,
   "metadata": {},
   "outputs": [],
   "source": [
    "affiche('bac_L_ES_S.csv')"
   ]
  },
  {
   "cell_type": "code",
   "execution_count": 241,
   "metadata": {},
   "outputs": [],
   "source": [
    "def lecture(file):\n",
    "    with open(file, 'r', encoding='utf8') as f:\n",
    "        table = [ligne.strip().split(';') for ligne in f]\n",
    "    return table"
   ]
  },
  {
   "cell_type": "code",
   "execution_count": 243,
   "metadata": {},
   "outputs": [
    {
     "name": "stdout",
     "output_type": "stream",
     "text": [
      "[['id_lycee', 'annee', 'ville', 'taux_L', 'taux_ES', 'taux_S', 'academie'], ['LYCEE MONTMAJOUR', '2012', 'ARLES', '95', '79', '96', 'AIX-MARSEILLE'], ['LYCEE BRISTOL', '2017', 'CANNES', '84', '84', '75', 'NICE'], ['LYCEE MARGUERITE DE NAVARRE', '2017', 'BOURGES', '89', '94', '91', 'ORLEANS-TOURS'], ['LYCEE FULBERT', '2017', 'CHARTRES', '88', '88', '89', 'ORLEANS-TOURS'], ['LYCEE NOTRE DAME', '2017', 'CHARTRES', '100', '97', '96', 'ORLEANS-TOURS']]\n"
     ]
    }
   ],
   "source": [
    "a = lecture('bac_L_ES_S.csv')\n",
    "print(a[:6])"
   ]
  },
  {
   "cell_type": "markdown",
   "metadata": {},
   "source": [
    "# Tableau resultats\n",
    "| id_lycee                                    | annee | ville       | taux_L | taux_ES | taux_S | academie   |\n",
    "|---------------------------------------------|-------|-------------|--------|---------|--------|------------|\n",
    "| LYCEE LECONTE DE LISLE                      | 2018  | ST DENIS    | 97     | 98      | 92     | LA REUNION |\n",
    "| LYCEE BEL AIR (GENERAL ET TECHNO.)          | 2018  | STE SUZANNE | 92     | 81      | 95     | LA REUNION |\n",
    "| LYCEE PIERRE LAGOURGUE (GENERAL ET TECHNO.) | 2018  | LE TAMPON   | 95     | 94      | 96     | LA REUNION |\n",
    "| LYCEE MAHATMA GANDHI                        | 2018  | ST ANDRE    | 88     | 84      | 85     | LA REUNION |"
   ]
  },
  {
   "cell_type": "code",
   "execution_count": 238,
   "metadata": {},
   "outputs": [],
   "source": [
    "def creation_table(fichier):\n",
    "    \"\"\"\n",
    "    \"\"\"\n",
    "    assert Path('./' + fichier).is_file(), \"Fichier absent\"\n",
    "    \n",
    "    with open(fichier, 'r', encoding='utf8') as f:\n",
    "        f.readline()\n",
    "        attr_lignes = (x.strip().split(';') for x in f)\n",
    "        table = [{'id_lycee':lycee, 'annee':int(annee), 'ville':ville, \n",
    "                  'taux_L':int(taux_L), 'taux_ES':int(taux_ES), 'taux_S':int(taux_S),\n",
    "                 'academie':academie} for (lycee, annee, ville, taux_L, \n",
    "                taux_ES, taux_S, academie) in attr_lignes])\n",
    "    return table"
   ]
  },
  {
   "cell_type": "code",
   "execution_count": null,
   "metadata": {},
   "outputs": [],
   "source": [
    "table = creation_table('bac_L_ES_S.csv')"
   ]
  },
  {
   "cell_type": "code",
   "execution_count": 276,
   "metadata": {},
   "outputs": [],
   "source": [
    "def creation_table2(fichier):\n",
    "    \"\"\"\n",
    "    \"\"\"\n",
    "    assert Path('./' + fichier).is_file(), \"Fichier absent\"\n",
    "    \n",
    "    with open(fichier, 'r', encoding='utf8') as f:\n",
    "        cles = f.readline().strip().split(';')\n",
    "        table = []\n",
    "        for ligne in f:\n",
    "            enregistrement = {}\n",
    "            ligne = ligne.strip().split(';')\n",
    "            for i in range(len(cles)):\n",
    "                enregistrement[cles[i]] = ligne[i]\n",
    "            table = table + [enregistrement]\n",
    "    return table"
   ]
  },
  {
   "cell_type": "code",
   "execution_count": 277,
   "metadata": {},
   "outputs": [
    {
     "name": "stdout",
     "output_type": "stream",
     "text": [
      "30\n",
      "****************************************************************\n",
      "[{'Nom': 'Nayagom', 'Exercice 1': '2,5', 'Exercice 2': '2', 'Exercice 3': '5', 'Note': '9,5'}, {'Nom': 'Payet Nativel', 'Exercice 1': '3', 'Exercice 2': '3,5', 'Exercice 3': '2', 'Note': '8,5'}, {'Nom': 'Rescourio', 'Exercice 1': '5', 'Exercice 2': '0', 'Exercice 3': '2', 'Note': '7'}, {'Nom': 'Velia', 'Exercice 1': '6', 'Exercice 2': '5,5', 'Exercice 3': '2,5', 'Note': '14'}, {'Nom': 'Corre', 'Exercice 1': '4,5', 'Exercice 2': '0,5', 'Exercice 3': '4', 'Note': '9'}, {'Nom': 'Calogine', 'Exercice 1': '2,5', 'Exercice 2': '1,5', 'Exercice 3': '3', 'Note': '7'}, {'Nom': 'Dubard', 'Exercice 1': '5', 'Exercice 2': '4,5', 'Exercice 3': '4', 'Note': '13,5'}, {'Nom': 'Ribollet', 'Exercice 1': '3', 'Exercice 2': '3,5', 'Exercice 3': '5', 'Note': '11,5'}, {'Nom': 'Tassotto', 'Exercice 1': '3,5', 'Exercice 2': '1,5', 'Exercice 3': '5', 'Note': '10'}, {'Nom': 'Rodiet C.', 'Exercice 1': '2,5', 'Exercice 2': '0,5', 'Exercice 3': '2', 'Note': '5'}, {'Nom': 'Galibert', 'Exercice 1': '2', 'Exercice 2': '0,5', 'Exercice 3': '2', 'Note': '4,5'}, {'Nom': 'Rochefeuille', 'Exercice 1': '4', 'Exercice 2': '3', 'Exercice 3': '2,5', 'Note': '9,5'}, {'Nom': 'Pajinadon', 'Exercice 1': '2,5', 'Exercice 2': '2,5', 'Exercice 3': '3,5', 'Note': '8,5'}, {'Nom': 'Oudin', 'Exercice 1': '0,5', 'Exercice 2': '1', 'Exercice 3': '2', 'Note': '3,5'}, {'Nom': 'Lallemand', 'Exercice 1': '5', 'Exercice 2': '5', 'Exercice 3': '6', 'Note': '16'}, {'Nom': 'Cadet', 'Exercice 1': '4', 'Exercice 2': '0,5', 'Exercice 3': '5', 'Note': '9,5'}, {'Nom': 'Catambara', 'Exercice 1': '3', 'Exercice 2': '0,5', 'Exercice 3': '3,5', 'Note': '7'}, {'Nom': 'Goudey', 'Exercice 1': '0,5', 'Exercice 2': '3', 'Exercice 3': '6', 'Note': '9,5'}, {'Nom': 'Metayer', 'Exercice 1': '5,5', 'Exercice 2': '3,5', 'Exercice 3': '3', 'Note': '12'}, {'Nom': 'Dijoux', 'Exercice 1': '2', 'Exercice 2': '3,5', 'Exercice 3': '5', 'Note': '10,5'}, {'Nom': 'Salvado', 'Exercice 1': '5,5', 'Exercice 2': '5,5', 'Exercice 3': '6', 'Note': '17'}, {'Nom': 'Bravin', 'Exercice 1': '3', 'Exercice 2': '1,5', 'Exercice 3': '3,5', 'Note': '8'}, {'Nom': 'Maunier', 'Exercice 1': '2', 'Exercice 2': '3', 'Exercice 3': '4', 'Note': '9'}, {'Nom': 'Darnon', 'Exercice 1': '5', 'Exercice 2': '4', 'Exercice 3': '6', 'Note': '15'}, {'Nom': 'Dufour', 'Exercice 1': '4,5', 'Exercice 2': '4,5', 'Exercice 3': '6', 'Note': '15'}, {'Nom': 'Rodier M.', 'Exercice 1': '4,5', 'Exercice 2': '3,5', 'Exercice 3': '6', 'Note': '14'}, {'Nom': 'Lefranc', 'Exercice 1': '2,5', 'Exercice 2': '0', 'Exercice 3': '1', 'Note': '3,5'}, {'Nom': 'Clain', 'Exercice 1': '4', 'Exercice 2': '4', 'Exercice 3': '3', 'Note': '11'}, {'Nom': 'Hoareau', 'Exercice 1': '6,5', 'Exercice 2': '2', 'Exercice 3': '6', 'Note': '14,5'}, {'Nom': 'Imare', 'Exercice 1': '3', 'Exercice 2': '0,5', 'Exercice 3': '1', 'Note': '4,5'}]\n"
     ]
    }
   ],
   "source": [
    "t2 = creation_table2('note_TS.csv')\n",
    "print(len(t2))\n",
    "print(\"****************************************************************\")\n",
    "print(t2)"
   ]
  },
  {
   "cell_type": "code",
   "execution_count": null,
   "metadata": {
    "scrolled": true
   },
   "outputs": [],
   "source": [
    "for res in table:\n",
    "    if res['ville'] == 'ST LOUIS' and res['academie'] == 'LA REUNION':\n",
    "        print(res)"
   ]
  },
  {
   "cell_type": "code",
   "execution_count": null,
   "metadata": {},
   "outputs": [],
   "source": []
  }
 ],
 "metadata": {
  "kernelspec": {
   "display_name": "Python 3",
   "language": "python",
   "name": "python3"
  },
  "language_info": {
   "codemirror_mode": {
    "name": "ipython",
    "version": 3
   },
   "file_extension": ".py",
   "mimetype": "text/x-python",
   "name": "python",
   "nbconvert_exporter": "python",
   "pygments_lexer": "ipython3",
   "version": "3.7.2"
  }
 },
 "nbformat": 4,
 "nbformat_minor": 2
}
