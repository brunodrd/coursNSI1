{
 "cells": [
  {
   "cell_type": "markdown",
   "metadata": {},
   "source": [
    "# Activité de programmation - NSI 1ère\n",
    "\n",
    "Complétez le document ci-dessous. Vous validerez les cellules au fur-à-mesure en prenant le temps de lire attentivement les consignes.\n",
    "\n",
    "Certaines cellules contiennent ce texte :\n",
    "    # YOUR CODE HERE\n",
    "    raise NotImplementedError()\n",
    "Vous **remplacerez** ce contenu par votre propre code afin de répondre au problème posé. L'instruction `raise NotImplementedError()` est conçue pour provoquer une erreur si vous ne traitez pas la question.\n",
    "\n",
    "Une fois le document complété, si le professeur le demande, cliquer sur le bouton **submit** dans l'onglet *assignments*.\n",
    "\n",
    "Ce *notebook* peut être considéré comme un cahier interactif. N'hésitez pas à vous l'approprier en ajoutant des cellules de texte ou de code selon vos besoins !"
   ]
  },
  {
   "cell_type": "markdown",
   "metadata": {
    "deletable": false,
    "editable": false,
    "nbgrader": {
     "cell_type": "markdown",
     "checksum": "ac4ca03ccb6fe362f91f57006f9eb43c",
     "grade": false,
     "grade_id": "cell-cb7acf652b31ede2",
     "locked": true,
     "schema_version": 3,
     "solution": false,
     "task": false
    }
   },
   "source": [
    "# Exercice 1: Les vulnérabilités dans les systèmes d'exploitation et  les applications en 2018 \n",
    "\n",
    "* Prendre connaissance de la [documentation python sur les fonctions du module csv vues en cours](https://docs.python.org/fr/3/library/csv.html), plus spécifiquement `csv.reader` et `csv.DictReader`. \n",
    "* Ecrire une fonction `lire_fichier(fichier)` qui prend en paramètre un nom de fichier et qui retourne les données tabulées du fichier sous forme d'un tableau de tableaux.  \n",
    "Le fichier de travail est un fichier texte `vulnerabilites.csv` (*FILE1*) qui présente le nombre de vulnérabilités découverts en 2018 dans les systèmes d'exploitations et applications. Les différents champs sont délimités par un point virgule. Voici un exemple d'entrées dans ce fichier:  \n",
    "Product Name;Vendor Name;Product Type;Total  \n",
    "Mac Os X;Apple;OS;2208  \n",
    "Le tableau retourné par votre fonction aura la forme:  \n",
    "`[['Product Name','Vendor Name','Product Type','Total'], ['Mac Os X','Apple','OS','2208'], ...]`  \n",
    "La fonction d'affichage `print_table()` peut être éventuellement utilisée (*non obligatoire*)  \n",
    "* Combien d'enregistrement comporte cette table?"
   ]
  },
  {
   "cell_type": "code",
   "execution_count": null,
   "metadata": {
    "deletable": false,
    "editable": false,
    "nbgrader": {
     "cell_type": "code",
     "checksum": "63df7fa12194718914e541eba47cbffc",
     "grade": false,
     "grade_id": "cell-628d40c95b382e98",
     "locked": true,
     "schema_version": 3,
     "solution": false,
     "task": false
    }
   },
   "outputs": [],
   "source": [
    "from pathlib import Path\n",
    "\n",
    "\n",
    "#Constantes\n",
    "FILE1 = './data/vulnerabilites.csv'\n",
    "FILE2 = './data/groupe1.csv'\n",
    "\n",
    "def print_table(table):\n",
    "    \"\"\"\n",
    "    Affiche une table avec un minimum de formattage.\n",
    "    Entrée: tableau de tableaux\n",
    "    \"\"\"\n",
    "    for ligne in table:\n",
    "        print(f'{ligne[0]:<28}', end=\"\")\n",
    "        print(f'{ligne[1]:>15}{ligne[2]:>15}{ligne[3]:>7}')"
   ]
  },
  {
   "cell_type": "code",
   "execution_count": null,
   "metadata": {
    "nbgrader": {
     "cell_type": "code",
     "checksum": "26192cc6071ee9d2f42ecdf30e34a964",
     "grade": false,
     "grade_id": "cell-9e80ba27b406a54d",
     "locked": false,
     "schema_version": 3,
     "solution": true,
     "task": false
    }
   },
   "outputs": [],
   "source": [
    "import csv\n",
    "\n",
    "\n",
    "def lire_fichier(fichier):\n",
    "    \"\"\"\n",
    "    Lit un fichier csv depuis le répertoire courant et retourne les données tabulées sous la forme d'un tableau de tableaux\n",
    "    fichier: nom de fichier (string)\n",
    "    \"\"\"\n",
    "    assert Path(fichier).is_file(), \"Erreur: fichier absent\"\n",
    "    \n",
    "    # YOUR CODE HERE\n",
    "    raise NotImplementedError()"
   ]
  },
  {
   "cell_type": "code",
   "execution_count": null,
   "metadata": {
    "deletable": false,
    "editable": false,
    "nbgrader": {
     "cell_type": "code",
     "checksum": "a53a40c052eda021fb111ec3fd26c1fa",
     "grade": true,
     "grade_id": "cell-c0b71f25090bbf74",
     "locked": true,
     "points": 4,
     "schema_version": 3,
     "solution": false,
     "task": false
    }
   },
   "outputs": [],
   "source": [
    "assert lire_fichier(FILE1)[3][0] == 'Thunderbird', \"Erreur: la fonction ne passe pas les tests\""
   ]
  },
  {
   "cell_type": "code",
   "execution_count": null,
   "metadata": {
    "deletable": false,
    "editable": false,
    "nbgrader": {
     "cell_type": "code",
     "checksum": "228c9dc0d6f304e113db3bcae30829ad",
     "grade": false,
     "grade_id": "cell-08a7ce587798cf5e",
     "locked": true,
     "schema_version": 3,
     "solution": false,
     "task": false
    }
   },
   "outputs": [],
   "source": [
    "print_table(lire_fichier(FILE1))"
   ]
  },
  {
   "cell_type": "markdown",
   "metadata": {
    "deletable": false,
    "editable": false,
    "nbgrader": {
     "cell_type": "markdown",
     "checksum": "9e2d7355765a2d57fe0ce3a9ed5a8a33",
     "grade": false,
     "grade_id": "cell-e3eaa6f6d762cd12",
     "locked": true,
     "schema_version": 3,
     "solution": false,
     "task": false
    }
   },
   "source": [
    "# Exercice 2 Modifier le type d'un attribut\n",
    "Lors de la création de la structure de données associée à l'ensemble des données tabulées, **tous les champs enregistrés sont de type chaine de caractères** (*string*). On souhaiterait cependant avoir quelques fois avoir des attributs entiers ou flottants.  \n",
    "* Modifier légèrement la fonction précédente de manière à ce qu'elle retourne une table dont le dernier attribut `Total` soit de type entier."
   ]
  },
  {
   "cell_type": "code",
   "execution_count": null,
   "metadata": {
    "nbgrader": {
     "cell_type": "code",
     "checksum": "cbf1f6c5d49e0cc1f6eb316253191d75",
     "grade": false,
     "grade_id": "cell-a96b3e4b9cfd24dd",
     "locked": false,
     "schema_version": 3,
     "solution": true,
     "task": false
    }
   },
   "outputs": [],
   "source": [
    "import csv\n",
    "\n",
    "def lire_fichier2(fichier):\n",
    "    \"\"\"\n",
    "    Lit un fichier csv depuis le répertoire courant et retourne les données tabulées sous la forme d'un tableau de tableaux\n",
    "    fichier: nom de fichier (string)\n",
    "    \"\"\"\n",
    "    assert Path(fichier).is_file(), \"Erreur: fichier absent\"\n",
    "    \n",
    "    # YOUR CODE HERE\n",
    "    raise NotImplementedError()"
   ]
  },
  {
   "cell_type": "code",
   "execution_count": null,
   "metadata": {
    "deletable": false,
    "editable": false,
    "nbgrader": {
     "cell_type": "code",
     "checksum": "c321a2a1b273e7bbcc43ec0e91b8347f",
     "grade": true,
     "grade_id": "cell-d99328c34600aa87",
     "locked": true,
     "points": 4,
     "schema_version": 3,
     "solution": false,
     "task": false
    }
   },
   "outputs": [],
   "source": [
    "assert lire_fichier2(FILE1)[3][3] == 872, \"Erreur: la fonction ne passe pas les tests\""
   ]
  },
  {
   "cell_type": "markdown",
   "metadata": {
    "deletable": false,
    "editable": false,
    "nbgrader": {
     "cell_type": "markdown",
     "checksum": "96f21298e7da228ca19216f1d0b94048",
     "grade": false,
     "grade_id": "cell-92ccd0eac384a14b",
     "locked": true,
     "schema_version": 3,
     "solution": false,
     "task": false
    }
   },
   "source": [
    "* Quel est le nombre total de vulnérabilités relevé en 2018 ?"
   ]
  },
  {
   "cell_type": "code",
   "execution_count": null,
   "metadata": {
    "deletable": false,
    "editable": false,
    "nbgrader": {
     "cell_type": "code",
     "checksum": "f337b82ba4377e5d139622ba93954299",
     "grade": false,
     "grade_id": "cell-7543f611df739f2c",
     "locked": true,
     "schema_version": 3,
     "solution": false,
     "task": false
    }
   },
   "outputs": [],
   "source": [
    "table = lire_fichier2(FILE1)\n",
    "somme = 0\n",
    "#Votre code"
   ]
  },
  {
   "cell_type": "markdown",
   "metadata": {
    "deletable": false,
    "editable": false,
    "nbgrader": {
     "cell_type": "markdown",
     "checksum": "b0764d34bcdfc22eb4f88132ce27feec",
     "grade": false,
     "grade_id": "cell-2299d723b39436e4",
     "locked": true,
     "schema_version": 3,
     "solution": false,
     "task": false
    }
   },
   "source": [
    "# Exercice 3 Ajouter un attribut ou un enregistrement à une table\n",
    "Dans le répertoire `./data` on dispose d'un fichier `groupe1.csv` (*FILE2*) qui regroupe les données tabulées suivantes:  \n",
    "\n",
    "| Nom  | LV1 | NSI | Math |\n",
    "|------|-----|-----|------|\n",
    "| Alex | 17  | 16  | 16   |\n",
    "| Zoé  | 15  | 7   | 9    |\n",
    "| Max  | 13  | 19  | 14   |\n",
    "\n",
    "1. Ecrire une fonction `lire_table` qui prend en paramètre un nom de fichier (*string*) et qui retourne un tableau de n-uplets nommés (*des dictionnaires ici*) qui représente la table ci-dessus. **Le caractère séparateur est la virgule dans cet exercice**."
   ]
  },
  {
   "cell_type": "code",
   "execution_count": null,
   "metadata": {
    "nbgrader": {
     "cell_type": "code",
     "checksum": "b0afcbc017f1f674fd2d667b9cc0a44c",
     "grade": false,
     "grade_id": "cell-3e3f885a901ce64d",
     "locked": false,
     "schema_version": 3,
     "solution": true,
     "task": false
    }
   },
   "outputs": [],
   "source": [
    "import csv\n",
    "from pathlib import Path\n",
    "\n",
    "\n",
    "#On utilise le canevas du cours\n",
    "\n",
    "def lire_table(fichier):\n",
    "    \"\"\"\n",
    "    Retourne les données tabulées de 'fichier' sous la forme d'un tableau de dictionnaire\n",
    "    fichier: nom du fichier csv (string) présent dans le dossier data\n",
    "    \"\"\"\n",
    "    \n",
    "    assert Path(fichier).is_file(), \"Fichier absent\"\n",
    "    \n",
    "    # YOUR CODE HERE\n",
    "    raise NotImplementedError()"
   ]
  },
  {
   "cell_type": "code",
   "execution_count": null,
   "metadata": {
    "deletable": false,
    "editable": false,
    "nbgrader": {
     "cell_type": "code",
     "checksum": "b85e2db4cdae4c0321838514ccb76d39",
     "grade": true,
     "grade_id": "cell-6d04caa523bdb81b",
     "locked": true,
     "points": 4,
     "schema_version": 3,
     "solution": false,
     "task": false
    }
   },
   "outputs": [],
   "source": [
    "assert lire_table(FILE2)[0]['Nom'] == 'Alex', \"Erreur: la fonction ne passe pas les tests\""
   ]
  },
  {
   "cell_type": "markdown",
   "metadata": {
    "deletable": false,
    "editable": false,
    "nbgrader": {
     "cell_type": "markdown",
     "checksum": "6b0dd84c5a97c9c62213e5787d8c8fb6",
     "grade": false,
     "grade_id": "cell-2f2d15b50628bec7",
     "locked": true,
     "schema_version": 3,
     "solution": false,
     "task": false
    }
   },
   "source": [
    "2. Ecrire l'instruction permettant de modifier la table de données en y ajoutant les notes de Chloé: 17 en math, 19 en LV1 et 18 en NSI."
   ]
  },
  {
   "cell_type": "code",
   "execution_count": null,
   "metadata": {
    "deletable": false,
    "editable": false,
    "nbgrader": {
     "cell_type": "code",
     "checksum": "a3740d8b09742ac2e25b6d02e503fb11",
     "grade": false,
     "grade_id": "cell-0a1239d6379bd671",
     "locked": true,
     "schema_version": 3,
     "solution": false,
     "task": false
    }
   },
   "outputs": [],
   "source": [
    "table = lire_table(FILE2)\n",
    "#Votre code"
   ]
  },
  {
   "cell_type": "code",
   "execution_count": null,
   "metadata": {
    "deletable": false,
    "editable": false,
    "nbgrader": {
     "cell_type": "code",
     "checksum": "9df915c2a77e318fb6a9a1d42cf05c1b",
     "grade": false,
     "grade_id": "cell-c678872bdaef8f3a",
     "locked": true,
     "schema_version": 3,
     "solution": false,
     "task": false
    }
   },
   "outputs": [],
   "source": [
    "assert table[3]['Nom'] == 'Chloé', \"Erreur: la fonction ne passe pas les tests\"\n",
    "assert table[3]['NSI'] == '18', \"Erreur: la fonction ne passe pas les tests\""
   ]
  },
  {
   "cell_type": "markdown",
   "metadata": {
    "deletable": false,
    "editable": false,
    "nbgrader": {
     "cell_type": "markdown",
     "checksum": "bcc4922360a993cabe1ddea49b7cc689",
     "grade": false,
     "grade_id": "cell-fde99935a4e46596",
     "locked": true,
     "schema_version": 3,
     "solution": false,
     "task": false
    }
   },
   "source": [
    "3. On voudrait ajouter une colonne contenant les moyennes de chaque élève, comme dans la table ci-dessous:\n",
    "\n",
    "| Nom   | LV1 | NSI | Math | Moyenne |\n",
    "|-------|-----|-----|------|---------|\n",
    "| Alex  | 17  | 16  | 16   | 16.3    |\n",
    "| Zoé   | 15  | 7   | 9    | 10.3    |\n",
    "| Max   | 13  | 19  | 14   | 15.3    |\n",
    "| Chloé | 19  | 18  | 17   | 18.0    |\n",
    "\n",
    "Comme nos données tabulées sont représentées par un tableau de n-uplets nommés (*des dictionnaires ici*), il suffit de réaliser une boucle sur tous les éléments (*de type dictionnaire*) du tableau et pour chaque élément:  \n",
    "*  calculer la moyenne de l'élève;\n",
    "*  ajouter la paire `'Moyenne':valeur` à l'élément en cours  \n",
    "\n",
    "Ecrire une fonction `ajoute_moyenne` qui prend en paramètre une table (de type tableau de dictionnaire) et qui retourne **une copie de celle-ci** en y ajoutant une colonne moyenne.  \n",
    "*Note*  \n",
    "Pour réaliser une copie d'un objet complexe comme notre table, on peut utiliser la fonction `deepcopy` du module `copy`.  \n",
    "```python\n",
    "from copy import deepcopy\n",
    "#....\n",
    "new_table = deepcopy(table)\n",
    "```"
   ]
  },
  {
   "cell_type": "code",
   "execution_count": null,
   "metadata": {
    "nbgrader": {
     "cell_type": "code",
     "checksum": "aeb8a486aa30f4d54081eada4a58c580",
     "grade": false,
     "grade_id": "cell-c9fb16263b9ed19d",
     "locked": false,
     "schema_version": 3,
     "solution": true,
     "task": false
    }
   },
   "outputs": [],
   "source": [
    "from copy import deepcopy\n",
    "\n",
    "\n",
    "def ajoute_moyenne(t):\n",
    "    \"\"\"\n",
    "    Ajoute un champ 'Moyenne' aux données tabulées et retourne un nouveau tableau.\n",
    "    t: tableau de dictionnaires\n",
    "    \"\"\"\n",
    "    new_t = deepcopy(t)\n",
    "    # YOUR CODE HERE\n",
    "    raise NotImplementedError()\n",
    "    return new_t"
   ]
  },
  {
   "cell_type": "code",
   "execution_count": null,
   "metadata": {
    "deletable": false,
    "editable": false,
    "nbgrader": {
     "cell_type": "code",
     "checksum": "38096a33b14c70e60dddb0d8c79a001f",
     "grade": true,
     "grade_id": "cell-890e2482c16b6678",
     "locked": true,
     "points": 0,
     "schema_version": 3,
     "solution": false,
     "task": false
    }
   },
   "outputs": [],
   "source": [
    "assert ajoute_moyenne(table)[0]['Moyenne'] == '16.3', \"Erreur: la fonction ne passe pas les tests\"\n",
    "assert ajoute_moyenne(table)[1]['Moyenne'] == '10.3', \"Erreur: la fonction ne passe pas les tests\""
   ]
  },
  {
   "cell_type": "markdown",
   "metadata": {
    "deletable": false,
    "editable": false,
    "nbgrader": {
     "cell_type": "markdown",
     "checksum": "7d5efe2146dbd74ac5c09fb3d591b369",
     "grade": false,
     "grade_id": "cell-05adf1417f9e73cc",
     "locked": true,
     "schema_version": 3,
     "solution": false,
     "task": false
    }
   },
   "source": [
    "4. (*A faire à la maison*) On voudrait rajouter un enregistrement qui donne la moyenne par matière, comme dans la table suivante:  \n",
    "\n",
    "| Nom     | LV1  | NSI  | Math | Moyenne |\n",
    "|---------|------|------|------|---------|\n",
    "| Alex    | 17   | 16   | 16   | 16.3    |\n",
    "| Zoé     | 15   | 7    | 9    | 10.3    |\n",
    "| Max     | 13   | 19   | 14   | 15.3    |\n",
    "| Chloé   | 19   | 18   | 17   | 18      |\n",
    "| moy_mat | 16.0 | 15.0 | 14.0   | 15.0    |\n",
    "\n",
    "Ecrire une fonction `ajoute_moy_matieres` qui prend en paramètre une table (de type tableau de dictionnaire) et qui retourne **une copie de celle-ci** en y ajoutant une ligne comportant les moyennes par matière. "
   ]
  },
  {
   "cell_type": "code",
   "execution_count": null,
   "metadata": {
    "nbgrader": {
     "cell_type": "code",
     "checksum": "ed9a09c576093cc23ea9921ac066b6b6",
     "grade": false,
     "grade_id": "cell-b891da3664d6825e",
     "locked": false,
     "schema_version": 3,
     "solution": true,
     "task": false
    }
   },
   "outputs": [],
   "source": [
    "from copy import deepcopy\n",
    "\n",
    "\n",
    "def ajoute_moy_matieres(t):\n",
    "    \"\"\"\n",
    "    Ajoute un nouvel enregistrement (moyenne par matière) aux données tabulées et retourne un nouveau tableau.\n",
    "    t: tableau de dictionnaires\n",
    "    \"\"\"\n",
    "    #Création d'un nouveau tableau, copie de t, avec 1 élément en plus (qui contiendra la moyenne/matière)\n",
    "    new_t = deepcopy(t) + [{}]\n",
    "    #Création d'un dictionnaire (dernière ligne de la table) qui contiendra la paire matiere:moyenne;\n",
    "    #Le champ 'Nom' aura pour valeur 'moy_mat' (voir tableau de l'énoncé)\n",
    "    moy_mat = {'Nom':'moy_mat'}\n",
    "    \n",
    "    # YOUR CODE HERE\n",
    "    raise NotImplementedError()\n",
    "    return new_t"
   ]
  },
  {
   "cell_type": "code",
   "execution_count": null,
   "metadata": {
    "deletable": false,
    "editable": false,
    "nbgrader": {
     "cell_type": "code",
     "checksum": "eb63abf97aee11fceef724b6a375f0fb",
     "grade": true,
     "grade_id": "cell-928f410b120fa7b1",
     "locked": true,
     "points": 4,
     "schema_version": 3,
     "solution": false,
     "task": false
    }
   },
   "outputs": [],
   "source": [
    "table = lire_table(FILE2)\n",
    "table.append({'Nom':'Chloé', 'Math':'17', 'LV1':'19', 'NSI':'18'})\n",
    "table = ajoute_moyenne(table)\n",
    "\n",
    "assert ajoute_moy_matieres(table)[-1]['NSI'] == '15.0', \"Erreur: la fonction ne passe pas les tests\""
   ]
  }
 ],
 "metadata": {
  "kernelspec": {
   "display_name": "Python 3",
   "language": "python",
   "name": "python3"
  },
  "language_info": {
   "codemirror_mode": {
    "name": "ipython",
    "version": 3
   },
   "file_extension": ".py",
   "mimetype": "text/x-python",
   "name": "python",
   "nbconvert_exporter": "python",
   "pygments_lexer": "ipython3",
   "version": "3.7.2"
  }
 },
 "nbformat": 4,
 "nbformat_minor": 2
}
