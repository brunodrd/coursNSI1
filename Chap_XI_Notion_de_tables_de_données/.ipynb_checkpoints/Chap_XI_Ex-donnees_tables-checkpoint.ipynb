{
 "cells": [
  {
   "cell_type": "markdown",
   "metadata": {},
   "source": [
    "# Exercice 1: Les vulnérabilités dans les systèmes d'exploitation et  les applications en 2018 \n",
    "\n",
    "* Prendre connaissance de la [documentation python sur les entrées/sorties](https://docs.python.org/fr/3/tutorial/inputoutput.html), plus spécifiquement la **lecture et écriture de fichiers**: \n",
    "* Ecrire une fonction `lire_fichier(fichier)` qui prend en paramètre un nom de fichier et qui retourne les données tabulées du fichier sous forme d'un tableau de tableaux.  \n",
    "Le fichier de travail est un fichier texte `vulnerabilites.csv` qui présente le nombre de vulnérabilités découverts en 2018 dans les systèmes d'exploitations et applications. Les différents champs sont délimités par un point virgule. Voici un exemple d'entrées dans ce fichier:  \n",
    "Product Name;Vendor Name;Product Type;Total  \n",
    "Mac Os X;Apple;OS;2208  \n",
    "Le tableau retourné par votre fonction aura la forme:  \n",
    "`[['Product Name','Vendor Name','Product Type','Total'], ['Mac Os X','Apple','OS','2208'], ...]`  \n",
    "La fonction d'affichage `print_table()` peut être utilisée (*non obligatoire*)  \n",
    "* Combien d'enregistrement comporte cette table?"
   ]
  },
  {
   "cell_type": "code",
   "execution_count": 1,
   "metadata": {},
   "outputs": [],
   "source": [
    "from pathlib import Path\n",
    "\n",
    "\n",
    "#Constantes\n",
    "FILE1 = './vulnerabilites.csv'\n",
    "FILE2 = './allocine.csv'\n",
    "\n",
    "def print_table(table):\n",
    "    \"\"\"\n",
    "    Affiche une table avec un minimum de formattage.\n",
    "    Entrée: tableau de tableaux\n",
    "    \"\"\"\n",
    "    for ligne in table:\n",
    "        print(f'{ligne[0]:<28}', end=\"\")\n",
    "        print(f'{ligne[1]:>15}{ligne[2]:>15}{ligne[3]:>7}')"
   ]
  },
  {
   "cell_type": "code",
   "execution_count": 2,
   "metadata": {},
   "outputs": [],
   "source": [
    "def lire_fichier(fichier):\n",
    "    \"\"\"\n",
    "    Lit un fichier csv depuis le répertoire courant et retourne les données tabulées sous la forme d'un tableau de tableaux\n",
    "    fichier: nom de fichier (string)\n",
    "    \"\"\"\n",
    "    assert Path('./' + fichier).is_file(), \"Fichier absent\"\n",
    "    \n",
    "    ### BEGIN SOLUTION\n",
    "    with open(fichier, 'r', encoding='utf8') as f:\n",
    "        table = [ligne.strip().split(';') for ligne in f]\n",
    "    return table\n",
    "    ### END SOLUTION"
   ]
  },
  {
   "cell_type": "code",
   "execution_count": 3,
   "metadata": {},
   "outputs": [],
   "source": [
    "assert lire_fichier('vulnerabilites.csv')[3][0] == 'Thunderbird', \"Erreur: la fonction ne passe pas les tests\"\n",
    "### BEGIN HIDDEN TESTS\n",
    "assert lire_fichier('vulnerabilites.csv')[8][3] == '1130', \"Erreur: la fonction ne passe pas les tests\"\n",
    "### END HIDDEN TESTS"
   ]
  },
  {
   "cell_type": "code",
   "execution_count": null,
   "metadata": {},
   "outputs": [],
   "source": [
    "print_table(lire_fichier('vulnerabilites.csv'))"
   ]
  },
  {
   "cell_type": "code",
   "execution_count": null,
   "metadata": {},
   "outputs": [],
   "source": [
    "#Question 3: nombre d'enregistrement de cette table\n",
    "### BEGIN SOLUTION\n",
    "print(f\"Nombre d'enregistrement: {len(lire_fichier('vulnerabilites.csv')) - 1}\")\n",
    "### END SOLUTION"
   ]
  },
  {
   "cell_type": "markdown",
   "metadata": {},
   "source": [
    "# Exercice 2 Modifier le type d'un attribut\n",
    "Lors de la création de la structure de données associée à l'ensemble des données tabulées, tous les champs enregistrés sont de type chaine de caractères (*string*). On souhaiterait cependant avoir quelques fois avoir des attributs entiers ou flottants.  \n",
    "* Modifier légèrement la fonction précédente de manière à avoir le dernier attribut `Total` de type entier."
   ]
  },
  {
   "cell_type": "code",
   "execution_count": 6,
   "metadata": {},
   "outputs": [],
   "source": [
    "def lire_fichier2(fichier):\n",
    "    \"\"\"\n",
    "    Lit un fichier csv depuis le répertoire courant et retourne les données tabulées sous la forme d'un tableau de tableaux\n",
    "    fichier: nom de fichier (string)\n",
    "    \"\"\"\n",
    "    assert Path('./' + fichier).is_file(), \"Fichier absent\"\n",
    "    \n",
    "    ### BEGIN SOLUTION\n",
    "    with open(fichier, 'r', encoding='utf8') as f:\n",
    "        entete = [f.readline().strip().split(';')]\n",
    "        table = [[ligne.split(';')[0],\n",
    "                ligne.split(';')[1],\n",
    "                ligne.split(';')[2],\n",
    "                int(ligne.strip().split(';')[3])] \n",
    "                for ligne in f]\n",
    "        table[0:0] = entete#a le même effet que table = entete + table\n",
    "    return table\n",
    "    ### END SOLUTION"
   ]
  },
  {
   "cell_type": "code",
   "execution_count": 7,
   "metadata": {},
   "outputs": [],
   "source": [
    "assert lire_fichier2('vulnerabilites.csv')[3][3] == 872, \"Erreur: la fonction ne passe pas les tests\"\n",
    "### BEGIN HIDDEN TESTS\n",
    "assert lire_fichier2('vulnerabilites.csv')[8][3] == 1130, \"Erreur: la fonction ne passe pas les tests\"\n",
    "### END HIDDEN TESTS"
   ]
  },
  {
   "cell_type": "markdown",
   "metadata": {},
   "source": [
    "* Quel est le nombre total de vulnérabilités relevé en 2018 ?"
   ]
  },
  {
   "cell_type": "code",
   "execution_count": 8,
   "metadata": {},
   "outputs": [
    {
     "name": "stdout",
     "output_type": "stream",
     "text": [
      "Nombre total de vulnérabilités relevé en 2018: 46733\n"
     ]
    }
   ],
   "source": [
    "table = lire_fichier2('vulnerabilites.csv')\n",
    "somme = 0\n",
    "### BEGIN SOLUTION\n",
    "for i in range(1,len(table)):\n",
    "    somme = somme + table[i][3]\n",
    "print(f\"Nombre total de vulnérabilités relevé en 2018: {somme}\")\n",
    "### END SOLUTION"
   ]
  },
  {
   "cell_type": "markdown",
   "metadata": {},
   "source": [
    "# Exercice 3 Ajouter un attribut ou un enregistrement à une table\n",
    "Dans le répertoire `./data` on dispose d'un fichier `groupe1.csv` qui regroupe les données tabulées suivantes:  \n",
    "\n",
    "| Nom  | LV1 | NSI | Math |\n",
    "|------|-----|-----|------|\n",
    "| Alex | 17  | 16  | 16   |\n",
    "| Zoé  | 15  | 7   | 9    |\n",
    "| Max  | 13  | 19  | 14   |\n",
    "\n",
    "1. Ecrire une fonction `lire_table` qui prend en paramètre un nom de fichier (*string*) et qui retourne un tableau de n-uplets nommés (*des dictionnaires ici*) qui représente la table précédente. **Le caractère séparateur est la virgule dans cet exercice**."
   ]
  },
  {
   "cell_type": "code",
   "execution_count": 9,
   "metadata": {},
   "outputs": [],
   "source": [
    "from pathlib import Path\n",
    "\n",
    "\n",
    "#On utilise le canevas du cours\n",
    "\n",
    "def lire_table(fichier):\n",
    "    \"\"\"\n",
    "    Retourne les données tabulées de 'fichier' sous la forme d'un tableau de dictionnaire\n",
    "    fichier: nom du fichier csv (string) présent dans le dossier data\n",
    "    \"\"\"\n",
    "    fichier = './data/' + fichier\n",
    "    assert Path(fichier).is_file(), \"Fichier absent\"\n",
    "    \n",
    "    ### BEGIN SOLUTION\n",
    "    with open(fichier, 'r', encoding='utf8') as f:\n",
    "        champs = f.readline().strip().split(',')\n",
    "        table = []#Notre structure de données\n",
    "        for ligne in f:\n",
    "            enregistrement = {}\n",
    "            #enregistrement va accueillir les données d'une ligne sous la forme {champ_i:ligne_i}\n",
    "            ligne = ligne.strip().split(',')\n",
    "            for i in range(len(champs)):\n",
    "                enregistrement[champs[i]] = ligne[i]\n",
    "            table.append(enregistrement)\n",
    "    #table contient maintenant les données tabulées\n",
    "    return table\n",
    "    ### END SOLUTION"
   ]
  },
  {
   "cell_type": "code",
   "execution_count": 10,
   "metadata": {},
   "outputs": [],
   "source": [
    "assert lire_table('groupe1.csv')[0]['Nom'] == 'Alex', \"Erreur: la fonction ne passe pas les tests\"\n",
    "### BEGIN HIDDEN TESTS\n",
    "assert lire_table('groupe1.csv')[1]['NSI'] == '7', \"Erreur: la fonction ne passe pas les tests\"\n",
    "### END HIDDEN TESTS"
   ]
  },
  {
   "cell_type": "markdown",
   "metadata": {},
   "source": [
    "2. Ecrire l'instruction permettant de modifier la table de données en y ajoutant les notes de Chloé: 17 en math, 19 en LV1 et 18 en NSI."
   ]
  },
  {
   "cell_type": "code",
   "execution_count": 11,
   "metadata": {},
   "outputs": [],
   "source": [
    "table = lire_table('groupe1.csv')\n",
    "### BEGIN SOLUTION\n",
    "table.append({'Nom':'Chloé', 'Math':'17', 'LV1':'19', 'NSI':'18'})\n",
    "### END SOLUTION"
   ]
  },
  {
   "cell_type": "code",
   "execution_count": 12,
   "metadata": {},
   "outputs": [],
   "source": [
    "assert table[3]['Nom'] == 'Chloé', \"Erreur: la fonction ne passe pas les tests\"\n",
    "assert table[3]['NSI'] == '18', \"Erreur: la fonction ne passe pas les tests\""
   ]
  },
  {
   "cell_type": "markdown",
   "metadata": {},
   "source": [
    "3. On voudrait ajouter une colonne contenant les moyennes de chaque élève, comme dans la table ci-dessous:\n",
    "\n",
    "| Nom   | LV1 | NSI | Math | Moyenne |\n",
    "|-------|-----|-----|------|---------|\n",
    "| Alex  | 17  | 16  | 16   | 16.3    |\n",
    "| Zoé   | 15  | 7   | 9    | 10.3    |\n",
    "| Max   | 13  | 19  | 14   | 15.3    |\n",
    "| Chloé | 19  | 18  | 17   | 18.0    |\n",
    "\n",
    "Comme nos données tabulées sont représentées par un tableau de n-uplets nommés (*des dictionnaires ici*), il suffit de:  \n",
    "*  réaliser une boucle sur tous les éléments (*de type dictionnaire*) du tableau;\n",
    "*  calculer la moyenne de l'élève;\n",
    "*  ajouter la paire `'Moyenne':valeur` au dictionnaire  \n",
    "\n",
    "Ecrire une fonction `ajoute_moyenne` qui prend en paramètre une table (de type tableau de dictionnaire) et qui retourne **une copie de celle-ci** en y ajoutant une colonne moyenne.  \n",
    "*Note*  \n",
    "Pour réaliser une copie d'un objet complexe comme notre table, on peut utiliser la fonction `deepcopy` du module `copy`.  \n",
    "```python\n",
    "from copy import deepcopy\n",
    "#....\n",
    "new_table = deepcopy(table)\n",
    "```"
   ]
  },
  {
   "cell_type": "code",
   "execution_count": 13,
   "metadata": {},
   "outputs": [],
   "source": [
    "from copy import deepcopy\n",
    "\n",
    "\n",
    "def ajoute_moyenne(t):\n",
    "    \"\"\"\n",
    "    \"\"\"\n",
    "    new_t = deepcopy(t)\n",
    "    ### BEGIN SOLUTION\n",
    "    for eleve in new_t:\n",
    "        #Rappel: eleve est un dictionnaire !!\n",
    "        moyenne = (int(eleve['LV1']) + int(eleve['Math']) + int(eleve['NSI'])) / 3\n",
    "        eleve['Moyenne'] = f\"{moyenne:.1f}\"\n",
    "        \"\"\"\n",
    "        Commentaires:\n",
    "        * Les notes présentes dans le dictionnaire sont des chaines de caractères (comme \n",
    "        toutes les données lues depuis le fichier csv), d'où la nécessité de conversion\n",
    "        avec int(....);\n",
    "        * la notation f\"{moyenne:.1f}\" permet d'avoir la variable moyenne comme une chaine\n",
    "        de caractère (signification du f\"\"), écrite avec 1 chiffre après la virgule (--> signification du :1f)\n",
    "        \"\"\"\n",
    "    ### END SOLUTION\n",
    "    return new_t"
   ]
  },
  {
   "cell_type": "code",
   "execution_count": 14,
   "metadata": {},
   "outputs": [],
   "source": [
    "assert ajoute_moyenne(table)[0]['Moyenne'] == '16.3', \"Erreur: la fonction ne passe pas les tests\"\n",
    "assert ajoute_moyenne(table)[1]['Moyenne'] == '10.3', \"Erreur: la fonction ne passe pas les tests\"\n",
    "### BEGIN HIDDEN TESTS\n",
    "assert ajoute_moyenne(table)[3]['Moyenne'] == '18.0', \"Erreur: la fonction ne passe pas les tests\"\n",
    "assert 'Moyenne' not in table[0].keys(), \"Erreur: la fonction ne passe pas les tests\"\n",
    "### END HIDDEN TESTS"
   ]
  },
  {
   "cell_type": "markdown",
   "metadata": {},
   "source": [
    "4. (*A faire à la maison*) On voudrait rajouter un enregistrement qui donne la moyenne par matière, comme dans la table suivante:  \n",
    "\n",
    "| Nom     | LV1  | NSI  | Math | Moyenne |\n",
    "|---------|------|------|------|---------|\n",
    "| Alex    | 17   | 16   | 16   | 16.3    |\n",
    "| Zoé     | 15   | 7    | 9    | 10.3    |\n",
    "| Max     | 13   | 19   | 14   | 15.3    |\n",
    "| Chloé   | 19   | 18   | 17   | 18      |\n",
    "| moy_mat | 16.0 | 15.0 | 14.0   | 15.0    |\n",
    "\n",
    "Ecrire une fonction `ajoute_moy_matieres` qui prend en paramètre une table (de type tableau de dictionnaire) et qui retourne **une copie de celle-ci** en y ajoutant une ligne comportant les moyennes par matière. "
   ]
  },
  {
   "cell_type": "code",
   "execution_count": 26,
   "metadata": {},
   "outputs": [],
   "source": [
    "from copy import deepcopy\n",
    "\n",
    "\n",
    "def ajoute_moy_matieres(t):\n",
    "    \"\"\"\n",
    "    \"\"\"\n",
    "    new_t = deepcopy(t)\n",
    "    ### BEGIN SOLUTION\n",
    "    #solution robuste: on recherche toutes les matieres presentes\n",
    "    matieres = [mat for mat in new_t[0] if mat != 'Nom']\n",
    "    #Creation de la derniere ligne, on connait déjà un champ (Nom)\n",
    "    moy_mat = {'Nom':'moy_mat'}\n",
    "    for matiere in matieres:\n",
    "        somme_note = 0\n",
    "        for eleve in new_t:\n",
    "            somme_note = somme_note + float(eleve[matiere])\n",
    "        moy_mat[matiere] = f\"{somme_note / len(new_t):.1f}\"#on créé une nouvelle paire\n",
    "        #de clé:valeur correspondant à matiere:moyenne\n",
    "    new_t.append(moy_mat)\n",
    "    ### END SOLUTION\n",
    "    return new_t"
   ]
  },
  {
   "cell_type": "code",
   "execution_count": 27,
   "metadata": {},
   "outputs": [],
   "source": [
    "tab = ajoute_moyenne(table)\n",
    "assert ajoute_moy_matieres(tab)[-1]['NSI'] == '15.0'\n",
    "### BEGIN HIDDEN TESTS\n",
    "assert ajoute_moy_matieres(tab)[-1]['Math'] == '14.0', \"Erreur: la fonction ne passe pas les tests\"\n",
    "assert tab[-1]['Nom'] != 'moy_mat', \"Erreur: la fonction ne passe pas les tests\"\n",
    "### END HIDDEN TESTS"
   ]
  },
  {
   "cell_type": "code",
   "execution_count": null,
   "metadata": {},
   "outputs": [],
   "source": []
  }
 ],
 "metadata": {
  "kernelspec": {
   "display_name": "Python 3",
   "language": "python",
   "name": "python3"
  },
  "language_info": {
   "codemirror_mode": {
    "name": "ipython",
    "version": 3
   },
   "file_extension": ".py",
   "mimetype": "text/x-python",
   "name": "python",
   "nbconvert_exporter": "python",
   "pygments_lexer": "ipython3",
   "version": "3.7.2"
  }
 },
 "nbformat": 4,
 "nbformat_minor": 2
}
