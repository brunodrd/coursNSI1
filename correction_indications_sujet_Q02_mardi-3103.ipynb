{
 "cells": [
  {
   "cell_type": "markdown",
   "metadata": {},
   "source": [
    "# Thème B: les types construits\n",
    "---"
   ]
  },
  {
   "cell_type": "markdown",
   "metadata": {},
   "source": [
    "les types construits sont des types élaborés à partir des types de base comme les `int`, `float`, `str` ou `bool`. On peut citer:  \n",
    "* les **tableaux** (on trouve quelques fois le terme de *liste* dans les sujets);  \n",
    "* les **p-uplets** (ou n-uplet ou tuple);\n",
    "* les **dictionnaires**."
   ]
  },
  {
   "cell_type": "markdown",
   "metadata": {},
   "source": [
    "# Question B.1"
   ]
  },
  {
   "cell_type": "markdown",
   "metadata": {},
   "source": [
    "On nous propose un tableau construit en compréhension. il s'agit d'un tableau 4 entiers (la sequence `range(4)` correspond à 0, 1, 2, 3). L'évaluation de 2\\*k+1 fourni les entiers impairs 1, 3, 5, 7.  \n",
    "\n",
    "$\\rightarrow$ réponse **A**"
   ]
  },
  {
   "cell_type": "code",
   "execution_count": 1,
   "metadata": {},
   "outputs": [
    {
     "name": "stdout",
     "output_type": "stream",
     "text": [
      "[1, 3, 5, 7]\n"
     ]
    }
   ],
   "source": [
    "t = [2 * k + 1 for k in range(4)]\n",
    "print(t)"
   ]
  },
  {
   "cell_type": "markdown",
   "metadata": {},
   "source": [
    "# Question B.2\n",
    "On doit trouver une expression d'un tableau construit en compréhension. Ce tableau doit contenir 3 éléments (ici des *sous tableaux*): on peut déjà éliminer les réponses A et B qui donneront des tableaux à 4 éléments.  \n",
    "L'examen des sous tableaux montre que ceux-ci contiennent 4 entiers, c'est donc une construction du type `[i] * 4` qui convient. On en déduit donc:  \n",
    "\n",
    "$\\rightarrow$ réponse **C**"
   ]
  },
  {
   "cell_type": "code",
   "execution_count": 2,
   "metadata": {},
   "outputs": [
    {
     "name": "stdout",
     "output_type": "stream",
     "text": [
      "[[0, 0, 0, 0], [1, 1, 1, 1], [2, 2, 2, 2]]\n"
     ]
    }
   ],
   "source": [
    "t = [[i] * 4 for i in range(3)]\n",
    "print(t)"
   ]
  },
  {
   "cell_type": "markdown",
   "metadata": {},
   "source": [
    "# Question B.3\n",
    "La variable `stock` est de type entier. Par ailleurs, toutes les clés du dictionnaire `inventaire` (*ici des chaines de caractères représentant des fruits*) sont associées à des valeurs entières. Par conséquent, la construction \n",
    "```python\n",
    "stock = stock + inventaire[fruit]\n",
    "```\n",
    "fournit un résultat de type entier. On peut éliminer les réponses A et D.  \n",
    "La boucle permet de calculer la somme totale de fruits **autres que les bananes**. En examinant les valeurs du dictionnaires on constate que cette somme est forcément plus grande que 430. D'où:  \n",
    "\n",
    "$\\rightarrow$ réponse **C**"
   ]
  },
  {
   "cell_type": "code",
   "execution_count": 3,
   "metadata": {},
   "outputs": [
    {
     "name": "stdout",
     "output_type": "stream",
     "text": [
      "841\n"
     ]
    }
   ],
   "source": [
    "inventaire = {'pommes': 430, 'bananes': 312, 'oranges' : 274, 'poires' : 137}\n",
    "stock = 0\n",
    "for fruit in inventaire.keys():\n",
    "    if fruit != 'bananes':\n",
    "        stock = stock + inventaire[fruit]\n",
    "\n",
    "# Affichage du stock\n",
    "print(stock)"
   ]
  },
  {
   "cell_type": "markdown",
   "metadata": {},
   "source": [
    "# Question B.4\n",
    "Le code proposé\n",
    "```python\n",
    "t = [0, 3, 5, 7, 9]\n",
    "t[9] = 3 + t[5]\n",
    "```\n",
    "montre que le tableau `t` comporte 5 éléments. Ceux-ci sont donc indexés de 0 à 4. Par conséquent `t[9]` n'existe pas et déclenchera une exception `IndexError`. D'où:  \n",
    "\n",
    "$\\rightarrow$ réponse **D**"
   ]
  },
  {
   "cell_type": "code",
   "execution_count": 4,
   "metadata": {},
   "outputs": [
    {
     "ename": "IndexError",
     "evalue": "list index out of range",
     "output_type": "error",
     "traceback": [
      "\u001b[0;31m---------------------------------------------------------------------------\u001b[0m",
      "\u001b[0;31mIndexError\u001b[0m                                Traceback (most recent call last)",
      "\u001b[0;32m<ipython-input-4-069f9f7c897b>\u001b[0m in \u001b[0;36m<module>\u001b[0;34m()\u001b[0m\n\u001b[1;32m      1\u001b[0m \u001b[0mt\u001b[0m \u001b[0;34m=\u001b[0m \u001b[0;34m[\u001b[0m\u001b[0;36m0\u001b[0m\u001b[0;34m,\u001b[0m \u001b[0;36m3\u001b[0m\u001b[0;34m,\u001b[0m \u001b[0;36m5\u001b[0m\u001b[0;34m,\u001b[0m \u001b[0;36m7\u001b[0m\u001b[0;34m,\u001b[0m \u001b[0;36m9\u001b[0m\u001b[0;34m]\u001b[0m\u001b[0;34m\u001b[0m\u001b[0;34m\u001b[0m\u001b[0m\n\u001b[0;32m----> 2\u001b[0;31m \u001b[0mt\u001b[0m\u001b[0;34m[\u001b[0m\u001b[0;36m9\u001b[0m\u001b[0;34m]\u001b[0m \u001b[0;34m=\u001b[0m \u001b[0;36m3\u001b[0m \u001b[0;34m+\u001b[0m \u001b[0mt\u001b[0m\u001b[0;34m[\u001b[0m\u001b[0;36m5\u001b[0m\u001b[0;34m]\u001b[0m\u001b[0;34m\u001b[0m\u001b[0;34m\u001b[0m\u001b[0m\n\u001b[0m",
      "\u001b[0;31mIndexError\u001b[0m: list index out of range"
     ]
    }
   ],
   "source": [
    "t = [0, 3, 5, 7, 9]\n",
    "t[9] = 3 + t[5]"
   ]
  },
  {
   "cell_type": "markdown",
   "metadata": {},
   "source": [
    "# Question B.5\n",
    "L'expression proposée doit conduire à un tableau de p-uplet. On peut donc éliminer les réponses A et D. L'examen des composantes du p-uplet montre que le premier (correpondant à $i=0$) est `(0, 1)`. D'où:  \n",
    "\n",
    "$\\rightarrow$ réponse **C**"
   ]
  },
  {
   "cell_type": "code",
   "execution_count": 5,
   "metadata": {},
   "outputs": [
    {
     "name": "stdout",
     "output_type": "stream",
     "text": [
      "[(0, 1), (1, 2)]\n"
     ]
    }
   ],
   "source": [
    "t = [(i,i+1) for i in range(2)]\n",
    "print(t)"
   ]
  },
  {
   "cell_type": "markdown",
   "metadata": {},
   "source": [
    "# Question B.6\n",
    "Attention **cette question est hors programme**. Elle fait intervenir la notion de *tranches* (ou *slicing* en anglais).  \n",
    "Les chaines de caractères sont indexées comme les tableaux. Ainsi une notation telle  \n",
    "```python\n",
    "ch = chaine_origine[i:k]\n",
    "```\n",
    "signifie que `ch` est une chaine qui contient les caractères de `chaine_origine` situés entre les positions i et k exclus. Par conséquent si  \n",
    "```python\n",
    "citation = \"Les nombres gouvernent le monde\"\n",
    "```\n",
    "alors `citation[5:10]` correspond à la chaine \"ombre\". D'où:  \n",
    "\n",
    "$\\rightarrow$ réponse **A**"
   ]
  },
  {
   "cell_type": "code",
   "execution_count": 6,
   "metadata": {},
   "outputs": [
    {
     "name": "stdout",
     "output_type": "stream",
     "text": [
      "ombre\n"
     ]
    }
   ],
   "source": [
    "citation = \"Les nombres gouvernent le monde\"\n",
    "print(citation[5:10])"
   ]
  },
  {
   "cell_type": "code",
   "execution_count": null,
   "metadata": {},
   "outputs": [],
   "source": []
  }
 ],
 "metadata": {
  "kernelspec": {
   "display_name": "Python 3",
   "language": "python",
   "name": "python3"
  },
  "language_info": {
   "codemirror_mode": {
    "name": "ipython",
    "version": 3
   },
   "file_extension": ".py",
   "mimetype": "text/x-python",
   "name": "python",
   "nbconvert_exporter": "python",
   "pygments_lexer": "ipython3",
   "version": "3.6.10"
  },
  "latex_envs": {
   "LaTeX_envs_menu_present": true,
   "autoclose": false,
   "autocomplete": true,
   "bibliofile": "biblio.bib",
   "cite_by": "apalike",
   "current_citInitial": 1,
   "eqLabelWithNumbers": true,
   "eqNumInitial": 1,
   "hotkeys": {
    "equation": "Ctrl-E",
    "itemize": "Ctrl-I"
   },
   "labels_anchors": false,
   "latex_user_defs": false,
   "report_style_numbering": false,
   "user_envs_cfg": false
  }
 },
 "nbformat": 4,
 "nbformat_minor": 2
}
