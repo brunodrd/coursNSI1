{
 "cells": [
  {
   "cell_type": "markdown",
   "metadata": {},
   "source": [
    "---\n",
    "author: Bruno DARID\n",
    "title:Transmission de données dans un réseau  \n",
    "---"
   ]
  },
  {
   "cell_type": "markdown",
   "metadata": {},
   "source": [
    "# Remarque préliminaire\n",
    "L'essentiel de cette séquence est basée sur le travail de David Roche ([twitter](https://twitter.com/davR74130)) dont le site est accessible à l'adresse suivante: [Informatique lycée](https://pixees.fr/informatiquelycee/n_site/index.html)."
   ]
  },
  {
   "cell_type": "markdown",
   "metadata": {},
   "source": [
    "# Structure physique et logique d'un réseau\n",
    "Prendre connaissance de la page [Introduction au réseau](web/Introduction%20au%20réseau.html) et résoudre les exercices 1, 2 et 3."
   ]
  },
  {
   "cell_type": "markdown",
   "metadata": {},
   "source": [
    "# TP1: simulation d'un réseau avec le logiciel filius\n",
    "La simulation réseau peut être réalisée avec un logiciel gratuit: **Filius** que l'on peut trouver à cette [adresse](https://www.lernsoftware-filius.de/Herunterladen). Il suffit de choisir la version adaptée à son système d'exploitation (Windows ou Ubuntu).\n",
    "\n",
    "Ouvrir la page [Simulation réseau](web/Simulation%20réseau.html) et réaliser le TP. "
   ]
  },
  {
   "cell_type": "markdown",
   "metadata": {},
   "source": [
    "# Les protocoles\n",
    "Ouvrir et prendre connaissance (*dans l'ordre*) la page [Protocoles TCP et IP](web/Protocoles%20TCP%20et%20IP.html) puis la page [Modèle TCP/IP](web/Le%20modèle%20TCP_IP.html)"
   ]
  },
  {
   "cell_type": "markdown",
   "metadata": {},
   "source": [
    "# TP2: Simulation d'analyse d'échanges de données\n",
    "Réaliser le TP présenté sur la page [Simulation réseau 2](web/Simulation%20réseau2.html)"
   ]
  },
  {
   "cell_type": "markdown",
   "metadata": {},
   "source": [
    "# Le protocole du bit alterné\n",
    "Prendre connaissance de la page [Protocole du bit alterné](web/Protocole%20du%20bit%20alterné.html) et répondre à la question en bas de page."
   ]
  },
  {
   "cell_type": "markdown",
   "metadata": {},
   "source": [
    "![licence](img/licence.png)"
   ]
  },
  {
   "cell_type": "code",
   "execution_count": null,
   "metadata": {},
   "outputs": [],
   "source": []
  }
 ],
 "metadata": {
  "kernelspec": {
   "display_name": "Python 3",
   "language": "python",
   "name": "python3"
  },
  "language_info": {
   "codemirror_mode": {
    "name": "ipython",
    "version": 3
   },
   "file_extension": ".py",
   "mimetype": "text/x-python",
   "name": "python",
   "nbconvert_exporter": "python",
   "pygments_lexer": "ipython3",
   "version": "3.6.9"
  },
  "latex_envs": {
   "LaTeX_envs_menu_present": true,
   "autoclose": false,
   "autocomplete": true,
   "bibliofile": "biblio.bib",
   "cite_by": "apalike",
   "current_citInitial": 1,
   "eqLabelWithNumbers": true,
   "eqNumInitial": 1,
   "hotkeys": {
    "equation": "Ctrl-E",
    "itemize": "Ctrl-I"
   },
   "labels_anchors": false,
   "latex_user_defs": false,
   "report_style_numbering": false,
   "user_envs_cfg": false
  }
 },
 "nbformat": 4,
 "nbformat_minor": 2
}
