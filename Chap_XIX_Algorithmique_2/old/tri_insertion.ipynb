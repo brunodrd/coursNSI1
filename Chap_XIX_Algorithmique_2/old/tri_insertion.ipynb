{
 "cells": [
  {
   "cell_type": "markdown",
   "metadata": {},
   "source": [
    "Tri par insertion\n",
    "---"
   ]
  },
  {
   "cell_type": "markdown",
   "metadata": {},
   "source": [
    "# Principe\n",
    "Voir le principe à l'adresse: \n",
    "http://lwh.free.fr/pages/algo/tri/tri_insertion.html\n",
    "\n",
    "L'idée directrice est de **parcourir le tableau de la gauche vers la droite, en maintenant la partie déjà triée sur sa gauche**. Concrètement, on va décaler d'une case vers la droite tous les éléments déjà triés, qui sont plus grands que l'élément à classer, puis déposer ce dernier dans la case libérée."
   ]
  },
  {
   "cell_type": "markdown",
   "metadata": {},
   "source": [
    "# Implémentation en python"
   ]
  },
  {
   "cell_type": "code",
   "execution_count": null,
   "metadata": {},
   "outputs": [],
   "source": [
    "def tri_insertion(t):\n",
    "    \"\"\"\n",
    "    Trie le tableau t par ordre croissant\n",
    "    \"\"\"\n",
    "    for i in range(1,len(t)):\n",
    "        elt_a_classer = t[i]\n",
    "        j = i\n",
    "        #décalage des éléments du tableau\n",
    "        while j>0 and t[j - 1] > elt_a_classer:\n",
    "            t[j] = t[j - 1]\n",
    "            j = j - 1\n",
    "        #on insère l'élément à sa place\n",
    "        t[j] = elt_a_classer"
   ]
  },
  {
   "cell_type": "markdown",
   "metadata": {},
   "source": [
    "# Validité de l'algorithme"
   ]
  },
  {
   "cell_type": "markdown",
   "metadata": {},
   "source": [
    "# Efficacité"
   ]
  }
 ],
 "metadata": {
  "kernelspec": {
   "display_name": "Python 3",
   "language": "python",
   "name": "python3"
  },
  "language_info": {
   "codemirror_mode": {
    "name": "ipython",
    "version": 3
   },
   "file_extension": ".py",
   "mimetype": "text/x-python",
   "name": "python",
   "nbconvert_exporter": "python",
   "pygments_lexer": "ipython3",
   "version": "3.8.2"
  }
 },
 "nbformat": 4,
 "nbformat_minor": 4
}
