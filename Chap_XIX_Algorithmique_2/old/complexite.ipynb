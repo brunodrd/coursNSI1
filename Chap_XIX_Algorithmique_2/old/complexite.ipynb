{
 "cells": [
  {
   "cell_type": "markdown",
   "metadata": {},
   "source": [
    "Complexité\n",
    "========="
   ]
  },
  {
   "cell_type": "markdown",
   "metadata": {},
   "source": [
    "# Introduction: complexité ou coût d'un algorithme\n",
    "Pour traiter un même problème, il existe souvent plusieurs algorithmes. Un critère de choix possible est le *temps d'exécution* le plus faible.  \n",
    "**Le temps d'exécution caractérise le coût -appelé complexité- d'un algorithme**.  \n",
    "En réalité on ne va pas mesurer réellement le temps d'exécution mais plutôt utiliser un *modèle* simplifié, indépendant de la machine utilisée et dont l'unité de mesure du coût est une *opération* (affectation, comparaison, etc..)"
   ]
  },
  {
   "cell_type": "markdown",
   "metadata": {},
   "source": [
    "# Complexité linéaire\n",
    "Pour exprimer le coût d'un algorithme, on peut évaluer le nombre d'opérations effectué.  \n",
    "\n",
    "Exemple: le problème est d'afficher les diviseurs d'un entier $n$. On propose l'algorithme naïf ci-dessous, exprimé en python. \n",
    "\n",
    "```python\n",
    "def diviseurs(n):\n",
    "    for i in range(1, n+1):\n",
    "        if n % i == 0:\n",
    "            print(i)\n",
    "```\n",
    "On a: $n$ incrémentations et $n$ tests à la ligne 2, $n$ calculs de restes de divisions et $n$ tests à la ligne 3 et au plus $n$ affichages soit $5n$ opérations au maximum (on dit aussi dans le *pire de cas* ou *worst case* en anglais).  \n",
    "En général, le coût d'un algorithme varie en fonction d'un paramètre appelé **taille de l'entrée**, ici le nombre $n$. L'algorithme naïf présenté a un coût évalué à $5n$ opérations.  \n",
    "Il n'est pas utile en première NSI d'aller vers un niveau de détail tel que celui qui vient d'être présenté. On dira simplement que:\n",
    "\n",
    "**le nombre d'opérations de cet algorithme est proportionnel à n ou encore qu'il a une complexité linéaire**.  \n"
   ]
  },
  {
   "cell_type": "markdown",
   "metadata": {},
   "source": [
    "# Autres cas courants\n",
    "Si la complexité ne **dépend pas** de la taille de l'entrée, l'algorithme a une **complexité constante**.\n",
    "\n",
    "\n",
    "Existe-t-il des algorithmes plus performants que ceux ayant une complexité linéaire ?  \n",
    "**Oui**, les algorithmes ayant une **complexité logarithmique**. La fonction logarithme est une fonction qui croît très lentement.  \n",
    "\n",
    "Existe-t-il des algorithmes moins performants que ceux ayant une complexité linéaire ?  \n",
    "**Oui**, les algorithmes ayant une **complexité quadratique, cubique, etc** c'est-à-dire des algorithmes dont le nombre d'opérations est une fonction du carré de la taille de l'entrée, du cube, etc.\n",
    "\n",
    "*Ordre de grandeur du temps d'exécution sur un ordinateur personnel de quelques algorithmes dont la complexité a été évoquée ci-dessus* \n",
    "\n",
    "| Nom courant   \t| Temps pour une taille n = 1 million \t|\n",
    "|---------------\t|:-----------------------------------:\t|\n",
    "| logarithmique \t|                10 ns                \t|\n",
    "| linéaire      \t|                 1 ms                \t|\n",
    "| quadratique   \t|                1/4 h                \t|\n",
    "| cubique       \t|                30 ans               \t|"
   ]
  },
  {
   "cell_type": "markdown",
   "metadata": {},
   "source": [
    "# Quelques exemples\n",
    "Donner la complexité des exemples ci-dessous."
   ]
  },
  {
   "cell_type": "code",
   "execution_count": 1,
   "metadata": {},
   "outputs": [],
   "source": [
    "def table1(n):\n",
    "    for i in range(11):\n",
    "        print(i * n)\n",
    "\n",
    "def table2(n):\n",
    "    for i in range(n):\n",
    "        print( i * i)\n",
    "        \n",
    "def table3(n):\n",
    "    for i in range(n):\n",
    "        for j in range(n):\n",
    "            print(i * j, end=\" \")\n",
    "        print()"
   ]
  },
  {
   "cell_type": "markdown",
   "metadata": {},
   "source": [
    "---"
   ]
  }
 ],
 "metadata": {
  "kernelspec": {
   "display_name": "Python 3",
   "language": "python",
   "name": "python3"
  },
  "language_info": {
   "codemirror_mode": {
    "name": "ipython",
    "version": 3
   },
   "file_extension": ".py",
   "mimetype": "text/x-python",
   "name": "python",
   "nbconvert_exporter": "python",
   "pygments_lexer": "ipython3",
   "version": "3.8.2"
  }
 },
 "nbformat": 4,
 "nbformat_minor": 4
}
