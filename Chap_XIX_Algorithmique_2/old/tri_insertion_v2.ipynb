{
 "cells": [
  {
   "cell_type": "markdown",
   "metadata": {},
   "source": [
    "Tri par insertion\n",
    "============="
   ]
  },
  {
   "cell_type": "markdown",
   "metadata": {},
   "source": [
    "# Principe\n",
    "Voir le principe à l'adresse: \n",
    "[Algorithmes de tri](http://lwh.free.fr/pages/algo/tri/tri_insertion.html)\n",
    "\n",
    "L'idée principal est de **parcourir le tableau de la gauche vers la droite, en maintenant la partie déjà triée sur sa gauche**. Concrètement, on va décaler d'une case vers la droite tous les éléments déjà triés, qui sont plus grands que l'élément à classer, puis déposer ce dernier dans la case libérée."
   ]
  },
  {
   "cell_type": "markdown",
   "metadata": {},
   "source": [
    "# Implémentation en python"
   ]
  },
  {
   "cell_type": "code",
   "execution_count": 1,
   "metadata": {},
   "outputs": [],
   "source": [
    "def tri_insertion(t):\n",
    "    \"\"\"\n",
    "    Trie le tableau t par ordre croissant\n",
    "    \"\"\"\n",
    "    for i in range(1,len(t)):\n",
    "        elt_a_classer = t[i]\n",
    "        j = i\n",
    "        #décalage des éléments du tableau pour trouver la place de t[i]\n",
    "        while j>0 and t[j - 1] > elt_a_classer:\n",
    "            t[j] = t[j - 1]\n",
    "            j = j - 1\n",
    "        #on insère l'élément à sa place\n",
    "        t[j] = elt_a_classer"
   ]
  },
  {
   "cell_type": "markdown",
   "metadata": {},
   "source": [
    "# Validité de l'algorithme\n",
    "Au début de chaque itération d'index `i`, le sous tableau `t[0..i-1]` est trié (attention, on fait référence aux éléments d'index 0 à `i-1` **inclus**, ce n'est pas une notation python). Cette propriété est appelée **invariant de boucle**. L'invariant est une propriété qui doit:  "
   ]
  },
  {
   "cell_type": "markdown",
   "metadata": {},
   "source": [
    "## être vérifié avant la première itération (initialisation)\n",
    "Lorsqu'on est en ligne 5 la première fois, `i = 1` et cette propriété se traduit par: la tableau `t[0]` est trié. Ce qui est vrai évidemment car on n'a qu'un seul élément."
   ]
  },
  {
   "cell_type": "markdown",
   "metadata": {},
   "source": [
    "## être conservé (conservation)\n",
    "**Si l'invariant est vrai avant une itération, il l'est aussi avant la prochaine**. \n",
    "\n",
    "Ici pour une itération d'index `i` donné, on va décaler les `t[i-1]`, `t[i-2]`, .. etc, vers la droite pour trouver la place de `t[i]`. On place alors `t[i]`. Ces éléments sont triés et comme on incrémente `i` au début de la boucle `for` de la prochaine itération, l'invariant est conservé."
   ]
  },
  {
   "cell_type": "markdown",
   "metadata": {},
   "source": [
    "Par ailleurs, la combinaison de l'invariant avec la **terminaison** de la boucle permet de conclure à la validité, on dit aussi **correction totale**, de l'algorithme. \n",
    "\n",
    "Dans notre cas, à la fin de la boucle, `i = len(t)`. Si on substitue cette valeur dans l'expression de l'invariant, on a :  \n",
    "à l'itération `i = len(t)`, le sous tableau `t[0..len(t)-1]` est trié, soit: \n",
    "\n",
    "**le tableau t est trié, l'algorithme est correct**."
   ]
  },
  {
   "cell_type": "markdown",
   "metadata": {},
   "source": [
    "# Efficacité: complexité de l'algorithme"
   ]
  },
  {
   "cell_type": "markdown",
   "metadata": {},
   "source": [
    "Dans le pire des cas, pour un tableau de taille `n`, il faudra effectuer:\n",
    "\n",
    "$$ 1+2+\\cdots + (n-2) + (n-1)=\\dfrac{n}{2}\\times(n-1)$$\n",
    "\n",
    "comparaisons et échanges.\n",
    "Le coût (on dit aussi *complexité*) est **quadratique**. On écrit souvent que la complexité est en $\\Theta(n²)$.\n",
    "\n",
    "```{note}\n",
    "Voir le document \"Complexité\" en complément\n",
    "```"
   ]
  },
  {
   "cell_type": "markdown",
   "metadata": {},
   "source": [
    "---"
   ]
  }
 ],
 "metadata": {
  "kernelspec": {
   "display_name": "Python 3",
   "language": "python",
   "name": "python3"
  },
  "language_info": {
   "codemirror_mode": {
    "name": "ipython",
    "version": 3
   },
   "file_extension": ".py",
   "mimetype": "text/x-python",
   "name": "python",
   "nbconvert_exporter": "python",
   "pygments_lexer": "ipython3",
   "version": "3.8.2"
  }
 },
 "nbformat": 4,
 "nbformat_minor": 4
}
