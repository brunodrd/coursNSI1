{
 "cells": [
  {
   "cell_type": "code",
   "execution_count": null,
   "metadata": {},
   "outputs": [],
   "source": [
    "def rendu_monnaie(montant, monnaie):\n",
    "    \"\"\"\n",
    "    Retourne un tableau d'entiers indiquant le nombre de type de pièces prises;\n",
    "    montant: entier positif\n",
    "    monnaie: tableau d'entiers positif représentant le système monétaire utilisé.\n",
    "    \"\"\"\n",
    "    n = len(monnaie)\n",
    "    solution = [0 for _ in range(n)]\n",
    "    for i in range(n - 1, -1, -1):\n",
    "        while montant >= monnaie[i]:\n",
    "            montant = montant - monnaie[i]\n",
    "            solution[i] = solution[i] + 1\n",
    "    return solution"
   ]
  }
 ],
 "metadata": {
  "kernelspec": {
   "display_name": "Python 3",
   "language": "python",
   "name": "python3"
  },
  "language_info": {
   "codemirror_mode": {
    "name": "ipython",
    "version": 3
   },
   "file_extension": ".py",
   "mimetype": "text/x-python",
   "name": "python",
   "nbconvert_exporter": "python",
   "pygments_lexer": "ipython3",
   "version": "3.8.2"
  }
 },
 "nbformat": 4,
 "nbformat_minor": 4
}
