{
 "cells": [
  {
   "cell_type": "markdown",
   "metadata": {},
   "source": [
    "Tri par sélection\n",
    "============="
   ]
  },
  {
   "cell_type": "markdown",
   "metadata": {},
   "source": [
    "# Principe\n",
    "On commence par rechercher le plus petit élement du tableau puis on l'échange avec le premier élement. Ensuite, on cherche le deuxième plus petit élement et on l'échange avec le deuxième élément du tableau et ainsi de suite jusqu'à ce que le tableau soit entièrement trié.  \n",
    "\n",
    "Voir une animation à cette [adresse](http://lwh.free.fr/pages/algo/tri/tri_selection.html)"
   ]
  },
  {
   "cell_type": "markdown",
   "metadata": {},
   "source": [
    "# Algorithme et exemple d'implémentation en python\n",
    "On peut formaliser l'algorithme du tri par sélection avec la procédure décrite ci-dessous.  \n",
    "\n",
    "```{note}\n",
    "Contrairement à une fonction, une procédure ne renvoit rien et modifie généralement ses arguments.\n",
    "```\n",
    "\n",
    "```\n",
    "procedure tri_selection(t)\n",
    "t: tableau de n éléments (t[0..n-1)\n",
    "Pour i allant de 0 à n-2:\n",
    "    idxmin = i\n",
    "    Pour j allant de i+1 à n-1:\n",
    "        Si t[j] < t[idxmini]:\n",
    "            idxmini = j\n",
    "    Echanger t[i] et t[idxmini]\n",
    "```\n",
    "\n",
    "**Travail**:  \n",
    "* Appliquer cet algorithme à la main sur le tableau `t = [3, 4, 1, 7, 2]`.\n",
    "* donner une implémentation possible en python de cet algorithme et tester."
   ]
  },
  {
   "cell_type": "code",
   "execution_count": 10,
   "metadata": {},
   "outputs": [],
   "source": [
    "def echange(t, i, j):\n",
    "    \"\"\"\n",
    "    Permute les éléments situés aux index i et j du tableau t\n",
    "    t: tableau non vide\n",
    "    i, j: entiers dans l'intervalle [0, len(t)-1]\n",
    "    \"\"\"\n",
    "    tmp = t[i]\n",
    "    t[i] = t[j]\n",
    "    t[j] = tmp\n",
    "\n",
    "def tri_selection(t):\n",
    "    \"\"\"\n",
    "    trie par ordre croissant les éléments de t\n",
    "    \"\"\"\n",
    "    n = len(t)\n",
    "    #Compléter le code"
   ]
  },
  {
   "cell_type": "markdown",
   "metadata": {},
   "source": [
    "Pour tester votre code, exécuter la séqunce suivante:\n",
    "```python\n",
    "t = [5, 6, 1, 1, 15, 0, 4]\n",
    "tri_selection(t)\n",
    "assert t == [0, 1, 1, 4, 5, 6, 15]\n",
    "```"
   ]
  },
  {
   "cell_type": "markdown",
   "metadata": {},
   "source": [
    "# Validité de l'algorithme\n",
    "La situation au $i^{ème}$ tour de boucle peut être représentée de la manière suivante:\n",
    "\n",
    "```{image} ../img/tri_selection.png\n",
    ":alt: tableau\n",
    ":width: 320 px\n",
    ":height: 110 px\n",
    "```\n",
    "\n",
    "Tous les éléments d'indice compris entre 0 et $i-1$ inclus sont triés **et** ils sont tous inférieurs ou égaux aux éléments de la partie non triée, entre $i$ et $n-1$.  \n",
    "Il s'agit d'un **invariant** pour l'algorithme `tri_selection`.  \n",
    "La terminaison est assurée car l'algorithme fait intervenir deux boucles bornées (boucle `for`)."
   ]
  },
  {
   "cell_type": "markdown",
   "metadata": {},
   "source": [
    "# Complexité en temps\n",
    "Notons $n$ la taille du tableau d'entrée. Détaillons les opérations exécutées par cette fonction:\n",
    "* 1 affectation (*en temps constant*);\n",
    "* $n-1$ affectations (à l'intérieur de la boucle externe);\n",
    "* $n-1$ appel de fonctions (*on considère qu'un appel prend un temps constant*);\n",
    "* au plus 2 opérations exécutées $N$ fois dans la boucle interne (*$N$ sera évalué ci-dessous*).\n",
    "\n",
    "\n",
    "Le contenu de la boucle interne prend un temps d'exécution constant. Evaluons le nombre de fois qu'elle est exécutée.\n",
    "\n",
    "* Pour $i=0$, elle est exécutée $(n-1)-(0+1)+1=n-1$ fois. \n",
    "* Pour $i=1$, elle est exécutée $(n-1)-(1+1)+1=n-2$ fois. \n",
    "* etc.\n",
    "\n",
    "Si on généralise, le nombre d'exécutions de la boucle interne est:\n",
    "\n",
    "$$N = (n-1)+(n-2)+\\cdots +2+1$$\n",
    "\n",
    "Cette somme correspond à la somme des termes consécutifs d'une suite arithmétique, dont la valeur pour $n>1$ est donnée par:\n",
    "\n",
    "$$N=\\dfrac{n}{2}\\times (n-1)=\\dfrac{1}{2}n^2-\\dfrac{1}{2}n$$\n",
    "\n",
    "Au final, le nombre d'opérations effectuées s'exprimera avec une fonction de $n$ de la forme $an^2+bn+c$, avec $a, b, c$ des constantes. \n",
    "\n",
    "**La complexité en temps du tri par sélection est quadratique**."
   ]
  },
  {
   "cell_type": "markdown",
   "metadata": {},
   "source": [
    "## Application directe\n",
    "En supposant que le tri par sélection prenne un temps directement proportionnel à $n^2$ et qu'un tri de 16000 valeurs nécessite 6.8 s. Calculer le temps nécessaire pour le tri d'un million de valeurs avec cet algorithme."
   ]
  },
  {
   "cell_type": "markdown",
   "metadata": {},
   "source": [
    "## Exercice: temps d'exécution\n",
    "Pour mesurer le temps d'exécution d'un programme, on importe la fonction `time` du module `time`. Cette fonction renvoie le temps en secondes écoulé depuis le $1^{er}$ janvier 1970.  \n",
    "Le code qui suit permet par exemple d'afficher le temps pris par l'exécution du tri d'un tableau.\n",
    "```python\n",
    "from time import time\n",
    "top = time()\n",
    "tri_selection(t)\n",
    "print(time() - top)\n",
    "```\n",
    "On souhaite comparer les temps d'exécution des tri sélection et insertion sur deux types de tableau: un tableau de nombre au hasard et un tableau de nombres déjà triés. On reprend le code des fonctions de tri du cours.  \n",
    "1. Construire un tableau de 3000 entiers pris au hasard entre 1 et 10000, bornes comprises. Mesurer le temps d'exécution du programme de tri sélection et de tri insertion pour trier ce tableau. *Attention: il faut reconstruire le tableau entre les deux tris*. Quel commentaire peut-on faire concernant les deux résultats ?\n",
    "2. Construire un tableau de 3000 entiers de 0 à 2999, bornes comprises. Mesurer le temps d'exécution du programme de tri sélection et de tri insertion pour trier ce tableau. Quel commentaire peut-on faire concernant les deux résultats ?\n",
    "3. Mesurer sur un tableau de 100000 entiers, choisis de manière aléatoire entre 1 et 100000, le temps d'exécution de la méthode `sort()` de python. Syntaxe: `t.sort()`. Commentez."
   ]
  },
  {
   "cell_type": "markdown",
   "metadata": {},
   "source": [
    "---"
   ]
  }
 ],
 "metadata": {
  "kernelspec": {
   "display_name": "Python 3",
   "language": "python",
   "name": "python3"
  },
  "language_info": {
   "codemirror_mode": {
    "name": "ipython",
    "version": 3
   },
   "file_extension": ".py",
   "mimetype": "text/x-python",
   "name": "python",
   "nbconvert_exporter": "python",
   "pygments_lexer": "ipython3",
   "version": "3.8.2"
  }
 },
 "nbformat": 4,
 "nbformat_minor": 4
}
