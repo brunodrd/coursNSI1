{
 "cells": [
  {
   "cell_type": "markdown",
   "metadata": {},
   "source": [
    "Corrections des exercices d'algorithmique - Partie 1\n",
    "=========================================="
   ]
  },
  {
   "cell_type": "markdown",
   "metadata": {},
   "source": [
    "# Complexité\n",
    "1er exemple\n",
    "```python\n",
    "def table1(n):\n",
    "    for i in range(11):\n",
    "        print(i * n)\n",
    "```\n",
    "La boucle est parcourue 11 fois exactement. Le nombre d'instructions exécutées est constant. On a une **complexité constante**.\n",
    "\n",
    "2ème exemple\n",
    "```python\n",
    "def table2(n):\n",
    "    for i in range(n):\n",
    "        print( i * i)\n",
    "```\n",
    "On passe $n$ fois dans la boucle, ce qui se traduit par:\n",
    "* $n$ multiplications;\n",
    "* $n$ affichages\n",
    "\n",
    "On a une **complexité en temps linéaire**.\n",
    "\n",
    "3ème exemple\n",
    "```python\n",
    "def table3(n):\n",
    "    for i in range(n):\n",
    "        for j in range(n):\n",
    "            print(i * j, end=\" \")\n",
    "        print()\n",
    "```\n",
    "La boucle interne nécessite:\n",
    "* $n$ multiplications et $n$ affectations;\n",
    "* $n$ affichages\n",
    "\n",
    "La boucle externe nécessite:\n",
    "* $n$ parcours de la boucle interne, soit $n^2$ multiplications, $n^2$ affectations et $n^2$ affichages;\n",
    "* $n$ passages à la ligne\n",
    "\n",
    "L'exécution de cette fonction nécessite $3n^2+n$ opérations. **La complexité en temps de cette fonction est quadratique**.\n",
    "\n",
    "---"
   ]
  },
  {
   "cell_type": "markdown",
   "metadata": {},
   "source": [
    "# Tri par sélection\n",
    "1) On applique le tri par sélection à la main sur `t = [3, 4, 1, 7, 2]`. Voir la video [ici](https://brdarid.nohost.me/nextcloud/s/AiootdD5EgWbddY).\n"
   ]
  },
  {
   "cell_type": "code",
   "execution_count": 6,
   "metadata": {},
   "outputs": [],
   "source": [
    "#2) Implémentation en python\n",
    "def echange(t, i, j):\n",
    "    \"\"\"\n",
    "    Permute les éléments situés aux index i et j du tableau t\n",
    "    t: tableau non vide\n",
    "    i, j: entiers dans l'intervalle [0, len(t)-1]\n",
    "    \"\"\"\n",
    "    tmp = t[i]\n",
    "    t[i] = t[j]\n",
    "    t[j] = tmp\n",
    "\n",
    "def tri_selection(t):\n",
    "    \"\"\"\n",
    "    trie par ordre croissant les éléments de t\n",
    "    \"\"\"\n",
    "    n = len(t)\n",
    "    for i in range(n - 1):\n",
    "        mini = i\n",
    "        for j in range(i + 1, n):\n",
    "            if t[j] < t[mini]:\n",
    "                mini = j\n",
    "        echange(t, i, mini)"
   ]
  },
  {
   "cell_type": "code",
   "execution_count": 7,
   "metadata": {},
   "outputs": [
    {
     "name": "stdout",
     "output_type": "stream",
     "text": [
      "[1, 2, 3, 4, 7]\n"
     ]
    }
   ],
   "source": [
    "t = [3, 4, 1, 7, 2]\n",
    "tri_selection(t)\n",
    "print(t)"
   ]
  },
  {
   "cell_type": "code",
   "execution_count": 8,
   "metadata": {},
   "outputs": [],
   "source": [
    "t = [5, 6, 1, 1, 15, 0, 4]\n",
    "tri_selection(t)\n",
    "assert t == [0, 1, 1, 4, 5, 6, 15]"
   ]
  },
  {
   "cell_type": "code",
   "execution_count": null,
   "metadata": {},
   "outputs": [],
   "source": []
  }
 ],
 "metadata": {
  "kernelspec": {
   "display_name": "Python 3",
   "language": "python",
   "name": "python3"
  },
  "language_info": {
   "codemirror_mode": {
    "name": "ipython",
    "version": 3
   },
   "file_extension": ".py",
   "mimetype": "text/x-python",
   "name": "python",
   "nbconvert_exporter": "python",
   "pygments_lexer": "ipython3",
   "version": "3.8.2"
  }
 },
 "nbformat": 4,
 "nbformat_minor": 4
}
