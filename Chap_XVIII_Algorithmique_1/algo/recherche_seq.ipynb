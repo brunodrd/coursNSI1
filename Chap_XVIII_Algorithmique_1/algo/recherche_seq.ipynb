{
 "cells": [
  {
   "cell_type": "markdown",
   "metadata": {},
   "source": [
    "Recherche dans un tableau\n",
    "---"
   ]
  },
  {
   "cell_type": "markdown",
   "metadata": {},
   "source": [
    "# Introduction"
   ]
  },
  {
   "cell_type": "markdown",
   "metadata": {},
   "source": [
    "Pour *Thomas Cormen*, très grand professeur d'informatique, un algorithme est **une procédure de calcul, bien définie, qui prend en entrée une valeur ou un ensemble de valeurs, et qui donne en sortie une valeur ou un ensemble de valeurs**. C'est un outil permettant de résoudre un problème de calcul bien spécifié.  \n",
    "Un algorithme doit se terminer dans un temps raisonnable et doit résoudre correctement le problème donné. Ces deux propriétés sont respectivement nommées:\n",
    "* complexité en temps (ou *temporelle*)\n",
    "* correction  \n",
    "\n",
    "Cette première leçon d'algorithmique sera orientée vers la recherche (*séquentielle*) d'un élément dans un tableau."
   ]
  },
  {
   "cell_type": "markdown",
   "metadata": {},
   "source": [
    "# Parcours séquentiel d'un tableau"
   ]
  },
  {
   "cell_type": "markdown",
   "metadata": {},
   "source": [
    "## Recherche d'une occurence"
   ]
  },
  {
   "cell_type": "markdown",
   "metadata": {},
   "source": [
    "Soit le problème suivant: étant donné un tableau `t` de $n$ éléments, écrire un algorithme qui permet de dire si un élément $x$ appartient à ce tableau.   \n",
    "Le problème: $x$ appartient-il au tableau ?  \n",
    "*Remarque: on peut présenter les algorithmes en \"pseudo-code\" afin de ne pas être dépendant des rigueurs syntaxiques d'un langage de programmation*\n",
    "\n",
    "Les entrées: un tableau `t` et un élément `x`;  \n",
    "La sortie: une réponse vraie ou fausse (`True` ou `False`)  \n",
    "\n",
    "*Une* solution:  \n",
    "```\n",
    "fonction appartient(x, t):\n",
    "\n",
    "Entrées:\n",
    "- t: tableau\n",
    "- x: élément de même type que les éléments du tableau t\n",
    "Sortie: booléen (réponse)\n",
    "\n",
    "Variable: n, entier naturel\n",
    "\n",
    "n = taille(t)\n",
    "Pour i allant de 0 à n-1 \n",
    "    Si t[i] = x  \n",
    "        retourner Vrai  \n",
    "Retourner Faux\n",
    "```"
   ]
  },
  {
   "cell_type": "code",
   "execution_count": 1,
   "metadata": {},
   "outputs": [],
   "source": [
    "#Implémentation en python\n",
    "def appartient_v1(x, t):\n",
    "    \"\"\"\n",
    "    retourne un booléen correspondant à la présence x dans t (ou non);\n",
    "    x: élément de même type que les éléments de t\n",
    "    \"\"\"\n",
    "    n = len(t)\n",
    "    for i in range(n):\n",
    "        if t[i] == x:\n",
    "            return True\n",
    "    return False"
   ]
  },
  {
   "cell_type": "code",
   "execution_count": null,
   "metadata": {},
   "outputs": [],
   "source": [
    "appartient_v1(-5, [5, 10, 15, 20])"
   ]
  },
  {
   "cell_type": "markdown",
   "metadata": {},
   "source": [
    "**Travail**: réaliser l'implémentation en python en utilisant une boucle `while` plutôt qu'une boucle `for`."
   ]
  },
  {
   "cell_type": "code",
   "execution_count": 1,
   "metadata": {},
   "outputs": [],
   "source": [
    "def appartient_v1b(x, t):\n",
    "    \"\"\"\n",
    "    retourne un booléen correspondant à la présence x dans t (ou non);\n",
    "    t: tableau d'entiers\n",
    "    x: élément de même type que les éléments de t\n",
    "    \"\"\"\n",
    "    n = len(t)\n",
    "    i = 0\n",
    "    while i < n and t[i] != x:\n",
    "        i = i + 1\n",
    "    if i < n:\n",
    "        return True\n",
    "    return False\n",
    "    "
   ]
  },
  {
   "cell_type": "code",
   "execution_count": 3,
   "metadata": {},
   "outputs": [
    {
     "data": {
      "text/plain": [
       "False"
      ]
     },
     "execution_count": 3,
     "metadata": {},
     "output_type": "execute_result"
    }
   ],
   "source": [
    "appartient_v1b(-1, [5, 10, 15, 20])"
   ]
  },
  {
   "cell_type": "markdown",
   "metadata": {},
   "source": [
    "*Remarque*: on aurait pu boucler sur éléments plutôt que les indices; cela nous dispense de la variable n."
   ]
  },
  {
   "cell_type": "code",
   "execution_count": 8,
   "metadata": {},
   "outputs": [],
   "source": [
    "def appartient_v2(x, t):\n",
    "    \"\"\"\n",
    "    retourne un booléen correspondant à la présence x dans t (ou non);\n",
    "    x: élément de même type que les éléments de t\n",
    "    \"\"\"\n",
    "    for t_i in t:\n",
    "        if t_i == x:\n",
    "            return True\n",
    "    return False"
   ]
  },
  {
   "cell_type": "markdown",
   "metadata": {},
   "source": [
    "## Recherche d'un extrémum"
   ]
  },
  {
   "cell_type": "markdown",
   "metadata": {},
   "source": [
    "Deuxième problème: étant donné un tableau `t` de $n$ éléments, écrire un algorithme qui permet de trouver le minimum parmi les éléments de ce tableau.   \n",
    "Le problème: quellle est la plus petite valeur du tableau ? \n",
    "\n",
    "```\n",
    "fonction minimum(t):\n",
    "L'entrée: un tableau t;  \n",
    "La sortie: le plus petit élément de t  \n",
    "Variables: \n",
    "    n, entier naturel\n",
    "    mini, même type que les éléments de t\n",
    "Précondition: t non vide\n",
    "\n",
    "n = taille(t)\n",
    "mini = t[0]\n",
    "Pour i allant de 1 à n-1:\n",
    "    Si t[i] <= mini\n",
    "        mini = t[i]\n",
    "retourner mini\n",
    "```"
   ]
  },
  {
   "cell_type": "code",
   "execution_count": 15,
   "metadata": {},
   "outputs": [],
   "source": [
    "def minimum(t):\n",
    "    \"\"\"\n",
    "    Retourne le plus petit élément de t\n",
    "    \"\"\"\n",
    "    assert t != [], \"Erreur: tableau vide\"\n",
    "    n = len(t)\n",
    "    mini = t[0]\n",
    "    for i in range(1,n):\n",
    "        if t[i] < mini:\n",
    "            mini = t[i]\n",
    "    return mini"
   ]
  },
  {
   "cell_type": "code",
   "execution_count": 16,
   "metadata": {},
   "outputs": [
    {
     "data": {
      "text/plain": [
       "-15"
      ]
     },
     "execution_count": 16,
     "metadata": {},
     "output_type": "execute_result"
    }
   ],
   "source": [
    "minimum([5, 10, -15, 20])"
   ]
  },
  {
   "cell_type": "code",
   "execution_count": 17,
   "metadata": {},
   "outputs": [
    {
     "data": {
      "text/plain": [
       "0"
      ]
     },
     "execution_count": 17,
     "metadata": {},
     "output_type": "execute_result"
    }
   ],
   "source": [
    "minimum([0, 12])"
   ]
  },
  {
   "cell_type": "markdown",
   "metadata": {},
   "source": [
    "**Travail**: écrire et tester l'implémentation d'une fonction retournant l'élément **le plus grand** de `t`"
   ]
  },
  {
   "cell_type": "markdown",
   "metadata": {},
   "source": [
    "## Calcul d'une moyenne"
   ]
  },
  {
   "cell_type": "markdown",
   "metadata": {},
   "source": [
    "Troisième problème: étant donné un tableau `t` de $n$ éléments, écrire un algorithme qui permet de trouver la moyenne des éléments de ce tableau.   \n",
    "Le problème: quellle est la valeur moyenne des éléments du tableau ?"
   ]
  },
  {
   "cell_type": "markdown",
   "metadata": {},
   "source": [
    "```\n",
    "fonction moyenne(t):\n",
    "L'entrée: un tableau t de flottants;  \n",
    "La sortie: la moyenne de tous les éléments de t  \n",
    "Variables: \n",
    "    n, entier naturel\n",
    "    somme, flottant\n",
    "Précondition: t non vide\n",
    "\n",
    "n = taille(t)\n",
    "somme = 0\n",
    "Pour i allant de 0 à n-1:\n",
    "    somme = somme + t[i]\n",
    "retourner somme / n\n",
    "```"
   ]
  },
  {
   "cell_type": "markdown",
   "metadata": {},
   "source": [
    "**Travail**: implémenter cet algorithme en python"
   ]
  },
  {
   "cell_type": "code",
   "execution_count": 1,
   "metadata": {},
   "outputs": [],
   "source": [
    "def moyenne(t):\n",
    "    \"\"\"\n",
    "    Renvoie la moyenne des éléments d'un tableau t non vide;\n",
    "    \"\"\"\n",
    "    assert len(t) != 0, \"Erreur: tableau vide\"\n",
    "    n = len(t)\n",
    "    somme = 0\n",
    "    for i in range(n):\n",
    "        somme = somme + t[i]\n",
    "    return somme / n"
   ]
  },
  {
   "cell_type": "code",
   "execution_count": 5,
   "metadata": {},
   "outputs": [
    {
     "data": {
      "text/plain": [
       "12.5"
      ]
     },
     "execution_count": 5,
     "metadata": {},
     "output_type": "execute_result"
    }
   ],
   "source": [
    "moyenne([5.5, 10.0, 15.0, 19.5])"
   ]
  },
  {
   "cell_type": "markdown",
   "metadata": {},
   "source": [
    "## Coût des algorithmes"
   ]
  },
  {
   "cell_type": "markdown",
   "metadata": {},
   "source": [
    "La boucle est parcourue:\n",
    "* $n$ fois dans le pire des cas (*si x n'appartient pas au tableau*) dans le problème 1\n",
    "* $n-1$ fois dans le problème 2;\n",
    "* $n$ fois dans le problème 3;  \n",
    "\n",
    "Le nombre d'opérations effectuées dépend de la taille de l'entrée $n$, plus exactement est proportionnel à $n$ (ou $n-1$). On dit que la complexité en temps de ces algorithmes est **linéaire**.  \n",
    "*Cette notion de complexité temporelle sera précisée davantage dans les documents suivants*)."
   ]
  },
  {
   "cell_type": "code",
   "execution_count": null,
   "metadata": {},
   "outputs": [],
   "source": []
  }
 ],
 "metadata": {
  "kernelspec": {
   "display_name": "Python 3",
   "language": "python",
   "name": "python3"
  },
  "language_info": {
   "codemirror_mode": {
    "name": "ipython",
    "version": 3
   },
   "file_extension": ".py",
   "mimetype": "text/x-python",
   "name": "python",
   "nbconvert_exporter": "python",
   "pygments_lexer": "ipython3",
   "version": "3.8.2"
  }
 },
 "nbformat": 4,
 "nbformat_minor": 4
}
