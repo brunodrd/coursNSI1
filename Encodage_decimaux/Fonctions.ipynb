{
 "cells": [
  {
   "cell_type": "markdown",
   "metadata": {
    "hideCode": true,
    "hidePrompt": true
   },
   "source": [
    "# Chap. II\n",
    "# LES FONCTIONS  \n",
    "\n",
    "<h2 style=\"width: 40%;padding-left:100px; font-style: italic;\">1 spé NSI</h2>  \n",
    "\n",
    "<h3 style=\"width: 40%;padding-left:100px; font-style: italic;\">Bruno DARID</h3>  \n",
    "\n",
    "## Plan\n",
    "1.  Repères historiques  \n",
    "2.  Notion de fonction: première approche  \n",
    "3.  Passer des arguments et récupérer une valeur  \n",
    "4.  Concevoir une fonction\n",
    "5.  Fonctions de la bibliothèque standard"
   ]
  },
  {
   "cell_type": "markdown",
   "metadata": {
    "hideCode": true,
    "hidePrompt": true
   },
   "source": [
    "# Repères historiques\n",
    "\n",
    "<a title=\"&quot;null0&quot; [CC BY-SA 2.0 (https://creativecommons.org/licenses/by-sa/2.0)], via Wikimedia Commons\" href=\"https://commons.wikimedia.org/wiki/File:John_McCarthy_Stanford.jpg\"><img width=\"128\" alt=\"John McCarthy Stanford\" src=\"https://upload.wikimedia.org/wikipedia/commons/thumb/4/49/John_McCarthy_Stanford.jpg/128px-John_McCarthy_Stanford.jpg\"></a> <br />\n",
    "[John McCarthy](https://fr.wikipedia.org/wiki/John_McCarthy) *(1927-2011)* auteur du langage [Lisp](https://fr.wikipedia.org/wiki/Lisp) en 1958, dont la principale construction est la définition de **fonctions**. Il joua un rôle majeur dans la programmation en intelligence artificielle, écrivant un des premiers programmes jouant aux échecs."
   ]
  },
  {
   "cell_type": "markdown",
   "metadata": {
    "hideCode": true,
    "hidePrompt": true
   },
   "source": [
    "# Notion de fonction: première approche\n",
    "Supposons que l'on doive afficher les valeurs des puissances de 2 les plus utilisées en architecture machine (8, 16, 32 et 64). On peut utiliser le programme du chapitre précédent:"
   ]
  },
  {
   "cell_type": "code",
   "execution_count": 1,
   "metadata": {
    "hideCode": false,
    "hidePrompt": true
   },
   "outputs": [
    {
     "name": "stdout",
     "output_type": "stream",
     "text": [
      "256\n",
      "65536\n",
      "4294967296\n",
      "18446744073709551616\n"
     ]
    }
   ],
   "source": [
    "N = 8\n",
    "p = 1\n",
    "for c in range(N):\n",
    "    p = p * 2\n",
    "print(p)\n",
    "\n",
    "N = 16\n",
    "p = 1\n",
    "for c in range(N):\n",
    "    p = p * 2\n",
    "print(p)\n",
    "\n",
    "N = 32\n",
    "p = 1\n",
    "for c in range(N):\n",
    "    p = p * 2\n",
    "print(p)\n",
    "\n",
    "N = 64\n",
    "p = 1\n",
    "for c in range(N):\n",
    "    p = p * 2\n",
    "print(p)"
   ]
  },
  {
   "cell_type": "markdown",
   "metadata": {
    "hideCode": true,
    "hidePrompt": true
   },
   "source": [
    "Procéder de cette façon met en évidence plusieurs problèmes. On peut citer:  \n",
    "*  les répétitions;\n",
    "*  la difficulté de maintenance du code *(que devrait-on faire si on souhaite ensuite les puissances de 16?)*\n",
    "*  etc.\n",
    "\n",
    "La solution consiste à isoler la partie de code qui se répète, lui donner un nom et l'appeler lorsque c'est nécessaire.  \n",
    "# Passer des arguments et récupérer une valeur\n",
    "Le langage python (comme les autres langages) possède une construction permettant de résoudre le problème précédent: la **définition de fonction**.\n",
    "```python\n",
    "def nom_fonction(paramètre(s)):\n",
    "    bloc_instructions\n",
    "```\n",
    "Le nom de la fonction doit commencer par une lettre, ne doit pas être un mot reservé et doit être autant que possible explicite. Le bloc d'instructions, qui constitue le corps de la fonction, **DOIT** être indenté. La fonction peut avoir 0, 1 ou plus de paramètres. \n",
    "Créons une première version d'une fonction destinée à afficher les puissances de 2."
   ]
  },
  {
   "cell_type": "code",
   "execution_count": null,
   "metadata": {
    "hideCode": false,
    "hidePrompt": true
   },
   "outputs": [],
   "source": [
    "def puissance(n):\n",
    "    p = 1\n",
    "    for c in range(n):\n",
    "        p = p * 2\n",
    "    print(p)"
   ]
  },
  {
   "cell_type": "markdown",
   "metadata": {
    "hideCode": true,
    "hidePrompt": true
   },
   "source": [
    "Lorsqu'on exécute ce code, il ne se passe **rien**. A ce stade on a définit la fonction, il faut maintenant l'appeler pour que tout son code soit exécuté. L'appel d'une fonction consiste à écrire **son nom suivi de parenthèses ouvrantes-fermantes** à l'intérieur desquelles on place d'éventuels **arguments**."
   ]
  },
  {
   "cell_type": "code",
   "execution_count": 3,
   "metadata": {},
   "outputs": [
    {
     "name": "stdout",
     "output_type": "stream",
     "text": [
      "32\n"
     ]
    }
   ],
   "source": [
    "puissance(5)"
   ]
  },
  {
   "cell_type": "code",
   "execution_count": null,
   "metadata": {},
   "outputs": [],
   "source": []
  },
  {
   "cell_type": "code",
   "execution_count": null,
   "metadata": {
    "hideCode": false,
    "hideOutput": false,
    "hidePrompt": true
   },
   "outputs": [],
   "source": [
    "puissance(8)\n",
    "puissance(16)\n",
    "puissance(32)\n",
    "puissance(64)"
   ]
  },
  {
   "cell_type": "markdown",
   "metadata": {
    "hideCode": true,
    "hidePrompt": true
   },
   "source": [
    "La définition `puissance(n)` proposée ne correspond pas exactement à une fonction (on devrait plutôt parler ici de *procédure*). En effet, une fonction au sens strict devrait fournir (on dit **retourner**) une valeur. Python dispose de l'instruction `return` qui permet de retourner une valeur. Une version améliorée de la définition de `puissance(n)` ainsi que son appel pourrait être:"
   ]
  },
  {
   "cell_type": "code",
   "execution_count": null,
   "metadata": {
    "hideCode": false,
    "hideOutput": false,
    "hidePrompt": true
   },
   "outputs": [],
   "source": [
    "def puissance(n):\n",
    "    p = 1\n",
    "    for c in range(n):\n",
    "        p = p * 2\n",
    "    return p\n",
    "\n",
    "print(puissance(8))\n",
    "print(puissance(16))\n",
    "print(puissance(32))\n",
    "print(puissance(64))"
   ]
  },
  {
   "cell_type": "markdown",
   "metadata": {
    "hideCode": true,
    "hidePrompt": true
   },
   "source": [
    "# Concevoir une fonction\n",
    "En plus d'un nom explicite une fonction devrait être convenablement documentée. Cette documentation devra comporter des **spécifications**, c'est-à-dire les hypothèses faites sur les arguments, leur relation avec le résultat retourné. En python, la documentation suit immédiatement la définition de la fonction et est encadrée de trois double quotes \"\"\".  \n",
    "Exemple"
   ]
  },
  {
   "cell_type": "code",
   "execution_count": 6,
   "metadata": {
    "hideCode": false,
    "hidePrompt": true
   },
   "outputs": [
    {
     "name": "stdout",
     "output_type": "stream",
     "text": [
      "256\n"
     ]
    }
   ],
   "source": [
    "def puissance(x,n):\n",
    "    \"\"\"\n",
    "    Calcule x à la puissance n; on suppose x > 0 et n >= 0\n",
    "    \"\"\"\n",
    "    p = 1\n",
    "    for c in range(n):\n",
    "        p = p * x\n",
    "    return p\n",
    "\n",
    "print(puissance(16,2))"
   ]
  },
  {
   "cell_type": "markdown",
   "metadata": {
    "hideCode": true,
    "hidePrompt": true
   },
   "source": [
    "Cette documentation est en outre accessible via la fonction `help()`"
   ]
  },
  {
   "cell_type": "code",
   "execution_count": 7,
   "metadata": {
    "hideCode": false,
    "hidePrompt": true
   },
   "outputs": [
    {
     "name": "stdout",
     "output_type": "stream",
     "text": [
      "Help on function puissance in module __main__:\n",
      "\n",
      "puissance(x, n)\n",
      "    Calcule x à la puissance n; on suppose x > 0 et n >= 0\n",
      "\n"
     ]
    }
   ],
   "source": [
    "help(puissance)"
   ]
  },
  {
   "cell_type": "markdown",
   "metadata": {
    "hideCode": true,
    "hidePrompt": true
   },
   "source": [
    "# Fonctions de la bibliothèque standard\n",
    "Tous les grands langages de programmation proposent des fonctions toutes faites. Ces fonctions écrites dans le langage et fournies avec lui sont regroupées dans la **bibliothèque standard**. On peut citer par exemple, la bibliothèque *math* ou *random*. Pour pouvoir utiliser les fonctions d'une bibliothèque, il faut d'abord l'importer avec l'instruction `import`.  \n",
    "Exemple"
   ]
  },
  {
   "cell_type": "code",
   "execution_count": 11,
   "metadata": {
    "hideCode": false,
    "hidePrompt": true
   },
   "outputs": [],
   "source": [
    "import matplotlib.pyplot as plt\n"
   ]
  },
  {
   "cell_type": "markdown",
   "metadata": {
    "hideCode": true,
    "hidePrompt": true
   },
   "source": [
    "Pour obtenir la documentation d'une fonction de la bibliothèque (on dit aussi *module*), on utilise la fonction `help()`."
   ]
  },
  {
   "cell_type": "code",
   "execution_count": 2,
   "metadata": {
    "hideCode": false,
    "hidePrompt": true
   },
   "outputs": [
    {
     "name": "stdout",
     "output_type": "stream",
     "text": [
      "Help on built-in function radians in module math:\n",
      "\n",
      "radians(x, /)\n",
      "    Convert angle x from degrees to radians.\n",
      "\n"
     ]
    }
   ],
   "source": [
    "help(math.radians)"
   ]
  },
  {
   "cell_type": "markdown",
   "metadata": {
    "hideCode": true,
    "hidePrompt": true
   },
   "source": [
    "Pour connaître les fonctions disponibles dans une bibliothèque, on utilise la fonction `dir()`."
   ]
  },
  {
   "cell_type": "code",
   "execution_count": 10,
   "metadata": {
    "hideCode": false,
    "hideOutput": true,
    "hidePrompt": true
   },
   "outputs": [
    {
     "data": {
      "text/plain": [
       "['__doc__',\n",
       " '__loader__',\n",
       " '__name__',\n",
       " '__package__',\n",
       " '__spec__',\n",
       " 'acos',\n",
       " 'acosh',\n",
       " 'asin',\n",
       " 'asinh',\n",
       " 'atan',\n",
       " 'atan2',\n",
       " 'atanh',\n",
       " 'ceil',\n",
       " 'copysign',\n",
       " 'cos',\n",
       " 'cosh',\n",
       " 'degrees',\n",
       " 'e',\n",
       " 'erf',\n",
       " 'erfc',\n",
       " 'exp',\n",
       " 'expm1',\n",
       " 'fabs',\n",
       " 'factorial',\n",
       " 'floor',\n",
       " 'fmod',\n",
       " 'frexp',\n",
       " 'fsum',\n",
       " 'gamma',\n",
       " 'gcd',\n",
       " 'hypot',\n",
       " 'inf',\n",
       " 'isclose',\n",
       " 'isfinite',\n",
       " 'isinf',\n",
       " 'isnan',\n",
       " 'ldexp',\n",
       " 'lgamma',\n",
       " 'log',\n",
       " 'log10',\n",
       " 'log1p',\n",
       " 'log2',\n",
       " 'modf',\n",
       " 'nan',\n",
       " 'pi',\n",
       " 'pow',\n",
       " 'radians',\n",
       " 'remainder',\n",
       " 'sin',\n",
       " 'sinh',\n",
       " 'sqrt',\n",
       " 'tan',\n",
       " 'tanh',\n",
       " 'tau',\n",
       " 'trunc']"
      ]
     },
     "execution_count": 10,
     "metadata": {},
     "output_type": "execute_result"
    }
   ],
   "source": [
    "dir(math)"
   ]
  },
  {
   "cell_type": "markdown",
   "metadata": {
    "hideCode": true,
    "hidePrompt": true
   },
   "source": [
    "Pour appeler une fonction d'une bibliothèque, on doit préfixer son nom par le nom de la bibliothèque suivi d'un point.  \n",
    "Exemple"
   ]
  },
  {
   "cell_type": "code",
   "execution_count": 2,
   "metadata": {
    "hideCode": false,
    "hidePrompt": true
   },
   "outputs": [
    {
     "name": "stdout",
     "output_type": "stream",
     "text": [
      "Sinus de pi/4:  0.7071067811865476\n"
     ]
    }
   ],
   "source": [
    "import math\n",
    "\n",
    "#Affichage du sinus de pi/4\n",
    "print(\"Sinus de pi/4: \", math.sin(math.pi/4))"
   ]
  },
  {
   "cell_type": "markdown",
   "metadata": {
    "hideCode": true,
    "hidePrompt": true
   },
   "source": [
    "On peut raccourcir l'écriture précédente, même si elle n'est pas recommandée, avec la construction suivante:"
   ]
  },
  {
   "cell_type": "code",
   "execution_count": null,
   "metadata": {
    "hideCode": false,
    "hidePrompt": true
   },
   "outputs": [],
   "source": [
    "from math import *\n",
    "\n",
    "print(\"Sinus de pi/4:\", sin(pi/4))"
   ]
  },
  {
   "cell_type": "code",
   "execution_count": 12,
   "metadata": {},
   "outputs": [
    {
     "data": {
      "text/plain": [
       "16"
      ]
     },
     "execution_count": 12,
     "metadata": {},
     "output_type": "execute_result"
    }
   ],
   "source": [
    "round(15.6)"
   ]
  },
  {
   "cell_type": "markdown",
   "metadata": {
    "hideCode": true,
    "hidePrompt": true
   },
   "source": [
    "<a rel=\"license\" href=\"http://creativecommons.org/licenses/by-nc/4.0/\"><img alt=\"Licence Creative Commons\" style=\"dislay: block; margin-left:auto; margin-right: auto; border-width:0;\" src=\"https://i.creativecommons.org/l/by-nc/4.0/88x31.png\" /></a><br />Ce(tte) œuvre est mise à disposition selon les termes de la <a rel=\"license\" href=\"http://creativecommons.org/licenses/by-nc/4.0/\">Licence Creative Commons Attribution - Pas d’Utilisation Commerciale 4.0 International</a>. "
   ]
  },
  {
   "cell_type": "markdown",
   "metadata": {
    "hideCode": true,
    "hidePrompt": true
   },
   "source": [
    "## A retenir\n",
    "Une fonction permet une écriture plus concise du code, une maintenance plus aisée. On la déclare de la manière suivante:\n",
    "```python\n",
    "def nom_fonction(paramètre(s)):\n",
    "    bloc_instructions\n",
    "```\n",
    "L'appel se fait en écrivant le nom de la fonction suivi d'éventuels arguments entre parenthèses. Si la fonction ne retourne pas de valeur on lui préfèrera le nom de *procédure*. La bibliothèque standard contient des fonctions prêtes à l'emploi. L'appel se fait de la même manière, après l'importation de la bibliothèque avec l'instruction `import`."
   ]
  },
  {
   "cell_type": "markdown",
   "metadata": {
    "hideCode": true,
    "hidePrompt": true
   },
   "source": [
    "---\n",
    "**E1C2 : maximum**  \n",
    "Définissez une fonction maximum($n_1,n_2,n_3$) qui renvoie le plus grand de 3 nombres $n_1, n_2,\n",
    "n_3$ fournis en arguments. Par exemple, l’exécution de l’instruction :\n",
    "```python\n",
    "print(maximum(2,5,4))\n",
    "``` \n",
    "doit donner le résultat 5.  \n",
    "\n",
    "**E2C2 : volume d'un ballon**  \n",
    "Ecrire une fonction volume_ballon qui prend en paramètre un rayon $r$ et qui retourne le volume $V$ d'un ballon de rayon $r$. Rappel: $V=\\dfrac{4}{3}\\times\\pi r^{3}$  \n",
    "Documenter la fonction. Afficher le volume d'un ballon de football ($r=11$ cm) puis de basket ($r=12.4$ cm) en arrondissant les résultats (voir la fonction `round()`de la bibliothèque standard).  \n",
    "\n",
    "**E3C2 : longueur d'un tweet**  \n",
    "La longueur maximale d'un message sur Tweeter est de 280 caractères. On souhaite écrire un programme qui indique le nombre de caractères d'un message qu'on souhaiterait publier.  \n",
    "1.  Que réalise la fonction `len()` de la bibliothèque standard?\n",
    "2.  Ecrire une fonction longueur_message(msg) qui prend comme paramètre un message (*une chaine de caractère*) et qui renvoit le nombre de caractères de ce message.\n",
    "3.  Ecrire le programme qui demande à l'utilisateur de rentrer son message et qui affiche la longueur de celui-ci. Utiliser la fonction précédente.  \n",
    "\n",
    "**P1C2 : distance euclidienne** ([France IOI](http://www.france-ioi.org/))  \n",
    "Sur les feuilles à motifs que vous leur avez imprimées tout à l'heure, les jeunes gens souhaiteraient calculer la distance entre deux motifs, ce qui ce fait facilement si l'on perçoit la feuille comme un repère orthonormé.\n",
    "Ce que doit faire votre programme :\n",
    "\n",
    "Écrivez une fonction qui prend en paramètre les coordonnées $(x_A,y_A)$ et $(x_B,y_B)$ de deux points et retourne la distance euclidienne entre ces deux points. On rappelle que la distance euclidienne entre deux points est égale à :\n",
    "$$\\sqrt{(x_B−x_A)^2+(y_B−y_A)^2}$$\n",
    "\n",
    "Utilisez ensuite cette fonction dans un programme qui lit quatre nombres décimaux $x_A, y_A, x_B$ et $y_B$ \n",
    "tapés au clavier, puis affiche la distance entre les deux points correspondants.\n",
    "\n",
    "On pourra utiliser la fonction $sqrt(x)$ de la bibliothèque math, qui retourne la racine carrée du paramètre $x$. "
   ]
  },
  {
   "cell_type": "markdown",
   "metadata": {
    "hideCode": true,
    "hideOutput": false,
    "hidePrompt": true
   },
   "source": [
    "# CORRECTION\n",
    "## E1C2 : maximum"
   ]
  },
  {
   "cell_type": "code",
   "execution_count": null,
   "metadata": {
    "hideCode": false,
    "hidePrompt": true
   },
   "outputs": [],
   "source": [
    "def maximum(n1,n2,n3):\n",
    "    maxi = n1\n",
    "    if n2 > n1:\n",
    "        if n3 > n2:\n",
    "            maxi = n3\n",
    "        else:\n",
    "            maxi = n2\n",
    "    return maxi\n",
    "\n",
    "print(maximum(12,5,4))"
   ]
  },
  {
   "cell_type": "markdown",
   "metadata": {
    "hideCode": true,
    "hidePrompt": true
   },
   "source": [
    "## E2C2 : volume d'un ballon"
   ]
  },
  {
   "cell_type": "code",
   "execution_count": null,
   "metadata": {
    "hideCode": false,
    "hidePrompt": true
   },
   "outputs": [],
   "source": [
    "help(pow)\n",
    "help(round)"
   ]
  },
  {
   "cell_type": "code",
   "execution_count": null,
   "metadata": {
    "hideCode": false,
    "hidePrompt": true
   },
   "outputs": [],
   "source": [
    "import math\n",
    "def volume_ballon(r):\n",
    "    \"\"\"\n",
    "    Calcule le volume d'une boule de rayon r;\n",
    "    On suppose r > 0.\n",
    "    \"\"\"\n",
    "    V = (4/3) * math.pi * r**3\n",
    "    #la puissance se note ** en python\n",
    "    #Autre solution: V = (4/3) * math.pi * pow(r,3)\n",
    "    #Voir help(pow)\n",
    "    return round(V)\n",
    "\n",
    "print(\"Volume ballon foot: \",volume_ballon(11),\"cm3\")\n",
    "print(\"Volume ballon basket: \",volume_ballon(12.4),\"cm3\")"
   ]
  },
  {
   "cell_type": "markdown",
   "metadata": {
    "hideCode": true,
    "hidePrompt": true
   },
   "source": [
    "## E3C2 : longueur d'un tweet"
   ]
  },
  {
   "cell_type": "code",
   "execution_count": null,
   "metadata": {
    "hideCode": false,
    "hidePrompt": true
   },
   "outputs": [],
   "source": [
    "help(len)"
   ]
  },
  {
   "cell_type": "code",
   "execution_count": 3,
   "metadata": {
    "hideCode": false,
    "hidePrompt": true
   },
   "outputs": [
    {
     "name": "stdout",
     "output_type": "stream",
     "text": [
      "Quel message souhaitez-vous publier? \n",
      "Sa longueur est de 0 caractères\n"
     ]
    }
   ],
   "source": [
    "def longueur_message(msg):\n",
    "    \"\"\"\n",
    "    Calcule la longueur d'un message msg;\n",
    "    msg est une chaine de caractères.\n",
    "    \"\"\"\n",
    "    return len(msg)\n",
    "\n",
    "tweet = input(\"Quel message souhaitez-vous publier? \")\n",
    "l = longueur_message(tweet)\n",
    "print(\"Sa longueur est de\", l, \"caractères\")"
   ]
  },
  {
   "cell_type": "markdown",
   "metadata": {
    "hideCode": true,
    "hidePrompt": true
   },
   "source": [
    "## P1C2 : distance euclidienne"
   ]
  },
  {
   "cell_type": "code",
   "execution_count": 5,
   "metadata": {
    "hideCode": false,
    "hideOutput": true,
    "hidePrompt": true
   },
   "outputs": [
    {
     "name": "stdout",
     "output_type": "stream",
     "text": [
      "----- Distance entre deux points A et B --------\n",
      "Entrez dans l'ordre xA, yA, xB et yB \n",
      "3\n",
      "6\n",
      "8\n",
      "8.4\n",
      "La distance entre A et B est 3.026549190084311\n"
     ]
    }
   ],
   "source": [
    "import math \n",
    "\n",
    "def d_euclide(xA,xB,yA,yB):\n",
    "    \"\"\"\n",
    "    Calcule la distance euclidienne entre deux points A et B de coordonnées \n",
    "    (xA,yA) et (xB,yB);\n",
    "    On suppose que xA,xB,yA,yB sont des flottants.\n",
    "    \"\"\"\n",
    "    d2 = (xB-xA)**2 + (yB-yA)**2\n",
    "    return math.sqrt(d2)\n",
    "\n",
    "print(\"----- Distance entre deux points A et B --------\")\n",
    "print(\"Entrez dans l'ordre xA, yA, xB et yB \")\n",
    "xA, xB, yA, yB = float(input()), float(input()), float(input()), float(input())\n",
    "print(\"La distance entre A et B est\", d_euclide(xA,xB,yA,yB))"
   ]
  }
 ],
 "metadata": {
  "celltoolbar": "Hide code",
  "hide_code_all_hidden": true,
  "kernelspec": {
   "display_name": "Python 3",
   "language": "python",
   "name": "python3"
  },
  "language_info": {
   "codemirror_mode": {
    "name": "ipython",
    "version": 3
   },
   "file_extension": ".py",
   "mimetype": "text/x-python",
   "name": "python",
   "nbconvert_exporter": "python",
   "pygments_lexer": "ipython3",
   "version": "3.7.2"
  }
 },
 "nbformat": 4,
 "nbformat_minor": 2
}
