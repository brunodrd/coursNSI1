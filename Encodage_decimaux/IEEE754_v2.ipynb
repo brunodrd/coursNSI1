{
 "cells": [
  {
   "cell_type": "markdown",
   "metadata": {
    "hideOutput": false
   },
   "source": [
    "# Représentation approximative des nombres réels"
   ]
  },
  {
   "cell_type": "markdown",
   "metadata": {},
   "source": [
    "## Conversion d'un nombre décimal en binaire - virgule fixe\n",
    "La méthode consiste à décomposer la partie entière et la partie fractionnaire suivant les puissances de deux (puissances positives pour la partie entière et puissances négatives pour la partie fractionnaire). Ces deux parties étant séparées par la virgule (qui est fixe dans ce cas). La conversion binaire $\\rightarrow$ décimale est alors évidente."
   ]
  },
  {
   "cell_type": "code",
   "execution_count": null,
   "metadata": {},
   "outputs": [],
   "source": [
    "%%latex\n",
    "\\begin{table}[h!]\n",
    "\\begin{tabular}{|c|c|c|c|c|c|c|}\n",
    "\\hline\n",
    "$2^2$ & $2^1$ & $2^0$ & $2^{-1}$ & $2^{-2}$ & $2^{-3}$ & $2^{-4}$ \\\\ \\hline\n",
    "1     & 0     & 1     & 1        & 1        & 0        & 1        \\\\ \\hline\n",
    "\\end{tabular}\n",
    "\\end{table}"
   ]
  },
  {
   "cell_type": "markdown",
   "metadata": {},
   "source": [
    "Algorithme décimal $\\rightarrow$ binaire  \n",
    "\n",
    "1)  Convertir la partie entière (voir cours précédents)  \n",
    "2)  Convertir la partie fractionnaire en adoptant l'algorithme suivant:  \n",
    "*  multiplier la partie fractionnaire par deux;\n",
    "*  extraire la partie entière qui donne un des bits de la partie fractionnaire;  \n",
    "*  répéter tant que la partie fractionnaire restante est différente de zéro."
   ]
  },
  {
   "cell_type": "markdown",
   "metadata": {},
   "source": [
    "## Conversion d'un nombre décimal en binaire - virgule flottante  \n",
    "### Le format\n",
    "La deuxième façon d'encoder un nombre décimal est inspirée de la notation scientifique: $\\pm m\\times 10^n$ mais en base deux, c'est-à-dire $(-1)^s\\times 1,f \\times 2^{e-biais}$. Il s'agit des nombres à virgule flottante.  \n",
    "Ce format est constitué de trois parties essentielles:  \n",
    "*  1 bit de signe $s$;\n",
    "*  un exposant; pour éviter d'avoir que des grandes valeur, on décale cet exposant d'une certaine valeur (biais);  \n",
    "*  une partie fractionnaire $f$ appelé encore mantisse. "
   ]
  },
  {
   "cell_type": "code",
   "execution_count": null,
   "metadata": {},
   "outputs": [],
   "source": [
    "%%latex\n",
    "\\begin{table}[h!]\n",
    "\\begin{tabular}{lll}\n",
    "signe & exposant & mantisse\n",
    "\\end{tabular}\n",
    "\\end{table}"
   ]
  },
  {
   "cell_type": "markdown",
   "metadata": {},
   "source": [
    "La représentation des nombres à virgule flottante est entièrement définie dans la norme IEEE 754. Celle-ci prévoit une représentation simple précision sur 32 bits ou double précision sur 64 bits."
   ]
  },
  {
   "cell_type": "code",
   "execution_count": null,
   "metadata": {},
   "outputs": [],
   "source": [
    "%%latex\n",
    "\\begin{table}[]\n",
    "\\begin{tabular}{lccl}\n",
    "        & exposant ($e$) & fraction ($f$) & \\multicolumn{1}{c}{valeur}          \\\\\n",
    "32 bits & 8 bits         & 23 bits        & $(-1)^s\\times 1,f\\times 2^{e-127}$  \\\\\n",
    "64 bits & 11 bits        & 52 bits        & $(-1)^s\\times 1,f\\times 2^{e-1023}$\n",
    "\\end{tabular}\n",
    "\\end{table}"
   ]
  },
  {
   "cell_type": "markdown",
   "metadata": {},
   "source": [
    "### Exemple de conversion décimal -> flottant\n",
    "Soit à convertir $N=17,25$ en flottant, format simple précision. Il s'agit de touver les trois composantes $s,e \\mbox{ et}f$ de la représentation en virgule flottante.  \n",
    "Le nombre est positif, donc $s=0$. Pour trouver $e$, on cherche d'abord un entier $k$ tel que:\n",
    "$$N=2^k\\times 1,f$$  \n",
    "L'entier $k$ peut être obtenu par:\n",
    "$$k=\\left\\lfloor \\log_2 N\\right\\rfloor$$  \n",
    "qui se lit \"partie entière du logarithme en base 2 de N\". Sur la calculatrice, on l'obtient en prenant la partie entière du résultat $log(N) / log(2)$. En python, on peut obtenir $k$ avec les lignes suivantes:"
   ]
  },
  {
   "cell_type": "code",
   "execution_count": 9,
   "metadata": {},
   "outputs": [
    {
     "name": "stdout",
     "output_type": "stream",
     "text": [
      "4\n"
     ]
    }
   ],
   "source": [
    "from math import log2\n",
    "k = int(log2(17.25))\n",
    "print(k)"
   ]
  },
  {
   "cell_type": "markdown",
   "metadata": {},
   "source": [
    "Si on est en simple précision, on a $k=e-127$, soit $e=k+127$. Dans notre exemple, $e=4+127=131$ soit $e=10000011$ en binaire sur 8 bits."
   ]
  },
  {
   "cell_type": "markdown",
   "metadata": {},
   "source": [
    "Pour trouver la partie fractionnaire (mantisse), on remarque d'abord que:\n",
    "$$\\dfrac{17,25}{2^k}=\\dfrac{17,25}{2^4}=1,078125=1,f$$  \n",
    "On convertit alors la partie fractionnaire (ici $0,078125$) en binaire en suivant l'algorithme développé pour les nombres à virgule fixe.  \n",
    "On obtient après une succession de multiplication par 2, la partie fractionnaire de $0,078125$: $000101$.  \n",
    "La mantisse devant être codée sur 23 bits, on rajoute des zéros à droite. On a alors:\n",
    "$$f=00010100\\ 00000000\\ 0000000$$"
   ]
  },
  {
   "cell_type": "markdown",
   "metadata": {},
   "source": [
    "Finalement, le nombre $N=17,25$ s'écrit en format simple précision:"
   ]
  },
  {
   "cell_type": "code",
   "execution_count": null,
   "metadata": {},
   "outputs": [],
   "source": [
    "%%latex\n",
    "\\begin{table}[]\n",
    "\\begin{tabular}{|l|l|l|}\n",
    "\\hline\n",
    "0 & 10000011 & 00010100 00000000 0000000 \\\\ \\hline\n",
    "\\end{tabular}\n",
    "\\end{table}"
   ]
  },
  {
   "cell_type": "markdown",
   "metadata": {},
   "source": [
    "### Exemple de conversion flottant -> décimal"
   ]
  },
  {
   "cell_type": "markdown",
   "metadata": {},
   "source": [
    "Soit à convertir:\n",
    "$$1\\ 10000110\\ 10101101100000000000000$$\n",
    "Signe: $s=(-1)^1=-1$;  \n",
    "Exposant: $e-127$, soit $10000110_2 = 134-127=7$;  \n",
    "Mantisse: $1,f$ avec $f=2^{-1}+2^{-3}+2^{-5}+2^{-6}+2^{-8}+2^{-9}$, soit $1,677734375$.  \n",
    "Finalement, ce nombre vaut en décimal:\n",
    "$$-1,677734375\\times 2^7=214,75$$"
   ]
  },
  {
   "cell_type": "markdown",
   "metadata": {},
   "source": [
    "# Cas particuliers\n",
    "Lorsque tous les bits sont à zéros, cela correspond à la valeur zéro. Lorsque tous les bits de l'exposant sont à 1 et que la partie fractionnaire est nulle, cela correspond à l'infini (plus ou moins, cela dépend du bit de signe).\n",
    "Enfin, pour les nombres très petits (inférieurs à $2^{-126}$) il existe une forme dénormalisée, qui ne sera pas étudiée ici."
   ]
  },
  {
   "cell_type": "markdown",
   "metadata": {},
   "source": [
    "# Caractère approchée de la représentation\n",
    "Donner les représentations binaire de 0.2 et 0.3  \n",
    "Un ordinateur qui ne peut stocker qu'un nombre fini de chiffre, ne peut représenter correctement ces nombres et utilise par conséquent une valeur approchée. Par exemple:  \n",
    "*  1.2* 3 donne 3.5999999999999996;\n",
    "*  0.1 + 0.2 == 0.3 donne False  \n",
    "\n",
    "Par ailleurs, des propriétés comme l'associativité de l'addition ne sont plus valables"
   ]
  },
  {
   "cell_type": "code",
   "execution_count": 14,
   "metadata": {},
   "outputs": [
    {
     "data": {
      "text/plain": [
       "6.5"
      ]
     },
     "execution_count": 14,
     "metadata": {},
     "output_type": "execute_result"
    }
   ],
   "source": [
    "1.6 +(3.2 + 1.7)"
   ]
  },
  {
   "cell_type": "code",
   "execution_count": 15,
   "metadata": {},
   "outputs": [
    {
     "data": {
      "text/plain": [
       "6.500000000000001"
      ]
     },
     "execution_count": 15,
     "metadata": {},
     "output_type": "execute_result"
    }
   ],
   "source": [
    "(1.6 + 3.2) + 1.7"
   ]
  },
  {
   "cell_type": "markdown",
   "metadata": {},
   "source": [
    "# A retenir\n",
    "Les nombres flottants sont une représentation approximatives des nombres réels dans les ordinateurs. Une norme internationale IEEE754 définit un encodage en simple ou double précision (32 ou 64 bits). Les opérations arithmétiques sur les nombres flottants n'ont pas toujours les mêmes propriétés que ces mêmes opérations sur les nombres réels."
   ]
  },
  {
   "cell_type": "markdown",
   "metadata": {},
   "source": [
    "<a rel=\"license\" href=\"http://creativecommons.org/licenses/by-nc/4.0/\"><img alt=\"Licence Creative Commons\" style=\"dislay: block; margin-left:auto; margin-right: auto; border-width:0;\" src=\"https://i.creativecommons.org/l/by-nc/4.0/88x31.png\" /></a><br />Ce(tte) œuvre est mise à disposition selon les termes de la <a rel=\"license\" href=\"http://creativecommons.org/licenses/by-nc/4.0/\">Licence Creative Commons Attribution - Pas d’Utilisation Commerciale 4.0 International</a>. "
   ]
  }
 ],
 "metadata": {
  "kernelspec": {
   "display_name": "Python 3",
   "language": "python",
   "name": "python3"
  },
  "language_info": {
   "codemirror_mode": {
    "name": "ipython",
    "version": 3
   },
   "file_extension": ".py",
   "mimetype": "text/x-python",
   "name": "python",
   "nbconvert_exporter": "python",
   "pygments_lexer": "ipython3",
   "version": "3.7.2"
  }
 },
 "nbformat": 4,
 "nbformat_minor": 2
}
