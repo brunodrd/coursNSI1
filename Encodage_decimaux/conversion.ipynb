{
 "cells": [
  {
   "cell_type": "code",
   "execution_count": 1,
   "metadata": {},
   "outputs": [],
   "source": [
    "import struct\n",
    "def ieee754(nb, precision=32):\n",
    "    \"\"\"\n",
    "    Retourne une chaine de caractère correspondant à la conversion\n",
    "    du réel nb, sur 32 bits ou 64 bits.\n",
    "    nb: réel;\n",
    "    precision: entier appartenant à {32,64} correspondant à la précision\n",
    "    \"\"\"\n",
    "    if precision == 32:\n",
    "        fmt = '>f'\n",
    "        d = 9\n",
    "    else:\n",
    "        fmt = '>d'\n",
    "        d = 12\n",
    "    binaire = ''.join(f\"{b:08b}\" for b in struct.pack(fmt, nb))\n",
    "    trois_parties = [binaire[0], binaire[1:d], binaire[d:]]\n",
    "    return ' '.join(trois_parties)"
   ]
  },
  {
   "cell_type": "code",
   "execution_count": 3,
   "metadata": {},
   "outputs": [
    {
     "data": {
      "text/plain": [
       "'0 10000011 10010100000000000000000'"
      ]
     },
     "execution_count": 3,
     "metadata": {},
     "output_type": "execute_result"
    }
   ],
   "source": [
    "ieee754(25.25)"
   ]
  },
  {
   "cell_type": "code",
   "execution_count": 38,
   "metadata": {},
   "outputs": [
    {
     "data": {
      "text/plain": [
       "'0 01110101 01000101000011101111111'"
      ]
     },
     "execution_count": 38,
     "metadata": {},
     "output_type": "execute_result"
    }
   ],
   "source": [
    "ieee754(0.00124)"
   ]
  },
  {
   "cell_type": "code",
   "execution_count": 8,
   "metadata": {},
   "outputs": [
    {
     "data": {
      "text/plain": [
       "'0b10000100'"
      ]
     },
     "execution_count": 8,
     "metadata": {},
     "output_type": "execute_result"
    }
   ],
   "source": [
    "bin(132)"
   ]
  },
  {
   "cell_type": "code",
   "execution_count": 11,
   "metadata": {},
   "outputs": [],
   "source": [
    "def virgulefixe(nb):\n",
    "    p_entiere = bin(int(nb))[2:]\n",
    "    if ',' in str(nb) or '.' in str(nb):\n",
    "        x = str(nb)\n",
    "        print(x)\n",
    "        i = 0\n",
    "        fin = len(x)\n",
    "        while i != fin:\n",
    "            if x[i] == ',' or x[i] == '.':\n",
    "                break\n",
    "            else:\n",
    "                i += 1\n",
    "        print(i)\n",
    "        print(x[i+1:])\n",
    "        p_fractionnaire = bin(int(x[i+1:]))[2:]\n",
    "    else:\n",
    "        p_fractionnaire = '0'\n",
    "    return p_entiere+','+p_fractionnaire"
   ]
  },
  {
   "cell_type": "code",
   "execution_count": 43,
   "metadata": {},
   "outputs": [
    {
     "name": "stdout",
     "output_type": "stream",
     "text": [
      "0001100110011001100110011001100110011001100110011001100110011001\n"
     ]
    }
   ],
   "source": [
    "N=0.1\n",
    "Nch = str(N).split('.')\n",
    "dim = len(Nch[1])\n",
    "f = ''\n",
    "pf = int(Nch[1])\n",
    "cpt = 64\n",
    "while pf != 0 and cpt >0:\n",
    "    if pf * 2 < int(10**dim):\n",
    "        f += '0'\n",
    "        pf = pf * 2\n",
    "    else:\n",
    "        f += '1'\n",
    "        pf = int(str(pf * 2)[1:])\n",
    "    #print(pf)\n",
    "    cpt -= 1\n",
    "print(f)"
   ]
  },
  {
   "cell_type": "code",
   "execution_count": 40,
   "metadata": {},
   "outputs": [
    {
     "data": {
      "text/plain": [
       "64"
      ]
     },
     "execution_count": 40,
     "metadata": {},
     "output_type": "execute_result"
    }
   ],
   "source": [
    "len('1100110011001100110011001100110011001100110011001100110011001100')"
   ]
  },
  {
   "cell_type": "code",
   "execution_count": 10,
   "metadata": {},
   "outputs": [
    {
     "data": {
      "text/plain": [
       "0.0"
      ]
     },
     "execution_count": 10,
     "metadata": {},
     "output_type": "execute_result"
    }
   ],
   "source": [
    "(1e23+2) -1e23"
   ]
  },
  {
   "cell_type": "code",
   "execution_count": 14,
   "metadata": {},
   "outputs": [
    {
     "data": {
      "text/plain": [
       "3.5999999999999996"
      ]
     },
     "execution_count": 14,
     "metadata": {},
     "output_type": "execute_result"
    }
   ],
   "source": [
    "1.2*3"
   ]
  },
  {
   "cell_type": "code",
   "execution_count": 17,
   "metadata": {},
   "outputs": [
    {
     "data": {
      "text/plain": [
       "1.2000000000000002"
      ]
     },
     "execution_count": 17,
     "metadata": {},
     "output_type": "execute_result"
    }
   ],
   "source": [
    "float(0.1*12)"
   ]
  },
  {
   "cell_type": "code",
   "execution_count": 19,
   "metadata": {},
   "outputs": [
    {
     "data": {
      "text/plain": [
       "16"
      ]
     },
     "execution_count": 19,
     "metadata": {},
     "output_type": "execute_result"
    }
   ],
   "source": [
    "len('2000000000000002')"
   ]
  },
  {
   "cell_type": "code",
   "execution_count": 20,
   "metadata": {},
   "outputs": [
    {
     "ename": "SyntaxError",
     "evalue": "can't assign to operator (<ipython-input-20-39a06d84d650>, line 1)",
     "output_type": "error",
     "traceback": [
      "\u001b[1;36m  File \u001b[1;32m\"<ipython-input-20-39a06d84d650>\"\u001b[1;36m, line \u001b[1;32m1\u001b[0m\n\u001b[1;33m    0.1+0.2=0.3\u001b[0m\n\u001b[1;37m               ^\u001b[0m\n\u001b[1;31mSyntaxError\u001b[0m\u001b[1;31m:\u001b[0m can't assign to operator\n"
     ]
    }
   ],
   "source": [
    "0.1+0.2=0.3"
   ]
  },
  {
   "cell_type": "code",
   "execution_count": null,
   "metadata": {},
   "outputs": [],
   "source": []
  }
 ],
 "metadata": {
  "kernelspec": {
   "display_name": "Python 3",
   "language": "python",
   "name": "python3"
  },
  "language_info": {
   "codemirror_mode": {
    "name": "ipython",
    "version": 3
   },
   "file_extension": ".py",
   "mimetype": "text/x-python",
   "name": "python",
   "nbconvert_exporter": "python",
   "pygments_lexer": "ipython3",
   "version": "3.7.2"
  }
 },
 "nbformat": 4,
 "nbformat_minor": 2
}
