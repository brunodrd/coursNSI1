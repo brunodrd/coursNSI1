{
 "cells": [
  {
   "cell_type": "markdown",
   "metadata": {
    "hideOutput": false
   },
   "source": [
    "# Représentation approximative des nombres réels"
   ]
  },
  {
   "cell_type": "markdown",
   "metadata": {},
   "source": [
    "## Conversion d'un nombre décimal en binaire - virgule fixe\n",
    "## Conversion d'un nombre décimal en binaire - virgule flottante\n",
    "### Analogie avec la notation scientifique en base 10\n",
    "### Forme normalisée - standard IEEE754\n",
    "### Exemple\n",
    "## Cas particuliers"
   ]
  },
  {
   "cell_type": "markdown",
   "metadata": {},
   "source": [
    "## Conversion d'un nombre décimal en binaire - virgule fixe\n",
    "La méthode consiste à décomposer la partie entière et la partie fractionnaire suivant les puissances de deux (puissances positives pour la partie entière et puissances négatives pour la partie fractionnaire). Ces deux parties étant séparées par la virgule (qui est fixe dans ce cas). La conversion binaire $\\rightarrow$ décimale est alors évidente."
   ]
  },
  {
   "cell_type": "code",
   "execution_count": null,
   "metadata": {},
   "outputs": [],
   "source": [
    "%%latex\n",
    "\\begin{table}[h!]\n",
    "\\begin{tabular}{|c|c|c|c|c|c|c|}\n",
    "\\hline\n",
    "$2^2$ & $2^1$ & $2^0$ & $2^{-1}$ & $2^{-2}$ & $2^{-3}$ & $2^{-4}$ \\\\ \\hline\n",
    "1     & 0     & 1     & 1        & 1        & 0        & 1        \\\\ \\hline\n",
    "\\end{tabular}\n",
    "\\end{table}"
   ]
  },
  {
   "cell_type": "markdown",
   "metadata": {},
   "source": [
    "Algorithme décimal $\\rightarrow$ binaire  \n",
    "\n",
    "1)  Convertir la partie entière (voir cours précédents)  \n",
    "2)  Convertir la partie fractionnaire en adoptant l'algorithme suivant:  \n",
    "*  multiplier la partie fractionnaire par deux;\n",
    "*  extraire la partie entière qui donne un des bits de la partie fractionnaire;  \n",
    "*  répéter tant que la partie fractionnaire restante est différente de zéro."
   ]
  },
  {
   "cell_type": "markdown",
   "metadata": {},
   "source": [
    "## Conversion d'un nombre décimal en binaire - virgule flottante\n",
    "La deuxième façon d'encoder un nombre décimal est inspirée de la notation scientifique: $\\pm m\\times 10^n$ mais en base deux, c'est-à-dire $(-1)^s\\times 1,f \\times 2^{e-biais}$. Il s'agit des nombres à virgule flottante.  \n",
    "Ce format est constitué de trois parties essentielles:  \n",
    "*  1 bit de signe $s$;\n",
    "*  un exposant; pour éviter d'avoir que des grandes valeur, on décale cet exposant d'une certaine valeur (biais);  \n",
    "*  une partie fractionnaire $f$ appelé encore mantisse. "
   ]
  },
  {
   "cell_type": "code",
   "execution_count": null,
   "metadata": {},
   "outputs": [],
   "source": [
    "%%latex\n",
    "\\begin{table}[h!]\n",
    "\\begin{tabular}{lll}\n",
    "signe & exposant & mantisse\n",
    "\\end{tabular}\n",
    "\\end{table}"
   ]
  },
  {
   "cell_type": "markdown",
   "metadata": {},
   "source": [
    "La représentation des nombres à virgule flottante est entièrement définie dans la norme IEEE 754. Celle-ci prévoit une représentation simple précision sur 32 bits ou double précision sur 64 bits."
   ]
  },
  {
   "cell_type": "code",
   "execution_count": null,
   "metadata": {},
   "outputs": [],
   "source": [
    "%%latex\n",
    "\\begin{table}[]\n",
    "\\begin{tabular}{lccl}\n",
    "        & exposant ($e$) & fraction ($f$) & \\multicolumn{1}{c}{valeur}          \\\\\n",
    "32 bits & 8 bits         & 23 bits        & $(-1)^s\\times 1,f\\times 2^{e-127}$  \\\\\n",
    "64 bits & 11 bits        & 52 bits        & $(-1)^s\\times 1,f\\times 2^{e-1023}$\n",
    "\\end{tabular}\n",
    "\\end{table}"
   ]
  },
  {
   "cell_type": "code",
   "execution_count": null,
   "metadata": {},
   "outputs": [],
   "source": []
  }
 ],
 "metadata": {
  "kernelspec": {
   "display_name": "Python 3",
   "language": "python",
   "name": "python3"
  },
  "language_info": {
   "codemirror_mode": {
    "name": "ipython",
    "version": 3
   },
   "file_extension": ".py",
   "mimetype": "text/x-python",
   "name": "python",
   "nbconvert_exporter": "python",
   "pygments_lexer": "ipython3",
   "version": "3.7.2"
  }
 },
 "nbformat": 4,
 "nbformat_minor": 2
}
