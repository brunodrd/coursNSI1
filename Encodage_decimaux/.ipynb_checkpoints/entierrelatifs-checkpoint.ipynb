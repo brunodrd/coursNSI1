{
 "cells": [
  {
   "cell_type": "code",
   "execution_count": 26,
   "metadata": {},
   "outputs": [],
   "source": [
    "def complement(b):\n",
    "    \"\"\"\n",
    "    Retourne un tableau contenant les bits de l'opposé du nombre binaire b\n",
    "    passé en paramètre;\n",
    "    b: tableau d'entiers naturels appartenant à {0,1}\n",
    "    \"\"\"\n",
    "    c2 = [0] * len(b)\n",
    "    for i in range(len(b)):\n",
    "        if b[i] == 0:\n",
    "            c2[i] = 1\n",
    "    \n",
    "    retenue = 0\n",
    "    bit0 = True\n",
    "    for k in range(len(b)-1, -1, -1):\n",
    "        if bit0:\n",
    "            addbits = c2[k] + 1\n",
    "            bit0 = False\n",
    "        else:\n",
    "            addbits = c2[k] + retenue\n",
    "        if addbits == 2:\n",
    "            c2[k] = 0\n",
    "            retenue = 1\n",
    "        elif addbits == 1:\n",
    "            c2[k] = 1\n",
    "            retenue = 0\n",
    "        else:\n",
    "            c2[k] = 0\n",
    "            retenue = 0\n",
    "    return c2"
   ]
  },
  {
   "cell_type": "code",
   "execution_count": 28,
   "metadata": {},
   "outputs": [
    {
     "data": {
      "text/plain": [
       "[0, 1, 0, 1, 0, 1, 1, 1, 1, 1, 0, 0, 1]"
      ]
     },
     "execution_count": 28,
     "metadata": {},
     "output_type": "execute_result"
    }
   ],
   "source": [
    "complement([1,0,1,0,1,0,0,0,0,0,1,1,1])"
   ]
  },
  {
   "cell_type": "code",
   "execution_count": null,
   "metadata": {},
   "outputs": [],
   "source": []
  }
 ],
 "metadata": {
  "kernelspec": {
   "display_name": "Python 3",
   "language": "python",
   "name": "python3"
  },
  "language_info": {
   "codemirror_mode": {
    "name": "ipython",
    "version": 3
   },
   "file_extension": ".py",
   "mimetype": "text/x-python",
   "name": "python",
   "nbconvert_exporter": "python",
   "pygments_lexer": "ipython3",
   "version": "3.7.2"
  }
 },
 "nbformat": 4,
 "nbformat_minor": 2
}
