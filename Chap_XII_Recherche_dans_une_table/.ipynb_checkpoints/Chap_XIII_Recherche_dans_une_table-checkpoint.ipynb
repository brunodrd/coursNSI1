{
 "cells": [
  {
   "cell_type": "markdown",
   "metadata": {},
   "source": [
    "************************\n",
    "Recherche dans une table\n",
    "************************"
   ]
  },
  {
   "cell_type": "code",
   "execution_count": 1,
   "metadata": {},
   "outputs": [],
   "source": [
    "#Fichier de travail\n",
    "import csv\n",
    "\n",
    "FILE1 = './data/resultats_bac2.csv'\n",
    "\n",
    "f = open(FILE1, newline='', encoding='utf8')\n",
    "table = [dict(row) for row in csv.DictReader(f, delimiter=';')]"
   ]
  },
  {
   "cell_type": "markdown",
   "metadata": {},
   "source": [
    "# Cohérence d'une table"
   ]
  },
  {
   "cell_type": "markdown",
   "metadata": {},
   "source": [
    "## Les données sont-elles valides?\n",
    "Dans le cours précédent on a importé les données d'un fichier csv dans un tableau. Cependant, rien ne garantit la validité des lignes.  Par exemple, on souhaiterait que les champs 'taux_..' soient complets et que leur valeur représente bien un nombre (avant sa conversion en `int` par la suite). Par ailleurs, le taux ne doit pas être supérieur à 100. D'où un exemple de fonction de validation:"
   ]
  },
  {
   "cell_type": "code",
   "execution_count": 2,
   "metadata": {},
   "outputs": [],
   "source": [
    "def validation(ligne):\n",
    "    \"\"\"\n",
    "    Retourne un booléen valant True uniquement si l'année et les taux sont des nombres (inférieurs \n",
    "    à 100 pour les taux);\n",
    "    ligne: dictionnaire\n",
    "    \"\"\"\n",
    "    an, tL, tES, tS = ligne['Année'], ligne['Taux_L'], ligne['Taux_ES'], ligne['Taux_S']\n",
    "    #La méthode de chaine isdecimal() est particulièrement adaptée ici (voir aide)\n",
    "    sont_des_nb = an.isdecimal() and tL.isdecimal() and tES.isdecimal() and tS.isdecimal()\n",
    "    #Si les taux sont des nombres, on vérifie leur conformité.\n",
    "    return sont_des_nb and int(tL) <= 100 and int(tES) <= 100 and int(tS) <= 100"
   ]
  },
  {
   "cell_type": "code",
   "execution_count": 3,
   "metadata": {},
   "outputs": [
    {
     "name": "stdout",
     "output_type": "stream",
     "text": [
      "Help on method_descriptor:\n",
      "\n",
      "isdecimal(self, /)\n",
      "    Return True if the string is a decimal string, False otherwise.\n",
      "    \n",
      "    A string is a decimal string if all characters in the string are decimal and\n",
      "    there is at least one character in the string.\n",
      "\n"
     ]
    }
   ],
   "source": [
    "help(str.isdecimal)"
   ]
  },
  {
   "cell_type": "markdown",
   "metadata": {},
   "source": [
    "On peut alors construire une table ayant des lignes conformes aux critères présentés ci-dessus et afficher les 5 premières lignes:"
   ]
  },
  {
   "cell_type": "code",
   "execution_count": 8,
   "metadata": {},
   "outputs": [
    {
     "name": "stdout",
     "output_type": "stream",
     "text": [
      "{'Etablissement': 'LYCEE MONTMAJOUR', 'Année': '2012', 'Ville': 'ARLES', 'Taux_L': '95', 'Taux_ES': '79', 'Taux_S': '96', 'Académie': 'AIX-MARSEILLE'}\n",
      "{'Etablissement': 'LYCEE BRISTOL', 'Année': '2017', 'Ville': 'CANNES', 'Taux_L': '84', 'Taux_ES': '84', 'Taux_S': '75', 'Académie': 'NICE'}\n",
      "{'Etablissement': 'LYCEE MARGUERITE DE NAVARRE', 'Année': '2017', 'Ville': 'BOURGES', 'Taux_L': '89', 'Taux_ES': '94', 'Taux_S': '91', 'Académie': 'ORLEANS-TOURS'}\n",
      "{'Etablissement': 'LYCEE FULBERT', 'Année': '2017', 'Ville': 'CHARTRES', 'Taux_L': '88', 'Taux_ES': '88', 'Taux_S': '89', 'Académie': 'ORLEANS-TOURS'}\n",
      "{'Etablissement': 'LYCEE NOTRE DAME', 'Année': '2017', 'Ville': 'CHARTRES', 'Taux_L': '100', 'Taux_ES': '97', 'Taux_S': '96', 'Académie': 'ORLEANS-TOURS'}\n"
     ]
    }
   ],
   "source": [
    "table_conforme = [ligne for ligne in table if validation(ligne)]\n",
    "for i in range(5):\n",
    "    print(table_conforme[i])"
   ]
  },
  {
   "cell_type": "markdown",
   "metadata": {},
   "source": [
    "## Comment changer le type de certains attributs?\n",
    "En plus de la validation des données, on souhaiterait convertir certains attributs (l'année et les taux) en `int`.\n",
    "Une fonction de conversion a déjà été vue dans la fiche d'exercices du cours précédent. En voici une autre:"
   ]
  },
  {
   "cell_type": "code",
   "execution_count": 9,
   "metadata": {},
   "outputs": [],
   "source": [
    "def conversion(enr):\n",
    "    \"\"\"\n",
    "    Retourne un dictionnaire avec les champs 'Année' et 'Taux_..' convertis en 'int'.\n",
    "    enr: un enregistrement, de type dictionnaire\n",
    "    \"\"\"\n",
    "    \n",
    "    assert isinstance(enr, dict), \"La donnée convertie doit être un dictionnaire\"\n",
    "    return {'Etablissement':enr['Etablissement'],\n",
    "           'Année':int(enr['Année']),\n",
    "           'Ville':enr['Ville'],\n",
    "           'Taux_L':int(enr['Taux_L']),\n",
    "           'Taux_ES':int(enr['Taux_ES']),\n",
    "           'Taux_S':int(enr['Taux_S']),\n",
    "           'Académie':enr['Académie']}"
   ]
  },
  {
   "cell_type": "code",
   "execution_count": 10,
   "metadata": {},
   "outputs": [],
   "source": [
    "table_validee = [conversion(ligne) for ligne in table if validation(ligne)]"
   ]
  },
  {
   "cell_type": "code",
   "execution_count": 12,
   "metadata": {},
   "outputs": [
    {
     "name": "stdout",
     "output_type": "stream",
     "text": [
      "{'Etablissement': 'LYCEE MONTMAJOUR', 'Année': 2012, 'Ville': 'ARLES', 'Taux_L': 95, 'Taux_ES': 79, 'Taux_S': 96, 'Académie': 'AIX-MARSEILLE'}\n",
      "{'Etablissement': 'LYCEE BRISTOL', 'Année': 2017, 'Ville': 'CANNES', 'Taux_L': 84, 'Taux_ES': 84, 'Taux_S': 75, 'Académie': 'NICE'}\n",
      "{'Etablissement': 'LYCEE MARGUERITE DE NAVARRE', 'Année': 2017, 'Ville': 'BOURGES', 'Taux_L': 89, 'Taux_ES': 94, 'Taux_S': 91, 'Académie': 'ORLEANS-TOURS'}\n",
      "{'Etablissement': 'LYCEE FULBERT', 'Année': 2017, 'Ville': 'CHARTRES', 'Taux_L': 88, 'Taux_ES': 88, 'Taux_S': 89, 'Académie': 'ORLEANS-TOURS'}\n",
      "{'Etablissement': 'LYCEE NOTRE DAME', 'Année': 2017, 'Ville': 'CHARTRES', 'Taux_L': 100, 'Taux_ES': 97, 'Taux_S': 96, 'Académie': 'ORLEANS-TOURS'}\n"
     ]
    }
   ],
   "source": [
    "for i in range(5):\n",
    "    print(table_validee[i])"
   ]
  },
  {
   "cell_type": "markdown",
   "metadata": {},
   "source": [
    "## La table comporte-t-elle des doublons?"
   ]
  },
  {
   "cell_type": "markdown",
   "metadata": {},
   "source": [
    "Les tables de données ne doivent généralement pas comporter de doublons. La fonction suivante vérifie la présence de doublons dans une table."
   ]
  },
  {
   "cell_type": "code",
   "execution_count": 20,
   "metadata": {},
   "outputs": [],
   "source": [
    "def doublon(table):\n",
    "    \"\"\"\n",
    "    Retourne un booléen correspond à la présence ou non de doublons dans la table.\n",
    "    table: tableau de dictionnaires ou de tableaux\n",
    "    \"\"\"\n",
    "    for i in range(len(table)):\n",
    "        for j in range(i + 1, len(table)):\n",
    "            if table[i] == table[j]:\n",
    "                return True\n",
    "    return False"
   ]
  },
  {
   "cell_type": "code",
   "execution_count": null,
   "metadata": {},
   "outputs": [],
   "source": [
    "doublon(table_validee)"
   ]
  },
  {
   "cell_type": "markdown",
   "metadata": {},
   "source": [
    "*Note*  \n",
    "Cette fonction n'est pas très efficace, notamment sur des tables volumineuses."
   ]
  },
  {
   "cell_type": "markdown",
   "metadata": {},
   "source": [
    "# Sélection de lignes ou de colonnes"
   ]
  },
  {
   "cell_type": "markdown",
   "metadata": {},
   "source": [
    "## Comment sélectionner des lignes d'une table?\n",
    "Les opérations faites sur les tables sont en nombre très limité. Parmi celles-ci, on trouve la **sélection** de lignes qui répondent à certain(s) critère(s). Ces critères sont exprimés avec des booléens.  \n",
    "Afin de faciliter l'écriture et l'évaluation des critères, on utilisera la fonction `eval` de python, dont l'aide est fournie ci-dessous."
   ]
  },
  {
   "cell_type": "code",
   "execution_count": 13,
   "metadata": {},
   "outputs": [
    {
     "name": "stdout",
     "output_type": "stream",
     "text": [
      "Help on built-in function eval in module builtins:\n",
      "\n",
      "eval(source, globals=None, locals=None, /)\n",
      "    Evaluate the given source in the context of globals and locals.\n",
      "    \n",
      "    The source may be a string representing a Python expression\n",
      "    or a code object as returned by compile().\n",
      "    The globals must be a dictionary and locals can be any mapping,\n",
      "    defaulting to the current globals and locals.\n",
      "    If only globals is given, locals defaults to it.\n",
      "\n"
     ]
    }
   ],
   "source": [
    "help(eval)"
   ]
  },
  {
   "cell_type": "code",
   "execution_count": 14,
   "metadata": {},
   "outputs": [],
   "source": [
    "def select(table, critere):\n",
    "    \"\"\"\n",
    "    Retourne une table dont les lignes vérifient le critere passé en paramètre.\n",
    "    table: tableau de dictionnaires\n",
    "    critere: chaine exprimant la condition \n",
    "    \"\"\"\n",
    "    return [ligne for ligne in table if eval(critere)]"
   ]
  },
  {
   "cell_type": "code",
   "execution_count": 15,
   "metadata": {},
   "outputs": [
    {
     "data": {
      "text/plain": [
       "[{'Académie': 'LA REUNION',\n",
       "  'Année': 2017,\n",
       "  'Etablissement': \"LYCEE DE BOIS D'OLIVE (GENERAL ET TECHNO.)\",\n",
       "  'Taux_ES': 79,\n",
       "  'Taux_L': 96,\n",
       "  'Taux_S': 94,\n",
       "  'Ville': 'ST PIERRE'},\n",
       " {'Académie': 'LA REUNION',\n",
       "  'Année': 2018,\n",
       "  'Etablissement': \"LYCEE DE BOIS D'OLIVE (GENERAL ET TECHNO.)\",\n",
       "  'Taux_ES': 91,\n",
       "  'Taux_L': 83,\n",
       "  'Taux_S': 97,\n",
       "  'Ville': 'ST PIERRE'}]"
      ]
     },
     "execution_count": 15,
     "metadata": {},
     "output_type": "execute_result"
    }
   ],
   "source": [
    "select(table_validee, \"'OLIVE' in ligne['Etablissement'] and ligne['Année'] >= 2017\")"
   ]
  },
  {
   "cell_type": "markdown",
   "metadata": {},
   "source": [
    "## Comment sélectionner des colonnes d'une table?"
   ]
  },
  {
   "cell_type": "markdown",
   "metadata": {},
   "source": [
    "La sélection de colonnes, appelé couramment **projection** peut être réalisée avec le code de la cellule suivante. Supposons que l'on veuille garder uniquement les colonnes 'Ville' et 'Académie' de notre table. Cette opération peut être facilement réalisée avec un tableau construit en compréhension."
   ]
  },
  {
   "cell_type": "code",
   "execution_count": 16,
   "metadata": {},
   "outputs": [
    {
     "name": "stdout",
     "output_type": "stream",
     "text": [
      "{'Ville': 'ARLES', 'Académie': 'AIX-MARSEILLE'}\n",
      "{'Ville': 'CANNES', 'Académie': 'NICE'}\n",
      "{'Ville': 'BOURGES', 'Académie': 'ORLEANS-TOURS'}\n",
      "{'Ville': 'CHARTRES', 'Académie': 'ORLEANS-TOURS'}\n",
      "{'Ville': 'CHARTRES', 'Académie': 'ORLEANS-TOURS'}\n"
     ]
    }
   ],
   "source": [
    "t = [{'Ville':ligne['Ville'], 'Académie':ligne['Académie']} for ligne in table_validee]\n",
    "#Affichage des 5 premières lignes\n",
    "for i in range(5):\n",
    "    print(t[i])"
   ]
  },
  {
   "cell_type": "markdown",
   "metadata": {},
   "source": [
    "### Bonus: une fonction projection"
   ]
  },
  {
   "cell_type": "code",
   "execution_count": 17,
   "metadata": {},
   "outputs": [],
   "source": [
    "def projection(table, tableau_colonnes):\n",
    "    \"\"\"\n",
    "    Retourne une table ne contenant uniquement que les colonnes présentes dans tableau_colonnes.\n",
    "    table: tableau de dictionnaires\n",
    "    tableau_colonnes: tableau de chaine de caractères correspondant aux noms des colonnes sélectionnées.\n",
    "    \"\"\"\n",
    "    return [{nom_col:ligne[nom_col] for nom_col in tableau_colonnes} for ligne in table]"
   ]
  },
  {
   "cell_type": "markdown",
   "metadata": {},
   "source": [
    "#### Explication"
   ]
  },
  {
   "cell_type": "markdown",
   "metadata": {},
   "source": [
    "La fonction `projection` retourne un tableau de dictionnaires construit en **compréhension**. Décomposons cette construction.  \n",
    "\n",
    "Entre les crochets `[...]`, on distingue bien trois parties essentielles: `{nom_col:ligne[nom_col] for nom_col in tableau_colonnes}`, `for` et `ligne in table`. Ce bloc d'instructions est du type `expression(ligne) for ligne in table`. Il est responsable de la formation des différentes lignes `{...}, {...}, ..., {...}`.     \n",
    "\n",
    "La suite d'instructions `{nom_col:ligne[nom_col] for nom_col in tableau_colonnes}` est responsable de la construction du **contenu** de chaque ligne (*il s'agit de la construction d'un dictionnaire par compréhension*). Les clés de chaque dictionnaire formé sont situées dans le tableau passé en argument et les valeurs sont les champs associés, de la ligne de la table de données."
   ]
  },
  {
   "cell_type": "markdown",
   "metadata": {},
   "source": [
    "#### Exemples d'utilisation"
   ]
  },
  {
   "cell_type": "code",
   "execution_count": 18,
   "metadata": {},
   "outputs": [
    {
     "name": "stdout",
     "output_type": "stream",
     "text": [
      "{'Ville': 'ARLES', 'Académie': 'AIX-MARSEILLE', 'Etablissement': 'LYCEE MONTMAJOUR'}\n",
      "{'Ville': 'CANNES', 'Académie': 'NICE', 'Etablissement': 'LYCEE BRISTOL'}\n",
      "{'Ville': 'BOURGES', 'Académie': 'ORLEANS-TOURS', 'Etablissement': 'LYCEE MARGUERITE DE NAVARRE'}\n",
      "{'Ville': 'CHARTRES', 'Académie': 'ORLEANS-TOURS', 'Etablissement': 'LYCEE FULBERT'}\n",
      "{'Ville': 'CHARTRES', 'Académie': 'ORLEANS-TOURS', 'Etablissement': 'LYCEE NOTRE DAME'}\n"
     ]
    }
   ],
   "source": [
    "#Affichage des 5 premiers éléments d'une table contenant ville et académie\n",
    "\n",
    "t = projection(table_validee, ['Ville', 'Académie', 'Etablissement'])\n",
    "for i in range(5):\n",
    "    print(t[i])"
   ]
  },
  {
   "cell_type": "code",
   "execution_count": 21,
   "metadata": {},
   "outputs": [
    {
     "data": {
      "text/plain": [
       "True"
      ]
     },
     "execution_count": 21,
     "metadata": {},
     "output_type": "execute_result"
    }
   ],
   "source": [
    "#Recherche de doublons\n",
    "doublon(projection(table_validee, ['Ville', 'Académie', 'Etablissement']))"
   ]
  },
  {
   "cell_type": "markdown",
   "metadata": {},
   "source": [
    "**Attention: une projection peut entrainer la présence de doublons**"
   ]
  },
  {
   "cell_type": "markdown",
   "metadata": {},
   "source": [
    "---\n",
    "B. DARID\n",
    "![licence](img/Cc-by-nc_icon.svg.png)"
   ]
  }
 ],
 "metadata": {
  "kernelspec": {
   "display_name": "Python 3",
   "language": "python",
   "name": "python3"
  },
  "language_info": {
   "codemirror_mode": {
    "name": "ipython",
    "version": 3
   },
   "file_extension": ".py",
   "mimetype": "text/x-python",
   "name": "python",
   "nbconvert_exporter": "python",
   "pygments_lexer": "ipython3",
   "version": "3.7.2"
  }
 },
 "nbformat": 4,
 "nbformat_minor": 2
}
