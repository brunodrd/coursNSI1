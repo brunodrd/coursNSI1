{
 "cells": [
  {
   "cell_type": "code",
   "execution_count": 2,
   "metadata": {},
   "outputs": [],
   "source": [
    "#Fichier de travail\n",
    "import csv\n",
    "\n",
    "FILE1 = './data/note_TS2.csv'\n",
    "\n",
    "f = open(FILE1, newline='', encoding='utf8')\n",
    "table = [dict(row) for row in csv.DictReader(f, delimiter=';')]"
   ]
  },
  {
   "cell_type": "code",
   "execution_count": 7,
   "metadata": {},
   "outputs": [
    {
     "name": "stdout",
     "output_type": "stream",
     "text": [
      "[{'Nom': 'Nayagom', 'Exercice 1': '2.5', 'Exercice 2': '2', 'Exercice 3': '5', 'Note': '9.5'}, {'Nom': 'Payet Nativel', 'Exercice 1': '3', 'Exercice 2': '3.5', 'Exercice 3': '2', 'Note': '8.5'}, {'Nom': 'Rescourio', 'Exercice 1': '5', 'Exercice 2': '0', 'Exercice 3': '2', 'Note': '7'}, {'Nom': 'Velia', 'Exercice 1': '6', 'Exercice 2': '5.5', 'Exercice 3': '2.5', 'Note': '14'}, {'Nom': 'Corre', 'Exercice 1': '4.5', 'Exercice 2': '0.5', 'Exercice 3': '4', 'Note': '9'}, {'Nom': 'Calogine', 'Exercice 1': '2.5', 'Exercice 2': '1.5', 'Exercice 3': '3', 'Note': '9'}, {'Nom': 'Dubard', 'Exercice 1': '5', 'Exercice 2': '4.5', 'Exercice 3': '4', 'Note': '13.5'}, {'Nom': 'Ribollet', 'Exercice 1': '3', 'Exercice 2': '3.5', 'Exercice 3': '5', 'Note': '11.5'}, {'Nom': 'Tassotto', 'Exercice 1': '3.5', 'Exercice 2': '1.5', 'Exercice 3': '5', 'Note': '10'}, {'Nom': 'Rodiet C.', 'Exercice 1': '2.5', 'Exercice 2': '0.5', 'Exercice 3': '2', 'Note': '5'}, {'Nom': 'Galibert', 'Exercice 1': '2', 'Exercice 2': '0.5', 'Exercice 3': '2', 'Note': '4.5'}, {'Nom': 'Rochefeuille', 'Exercice 1': '4', 'Exercice 2': '', 'Exercice 3': '2.5', 'Note': '9.5'}, {'Nom': 'Pajinadon', 'Exercice 1': '2.5', 'Exercice 2': '2.5', 'Exercice 3': '3.5', 'Note': '8.5'}, {'Nom': 'Oudin', 'Exercice 1': '0.5', 'Exercice 2': '1', 'Exercice 3': '2', 'Note': '3.5'}, {'Nom': 'Lallemand', 'Exercice 1': '5', 'Exercice 2': '5', 'Exercice 3': '6', 'Note': '16'}, {'Nom': 'Cadet', 'Exercice 1': '4', 'Exercice 2': '0.5', 'Exercice 3': '5', 'Note': '9.5'}, {'Nom': 'Catambara', 'Exercice 1': '3', 'Exercice 2': '0.5', 'Exercice 3': '3.5', 'Note': '7'}, {'Nom': 'Goudey', 'Exercice 1': '0.5', 'Exercice 2': '3', 'Exercice 3': '6', 'Note': '9.5'}, {'Nom': 'Metayer', 'Exercice 1': '5.5', 'Exercice 2': '3.5', 'Exercice 3': '3', 'Note': '12'}, {'Nom': 'Dijoux', 'Exercice 1': '2', 'Exercice 2': '3.5', 'Exercice 3': '5', 'Note': '10.5'}, {'Nom': 'Salvado', 'Exercice 1': '5.5', 'Exercice 2': '5.5', 'Exercice 3': '6', 'Note': '17'}, {'Nom': 'Bravin', 'Exercice 1': '3', 'Exercice 2': '1.5', 'Exercice 3': '3.5', 'Note': '8'}, {'Nom': 'Maunier', 'Exercice 1': '2', 'Exercice 2': '3', 'Exercice 3': '4', 'Note': '9'}, {'Nom': 'Darnon', 'Exercice 1': '5', 'Exercice 2': '4', 'Exercice 3': '6', 'Note': '15'}, {'Nom': 'Dufour', 'Exercice 1': '4.5', 'Exercice 2': '4.5', 'Exercice 3': '6', 'Note': '15'}, {'Nom': 'Rodier M.', 'Exercice 1': '4.5', 'Exercice 2': '3.5', 'Exercice 3': '6', 'Note': '14'}, {'Nom': 'Lefranc', 'Exercice 1': '2.5', 'Exercice 2': '0', 'Exercice 3': '1', 'Note': '3.5'}, {'Nom': 'Clain', 'Exercice 1': '4', 'Exercice 2': '4', 'Exercice 3': '3', 'Note': '11'}, {'Nom': 'Hoareau', 'Exercice 1': '6.5', 'Exercice 2': '2', 'Exercice 3': '6', 'Note': '14.5'}, {'Nom': 'Imare', 'Exercice 1': '3', 'Exercice 2': '0.5', 'Exercice 3': '1', 'Note': '4.5'}, {'Nom': 'Bravin', 'Exercice 1': '3', 'Exercice 2': '1.5', 'Exercice 3': '3.5', 'Note': '8'}]\n"
     ]
    }
   ],
   "source": [
    "print(table)"
   ]
  },
  {
   "cell_type": "markdown",
   "metadata": {},
   "source": [
    "# Exercice Relevé de notes"
   ]
  },
  {
   "cell_type": "markdown",
   "metadata": {},
   "source": [
    "1. Combien de notes comporte ce relevé?"
   ]
  },
  {
   "cell_type": "code",
   "execution_count": null,
   "metadata": {},
   "outputs": [],
   "source": [
    "#Votre justification\n",
    "### BEGIN SOLUTION\n",
    "print(len(table))\n",
    "### END SOLUTION"
   ]
  },
  {
   "cell_type": "markdown",
   "metadata": {},
   "source": [
    "2. Quels sont les champs (ou attributs) de cette table ? Donner la réponse sous la forme d'un tableau de chaine de caractères: `champs = ['champ1', 'champ2', ..., 'champN']`."
   ]
  },
  {
   "cell_type": "code",
   "execution_count": null,
   "metadata": {},
   "outputs": [],
   "source": [
    "#Votre réponse ici. Veuillez exécuter la cellule\n",
    "champs = []\n",
    "### BEGIN HIDDEN TESTS\n",
    "assert champs == ['Nom', 'Exercice 1', 'Exercice 2', 'Exercice 3', 'Note'], \"Erreur\"\n",
    "### END HIDDEN TESTS"
   ]
  },
  {
   "cell_type": "markdown",
   "metadata": {},
   "source": [
    "3. Modifier la fonction `validation` du cours afin de vérifier que les points sont nombres decimaux valides et que leur somme est bien égale à la note. Remarque: une fonction `est_flottant` est fournie."
   ]
  },
  {
   "cell_type": "code",
   "execution_count": 37,
   "metadata": {},
   "outputs": [],
   "source": [
    "def est_flottant(s):\n",
    "    \"\"\"\n",
    "    Retourne True si la chaine s correspond à un flottant valide, False sinon\n",
    "    \"\"\"\n",
    "    if s.isdecimal():\n",
    "        return True\n",
    "    elif '.' in s:\n",
    "        s = s.split('.')\n",
    "        return len(s) == 2 and s[0].isdecimal() and s[1].isdecimal()\n",
    "    else:\n",
    "        return False\n",
    "        \n",
    "def validation(ligne):\n",
    "    \"\"\"\n",
    "    Retourne un booléen valant True uniquement si les champs autre que 'Nom' sont des nombres \n",
    "    flottants valides et que la somme des points est égale à la note.\n",
    "    ligne: dictionnaire\n",
    "    \"\"\"\n",
    "    ex1, ex2, ex3, note = ligne['Exercice 1'], ligne['Exercice 2'], ligne['Exercice 3'], ligne['Note']\n",
    "    ### BEGIN SOLUTION\n",
    "    sont_des_nb = est_flottant(ex1) and est_flottant(ex2) and est_flottant(ex3) and est_flottant(note)\n",
    "    #Si les points sont des nombres, on vérifie leur conformité.\n",
    "    return sont_des_nb and (float(ex1) + float(ex2) + float(ex3) == float(note))\n",
    "    ### END SOLUTION"
   ]
  },
  {
   "cell_type": "code",
   "execution_count": 45,
   "metadata": {},
   "outputs": [],
   "source": [
    "assert validation({'Nom': 'Dufour', 'Exercice 1': '4.5', 'Exercice 2': '4.5', \n",
    "                   'Exercice 3': '6', 'Note': '15'}) == True\n",
    "assert validation({'Nom': 'Hoareau', 'Exercice 1': '4.5', 'Exercice 2': '4.(', \n",
    "                   'Exercice 3': '6', 'Note': '15'}) == False"
   ]
  },
  {
   "cell_type": "markdown",
   "metadata": {},
   "source": [
    "4. Modifier la fonction `conversion` du cours afin de convertir tous les champs en flottant (sauf le 'Nom' !)."
   ]
  },
  {
   "cell_type": "code",
   "execution_count": null,
   "metadata": {},
   "outputs": [],
   "source": [
    "def conversion(enr):\n",
    "    \"\"\"\n",
    "    Retourne un dictionnaire avec les champs 'Exercice ..' et 'Note' convertis en float.\n",
    "    enr: un enregistrement, de type dictionnaire\n",
    "    \"\"\"\n",
    "    \n",
    "    assert isinstance(enr, dict), \"La ligne convertie doit être un dictionnaire\"\n",
    "    return {'Nom': enr['Nom'], \n",
    "            'Exercice 1':float(enr['Exercice 1']), \n",
    "            'Exercice 1':float(enr['Exercice 2']), \n",
    "            'Exercice 1':float(enr['Exercice 3']),\n",
    "            'Note':float(enr['Note'])\n",
    "           }"
   ]
  }
 ],
 "metadata": {
  "kernelspec": {
   "display_name": "Python 3",
   "language": "python",
   "name": "python3"
  },
  "language_info": {
   "codemirror_mode": {
    "name": "ipython",
    "version": 3
   },
   "file_extension": ".py",
   "mimetype": "text/x-python",
   "name": "python",
   "nbconvert_exporter": "python",
   "pygments_lexer": "ipython3",
   "version": "3.7.2"
  }
 },
 "nbformat": 4,
 "nbformat_minor": 2
}
