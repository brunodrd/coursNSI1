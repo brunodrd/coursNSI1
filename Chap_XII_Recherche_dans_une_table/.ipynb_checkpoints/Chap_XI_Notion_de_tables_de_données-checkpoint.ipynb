{
 "cells": [
  {
   "cell_type": "markdown",
   "metadata": {},
   "source": [
    "*****************\n",
    "Tables de données\n",
    "*****************"
   ]
  },
  {
   "cell_type": "markdown",
   "metadata": {},
   "source": [
    "# Les tableaux - part. 3 "
   ]
  },
  {
   "cell_type": "markdown",
   "metadata": {},
   "source": [
    "## Qu'est-ce qu'un tableau de tableaux?\n",
    "Les éléments d'un tableau peuvent être des entiers, des flottants, des chaines de caractères, mais aussi ... des tableaux! Ainsi, l'écriture suivante est parfaitement valide:  \n",
    "```python\n",
    "t = [[1, 2, 3, 4], [5, 6, 7, 8]]\n",
    "```\n",
    "`t` est un tableau composé de **deux** tableaux de **quatre** entiers. Pour faciliter la compréhension, on aussi saisir `t` de la manière suivante:\n",
    "```python\n",
    "t = [[1, 2, 3, 4],\n",
    "     [5, 6, 7, 8]]\n",
    "```\n",
    "Cette présentation met bien en évidence une structure à **deux** lignes et **quatre** colonnes. Un tel tableau, dont les lignes ont la même taille, est appelé une **matrice**.  \n",
    "Les tableaux de tableaux sont utilisées pour les manipulations des données tabulées (voir ci-dessous) ou des images."
   ]
  },
  {
   "cell_type": "markdown",
   "metadata": {},
   "source": [
    "## Comment accéder aux éléments d'un tableau de tableaux?\n",
    "On privilégiera un accès indexé. Ce qui revient à dire que l'accès à un élément `t[i][j]` se fera grâce à deux index $i$ et $j$ qui représentent respectivement le numéro de la ligne et le numéro de la colonne.  \n",
    "**Exemples**"
   ]
  },
  {
   "cell_type": "code",
   "execution_count": 3,
   "metadata": {},
   "outputs": [
    {
     "name": "stdout",
     "output_type": "stream",
     "text": [
      "7\n"
     ]
    }
   ],
   "source": [
    "t = [[1, 2, 3, 4],\n",
    "     [5, 6, 7, 8]]\n",
    "#Elément de la 2ème ligne, 3ème colonne --> i=1, j=2\n",
    "print(t[1][2])"
   ]
  },
  {
   "cell_type": "code",
   "execution_count": 4,
   "metadata": {},
   "outputs": [
    {
     "name": "stdout",
     "output_type": "stream",
     "text": [
      "[[1, 2, 3, 10], [5, 6, 7, 8]]\n"
     ]
    }
   ],
   "source": [
    "#Modification de la valeur de la 1ere ligne, 4eme colonne --> i=0, j=3\n",
    "t[0][3] = 10\n",
    "print(t)"
   ]
  },
  {
   "cell_type": "markdown",
   "metadata": {},
   "source": [
    "### Exercice d'application directe\n",
    "Soit la matrice:\n",
    "```python\n",
    "t = [[15, 17, 22],\n",
    "     [17, 25, 27],\n",
    "     [31, 33, 35]]\n",
    "```\n",
    "* Que vaut `t[1][2]`?\n",
    "* Que doit-on modifier pour avoir `[[15, 17, 22], [17, 25, 45], [31, 33, 35]]`?"
   ]
  },
  {
   "cell_type": "markdown",
   "metadata": {},
   "source": [
    "## Comment construire un tableau de tableaux en compréhension?\n",
    "Pour construire un tableau `t` ayant $n$ lignes et $p$ colonnes initialisé avec des zéros par exemple, on peut procéder comme suit:"
   ]
  },
  {
   "cell_type": "code",
   "execution_count": 7,
   "metadata": {},
   "outputs": [],
   "source": [
    "n = 3\n",
    "p = 4\n",
    "\n",
    "t = [[0]*p for i in range(n)]"
   ]
  },
  {
   "cell_type": "markdown",
   "metadata": {},
   "source": [
    "*Note*  \n",
    "L'instruction `[0]*p` est équivalente à `[0] + [0] + ... + [0]` (p tableaux `[0]`) soit `[0, 0, ..., 0]` composé de p zéros."
   ]
  },
  {
   "cell_type": "markdown",
   "metadata": {},
   "source": [
    "### Exercice d'application directe\n",
    "Que vaut `t` après l'instruction `t = [[i, i+1] for i in range(2)]`?"
   ]
  },
  {
   "cell_type": "markdown",
   "metadata": {},
   "source": [
    "# Organisation des données sous forme de tables"
   ]
  },
  {
   "cell_type": "markdown",
   "metadata": {},
   "source": [
    "## Repères historiques"
   ]
  },
  {
   "cell_type": "markdown",
   "metadata": {},
   "source": [
    "![IBM](img/IBM360.jpg)\n",
    "<div align=\"center\">\n",
    "By <a href=\"//commons.wikimedia.org/wiki/User:ArnoldReinhold\" title=\"User:ArnoldReinhold\">ArnoldReinhold</a> - <span class=\"int-own-work\" lang=\"en\">Own work</span>, <a href=\"https://creativecommons.org/licenses/by-sa/3.0\" title=\"Creative Commons Attribution-Share Alike 3.0\">CC BY-SA 3.0</a>, <a href=\"https://commons.wikimedia.org/w/index.php?curid=47096462\">Link</a>\n",
    "</div>\n",
    "\n",
    "Le compilateur fortran de l'**IBM OS/360** supportait dès 1972 des données tabulées, au format *csv (comma-separated values)*. [Source](https://en.wikipedia.org/wiki/Comma-separated_values)"
   ]
  },
  {
   "cell_type": "markdown",
   "metadata": {},
   "source": [
    "## Qu'est-ce qu'une table de données?"
   ]
  },
  {
   "cell_type": "markdown",
   "metadata": {},
   "source": [
    "Une table de données est un **arrangement de lignes et de colonnes**. Les lignes ont divers synonymes: *enregistrement, p-uplet, vecteur, etc.*. Il en est de même pour les colonnes: *champ, propriété, attribut, etc.* \n",
    "L'organisation des données sous forme de table (on dit aussi *sous forme tabulée*) est très répandue.  \n",
    "\n",
    "**Exemple**: Les résultats du bac général à la Réunion ces dernières années. L'utilisation d'une table est très commode:  \n",
    "\n",
    "| id_lycee                                    | annee | ville       | taux_L | taux_ES | taux_S | academie   |\n",
    "|---------------------------------------------|-------|-------------|--------|---------|--------|------------|\n",
    "| LYCEE LECONTE DE LISLE                      | 2018  | ST DENIS    | 97     | 98      | 92     | LA REUNION |\n",
    "| LYCEE BEL AIR (GENERAL ET TECHNO.)          | 2018  | STE SUZANNE | 92     | 81      | 95     | LA REUNION |\n",
    "| LYCEE PIERRE LAGOURGUE (GENERAL ET TECHNO.) | 2018  | LE TAMPON   | 95     | 94      | 96     | LA REUNION |\n",
    "| LYCEE MAHATMA GANDHI                        | 2018  | ST ANDRE    | 88     | 84      | 85     | LA REUNION |\n",
    "\n",
    "Dans l'exemple ci-dessus, chaque ligne (en dehors de la première) représente les résultats d'un lycée. Les attributs de cette table sont `id_lycee`, `annee`, `ville`, `taux_L`, `taux_ES`, `taux_S` et `academie`.\n",
    "\n",
    "Les données tabulées sont très importantes en informatique: on les utilise dans de nombreux domaines (web, IA, calcul scientifique, etc.). "
   ]
  },
  {
   "cell_type": "markdown",
   "metadata": {},
   "source": [
    "# Quelle structure de données pour  représenter une table ?"
   ]
  },
  {
   "cell_type": "markdown",
   "metadata": {},
   "source": [
    "Les données sont habituellement séparées des programmes qui les traitent, dans un fichier texte. On utilise souvent des fichiers au format **csv** (*comma separated values*). Chaque ligne de ce fichier correspond à un enregistrement (*p-uplet*). Les différents champs (*attributs*) étant séparés par un délimiteur (*virgule, point-virgule, tabulation, etc.*). La librairie standard de python possède un module adapté à la lecture (*et à l'écriture*) de ce type de fichiers: le **module csv**."
   ]
  },
  {
   "cell_type": "markdown",
   "metadata": {},
   "source": [
    "## Importation sous forme de tableau de tableaux\n",
    "On souhaite importer le fichier de résultats du bac général `bac_L_ES_S.csv` situé dans le dossier `data`, sous la forme d'un tableau de tableaux. Un code python typique est le suivant:"
   ]
  },
  {
   "cell_type": "code",
   "execution_count": 82,
   "metadata": {},
   "outputs": [],
   "source": [
    "import csv\n",
    "\n",
    "f = open('data/bac_L_ES_S.csv', newline='', encoding='utf8')\n",
    "table = [ligne for ligne in csv.reader(f, delimiter=';')]"
   ]
  },
  {
   "cell_type": "markdown",
   "metadata": {},
   "source": [
    "Affichons les 5 premiers éléments de cette table:"
   ]
  },
  {
   "cell_type": "code",
   "execution_count": 70,
   "metadata": {},
   "outputs": [
    {
     "name": "stdout",
     "output_type": "stream",
     "text": [
      "['id_lycee', 'annee', 'ville', 'taux_L', 'taux_ES', 'taux_S', 'academie']\n",
      "['LYCEE MONTMAJOUR', '2012', 'ARLES', '95', '79', '96', 'AIX-MARSEILLE']\n",
      "['LYCEE BRISTOL', '2017', 'CANNES', '84', '84', '75', 'NICE']\n",
      "['LYCEE MARGUERITE DE NAVARRE', '2017', 'BOURGES', '89', '94', '91', 'ORLEANS-TOURS']\n",
      "['LYCEE FULBERT', '2017', 'CHARTRES', '88', '88', '89', 'ORLEANS-TOURS']\n"
     ]
    }
   ],
   "source": [
    "for i in range(5):\n",
    "    print(table[i])"
   ]
  },
  {
   "cell_type": "markdown",
   "metadata": {},
   "source": [
    "Cette première solution est simple à mettre en oeuvre, cependant elle souffre de deux défauts:  \n",
    "* on doit mémoriser l'ordre des attributs;  \n",
    "* la première ligne apparait comme une ligne de données, il va falloir l'ignorer lors des traitements"
   ]
  },
  {
   "cell_type": "markdown",
   "metadata": {},
   "source": [
    "### Exercice d'application directe\n",
    "Les résultats du lycée de Bois d'Olive en 2018 se trouvent à l'index 8262 de cette table. Afficher le taux de réussite au bac S."
   ]
  },
  {
   "cell_type": "code",
   "execution_count": 74,
   "metadata": {},
   "outputs": [],
   "source": [
    "#Votre code"
   ]
  },
  {
   "cell_type": "markdown",
   "metadata": {},
   "source": [
    "## Importation sous forme de tableau de n-uplets nommés\n",
    "Pour éviter les inconvénients précédents, on peut importer les données tabulées sous forme de tableau de n-uplets nommés. Un code python typique est le suivant:"
   ]
  },
  {
   "cell_type": "code",
   "execution_count": 81,
   "metadata": {},
   "outputs": [],
   "source": [
    "import csv\n",
    "\n",
    "f = open('data/bac_L_ES_S.csv', newline='', encoding='utf8')\n",
    "table = [dict(row) for row in csv.DictReader(f, delimiter=';')]"
   ]
  },
  {
   "cell_type": "markdown",
   "metadata": {},
   "source": [
    "Les premiers éléments affichés confirment que l'on a bien un tableau de dictionnaire:"
   ]
  },
  {
   "cell_type": "code",
   "execution_count": 68,
   "metadata": {},
   "outputs": [
    {
     "name": "stdout",
     "output_type": "stream",
     "text": [
      "{'id_lycee': 'LYCEE MONTMAJOUR', 'annee': '2012', 'ville': 'ARLES', 'taux_L': '95', 'taux_ES': '79', 'taux_S': '96', 'academie': 'AIX-MARSEILLE'}\n",
      "{'id_lycee': 'LYCEE BRISTOL', 'annee': '2017', 'ville': 'CANNES', 'taux_L': '84', 'taux_ES': '84', 'taux_S': '75', 'academie': 'NICE'}\n",
      "{'id_lycee': 'LYCEE MARGUERITE DE NAVARRE', 'annee': '2017', 'ville': 'BOURGES', 'taux_L': '89', 'taux_ES': '94', 'taux_S': '91', 'academie': 'ORLEANS-TOURS'}\n",
      "{'id_lycee': 'LYCEE FULBERT', 'annee': '2017', 'ville': 'CHARTRES', 'taux_L': '88', 'taux_ES': '88', 'taux_S': '89', 'academie': 'ORLEANS-TOURS'}\n",
      "{'id_lycee': 'LYCEE NOTRE DAME', 'annee': '2017', 'ville': 'CHARTRES', 'taux_L': '100', 'taux_ES': '97', 'taux_S': '96', 'academie': 'ORLEANS-TOURS'}\n"
     ]
    }
   ],
   "source": [
    "for i in range(5):\n",
    "    print(table[i])"
   ]
  },
  {
   "cell_type": "markdown",
   "metadata": {},
   "source": [
    "On remarque que ce tableau ne contient plus la première ligne. Cette dernière a servi à fournir les clés du dictionnaire créé."
   ]
  },
  {
   "cell_type": "markdown",
   "metadata": {},
   "source": [
    "### Exercice d'application directe\n",
    "Les résultats du lycée de Bois d'Olive en 2018 se trouvent cette fois ci à l'index 8261 de cette table (rappel: la 1ere ligne a servi pour créer les clés du dictionnaire). Afficher le taux de réussite au bac L."
   ]
  },
  {
   "cell_type": "code",
   "execution_count": 79,
   "metadata": {},
   "outputs": [],
   "source": [
    "#Votre code"
   ]
  },
  {
   "cell_type": "markdown",
   "metadata": {},
   "source": [
    "# Résumé\n",
    "* Les tableaux peuvent contenir aussi des tableaux. Il est commode de les présenter sur plusieurs lignes. Un élément sera alors repéré par `t[i][j]` (i et j représentant la ligne et la colonne).  \n",
    "* Une table de données est un arrangement de lignes et de colonnes. Les données sont souvent situées dans des fichiers csv. On peut les importer de deux manières:\n",
    "```python\n",
    "import csv\n",
    "f = open(fichier, newline='', encoding='utf8')\n",
    "table = [ligne for ligne in csv.reader(f, delimiter=';')]\n",
    "```\n",
    "ou\n",
    "```python\n",
    "import csv\n",
    "f = open(fichier, newline='', encoding='utf8')\n",
    "table = [dict(row) for row in csv.DictReader(f, delimiter=';')]\n",
    "```"
   ]
  },
  {
   "cell_type": "markdown",
   "metadata": {},
   "source": [
    "---\n",
    "B. DARID\n",
    "![licence](img/Cc-by-nc_icon.svg.png)"
   ]
  }
 ],
 "metadata": {
  "kernelspec": {
   "display_name": "Python 3",
   "language": "python",
   "name": "python3"
  },
  "language_info": {
   "codemirror_mode": {
    "name": "ipython",
    "version": 3
   },
   "file_extension": ".py",
   "mimetype": "text/x-python",
   "name": "python",
   "nbconvert_exporter": "python",
   "pygments_lexer": "ipython3",
   "version": "3.7.2"
  }
 },
 "nbformat": 4,
 "nbformat_minor": 2
}
