{
 "cells": [
  {
   "cell_type": "markdown",
   "metadata": {},
   "source": [
    "# Exercice Relevé de notes"
   ]
  },
  {
   "cell_type": "code",
   "execution_count": 7,
   "metadata": {},
   "outputs": [],
   "source": [
    "#Fichier de travail\n",
    "import csv\n",
    "\n",
    "FILE1 = './data/note_TS2.csv'\n",
    "\n",
    "f = open(FILE1, newline='', encoding='utf8')\n",
    "table = [dict(ligne) for ligne in csv.DictReader(f, delimiter=';')]"
   ]
  },
  {
   "cell_type": "markdown",
   "metadata": {},
   "source": [
    "1. Afficher les 5 premières lignes de la table de relevé de notes. Combien de notes comporte ce relevé?"
   ]
  },
  {
   "cell_type": "code",
   "execution_count": 3,
   "metadata": {},
   "outputs": [
    {
     "name": "stdout",
     "output_type": "stream",
     "text": [
      "{'Nom': 'Nayagom', 'Exercice 1': '2.5', 'Exercice 2': '2', 'Exercice 3': '5', 'Note': '9.5'}\n",
      "{'Nom': 'Payet Nativel', 'Exercice 1': '3', 'Exercice 2': '3.5', 'Exercice 3': '2', 'Note': '8.5'}\n",
      "{'Nom': 'Rescourio', 'Exercice 1': '5', 'Exercice 2': '0', 'Exercice 3': '2', 'Note': '7'}\n"
     ]
    }
   ],
   "source": [
    "\"\"\" \n",
    "for eleve in table:\n",
    "    print(eleve)\n",
    "\"\"\" \n",
    "for nombre in range(len(table) - 3, len(table)):\n",
    "    print(table[nombre])"
   ]
  },
  {
   "cell_type": "code",
   "execution_count": 12,
   "metadata": {},
   "outputs": [],
   "source": [
    "def validation_note(table):\n",
    "    for eleve in table:\n",
    "        if eleve['Exercice 1'].isdecimal() and \\\n",
    "        eleve['Exercice 2'].isdecimal() and \\\n",
    "        eleve['Exercice 3'].isdecimal() and \\\n",
    "        eleve['Note'].isdecimal():\n",
    "            continue\n",
    "        else:\n",
    "            return (eleve, False)\n",
    "    return True"
   ]
  },
  {
   "cell_type": "code",
   "execution_count": 13,
   "metadata": {},
   "outputs": [
    {
     "data": {
      "text/plain": [
       "({'Nom': 'Nayagom',\n",
       "  'Exercice 1': '2.5',\n",
       "  'Exercice 2': '2',\n",
       "  'Exercice 3': '5',\n",
       "  'Note': '9.5'},\n",
       " False)"
      ]
     },
     "execution_count": 13,
     "metadata": {},
     "output_type": "execute_result"
    }
   ],
   "source": [
    "validation_note(table)"
   ]
  },
  {
   "cell_type": "code",
   "execution_count": 5,
   "metadata": {},
   "outputs": [
    {
     "name": "stdout",
     "output_type": "stream",
     "text": [
      "{'Nom': 'Nayagom', 'Exercice 1': '2.5', 'Exercice 2': '2', 'Exercice 3': '5', 'Note': '9.5'}\n",
      "{'Nom': 'Payet Nativel', 'Exercice 1': '3', 'Exercice 2': '3.5', 'Exercice 3': '2', 'Note': '8.5'}\n",
      "{'Nom': 'Rescourio', 'Exercice 1': '5', 'Exercice 2': '0', 'Exercice 3': '2', 'Note': '7'}\n",
      "{'Nom': 'Velia', 'Exercice 1': '6', 'Exercice 2': '5.5', 'Exercice 3': '2.5', 'Note': '14'}\n",
      "{'Nom': 'Corre', 'Exercice 1': '4.5', 'Exercice 2': '0.5', 'Exercice 3': '4', 'Note': '9'}\n"
     ]
    }
   ],
   "source": [
    "for i in range(5):\n",
    "    print(table[i])"
   ]
  },
  {
   "cell_type": "markdown",
   "metadata": {},
   "source": [
    "2. Quels sont les champs (ou attributs) de cette table ? Donner la réponse sous la forme d'un tableau de chaine de caractères: `champs = ['champ1', 'champ2', ..., 'champN']`."
   ]
  },
  {
   "cell_type": "code",
   "execution_count": 14,
   "metadata": {},
   "outputs": [
    {
     "data": {
      "text/plain": [
       "False"
      ]
     },
     "execution_count": 14,
     "metadata": {},
     "output_type": "execute_result"
    }
   ],
   "source": [
    "'2.5'.isdecimal()"
   ]
  },
  {
   "cell_type": "code",
   "execution_count": 6,
   "metadata": {},
   "outputs": [],
   "source": [
    "#Votre réponse ici. Veuillez compléter et exécuter la cellule\n",
    "champs = ['Nom', 'Exercice 1', 'Exercice 2', 'Exercice 3', 'Note']"
   ]
  },
  {
   "cell_type": "code",
   "execution_count": 7,
   "metadata": {},
   "outputs": [],
   "source": [
    "assert champs == ['Nom', 'Exercice 1', 'Exercice 2', 'Exercice 3', 'Note'], \"Erreur\""
   ]
  },
  {
   "cell_type": "markdown",
   "metadata": {},
   "source": [
    "3. Modifier la fonction `validation` du cours afin de vérifier que les points des exercices sont nombres décimaux valides et que leur somme est bien égale à la note. Remarque: une fonction `est_flottant` est fournie."
   ]
  },
  {
   "cell_type": "code",
   "execution_count": 18,
   "metadata": {},
   "outputs": [],
   "source": [
    "def est_flottant(s):\n",
    "    \"\"\"\n",
    "    Retourne True si la chaine s correspond à un flottant valide, False sinon\n",
    "    \"\"\"\n",
    "    if s.isdecimal():\n",
    "        return True\n",
    "    elif '.' in s:\n",
    "        s = s.split('.')\n",
    "        return len(s) == 2 and s[0].isdecimal() and s[1].isdecimal()\n",
    "    else:\n",
    "        return False\n",
    "        \n",
    "def validation(ligne):\n",
    "    \"\"\"\n",
    "    Retourne un booléen valant True uniquement si les champs autre que 'Nom' sont des nombres \n",
    "    flottants valides et que la somme des points est égale à la note.\n",
    "    ligne: dictionnaire\n",
    "    \"\"\"\n",
    "    ex1, ex2, ex3, note = ligne['Exercice 1'], ligne['Exercice 2'], ligne['Exercice 3'], ligne['Note']\n",
    "    #Votre code\n",
    "    #Test si les notes sont des nombres valides\n",
    "    est_nb_valide = est_flottant(ex1) and \\\n",
    "    est_flottant(ex2) and est_flottant(ex3) and \\\n",
    "    est_flottant(note)\n",
    "    \n",
    "    if not est_nb_valide:\n",
    "        return False\n",
    "    \n",
    "    somme_valide = False\n",
    "    if float(ex1) + float(ex2) + float(ex3) == float(note):\n",
    "        somme_valide = True\n",
    "    \n",
    "    return somme_valide"
   ]
  },
  {
   "cell_type": "code",
   "execution_count": 19,
   "metadata": {},
   "outputs": [],
   "source": [
    "assert validation({'Nom': 'Dufour', 'Exercice 1': '4.5', 'Exercice 2': '4.5', \n",
    "                   'Exercice 3': '6', 'Note': '15'}) == True\n",
    "assert validation({'Nom': 'Hoareau', 'Exercice 1': '4.5', 'Exercice 2': '4.(', \n",
    "                   'Exercice 3': '6', 'Note': '15'}) == False"
   ]
  },
  {
   "cell_type": "markdown",
   "metadata": {},
   "source": [
    "4. Modifier la fonction `conversion` du cours afin de convertir tous les champs (sauf le 'Nom' !) d'une ligne de la table de relevé de notes, en flottant."
   ]
  },
  {
   "cell_type": "code",
   "execution_count": 20,
   "metadata": {},
   "outputs": [],
   "source": [
    "def conversion(enr):\n",
    "    \"\"\"\n",
    "    Retourne un dictionnaire avec les champs 'Exercice ..' et 'Note' convertis en float.\n",
    "    enr: un enregistrement, de type dictionnaire\n",
    "    \"\"\"\n",
    "    \n",
    "    assert isinstance(enr, dict), \"La ligne convertie doit être un dictionnaire\"\n",
    "    #Votre code\n",
    "    return {'Nom': enr['Nom'],\n",
    "            'Exercice 1': float(enr['Exercice 1']),\n",
    "            'Exercice 2': float(enr['Exercice 2']),\n",
    "            'Exercice 3': float(enr['Exercice 3']),\n",
    "            'Note': float(enr['Note'])\n",
    "           }"
   ]
  },
  {
   "cell_type": "markdown",
   "metadata": {},
   "source": [
    "5. Compléter la ligne de code suivante en formant la table `table_validee` correspondant à la validation des données de `table` et à la conversion des données chiffrées en flottant."
   ]
  },
  {
   "cell_type": "code",
   "execution_count": 21,
   "metadata": {},
   "outputs": [],
   "source": [
    "#table_validee = []\n",
    "table_validee = [conversion(ligne) for ligne in table if validation(ligne)]"
   ]
  },
  {
   "cell_type": "markdown",
   "metadata": {},
   "source": [
    "6. Reprendre la fonction `select` du cours et afficher les lignes correspondant à des élèves ayant eu une note supérieure ou égale à 15"
   ]
  },
  {
   "cell_type": "code",
   "execution_count": 63,
   "metadata": {},
   "outputs": [],
   "source": [
    "def select(table, critere):\n",
    "    \"\"\"\n",
    "    Retourne une table dont les lignes vérifient le critere passé en paramètre.\n",
    "    table: tableau de dictionnaires\n",
    "    critere: chaine exprimant la condition \n",
    "    \"\"\"\n",
    "    return [ligne for ligne in table if eval(critere)]"
   ]
  },
  {
   "cell_type": "code",
   "execution_count": 64,
   "metadata": {},
   "outputs": [],
   "source": [
    "#Votre code ici"
   ]
  },
  {
   "cell_type": "markdown",
   "metadata": {},
   "source": [
    "7. Former une table simplifiée `t_simple` qui ne garde que les colonnes 'Nom' et 'Note'"
   ]
  },
  {
   "cell_type": "code",
   "execution_count": 65,
   "metadata": {},
   "outputs": [],
   "source": [
    "#Votre code ici"
   ]
  }
 ],
 "metadata": {
  "kernelspec": {
   "display_name": "Python 3",
   "language": "python",
   "name": "python3"
  },
  "language_info": {
   "codemirror_mode": {
    "name": "ipython",
    "version": 3
   },
   "file_extension": ".py",
   "mimetype": "text/x-python",
   "name": "python",
   "nbconvert_exporter": "python",
   "pygments_lexer": "ipython3",
   "version": "3.7.4"
  }
 },
 "nbformat": 4,
 "nbformat_minor": 2
}
