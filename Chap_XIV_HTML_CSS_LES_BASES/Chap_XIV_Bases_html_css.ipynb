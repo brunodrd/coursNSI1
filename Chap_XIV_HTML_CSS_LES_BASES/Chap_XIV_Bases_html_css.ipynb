{
 "cells": [
  {
   "cell_type": "markdown",
   "metadata": {},
   "source": [
    "-----------------------\n",
    "HTML5 & CSS3: les bases\n",
    "***********************"
   ]
  },
  {
   "cell_type": "markdown",
   "metadata": {},
   "source": [
    "# Les langages du web\n",
    "Côté client, c'est-à-dire côté utilisateur, les langages incontournables sont:  \n",
    "* HTML pour la description du contenu d'une page;\n",
    "* CSS pour définir la mise en forme des pages;\n",
    "* Javascript (*qui ne sera pas abordé dans ce chapitre*) pour permettre l'interactivité avec l'utilisateur"
   ]
  },
  {
   "cell_type": "markdown",
   "metadata": {},
   "source": [
    "# HTML"
   ]
  },
  {
   "cell_type": "markdown",
   "metadata": {},
   "source": [
    "## Premier exemple et définitions\n",
    "\n",
    "Le langage **HTML** est un langage de _balisage_ qui permet de décrire la structure et le contenu d'un document. Un navigateur web donne un rendu graphique au fichier textuel HTML. Voici un premier exemple de code:\n",
    "```html\n",
    "   <!DOCTYPE html>\n",
    "   <html lang=\"fr\">\n",
    "   <head>\n",
    "         <meta charset=\"UTF-8\">\n",
    "         <title>Document</title>\n",
    "   </head>\n",
    "   <body>\n",
    "         <h1>Structuration de document</h1>\n",
    "         <p>Les <em>balises</em> html doivent rendre compte de la structure de la page.</p>\n",
    "   </body>\n",
    "   </html> \n",
    "```\n",
    "et son rendu dans un navigateur:  \n",
    "\n",
    "![index](img/index.png)  \n",
    "\n",
    "Un fichier HTML est structuré à partir de **balises** (*tag* en anglais). Ce sont des informations situées entre les caractères `<` et `>`. La première ligne n'est pas une balise HTML, en toute rigueur il s'agit d'une déclaration de type de document à destination du navigateur. Sauf exceptions, qui seront vues au fur et à mesure de la découverte du langage, **à une balise ouvrante <...> correspond une balise fermante </...>**. La premère exception rencontrée ici est la balise `meta` (qui est une balise *auto-fermante*).  \n",
    "L'ensemble constitué des balises ouvrante et fermante et du contenu se trouvant entre ces balises, constitue un **élément** HTML.  Chaque élément HTML peut avoir des **attributs**. Ce sont des valeurs supplémentaires qui permettent de configurer les éléments ou d'adapter leur comportement, avec une syntaxe du type `attribut=\"valeur\"`.  \n",
    "**Exemple**  \n",
    "\n",
    "![element](img/element.png)"
   ]
  },
  {
   "cell_type": "markdown",
   "metadata": {},
   "source": [
    "### Application directe\n",
    "Donner les attributs et les valeurs associées, des éléments `meta` et `html` de l'exemple ci-dessus."
   ]
  },
  {
   "cell_type": "markdown",
   "metadata": {},
   "source": [
    "## Structuration des documents\n",
    "D'une manière générale, un fichier HTML aura un *squelette* sera très proche de celui de l'exemple donné en introduction. On adaptera le contenu de l'élément `head`, notamment le texte de sa balise `<title>`, ainsi que celui de l'élément `body`. L'élément obligatoire `head` apporte des informations (*non affichées*) sur la page et l'élément `body` délimite le contenu de la page.\n",
    "\n",
    "### Les titres\n",
    "Les titres peuvent être déclinés en six niveaux de 1 à 6 à l'aide des balises `<h1>` à `<h6>`:"
   ]
  },
  {
   "cell_type": "markdown",
   "metadata": {
    "hide_input": false
   },
   "source": [
    "```html\n",
    "<h1>Titre de niveau 1</h1>\n",
    "<h2>Titre de niveau 2</h2>\n",
    "......\n",
    "<h6>Titre de niveau 6</h6>\n",
    "```"
   ]
  },
  {
   "cell_type": "markdown",
   "metadata": {},
   "source": [
    "Le rendu est le suivant:  \n",
    "![titre](img/titre.PNG)"
   ]
  },
  {
   "cell_type": "markdown",
   "metadata": {
    "hide_input": false
   },
   "source": [
    "### Les textes\n",
    "Les textes peuvent être organisés en paragraphes avec la balise `<p>`:\n",
    "```html\n",
    "<p>HTML contient environ 140 balises qui fournissent au navigateur des indications sur \n",
    "le sens d'un élément, son interprétation ou son affichage. Entre autres choses, les balises \n",
    "permettent de fournir des méta-données pour le document HTML, de mettre en avant certaines \n",
    "phrases, d'ajouter des fichiers multimédias ou de gérer des formulaires en ligne.\n",
    "</p>\n",
    "```\n",
    "On peut également présenter du texte sous forme de **listes** ordonnées:\n",
    "```html\n",
    "Les parties essentielles d'un document HTML:\n",
    "<ol>\n",
    "    <li>l'élément html;</li>\n",
    "    <li>l'élément head;</li>\n",
    "    <li>l'élément body.</li>\n",
    "</ol>\n",
    "```"
   ]
  },
  {
   "cell_type": "markdown",
   "metadata": {},
   "source": [
    "Le rendu est le suivant:  \n",
    "\n",
    "Les parties essentielles d'un document HTML:  \n",
    "1. l'élément html;  \n",
    "2. l'élément head;  \n",
    "3. l'élément body."
   ]
  },
  {
   "cell_type": "markdown",
   "metadata": {},
   "source": [
    "La présentation peut se faire également sous forme de listes **non** ordonnées:\n",
    "```html\n",
    "Les parties essentielles d'un document HTML:\n",
    "<ul>\n",
    "    <li>l'élément html;</li>\n",
    "    <li>l'élément head;</li>\n",
    "    <li>l'élément body.</li>\n",
    "</ul>\n",
    "```"
   ]
  },
  {
   "cell_type": "markdown",
   "metadata": {},
   "source": [
    "Le rendu est le suivant:  \n",
    "\n",
    "Les parties essentielles d'un document HTML:  \n",
    "* l'élément html;  \n",
    "* l'élément head;  \n",
    "* l'élément body."
   ]
  },
  {
   "cell_type": "markdown",
   "metadata": {},
   "source": [
    "### Liens et ressources\n",
    "Une des caractéristiques essentielles de HTML est de fournir des liens *hypertextes*. Ces derniers sont insérés avec la balise `<a>` (*ancre*). Cette balise est utilisée avec l'attribut `href` qui fournit l'adresse de la ressource.\n",
    "```html\n",
    "<a href=\"https://www.w3schools.com/tags/tag_a.asp\">Lien vers W3schools.com</a>\n",
    "```"
   ]
  },
  {
   "cell_type": "markdown",
   "metadata": {},
   "source": [
    "Rendu:  \n",
    "[Lien vers W3schools.com](https://www.w3schools.com/tags/tag_a.asp)  \n",
    "\n",
    "Parmi les ressources, on peut citer les images. On les insère dans un document HTML avec une balise auto-fermante `<img />` à qui on doit fournir deux attributs `src=\"nom_fichier.jpg\" alt=\"texte_alternatif\"`. Par exemple:\n",
    "```html\n",
    "<img src=\"img/html5-logo.png\" alt=\"logo\" />\n",
    "```\n",
    "Rendu:  \n",
    "\n",
    "![logo](img/html5-logo.png)"
   ]
  },
  {
   "cell_type": "markdown",
   "metadata": {},
   "source": [
    "### Conseils: utilisation de balises sémantiques\n",
    "HTML5 accentue encore plus l'objectif de bien structurer un document en y ajoutant de nouvelles balises (*par rapport à HTML4*). Parmi ces nouvelles balises, on peut citer, entre autres: `header`, `nav`, `section`, `article`, `aside` et `footer`. Ces balises sont dites *sémantiques*, c'est-à-dire qui ont du sens, ... par opposition à d'anciennes balises génériques comme `div` ou `span`. Bien qu'il ne s'agisse pas d'une règle absolue, voici un exemple correct (au sens HTML5) de structure de document:\n",
    "![structure](img/html5semantique.png)  \n",
    "[Voici à titre d'exemple le plan de ce cours en HTML5](https://brdarid.nohost.me/nextcloud/index.php/s/STrADeaoFcPK9MN)  \n",
    "\n",
    "Dans la mesure du possible, on réservera la balise générique `div` pour des regroupements d'éléments nécessitant un traitement CSS (voir ci-dessous) spécifique.\n",
    "# CSS\n",
    "\n",
    "## Qu'est-ce que le CSS et comment le mettre en application?\n",
    "Le langage CSS (*Cascading Style Sheet*) est un langage permettant de définir  la mise en forme des éléments HTML constituant une page web. Il est important de retenir: **HTML est gère le 'fond', CSS gère la 'forme'**. Il existe trois emplacements pour placer les **règles de style** CSS associées à un document. \n",
    "### Règles de style en ligne - A EVITER ABSOLUMENT-\n",
    "Il s'agit de définir une règle de style directement via l'attribut `style`d'un élément. Sa syntaxe est la suivante:    \n",
    "`<tag style=\"definition_des_styles\">....</tag>` où `definition_des_styles` est de la forme `propriete: valeur;`.  \n",
    "**Exemple**\n",
    "```html\n",
    "<p style=\"text-align: right; border: 2px solid red;\">Lorem ipsum dolor sit amet consectetur. <br>\n",
    "    adipisicing elit deleniti magni sequi ducimus ad similique quo beatae dolor tempora et cum. <br>\n",
    "    corporis enim earum eligendi unde itaque dicta, blanditiis aut consequuntur?\n",
    "</p>\n",
    "```\n",
    "**Cette méthode est à déconseiller franchement car elle rend le code HTML peu lisible**.\n",
    "\n",
    "Rendu:"
   ]
  },
  {
   "cell_type": "code",
   "execution_count": 4,
   "metadata": {
    "hide_input": true
   },
   "outputs": [
    {
     "data": {
      "text/html": [
       "<p style=\"text-align: right; border: 2px solid red;\">Lorem ipsum dolor sit amet consectetur adipisicing elit.<br> \n",
       "            Deleniti magni sequi ducimus ad similique quo beatae dolor tempora et cum. <br>\n",
       "            corporis enim earum eligendi unde itaque \n",
       "            dicta, blanditiis aut consequuntur?\n",
       "</p>"
      ],
      "text/plain": [
       "<IPython.core.display.HTML object>"
      ]
     },
     "metadata": {},
     "output_type": "display_data"
    }
   ],
   "source": [
    "%%html\n",
    "<p style=\"text-align: right; border: 2px solid red;\">Lorem ipsum dolor sit amet consectetur adipisicing elit.<br> \n",
    "            Deleniti magni sequi ducimus ad similique quo beatae dolor tempora et cum. <br>\n",
    "            corporis enim earum eligendi unde itaque \n",
    "            dicta, blanditiis aut consequuntur?\n",
    "</p>"
   ]
  },
  {
   "cell_type": "markdown",
   "metadata": {},
   "source": [
    "### Règles de style interne - ACCEPTABLE-\n",
    "Il s'agit de déclarer les règles de style à l'intérieur d'une balise `<style>` de l'élément `head` du document HTML. Les règles étant écrites les unes en dessous des autres (*la syntaxe détaillée sera vue dans le prochain paragraphe*).    \n",
    "**Exemple**\n",
    "```html\n",
    "   <!DOCTYPE html>\n",
    "   <html lang=\"fr\">\n",
    "   <head>\n",
    "         <meta charset=\"UTF-8\">\n",
    "         <title>Document</title>\n",
    "         <style>\n",
    "               p { \n",
    "                 text-align: right; \n",
    "                 border: 2px solid gray;\n",
    "                 }\n",
    "               .remarque {color: red;}\n",
    "         </style>\n",
    "   </head>\n",
    "   <body>\n",
    "      <p>Lorem ipsum dolor sit amet consectetur adipisicing elit.<br> \n",
    "         Deleniti magni sequi ducimus <span class=\"remarque\"> similique dolor tempora</span> et cum. <br>\n",
    "         corporis enim earum eligendi unde itaque \n",
    "         dicta, blanditiis aut consequuntur?\n",
    "      </p>\n",
    "   </body>\n",
    "   </html>\n",
    "```"
   ]
  },
  {
   "cell_type": "markdown",
   "metadata": {},
   "source": [
    "Le rendu est identique:  "
   ]
  },
  {
   "cell_type": "code",
   "execution_count": 3,
   "metadata": {
    "hide_input": true
   },
   "outputs": [
    {
     "data": {
      "text/html": [
       "<p style=\"text-align: right; border: 2px solid red;\">Lorem ipsum dolor sit amet consectetur adipisicing elit.<br> \n",
       "            Deleniti magni sequi ducimus <span style=\"color: red;\"> similique dolor tempora</span> et cum. <br>\n",
       "         corporis enim earum eligendi unde itaque \n",
       "         dicta, blanditiis aut consequuntur?\n",
       "</p>"
      ],
      "text/plain": [
       "<IPython.core.display.HTML object>"
      ]
     },
     "metadata": {},
     "output_type": "display_data"
    }
   ],
   "source": [
    "%%html\n",
    "<p style=\"text-align: right; border: 2px solid red;\">Lorem ipsum dolor sit amet consectetur adipisicing elit.<br> \n",
    "            Deleniti magni sequi ducimus <span style=\"color: red;\"> similique dolor tempora</span> et cum. <br>\n",
    "         corporis enim earum eligendi unde itaque \n",
    "         dicta, blanditiis aut consequuntur?\n",
    "</p>"
   ]
  },
  {
   "cell_type": "markdown",
   "metadata": {},
   "source": [
    "Cette méthode est acceptable mais elle présente l'inconvénient de *mélanger* le fond et la forme et surtout de **ne pas permettre la réutilisation** des règles de style dans d'autres pages (*à moins de faire du copier-coller*)."
   ]
  },
  {
   "cell_type": "markdown",
   "metadata": {},
   "source": [
    "### Règles de style dans un fichier externe - A PRIVILEGIER-\n",
    "Les règles de style sont définies dans un fichier *texte* externe, d'extension `.css`. La présence de ce fichier doit être signalé au navigateur dans l'élément `head`avec une balise `<link>`:  \n",
    "```html\n",
    "<head>\n",
    "    ......\n",
    "    <link rel=\"stylesheet\" href=\"style/fichier.css\" />\n",
    "</head>\n",
    "```\n",
    "si on suppose que le fichier s'appelle `fichier.css` et qu'il se trouve dans le dossier `style`. On remarque au passage que la **balise link est auto-fermante**.  \n",
    "La syntaxe d'une règle de style CSS est la suivante:  \n",
    "```html\n",
    "selecteur {\n",
    "    propriete1: valeur1;\n",
    "    propriete2: valeur2;\n",
    "    ...\n",
    "}\n",
    "```\n",
    "Le **selecteur** peut être un tag HTML, l'identifiant d'un élément précédé du caractère `#` (sans espace) ou le nom d'une classe précédé du caractère `.`.  \n",
    "**Exemple de** `fichier.css`  \n",
    "```javascript\n",
    "p {\n",
    "    text-align: right;\n",
    "    border: 2px solid gray;\n",
    "}\n",
    "\n",
    ".remarque {\n",
    "    color: red;\n",
    "}\n",
    "```\n",
    "On voit ici tout l'intérêt à ajuster les attributs `class` et `id` des éléments HTML lors de la construction de la page (voir documentation sur W3Schools.com pour [class](https://www.w3schools.com/tags/att_global_class.asp) et [id](https://www.w3schools.com/tags/att_global_id.asp))."
   ]
  },
  {
   "cell_type": "markdown",
   "metadata": {
    "hide_input": false
   },
   "source": [
    "\n",
    "## Quelques propriétés CSS"
   ]
  },
  {
   "cell_type": "markdown",
   "metadata": {},
   "source": [
    "Il n'est pas question questions de citer toutes les propriétés CSS (qu'on peut trouver sur [W3Schools.com](https://www.w3schools.com/cssref/css3_pr_all.asp)), mais quelques unes fréquemment utilisées.  \n",
    "\n",
    "* `font-size`: fixe la taille de la police;\n",
    "* `color`: fixe la couleur du texte;\n",
    "* `text-align`: définit l'alignement horizontal du texte;\n",
    "* `background-color`: couleur d'arrière plan;"
   ]
  }
 ],
 "metadata": {
  "kernelspec": {
   "display_name": "Python 3",
   "language": "python",
   "name": "python3"
  },
  "language_info": {
   "codemirror_mode": {
    "name": "ipython",
    "version": 3
   },
   "file_extension": ".py",
   "mimetype": "text/x-python",
   "name": "python",
   "nbconvert_exporter": "python",
   "pygments_lexer": "ipython3",
   "version": "3.7.4"
  }
 },
 "nbformat": 4,
 "nbformat_minor": 2
}
