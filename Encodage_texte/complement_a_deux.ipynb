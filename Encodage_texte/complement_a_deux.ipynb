{
 "cells": [
  {
   "cell_type": "code",
   "execution_count": null,
   "metadata": {},
   "outputs": [],
   "source": [
    "def complement(b):\n",
    "    \"\"\"\n",
    "    Retourne un tableau non vide d'entiers appartenant à {0,1} représentant\n",
    "    le complément à deux du nombre binaire passé en paramètre.\n",
    "    b: tableau d'entiers appartenant à {0,1} correspondant à la valeur \n",
    "    d'un nombre écrit en binaire.\n",
    "    \"\"\"\n",
    "    N = len(b)\n",
    "    c2 = [0] * N\n",
    "    #Inversion des bits - complément à un\n",
    "    for i in range(N):\n",
    "        if b[i] == 0:\n",
    "            c2[i] = 1\n",
    "    #Votre code à partir d'ici\n",
    "    #\n",
    "    return c2"
   ]
  }
 ],
 "metadata": {
  "kernelspec": {
   "display_name": "Python 3",
   "language": "python",
   "name": "python3"
  },
  "language_info": {
   "codemirror_mode": {
    "name": "ipython",
    "version": 3
   },
   "file_extension": ".py",
   "mimetype": "text/x-python",
   "name": "python",
   "nbconvert_exporter": "python",
   "pygments_lexer": "ipython3",
   "version": "3.7.2"
  }
 },
 "nbformat": 4,
 "nbformat_minor": 2
}
