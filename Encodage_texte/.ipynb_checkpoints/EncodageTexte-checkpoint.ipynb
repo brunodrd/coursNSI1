{
 "cells": [
  {
   "cell_type": "markdown",
   "metadata": {},
   "source": [
    "# Représentation de texte"
   ]
  },
  {
   "cell_type": "markdown",
   "metadata": {},
   "source": [
    "# L'objectif\n",
    "Il s'agit d'associer un caractère à un numéro unique: c'est ce que l'on appelle un encodage. Pour être efficace un encodage doit représenter le plus de caractères possible et être compact."
   ]
  },
  {
   "cell_type": "markdown",
   "metadata": {},
   "source": [
    "# L'ASCII\n",
    "A l'origine plusieurs encodages incompatibles entre eux coexistaient jusqu'à ce qu'une norme s'impose dans les années 60: L'American Standard Code for Information Interchange.\n",
    "Un octet est utilisé pour coder un caractère. En réalité seuls 7 bits sont utilisés: on peut donc coder $2^7=128$ caractères avec cette norme. Le dernier bit était utilisé à des fins de contrôle lors des transmissions.  \n",
    "Il faut noter que seuls les caractères \"anglo-saxons\" sont présents. Les caractères accentués ne sont pas représentables."
   ]
  },
  {
   "cell_type": "markdown",
   "metadata": {},
   "source": [
    "# Evolution: la norme ISO 8859\n",
    "Afin d'intégrer plus de caractères (notamment les caractères accentués), une première évolution a eu lieu: la norme ISO 8859. Il s'agit d'une extension de l'ASCII: on utilise le 8ème bit (utilisé jusque là pour le contrôle de parité) pour coder des caractères. On a ainsi $2^8=256$ possibilités !\n",
    "Une table de correspondance code hexadécimal ou décimal <-> ASCII et ASCII étendu peut être trouvée à cette [adresse](http://www.asciitable.com/)"
   ]
  },
  {
   "cell_type": "markdown",
   "metadata": {},
   "source": [
    "# Norme ISO 10646 - Standard Unicode\n",
    "Bien qu'intéressante l'évolution vers la norme ISO 8859 ne règle pas tous les problèmes et notamment des langues autres qu'européennes (asiatiques entre autres). Pour tenir compte de tous les caractères utilisés, l'ISO proposa une nouvelle norme. Il s'agit alors de définir un caractère comme une entité possédant:  \n",
    "*  un nom;  \n",
    "*  un numéro, appelé encore point de code et noté U+xxxx où xxxx est un nombre hexadécimal.  \n",
    "\n",
    "Un consortium privé à but non lucratif, Unicode, proposa alors plusieurs techniques pour encoder ces points de code. La plus utilisée est manifestement l'encodage UTF-8 (Universal Transformation Format); le \"8\" signifie qu'il faut au minimum 8 bits pour représenter un point de code.  \n",
    "Les encodages UTF-16 (complexe) et UTF-32 (peu économe) ne seront pas abordés ici."
   ]
  },
  {
   "cell_type": "markdown",
   "metadata": {},
   "source": [
    "# Principe de l'encodage UTF-8\n",
    "Cet encodage permet de coder un caractère sur 1, 2, 3 ou 4 octets. Si le point de code est inférieur ou égal à 127 (7F en hexadécimal)le caractère est codé sous la forme $0xxx xxxx$ comme en ASCII.  \n",
    "Sinon, on utilise la forme binaire du point de code et on détermine ainsi le nombre de bits nécessaire au codage du caractère."
   ]
  },
  {
   "cell_type": "code",
   "execution_count": 1,
   "metadata": {},
   "outputs": [
    {
     "data": {
      "text/latex": [
       "\\begin{table}[]\n",
       "\\begin{tabular}{|l|l|l|}\n",
       "\\hline\n",
       "\\multicolumn{1}{|c|}{Point de code} & \\multicolumn{1}{c|}{\\begin{tabular}[c]{@{}c@{}}Octets \\\\ \\\\ (binaire)\\end{tabular}} & \\multicolumn{1}{c|}{\\begin{tabular}[c]{@{}c@{}}Nombre de \\\\ \\\\ bits nécessaire\\end{tabular}} \\\\ \\hline\n",
       "U+0000 à U+007F                     & 0xxx xxxx                                                                           & 7                                                                                            \\\\ \\hline\n",
       "U+0080 à U+07FF                     & 110x xxxx 10xx xxxx                                                                 & 11                                                                                           \\\\ \\hline\n",
       "U+0800 à U+FFFF                     & 1110 xxxx 10xx xxxx 10xx xxxx                                                       & 16                                                                                           \\\\ \\hline\n",
       "U+10000 à U+10FFFF                  & 1111 0xxx 10xx xxxx 10xx xxxx 10xx xxxx                                             & 21                                                                                           \\\\ \\hline\n",
       "\\end{tabular}\n",
       "\\end{table}"
      ],
      "text/plain": [
       "<IPython.core.display.Latex object>"
      ]
     },
     "metadata": {},
     "output_type": "display_data"
    }
   ],
   "source": [
    "%%latex\n",
    "\\begin{table}[]\n",
    "\\begin{tabular}{|l|l|l|}\n",
    "\\hline\n",
    "\\multicolumn{1}{|c|}{Point de code} & \\multicolumn{1}{c|}{\\begin{tabular}[c]{@{}c@{}}Octets \\\\ \\\\ (binaire)\\end{tabular}} & \\multicolumn{1}{c|}{\\begin{tabular}[c]{@{}c@{}}Nombre de \\\\ \\\\ bits nécessaire\\end{tabular}} \\\\ \\hline\n",
    "U+0000 à U+007F                     & 0xxx xxxx                                                                           & 7                                                                                            \\\\ \\hline\n",
    "U+0080 à U+07FF                     & 110x xxxx 10xx xxxx                                                                 & 11                                                                                           \\\\ \\hline\n",
    "U+0800 à U+FFFF                     & 1110 xxxx 10xx xxxx 10xx xxxx                                                       & 16                                                                                           \\\\ \\hline\n",
    "U+10000 à U+10FFFF                  & 1111 0xxx 10xx xxxx 10xx xxxx 10xx xxxx                                             & 21                                                                                           \\\\ \\hline\n",
    "\\end{tabular}\n",
    "\\end{table}"
   ]
  },
  {
   "cell_type": "markdown",
   "metadata": {},
   "source": [
    "L'octet de poids fort est composé d'une séquence de 1 terminé par un 0. Le nombre de 1 présent dans cette séquence indique le nombre d'octet utilisé pour coder le caractère."
   ]
  },
  {
   "cell_type": "markdown",
   "metadata": {},
   "source": [
    "# Unicode et python"
   ]
  },
  {
   "cell_type": "markdown",
   "metadata": {},
   "source": [
    "Les chaines de caractères en python utilisent l'encodage UTF-8. D'ailleurs, on peut saisir directement une chaine à partir de ses points de code (si on les connait), en prenant la précaution de les préfixer de '\\u'."
   ]
  },
  {
   "cell_type": "code",
   "execution_count": 2,
   "metadata": {},
   "outputs": [
    {
     "name": "stdout",
     "output_type": "stream",
     "text": [
      "E ≠ ∅\n"
     ]
    }
   ],
   "source": [
    "ch = '\\u0045\\u0020\\u2260\\u0020\\u2205'\n",
    "print(ch)"
   ]
  },
  {
   "cell_type": "markdown",
   "metadata": {},
   "source": [
    "Il est possible en python de connaître le résultat de l'encodage (en hexadécimal), en utilisant la méthode encode."
   ]
  },
  {
   "cell_type": "code",
   "execution_count": 3,
   "metadata": {},
   "outputs": [
    {
     "name": "stdout",
     "output_type": "stream",
     "text": [
      "b'E \\xe2\\x89\\xa0 \\xe2\\x88\\x85'\n"
     ]
    }
   ],
   "source": [
    "chaine_octets = ch.encode('utf8')\n",
    "print(chaine_octets)"
   ]
  },
  {
   "cell_type": "markdown",
   "metadata": {},
   "source": [
    "Remarques  \n",
    "On voit apparaître un nouveau type disponible en python: le type bytes (octet);\n",
    "La chaine d'octets et la chaine de caractères n'ont pas même longueur: en UTF-8, un caractère peut être codé sur plusieurs octets.  \n",
    "\n",
    "On peut également faire le conversion inverse (d'une chaine d'octets vers une chaine caractères) avec la méthode decode."
   ]
  },
  {
   "cell_type": "code",
   "execution_count": 4,
   "metadata": {},
   "outputs": [
    {
     "data": {
      "text/plain": [
       "'E ≠ ∅'"
      ]
     },
     "execution_count": 4,
     "metadata": {},
     "output_type": "execute_result"
    }
   ],
   "source": [
    "b'E \\xe2\\x89\\xa0 \\xe2\\x88\\x85'.decode('utf8')"
   ]
  }
 ],
 "metadata": {
  "kernelspec": {
   "display_name": "Python 3",
   "language": "python",
   "name": "python3"
  },
  "language_info": {
   "codemirror_mode": {
    "name": "ipython",
    "version": 3
   },
   "file_extension": ".py",
   "mimetype": "text/x-python",
   "name": "python",
   "nbconvert_exporter": "python",
   "pygments_lexer": "ipython3",
   "version": "3.7.2"
  }
 },
 "nbformat": 4,
 "nbformat_minor": 2
}
