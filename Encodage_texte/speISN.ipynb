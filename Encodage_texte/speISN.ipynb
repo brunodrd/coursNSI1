{
 "cells": [
  {
   "cell_type": "code",
   "execution_count": 1,
   "metadata": {
    "collapsed": true
   },
   "outputs": [],
   "source": [
    "def rdicho(A,n,x):\n",
    "    \"\"\"\n",
    "    Entrées: A liste d'entiers, triée;\n",
    "    n: nombre d'éléments de A (entier);\n",
    "    x: entier à rechercher\n",
    "    Retour: entier (None si non trouvé) correspondant\n",
    "    à l'index de x dans le tableau.\n",
    "    \"\"\"\n",
    "    p, r = 0, n-1#initialisation des indices du tableau\n",
    "    while p <= r:\n",
    "        q = (p+r)//2\n",
    "        if A[q] == x:\n",
    "            return q\n",
    "        elif A[q] > x:\n",
    "            r = q - 1#l'element n'est pas dans la partie droite\n",
    "        else:\n",
    "            p = q + 1#l'element n'est pas dans la partie gauche\n",
    "    return None"
   ]
  },
  {
   "cell_type": "code",
   "execution_count": 2,
   "metadata": {},
   "outputs": [
    {
     "data": {
      "text/plain": [
       "3"
      ]
     },
     "execution_count": 2,
     "metadata": {},
     "output_type": "execute_result"
    }
   ],
   "source": [
    "rdicho(list(range(50)), 50, 3)"
   ]
  },
  {
   "cell_type": "code",
   "execution_count": 3,
   "metadata": {
    "collapsed": true
   },
   "outputs": [],
   "source": [
    "rdicho(list(range(50)), 50, -2)"
   ]
  },
  {
   "cell_type": "code",
   "execution_count": null,
   "metadata": {
    "collapsed": true
   },
   "outputs": [],
   "source": []
  },
  {
   "cell_type": "code",
   "execution_count": 4,
   "metadata": {},
   "outputs": [
    {
     "name": "stdout",
     "output_type": "stream",
     "text": [
      "[0, 1, 2, 3, 4, 5, 6, 7, 8, 9, 10, 11, 12, 13, 14]\n",
      "[7, 8, 9, 10, 11, 12, 13, 14]\n",
      "[7, 8, 9, 10, 11, 12, 13, 14]\n"
     ]
    }
   ],
   "source": [
    "#Sélection d'une partie de tableau\n",
    "A = list(range(15))\n",
    "print(A)\n",
    "print(A[7:15])\n",
    "print(A[7:])"
   ]
  },
  {
   "cell_type": "code",
   "execution_count": 1,
   "metadata": {},
   "outputs": [],
   "source": [
    "def fusion(A, B):\n",
    "    \"\"\"\n",
    "    Retourne un tableau résultant de la fusion deux tableaux A et B.\n",
    "    A, B: tableaux d'entier;\n",
    "    \"\"\"\n",
    "    nA = len(A)\n",
    "    nB = len(B)\n",
    "    if nA == 0:\n",
    "        return B\n",
    "    if nB == 0:\n",
    "        return A\n",
    "    if A[0] <= B[0]:\n",
    "        return [A[0]] + fusion(A[1:nA], B)\n",
    "    else:\n",
    "        return [B[0]] + fusion(A, B[1:nB])\n",
    "    "
   ]
  },
  {
   "cell_type": "code",
   "execution_count": 2,
   "metadata": {},
   "outputs": [
    {
     "data": {
      "text/plain": [
       "[2, 7, 110, 800, 900]"
      ]
     },
     "execution_count": 2,
     "metadata": {},
     "output_type": "execute_result"
    }
   ],
   "source": [
    "fusion([110,800,900], [2,7])"
   ]
  },
  {
   "cell_type": "code",
   "execution_count": 19,
   "metadata": {
    "collapsed": true
   },
   "outputs": [],
   "source": [
    "def fusion(A, B, nA, nB):\n",
    "    \"\"\"\n",
    "    Retourne un tableau trié résultant de la fusion de deux\n",
    "    tableaux A et B;\n",
    "    A, B: tableaux d'entiers triés;\n",
    "    nA, nB: entiers naturels.\n",
    "    \"\"\"\n",
    "    i, j, ires = 0, 0, 0\n",
    "    resultat = [0] * (nA + nB)\n",
    "    while i != nA and j != nB:\n",
    "        if A[i] <= B[j]:\n",
    "            resultat[ires] = A[i]\n",
    "            i += 1\n",
    "            ires +=1\n",
    "        else:\n",
    "            resultat[ires] = B[j]\n",
    "            j += 1\n",
    "            ires +=1\n",
    "    if i == nA:\n",
    "        for k in range(j, nB):\n",
    "            resultat[ires] = B[k]\n",
    "            ires += 1\n",
    "    else:\n",
    "        for k in range(i, nA):\n",
    "            resultat[ires] = A[k]\n",
    "            ires += 1\n",
    "    return resultat"
   ]
  },
  {
   "cell_type": "code",
   "execution_count": 20,
   "metadata": {},
   "outputs": [
    {
     "data": {
      "text/plain": [
       "[2, 5, 7, 11, 15, 19, 23, 26, 70, 87]"
      ]
     },
     "execution_count": 20,
     "metadata": {},
     "output_type": "execute_result"
    }
   ],
   "source": [
    "fusion([2,5,19,26], [7,11,15,23,70,87], 4, 6)"
   ]
  },
  {
   "cell_type": "code",
   "execution_count": 80,
   "metadata": {},
   "outputs": [],
   "source": [
    "def trifusion(A):\n",
    "    \"\"\"\n",
    "    Retourne un tableau A trié \n",
    "    A: tableau d'entier;\n",
    "    p, r: entiers naturels (indices extrêmes du tableau)\n",
    "    \"\"\"\n",
    "    if len(A)<2:#cas de base\n",
    "        return A\n",
    "    else:\n",
    "        q = len(A) //2\n",
    "        tgauche = trifusion(A[:q])\n",
    "        tdroite = trifusion(A[q:])\n",
    "        A = fusion(tgauche, tdroite, len(tgauche), len(tdroite))\n",
    "    return A"
   ]
  },
  {
   "cell_type": "code",
   "execution_count": 81,
   "metadata": {},
   "outputs": [
    {
     "data": {
      "text/plain": [
       "[1, 3, 5, 7, 10, 20]"
      ]
     },
     "execution_count": 81,
     "metadata": {},
     "output_type": "execute_result"
    }
   ],
   "source": [
    "trifusion([3,10,1,7,5,20])"
   ]
  },
  {
   "cell_type": "code",
   "execution_count": 82,
   "metadata": {},
   "outputs": [
    {
     "data": {
      "text/plain": [
       "[0, 7, 8, 9]"
      ]
     },
     "execution_count": 82,
     "metadata": {},
     "output_type": "execute_result"
    }
   ],
   "source": [
    "fusion([],[0,7,8,9],0,4)"
   ]
  },
  {
   "cell_type": "code",
   "execution_count": 84,
   "metadata": {
    "collapsed": true
   },
   "outputs": [],
   "source": [
    "def trifusion(A,p,r):\n",
    "    \"\"\"\n",
    "    Retourne un tableau A trié \n",
    "    A: tableau d'entier;\n",
    "    p, r: entiers naturels (indices extrêmes du tableau)\n",
    "    \"\"\"\n",
    "    if p>=r:#cas de base, il ne reste qu'un élément\n",
    "        return [A[p]]\n",
    "    else:\n",
    "        q = (p+r) //2\n",
    "        tgauche = trifusion(A,p,q)\n",
    "        tdroite = trifusion(A,q+1,r)\n",
    "        A = fusion(tgauche, tdroite, q-p+1, r-q)\n",
    "    return A"
   ]
  },
  {
   "cell_type": "code",
   "execution_count": 86,
   "metadata": {},
   "outputs": [
    {
     "data": {
      "text/plain": [
       "[1, 5, 7, 10, 20, 300]"
      ]
     },
     "execution_count": 86,
     "metadata": {},
     "output_type": "execute_result"
    }
   ],
   "source": [
    "trifusion([300,10,1,7,5,20],0,5)"
   ]
  },
  {
   "cell_type": "code",
   "execution_count": null,
   "metadata": {
    "collapsed": true
   },
   "outputs": [],
   "source": []
  }
 ],
 "metadata": {
  "kernelspec": {
   "display_name": "Python 3",
   "language": "python",
   "name": "python3"
  },
  "language_info": {
   "codemirror_mode": {
    "name": "ipython",
    "version": 3
   },
   "file_extension": ".py",
   "mimetype": "text/x-python",
   "name": "python",
   "nbconvert_exporter": "python",
   "pygments_lexer": "ipython3",
   "version": "3.7.2"
  }
 },
 "nbformat": 4,
 "nbformat_minor": 2
}
