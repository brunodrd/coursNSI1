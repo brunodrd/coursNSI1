{
 "cells": [
  {
   "cell_type": "markdown",
   "metadata": {},
   "source": [
    "**Table 0.** la table `BaseAliens` donne des renseignements sur les extraterrestres.  \n",
    "\n",
    "| NoCabine | NomAlien   | Planete | Sexe |\n",
    "|----------|------------|---------|------|\n",
    "| 1        | Zorglub    | Trantor | M    |\n",
    "| 2        | Blorx      | Euterpe | M    |\n",
    "| 3        | Urxiz      | Aurora  | M    |\n",
    "| 4        | Zbleurdite | Trantor | F    |\n",
    "| 5        | Darneurane | Trantor | M    |\n",
    "| 6        | Mulzo      | Helicon | M    |\n",
    "| 7        | Zzzzzz     | Aurora  | F    |\n",
    "| 8        | Arghh      | Nexon   | M    |\n",
    "| 9        | Joranum    | Euterpe | F    |\n"
   ]
  },
  {
   "cell_type": "markdown",
   "metadata": {},
   "source": [
    "**Table 1.** La table `BaseAgents` donne le nom et la ville d'origine des agents.\n",
    "\n",
    "| NomAgent | VilleAgent |\n",
    "|----------|------------|\n",
    "| Branno   | Terminus   |\n",
    "| Darell   | Terminus   |\n",
    "| Demerzel | Arcturus   |\n",
    "| Seldon   | Terminus   |\n",
    "| Dornick  | Kalgan     |\n",
    "| Hardin   | Terminus   |\n",
    "| Trevize  | Hesperos   |\n",
    "| Pelorat  | Kalgan     |\n",
    "| Riose    | Terminus   |\n",
    "| Palver   | Siwenna    |\n",
    "| Amaryl   | Arcturus   |\n"
   ]
  },
  {
   "cell_type": "markdown",
   "metadata": {},
   "source": [
    "**Table 2.** la table `BaseGardiens` affecte à chaque cabine un gardien.\n",
    "\n",
    "| NoCabine | NomAgent |\n",
    "|----------|----------|\n",
    "| 1        | Branno   |\n",
    "| 2        | Darell   |\n",
    "| 3        | Demerzel |\n",
    "| 4        | Seldon   |\n",
    "| 5        | Dornick  |\n",
    "| 6        | Hardin   |\n",
    "| 7        | Trevize  |\n",
    "| 8        | Pelorat  |\n",
    "| 9        | Riose    |\n"
   ]
  },
  {
   "cell_type": "markdown",
   "metadata": {},
   "source": [
    "**Table 3.** La table `BaseMiams` donne l'aliment à servir à chaque extraterrestre.\n",
    "\n",
    "| Aliment      | NomAlien   |\n",
    "|--------------|------------|\n",
    "| Bortsch      | Zorglub    |\n",
    "| Bortsch      | Blorx      |\n",
    "| Zoumise      | Urxiz      |\n",
    "| Bortsch      | Zbleurdite |\n",
    "| Schwanstucke | Darneurane |\n",
    "| Kashpir      | Mulzo      |\n",
    "| Kashpir      | Zzzzzz     |\n",
    "| Zoumise      | Arghh      |\n",
    "| Bortsch      | Joranum    |\n"
   ]
  },
  {
   "cell_type": "markdown",
   "metadata": {},
   "source": [
    "**Table 4.** La table `BaseCabines` précise dans quelle allée se trouve chaque cabine.\n",
    "\n",
    "| NoAllee | NoCabine |\n",
    "|---------|----------|\n",
    "| 1       | 1        |\n",
    "| 1       | 2        |\n",
    "| 2       | 3        |\n",
    "| 1       | 4        |\n",
    "| 2       | 5        |\n",
    "| 2       | 6        |\n",
    "| 2       | 7        |\n",
    "| 1       | 8        |\n",
    "| 1       | 9        |\n"
   ]
  },
  {
   "cell_type": "markdown",
   "metadata": {},
   "source": [
    "**Table 5.** La table `BaseResponsables` précise l'agent responsable de chaque allée.\n",
    "\n",
    "| NoAllee | NomAgent |\n",
    "|---------|----------|\n",
    "| 1       | Seldon   |\n",
    "| 2       | Pelorat  |\n"
   ]
  },
  {
   "cell_type": "markdown",
   "metadata": {},
   "source": [
    "**Table 6.** La table `BaseVilles` précise la planète sur laquelle se trouve chaque ville.  \n",
    "\n",
    "| Planete | Ville    |\n",
    "|---------|----------|\n",
    "| Trantor | Terminus |\n",
    "| Euterpe | Arcturus |\n",
    "| Helicon | Kalgan   |\n",
    "| Euterpe | Hesperos |\n",
    "| Gaia    | Siwenna  |\n"
   ]
  },
  {
   "cell_type": "code",
   "execution_count": 11,
   "metadata": {},
   "outputs": [],
   "source": [
    "import csv\n",
    "\n",
    "\n",
    "BASES = ('BaseAliens', 'BaseAgents', 'BaseGardiens', 'BaseMiams', \n",
    "         'BaseCabines', 'BaseResponsables', 'BaseVilles')\n",
    "\n",
    "def importer(nombase):\n",
    "    \"\"\"\n",
    "    \"\"\"\n",
    "    \n",
    "    fichier = './data/Exercice/' + nombase + '.csv'\n",
    "    f = open(fichier, newline='', encoding='utf8')\n",
    "    return [dict(row) for row in csv.DictReader(f, delimiter=';')]"
   ]
  },
  {
   "cell_type": "markdown",
   "metadata": {},
   "source": [
    "1. Proposer un code permettant d'avoir la base des gardiens classée par ordre alphabétique du nom. Placer le résultat dans un tableau `tgardien`."
   ]
  },
  {
   "cell_type": "code",
   "execution_count": 21,
   "metadata": {},
   "outputs": [],
   "source": [
    "### BEGIN SOLUTION\n",
    "\n",
    "def tri_par_nom(a):\n",
    "    return a['NomAgent']\n",
    "\n",
    "t2 = importer(BASES[2])\n",
    "tgardien = sorted(t2, key=tri_par_nom)\n",
    "### END SOLUTION"
   ]
  },
  {
   "cell_type": "code",
   "execution_count": 24,
   "metadata": {},
   "outputs": [],
   "source": [
    "#Vérifier votre réponse en exécutant cette cellule\n",
    "### BEGIN HIDDEN TESTS\n",
    "assert tgardien[4]['NomAgent'] == 'Hardin', \"Réponse fausse\"\n",
    "### END HIDDEN TESTS"
   ]
  },
  {
   "cell_type": "markdown",
   "metadata": {},
   "source": [
    "2. Proposer un code permettant d'avoir la base des aliens classée par ordre alphabétique des planètes. En cas d'égalité, le tri se fera sur l'ordre alphabétique du nom. Le résultat sera placé dans un tableau `taliens`."
   ]
  },
  {
   "cell_type": "code",
   "execution_count": 25,
   "metadata": {},
   "outputs": [],
   "source": [
    "### BEGIN SOLUTION\n",
    "\n",
    "def tri_par_planete_nom(a):\n",
    "    return a['Planete'], a['NomAlien']\n",
    "\n",
    "t0 = importer(BASES[0])\n",
    "talien = sorted(t0, key=tri_par_planete_nom)\n",
    "### END SOLUTION"
   ]
  },
  {
   "cell_type": "code",
   "execution_count": 28,
   "metadata": {},
   "outputs": [],
   "source": [
    "assert talien[3]['NomAlien'] == 'Joranum'\n",
    "### BEGIN HIDDEN TESTS\n",
    "assert talien[5]['NoCabine'] == '8'\n",
    "### END HIDDEN TESTS"
   ]
  },
  {
   "cell_type": "markdown",
   "metadata": {},
   "source": [
    "3. On souhaite réaliser la fusion de la table des aliens et de la table Miams. En s'aidant des fonctions développées dans le cours, proposer le code réalisant cette jointure. Le résultat sera placé dans un tableau `talien_complet`."
   ]
  },
  {
   "cell_type": "code",
   "execution_count": 33,
   "metadata": {},
   "outputs": [],
   "source": [
    "def fusionner_lignes(a,m):\n",
    "    \"\"\"\n",
    "    Retourne un dictionnaire, résultat de la fusion des deux lignes a et m;\n",
    "    a: ligne de la table BaseAliens (dictionnaire);\n",
    "    m: ligne de la table BaseMiams (dictionnaire);\n",
    "    \"\"\"\n",
    "    return {'NoCabine':a['NoCabine'], 'NomAlien':a['NomAlien'], 'Planete':a['Planete'],\n",
    "            'Sexe':a['Sexe'],'Aliment':m['Aliment']}\n",
    "\n",
    "def jointure(t1, t2):\n",
    "    \"\"\"\n",
    "    Retourne une table (tableau de dictionnaire) résultant de la fusion des deux tables t1 et t2.\n",
    "    t1, t2: tables de données (tableaux de dictionnaires)\n",
    "    \"\"\"\n",
    "    return [fusionner_lignes(alien, aliment) for alien in t1\\\n",
    "            for aliment in t2 if alien['NomAlien'] == aliment['NomAlien']]"
   ]
  },
  {
   "cell_type": "code",
   "execution_count": 34,
   "metadata": {},
   "outputs": [],
   "source": [
    "t0 = importer(BASES[0])\n",
    "t3 = importer(BASES[3])\n",
    "talien_complet = jointure(t0, t3)"
   ]
  },
  {
   "cell_type": "code",
   "execution_count": 35,
   "metadata": {},
   "outputs": [
    {
     "name": "stdout",
     "output_type": "stream",
     "text": [
      "{'NoCabine': '1', 'NomAlien': 'Zorglub', 'Planete': 'Trantor', 'Sexe': 'M', 'Aliment': 'Bortsch'}\n",
      "{'NoCabine': '2', 'NomAlien': 'Blorx', 'Planete': 'Euterpe', 'Sexe': 'M', 'Aliment': 'Bortsch'}\n",
      "{'NoCabine': '3', 'NomAlien': 'Urxiz', 'Planete': 'Aurora', 'Sexe': 'M', 'Aliment': 'Zoumise'}\n",
      "{'NoCabine': '4', 'NomAlien': 'Zbleurdite', 'Planete': 'Trantor', 'Sexe': 'F', 'Aliment': 'Bortsch'}\n",
      "{'NoCabine': '5', 'NomAlien': 'Darneurane', 'Planete': 'Trantor', 'Sexe': 'M', 'Aliment': 'Schwanstucke'}\n",
      "{'NoCabine': '6', 'NomAlien': 'Mulzo', 'Planete': 'Helicon', 'Sexe': 'M', 'Aliment': 'Kashpir'}\n",
      "{'NoCabine': '7', 'NomAlien': 'Zzzzzz', 'Planete': 'Aurora', 'Sexe': 'F', 'Aliment': 'Kashpir'}\n",
      "{'NoCabine': '8', 'NomAlien': 'Arghh', 'Planete': 'Nexon', 'Sexe': 'M', 'Aliment': 'Zoumise'}\n",
      "{'NoCabine': '9', 'NomAlien': 'Joranum', 'Planete': 'Euterpe', 'Sexe': 'F', 'Aliment': 'Bortsch'}\n"
     ]
    }
   ],
   "source": [
    "for ligne in talien_complet:\n",
    "    print(ligne)"
   ]
  },
  {
   "cell_type": "code",
   "execution_count": null,
   "metadata": {},
   "outputs": [],
   "source": []
  }
 ],
 "metadata": {
  "kernelspec": {
   "display_name": "Python 3",
   "language": "python",
   "name": "python3"
  },
  "language_info": {
   "codemirror_mode": {
    "name": "ipython",
    "version": 3
   },
   "file_extension": ".py",
   "mimetype": "text/x-python",
   "name": "python",
   "nbconvert_exporter": "python",
   "pygments_lexer": "ipython3",
   "version": "3.7.2"
  }
 },
 "nbformat": 4,
 "nbformat_minor": 2
}
