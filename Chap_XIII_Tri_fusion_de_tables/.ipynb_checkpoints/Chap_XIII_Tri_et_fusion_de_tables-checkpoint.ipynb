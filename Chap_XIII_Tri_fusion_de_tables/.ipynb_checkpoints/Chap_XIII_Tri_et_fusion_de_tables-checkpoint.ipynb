{
 "cells": [
  {
   "cell_type": "markdown",
   "metadata": {},
   "source": [
    "**********************\n",
    "Tri & fusion de tables\n",
    "**********************"
   ]
  },
  {
   "cell_type": "markdown",
   "metadata": {},
   "source": [
    "# Tri d'une table en python"
   ]
  },
  {
   "cell_type": "markdown",
   "metadata": {},
   "source": [
    "Lorsqu'on manipule des données en tables, il est fréquent de vouloir les trier. Le langage python offre quelques possibilités de tri: méthode `sort` des tableaux, fonction `sorted` de la librairie standard -*qui sera privilégiée ici*-."
   ]
  },
  {
   "cell_type": "markdown",
   "metadata": {},
   "source": [
    "## Quels objets peuvent être comparés ?"
   ]
  },
  {
   "cell_type": "markdown",
   "metadata": {},
   "source": [
    "Python sait comparer évidemment des nombres et des chaines de caractères, mais aussi des p-uplets. Voici quelques exemples:"
   ]
  },
  {
   "cell_type": "code",
   "execution_count": 29,
   "metadata": {},
   "outputs": [
    {
     "name": "stdout",
     "output_type": "stream",
     "text": [
      "'abc' > 'aac':  True\n",
      "(5,4) > (5,3):  True\n",
      "(5,4,6) > (5,4,8):  False\n",
      "(6, 'c') < (5, 'c'):  False\n",
      "(6, 'c') < (6, 'e'):  True\n"
     ]
    }
   ],
   "source": [
    "print(\"'abc' > 'aac': \", 'abc' > 'aac')\n",
    "print('(5,4) > (5,3): ', (5, 4) > (5, 3))\n",
    "print('(5,4,6) > (5,4,8): ', (5, 4, 6) > (5, 4, 8))\n",
    "print(\"(6, 'c') < (5, 'c'): \", (6, 'c') < (5, 'c'))\n",
    "print(\"(6, 'c') < (6, 'e'): \", (6, 'c') < (6, 'e'))"
   ]
  },
  {
   "cell_type": "markdown",
   "metadata": {},
   "source": [
    "Qu'en est-il des dictionnaires?"
   ]
  },
  {
   "cell_type": "code",
   "execution_count": 39,
   "metadata": {},
   "outputs": [
    {
     "ename": "TypeError",
     "evalue": "'<' not supported between instances of 'dict' and 'dict'",
     "output_type": "error",
     "traceback": [
      "\u001b[1;31m---------------------------------------------------------------------------\u001b[0m",
      "\u001b[1;31mTypeError\u001b[0m                                 Traceback (most recent call last)",
      "\u001b[1;32m<ipython-input-39-f4ee3bfa9ab9>\u001b[0m in \u001b[0;36m<module>\u001b[1;34m()\u001b[0m\n\u001b[0;32m      1\u001b[0m \u001b[0me1\u001b[0m \u001b[1;33m=\u001b[0m \u001b[1;33m{\u001b[0m\u001b[1;34m'nom'\u001b[0m\u001b[1;33m:\u001b[0m\u001b[1;34m'bob'\u001b[0m\u001b[1;33m,\u001b[0m \u001b[1;34m'age'\u001b[0m\u001b[1;33m:\u001b[0m\u001b[1;36m20\u001b[0m\u001b[1;33m,\u001b[0m \u001b[1;34m'domaine'\u001b[0m\u001b[1;33m:\u001b[0m\u001b[1;34m'ia'\u001b[0m\u001b[1;33m}\u001b[0m\u001b[1;33m\u001b[0m\u001b[0m\n\u001b[0;32m      2\u001b[0m \u001b[0me2\u001b[0m \u001b[1;33m=\u001b[0m \u001b[1;33m{\u001b[0m\u001b[1;34m'nom'\u001b[0m\u001b[1;33m:\u001b[0m\u001b[1;34m'alice'\u001b[0m\u001b[1;33m,\u001b[0m \u001b[1;34m'age'\u001b[0m\u001b[1;33m:\u001b[0m\u001b[1;36m23\u001b[0m\u001b[1;33m,\u001b[0m \u001b[1;34m'domaine'\u001b[0m\u001b[1;33m:\u001b[0m\u001b[1;34m'algorithmique'\u001b[0m\u001b[1;33m}\u001b[0m\u001b[1;33m\u001b[0m\u001b[0m\n\u001b[1;32m----> 3\u001b[1;33m \u001b[0mprint\u001b[0m\u001b[1;33m(\u001b[0m\u001b[1;34m'e1 < e2: '\u001b[0m\u001b[1;33m,\u001b[0m \u001b[0me1\u001b[0m \u001b[1;33m<\u001b[0m \u001b[0me2\u001b[0m\u001b[1;33m)\u001b[0m\u001b[1;33m\u001b[0m\u001b[0m\n\u001b[0m",
      "\u001b[1;31mTypeError\u001b[0m: '<' not supported between instances of 'dict' and 'dict'"
     ]
    }
   ],
   "source": [
    "e1 = {'nom':'bob', 'age':20, 'domaine':'ia'}\n",
    "e2 = {'nom':'alice', 'age':23, 'domaine':'algorithmique'}\n",
    "print('e1 < e2: ', e1 < e2)"
   ]
  },
  {
   "cell_type": "markdown",
   "metadata": {},
   "source": [
    "**Les p-uplets nommés implémentés en 1ère par des dictionnaires ne peuvent pas être comparés**."
   ]
  },
  {
   "cell_type": "markdown",
   "metadata": {},
   "source": [
    "## Comment utiliser la fonction 'sorted' de la librairie standard?"
   ]
  },
  {
   "cell_type": "code",
   "execution_count": 38,
   "metadata": {},
   "outputs": [
    {
     "name": "stdout",
     "output_type": "stream",
     "text": [
      "Help on built-in function sorted in module builtins:\n",
      "\n",
      "sorted(iterable, /, *, key=None, reverse=False)\n",
      "    Return a new list containing all items from the iterable in ascending order.\n",
      "    \n",
      "    A custom key function can be supplied to customize the sort order, and the\n",
      "    reverse flag can be set to request the result in descending order.\n",
      "\n"
     ]
    }
   ],
   "source": [
    "help(sorted)"
   ]
  },
  {
   "cell_type": "markdown",
   "metadata": {},
   "source": [
    "La fonction `sorted` prend en paramètre obligatoire un *itérable*, comme un tableau par exemple, et renvoie un nouveau tableau trié par **ordre croissant**."
   ]
  },
  {
   "cell_type": "markdown",
   "metadata": {},
   "source": [
    "### Application directe\n",
    "L'une des deux instructions suivantes provoque une erreur. Laquelle et pourquoi?\n",
    "```python\n",
    "t1 = sorted(8, 56, 9, 2, 15)\n",
    "t2 = sorted((8, 56, 9, 2, 15))\n",
    "```\n",
    "Que renvoie l'instruction correcte?"
   ]
  },
  {
   "cell_type": "markdown",
   "metadata": {},
   "source": [
    "La fonction 'sorted' possède un paramètre optionnel `key` qui est utile lorsque python ne sait pas comparer des objets comme les dictionnaires. On affecte à ce paramètre le nom de la fonction chargée d'indiquer la clé suivant laquelle on trie."
   ]
  },
  {
   "cell_type": "markdown",
   "metadata": {},
   "source": [
    "#### Exemple\n",
    "Soit à ranger le tableau `t` suivant par ordre croissant d'âge:"
   ]
  },
  {
   "cell_type": "code",
   "execution_count": 52,
   "metadata": {},
   "outputs": [
    {
     "name": "stdout",
     "output_type": "stream",
     "text": [
      "{'nom': 'bob', 'age': 20, 'domaine': 'IA'}\n",
      "{'nom': 'sara', 'age': 21, 'domaine': 'web'}\n",
      "{'nom': 'alex', 'age': 23, 'domaine': 'web'}\n",
      "{'nom': 'alice', 'age': 23, 'domaine': 'algorithmique'}\n",
      "{'nom': 'lisa', 'age': 23, 'domaine': 'robotique'}\n"
     ]
    }
   ],
   "source": [
    "t = [{'nom':'bob', 'age':20, 'domaine':'IA'}, \n",
    "     {'nom':'alex', 'age':23, 'domaine':'web'}, \n",
    "     {'nom':'sara', 'age':21, 'domaine':'web'}, \n",
    "     {'nom':'alice', 'age':23, 'domaine':'algorithmique'},\n",
    "     {'nom':'lisa', 'age':23, 'domaine':'robotique'}]\n",
    "\n",
    "#On définit une fonction qui retourne le critère de tri\n",
    "def suivant_age(e):\n",
    "    return e['age']\n",
    "\n",
    "#On appelle 'sorted' en affectant à 'key' le nom de la fonction de tri\n",
    "t_trie = sorted(t, key=suivant_age)\n",
    "#Affichage\n",
    "for e in t_trie:\n",
    "    print(e)"
   ]
  },
  {
   "cell_type": "markdown",
   "metadata": {},
   "source": [
    "On peut vouloir rajouter un deuxième critère de tri, en cas d'égalité par exemple. Il suffit alors de placer ce deuxième critère dans un tuple (que python sait trier!) retourné par la fonction."
   ]
  },
  {
   "cell_type": "code",
   "execution_count": 51,
   "metadata": {},
   "outputs": [
    {
     "name": "stdout",
     "output_type": "stream",
     "text": [
      "{'nom': 'bob', 'age': 20, 'domaine': 'IA'}\n",
      "{'nom': 'sara', 'age': 21, 'domaine': 'web'}\n",
      "{'nom': 'alex', 'age': 23, 'domaine': 'web'}\n",
      "{'nom': 'alice', 'age': 23, 'domaine': 'algorithmique'}\n",
      "{'nom': 'lisa', 'age': 23, 'domaine': 'robotique'}\n"
     ]
    }
   ],
   "source": [
    "t = [{'nom':'bob', 'age':20, 'domaine':'IA'}, \n",
    "     {'nom':'alex', 'age':23, 'domaine':'web'}, \n",
    "     {'nom':'sara', 'age':21, 'domaine':'web'}, \n",
    "     {'nom':'alice', 'age':23, 'domaine':'algorithmique'},\n",
    "     {'nom':'lisa', 'age':23, 'domaine':'robotique'}]\n",
    "\n",
    "#On définit une fonction qui retourne le critère de tri\n",
    "def suivant_age_puis_nom(e):\n",
    "    return (e['age'], e['nom'])\n",
    "\n",
    "#On appelle 'sorted' en affectant à 'key' le nom de la fonction de tri\n",
    "t_trie = sorted(t, key=suivant_age_puis_nom)\n",
    "#Affichage\n",
    "for e in t_trie:\n",
    "    print(e)"
   ]
  },
  {
   "cell_type": "markdown",
   "metadata": {},
   "source": [
    "La fonction `sorted` possède un dernier paramètre optionnel: `reverse`. On lui donnera la valeur `True` si on veut un classement décroissant."
   ]
  },
  {
   "cell_type": "markdown",
   "metadata": {},
   "source": [
    "#### Application directe\n",
    "Modifier le code précédent pour trier `t` par domaine, puis par nom en cas d'égalité."
   ]
  },
  {
   "cell_type": "code",
   "execution_count": null,
   "metadata": {
    "collapsed": true
   },
   "outputs": [],
   "source": [
    "t = [{'nom':'bob', 'age':20, 'domaine':'IA'}, \n",
    "     {'nom':'alex', 'age':23, 'domaine':'web'}, \n",
    "     {'nom':'sara', 'age':21, 'domaine':'web'}, \n",
    "     {'nom':'alice', 'age':23, 'domaine':'algorithmique'},\n",
    "     {'nom':'lisa', 'age':23, 'domaine':'robotique'}]\n",
    "\n",
    "def suivant_domaine_puis_nom(e):\n",
    "    #######A compléter#########\n",
    "\n",
    "#Décommentez la ligne ci-dessous et complétez!  \n",
    "#t_trie = \n",
    "\n",
    "#Affichage\n",
    "for e in t_trie:\n",
    "    print(e)"
   ]
  },
  {
   "cell_type": "markdown",
   "metadata": {},
   "source": [
    "# Fusion"
   ]
  },
  {
   "cell_type": "markdown",
   "metadata": {},
   "source": [
    "La cellule suivante prépare les tables de données utiles pour la suite."
   ]
  },
  {
   "cell_type": "code",
   "execution_count": 2,
   "metadata": {},
   "outputs": [],
   "source": [
    "import csv\n",
    "\n",
    "#**********Préparation des tables de travail*************#\n",
    "#\n",
    "FILE1 = './data/note_g1.csv'\n",
    "FILE2 = './data/note_g2.csv'\n",
    "FILE3 = './data/note_TS2.csv'\n",
    "FILE4 = './data/Orientation.csv'\n",
    "\n",
    "def conversion(d):\n",
    "    return {'Nom':d['Nom'],\n",
    "           'Exercice 1':float(d['Exercice 1']),\n",
    "           'Exercice 2':float(d['Exercice 2']),\n",
    "           'Exercice 3':float(d['Exercice 3']),\n",
    "           'Note':float(d['Note'])}\n",
    "#table de notes du groupe 1\n",
    "f1 = open(FILE1, newline='', encoding='utf8')\n",
    "t_1 = [dict(row) for row in csv.DictReader(f1, delimiter=';')]\n",
    "t_1 = [conversion(ligne) for ligne in t_1]\n",
    "\n",
    "#table de notes du groupe 2\n",
    "f2 = open(FILE2, newline='', encoding='utf8')\n",
    "t_2 = [dict(row) for row in csv.DictReader(f2, delimiter=';')]\n",
    "t_2 = [conversion(ligne) for ligne in t_2]\n",
    "\n",
    "#table de notes de la classe entière\n",
    "f3 = open(FILE3, newline='', encoding='utf8')\n",
    "t_3 = [dict(row) for row in csv.DictReader(f3, delimiter=';')]\n",
    "t_3 = [conversion(ligne) for ligne in t_3]\n",
    "\n",
    "#table des orientations post bac des élèves\n",
    "f4 = open(FILE4, newline='', encoding='utf8')\n",
    "t_4 = [dict(row) for row in csv.DictReader(f4, delimiter=';')]"
   ]
  },
  {
   "cell_type": "markdown",
   "metadata": {},
   "source": [
    "## Comment fusionner des tables ayant les mêmes attributs?\n",
    "Lorsque des tables possèdent les mêmes attributs, leur fusion ne pose aucun problème. Par exemple, on souhaiterait fusionner les notes des deux groupes d'une classe en une seule table."
   ]
  },
  {
   "cell_type": "code",
   "execution_count": 4,
   "metadata": {},
   "outputs": [
    {
     "name": "stdout",
     "output_type": "stream",
     "text": [
      "15\n",
      "15\n",
      "30\n"
     ]
    }
   ],
   "source": [
    "t_fin = t_1 + t_2\n",
    "print(len(t_1))\n",
    "print(len(t_2))\n",
    "print(len(t_fin))"
   ]
  },
  {
   "cell_type": "markdown",
   "metadata": {},
   "source": [
    "## Comment fusionner des tables ayant des attributs différents?\n",
    "On se limite au cas simple où les deux tables ont un attribut en commun. L'opération de fusion de table de données est appelée aussi **jointure**.  \n",
    "On souhaite fusionner la table de notes des TS avec la table d'orientation. Les structures de ces tables sont les suivantes:"
   ]
  },
  {
   "cell_type": "code",
   "execution_count": 62,
   "metadata": {},
   "outputs": [
    {
     "name": "stdout",
     "output_type": "stream",
     "text": [
      "{'Nom': 'Nayagom', 'Exercice 1': 2.5, 'Exercice 2': 2.0, 'Exercice 3': 5.0, 'Note': 9.5}\n",
      "{'Nom': 'Payet Nativel', 'Exercice 1': 3.0, 'Exercice 2': 3.5, 'Exercice 3': 2.0, 'Note': 8.5}\n",
      "*******************************************************************************************\n",
      "{'Nom': 'Metayer', 'Orientation': 'PACES', 'Lieu': 'Métropole'}\n",
      "{'Nom': 'Bravin', 'Orientation': 'Ecole de Commerce', 'Lieu': 'Réunion'}\n"
     ]
    }
   ],
   "source": [
    "#Affichage de la table des notes puis orientation\n",
    "for i in range(2):\n",
    "    print(t_3[i])\n",
    "print('*******************************************************************************************')\n",
    "for i in range(2):\n",
    "    print(t_4[i])"
   ]
  },
  {
   "cell_type": "markdown",
   "metadata": {},
   "source": [
    "Les deux tables partagent l'attribut 'Nom'. L'algorithme de fusion est le suivant:  \n",
    "\n",
    "*Pour chaque ligne de la table note, parcourir chaque ligne de la table orientation. Si les attributs 'Nom' sont les mêmes, fusionner les lignes et sauver le résultat*.  \n",
    "\n",
    "Ecrivons d'abord une fonction qui permet de fusionner deux lignes des deux tables précédentes."
   ]
  },
  {
   "cell_type": "code",
   "execution_count": 65,
   "metadata": {
    "collapsed": true
   },
   "outputs": [],
   "source": [
    "def fusionner_lignes(e,o):\n",
    "    \"\"\"\n",
    "    Retourne un dictionnaire, résultat de la fusion des deux lignes e et o;\n",
    "    e: ligne de la table note (dictionnaire);\n",
    "    o: ligne de la table orientation (dictionnaire);\n",
    "    \"\"\"\n",
    "    return {'Nom':e['Nom'], 'Exercice 1':e['Exercice 1'], 'Exercice 2':e['Exercice 2'],\n",
    "            'Exercice 3':e['Exercice 3'],\n",
    "           'Note':e['Note'], 'Orientation':o['Orientation'], 'Lieu':o['Lieu']}"
   ]
  },
  {
   "cell_type": "code",
   "execution_count": 66,
   "metadata": {},
   "outputs": [
    {
     "data": {
      "text/plain": [
       "{'Exercice 1': 5.5,\n",
       " 'Exercice 2': 3.5,\n",
       " 'Exercice 3': 3.0,\n",
       " 'Lieu': 'Métropole',\n",
       " 'Nom': 'Metayer',\n",
       " 'Note': 12.0,\n",
       " 'Orientation': 'PACES'}"
      ]
     },
     "execution_count": 66,
     "metadata": {},
     "output_type": "execute_result"
    }
   ],
   "source": [
    "fusionner_lignes({'Nom': 'Metayer', 'Exercice 1': 5.5, 'Exercice 2': 3.5, 'Exercice 3': 3.0, 'Note': 12.0},\n",
    "                {'Nom': 'Metayer', 'Orientation': 'PACES', 'Lieu': 'Métropole'})"
   ]
  },
  {
   "cell_type": "markdown",
   "metadata": {},
   "source": [
    "Une premier code possible pour la fusion des tables de note `t_3` et d'orientation `t_4` utilise deux boucles `for` imbriquées ainsi que la méthode `append` qui permet d'ajouter un élément à un tableau."
   ]
  },
  {
   "cell_type": "code",
   "execution_count": 71,
   "metadata": {
    "collapsed": true
   },
   "outputs": [],
   "source": [
    "def jointure1(t1, t2):\n",
    "    \"\"\"\n",
    "    Retourne une table (tableau de dictionnaires) résultant de la fusion des deux tables t1 et t2.\n",
    "    t1, t2: tables de données (tableaux de dictionnaires)\n",
    "    \"\"\"\n",
    "    t_fin = []\n",
    "    for eleve in t_3:\n",
    "        for orientation in t_4:\n",
    "            if eleve['Nom'] == orientation['Nom']:\n",
    "                t_fin.append(fusionner_lignes(eleve, orientation))\n",
    "    return t_fin"
   ]
  },
  {
   "cell_type": "code",
   "execution_count": 72,
   "metadata": {},
   "outputs": [
    {
     "name": "stdout",
     "output_type": "stream",
     "text": [
      "{'Nom': 'Rescourio', 'Exercice 1': 5.0, 'Exercice 2': 0.0, 'Exercice 3': 2.0, 'Note': 7.0, 'Orientation': 'PACES', 'Lieu': 'Réunion'}\n",
      "{'Nom': 'Dubard', 'Exercice 1': 5.0, 'Exercice 2': 4.5, 'Exercice 3': 4.0, 'Note': 13.5, 'Orientation': 'IUT', 'Lieu': 'Reunion'}\n",
      "{'Nom': 'Ribollet', 'Exercice 1': 3.0, 'Exercice 2': 3.5, 'Exercice 3': 5.0, 'Note': 11.5, 'Orientation': 'Licence STAPS', 'Lieu': 'Réunion'}\n",
      "{'Nom': 'Pajinadon', 'Exercice 1': 2.5, 'Exercice 2': 2.5, 'Exercice 3': 3.5, 'Note': 8.5, 'Orientation': 'ESIROI', 'Lieu': 'Réunion'}\n",
      "{'Nom': 'Catambara', 'Exercice 1': 3.0, 'Exercice 2': 0.5, 'Exercice 3': 3.5, 'Note': 7.0, 'Orientation': ' Licence Anglais', 'Lieu': 'Réunion'}\n",
      "{'Nom': 'Metayer', 'Exercice 1': 5.5, 'Exercice 2': 3.5, 'Exercice 3': 3.0, 'Note': 12.0, 'Orientation': 'PACES', 'Lieu': 'Métropole'}\n",
      "{'Nom': 'Salvado', 'Exercice 1': 5.5, 'Exercice 2': 5.5, 'Exercice 3': 6.0, 'Note': 17.0, 'Orientation': 'CPGE BCPST', 'Lieu': 'Réunion'}\n",
      "{'Nom': 'Bravin', 'Exercice 1': 3.0, 'Exercice 2': 1.5, 'Exercice 3': 3.5, 'Note': 8.0, 'Orientation': 'Ecole de Commerce', 'Lieu': 'Réunion'}\n",
      "{'Nom': 'Darnon', 'Exercice 1': 5.0, 'Exercice 2': 4.0, 'Exercice 3': 6.0, 'Note': 15.0, 'Orientation': 'CPGE BCPST', 'Lieu': 'Réunion'}\n"
     ]
    }
   ],
   "source": [
    "for ligne in jointure1(t_3, t_4):\n",
    "    print(ligne)"
   ]
  },
  {
   "cell_type": "markdown",
   "metadata": {},
   "source": [
    "Une solution plus élégante qui utilise une compréhension de tableau (qui permet de nous affranchir de la méthode `append`) est donnée ci-après:"
   ]
  },
  {
   "cell_type": "code",
   "execution_count": 5,
   "metadata": {},
   "outputs": [],
   "source": [
    "def jointure2(t1, t2):\n",
    "    \"\"\"\n",
    "    Retourne une table (tableau de dictionnaire) résultant de la fusion des deux tables t1 et t2.\n",
    "    t1, t2: tables de données (tableaux de dictionnaires)\n",
    "    \"\"\"\n",
    "    return [fusionner_lignes(eleve, orientation) for eleve in t1\\\n",
    "            for orientation in t2 if eleve['Nom'] == orientation['Nom']]"
   ]
  },
  {
   "cell_type": "code",
   "execution_count": 74,
   "metadata": {},
   "outputs": [
    {
     "name": "stdout",
     "output_type": "stream",
     "text": [
      "{'Nom': 'Rescourio', 'Exercice 1': 5.0, 'Exercice 2': 0.0, 'Exercice 3': 2.0, 'Note': 7.0, 'Orientation': 'PACES', 'Lieu': 'Réunion'}\n",
      "{'Nom': 'Dubard', 'Exercice 1': 5.0, 'Exercice 2': 4.5, 'Exercice 3': 4.0, 'Note': 13.5, 'Orientation': 'IUT', 'Lieu': 'Reunion'}\n",
      "{'Nom': 'Ribollet', 'Exercice 1': 3.0, 'Exercice 2': 3.5, 'Exercice 3': 5.0, 'Note': 11.5, 'Orientation': 'Licence STAPS', 'Lieu': 'Réunion'}\n",
      "{'Nom': 'Pajinadon', 'Exercice 1': 2.5, 'Exercice 2': 2.5, 'Exercice 3': 3.5, 'Note': 8.5, 'Orientation': 'ESIROI', 'Lieu': 'Réunion'}\n",
      "{'Nom': 'Catambara', 'Exercice 1': 3.0, 'Exercice 2': 0.5, 'Exercice 3': 3.5, 'Note': 7.0, 'Orientation': ' Licence Anglais', 'Lieu': 'Réunion'}\n",
      "{'Nom': 'Metayer', 'Exercice 1': 5.5, 'Exercice 2': 3.5, 'Exercice 3': 3.0, 'Note': 12.0, 'Orientation': 'PACES', 'Lieu': 'Métropole'}\n",
      "{'Nom': 'Salvado', 'Exercice 1': 5.5, 'Exercice 2': 5.5, 'Exercice 3': 6.0, 'Note': 17.0, 'Orientation': 'CPGE BCPST', 'Lieu': 'Réunion'}\n",
      "{'Nom': 'Bravin', 'Exercice 1': 3.0, 'Exercice 2': 1.5, 'Exercice 3': 3.5, 'Note': 8.0, 'Orientation': 'Ecole de Commerce', 'Lieu': 'Réunion'}\n",
      "{'Nom': 'Darnon', 'Exercice 1': 5.0, 'Exercice 2': 4.0, 'Exercice 3': 6.0, 'Note': 15.0, 'Orientation': 'CPGE BCPST', 'Lieu': 'Réunion'}\n"
     ]
    }
   ],
   "source": [
    "for ligne in jointure2(t_3, t_4):\n",
    "    print(ligne)"
   ]
  },
  {
   "cell_type": "markdown",
   "metadata": {},
   "source": [
    "# Résumé\n",
    "Python possède une fonction de tri `sorted` qui retourne un tableau trié, par défaut par ordre croissant. Pour trier un tableau de dictionnaires, on doit utiliser le paramètre `key` qui indique à la fonction `sorted` le nom d'une fonction qui retournera un ou des critères de tri.  \n",
    "\n",
    "Pour fusionner deux tables ayant les mêmes attributs on utilise simplement la concaténation (+) de tableaux. Si on a un attribut en commun, on utilise un algorithme adapté pour réaliser la jointure"
   ]
  },
  {
   "cell_type": "markdown",
   "metadata": {},
   "source": [
    "---\n",
    "B. DARID\n",
    "![licence](img/licence.png)"
   ]
  }
 ],
 "metadata": {
  "kernelspec": {
   "display_name": "Python 3",
   "language": "python",
   "name": "python3"
  },
  "language_info": {
   "codemirror_mode": {
    "name": "ipython",
    "version": 3
   },
   "file_extension": ".py",
   "mimetype": "text/x-python",
   "name": "python",
   "nbconvert_exporter": "python",
   "pygments_lexer": "ipython3",
   "version": "3.7.2"
  }
 },
 "nbformat": 4,
 "nbformat_minor": 2
}
