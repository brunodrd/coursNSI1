{
 "cells": [
  {
   "cell_type": "markdown",
   "metadata": {},
   "source": [
    "title: Interactions client - serveur  \n",
    "author: Bruno DARID  \n",
    "date: 14 mars 2020  \n",
    "\n",
    "---\n"
   ]
  },
  {
   "cell_type": "markdown",
   "metadata": {},
   "source": [
    "# Modèle\n",
    "\n",
    "On appelle interaction client $\\leftrightarrow$ serveur un mode de communication entre un programme qualifié de *client* qui **envoie des requêtes** et un programme dit *serveur* qui y répond.  \n",
    "Dans le cas du Web, le client peut être un navigateur (*Google Chrome, Firefox, etc*) et le serveur un programme tel que *Apache, Nginx, etc*. Dans le cadre de ce cours, on utilisera un serveur écrit en Javascript (*Node.js* plus exactement). Le protocole utilisé est **HTTP**."
   ]
  },
  {
   "cell_type": "markdown",
   "metadata": {},
   "source": [
    "# Analyse d'un échange\n",
    "\n",
    "$\\triangleright$ Ouvrir un terminal et taper la commande ci-dessous, en remplaçant la séquence `xxx.xxx.xxx.xxx` par l'adresse ip fournie par le professeur:  \n",
    "```bash\n",
    "curl -v http://xxx.xxx.xxx.xxx:4000\n",
    "```\n",
    "$\\triangleright$ Commenter le résultat obtenu."
   ]
  },
  {
   "cell_type": "markdown",
   "metadata": {},
   "source": [
    "Les lignes précédées du signe $>$ constituent les requêtes du client et celles précédées du signe $<$ sont les réponses du serveur.  \n",
    "Les requêtes ont toujours la forme:  \n",
    "```bash\n",
    "commande URL version_protocole\n",
    "Entête\n",
    "--> ligne vide <--\n",
    "corps de la requête\n",
    "```  \n",
    "`commande` est la méthode à utiliser, elle spécifie le type de requête (voir paragraphe suivant). On peut citer, entre autres: **GET**, **POST** ou **HEAD**.  \n",
    "\n",
    "De même, les réponses suivent la syntaxe:  \n",
    "```bash\n",
    "version_protocole code_réponse texte_réponse\n",
    "Entête\n",
    "--> ligne vide <--\n",
    "corps de la réponse\n",
    "```\n",
    "Quelques codes réponse courants: 200 (OK), 404 (NOT FOUND), etc.  \n",
    "![protocole](img/capture1.png)\n",
    "\n",
    "De plus en plus, les échanges entre client et serveur sont chiffrés. De telles communications utilisent la version *sécurisée* **HTTPS** du protocole. Les négociations de chiffrement (on dit aussi le *handshake*) précèdent les envois de données (*voir capture*).  \n",
    "![ssl](img/capture2.png)"
   ]
  },
  {
   "cell_type": "markdown",
   "metadata": {},
   "source": [
    "\n",
    "\n",
    "\n",
    "## Exercice ##\n",
    "\n",
    "A partir de la capture ci-dessous, retrouver les informations suivantes:  \n",
    "* la méthode de la requête ainsi que l'url de la ressource demandée;\n",
    "* le type de serveur et le code de réponse retourné. Quelle en est la signification ?  \n",
    "* Quel est le type de document renvoyé par le serveur et quel est sa taille ?\n",
    "\n",
    "![exercice](img/capture3.png)"
   ]
  },
  {
   "cell_type": "markdown",
   "metadata": {},
   "source": [
    "# Transmission de paramètres"
   ]
  },
  {
   "cell_type": "markdown",
   "metadata": {},
   "source": [
    "## Methode GET\n",
    "$\\triangleright$ Ouvrir deux onglets différents dans le navigateur Chrome, en activant la console de développement web (touche F12) et sélectionnt 'Network' dans cette console (à droite).  \n",
    "\n",
    "\n",
    "![chrome](img/capture4b.png)  \n",
    "\n",
    "\n",
    "$\\triangleright$ Entrer les deux adresses suivantes (dans lesquelles on modifiera la chaine `xxx`), chacune dans un onglet: \n",
    "```bash\n",
    "http://xxx.xxx.xxx.xxx:4000/date\n",
    "http://xxx.xxx.xxx.xxx:4000/date?format=svg\n",
    "```  \n",
    "$\\triangleright$ Commenter les résultats  \n",
    "$\\triangleright$ Dans les consoles de développement, retrouver (onglet *Headers* puis *Request Headers*) la méthode de requête utilisée ainsi que l'url demandée."
   ]
  },
  {
   "cell_type": "markdown",
   "metadata": {},
   "source": []
  },
  {
   "cell_type": "markdown",
   "metadata": {},
   "source": [
    "**A RETENIR**\n",
    "On peut passer des paramètres au serveur via l'url. Les paramètres d’une URL servent à influencer la représentation d’une ressource ou information. La méthode GET permet de transmettre des paramètres.  \n",
    "*Remarque*: on peut passer plusieurs paramètres dans l'url; par exemple pour transmettre deux paramètres `para1` et `para2` on ajoute à l'url:\n",
    "```bash\n",
    "?para1=valeur&para2=valeur2\n",
    "```"
   ]
  },
  {
   "cell_type": "markdown",
   "metadata": {},
   "source": [
    "## Méthode POST - Cas de formulaire"
   ]
  },
  {
   "cell_type": "markdown",
   "metadata": {},
   "source": [
    "## Qu'est-ce qu'un formulaire ?\n",
    "Les formulaires HTML sont les principaux outils d'interaction entre un utilisateur et un serveur. Ils permettent **d'envoyer des données** au serveur web.\n",
    "## Syntaxe\n",
    "Pour ajouter un formulaire à une page HTML, on utilisera la balise `form`:  \n",
    "```html\n",
    "<form action=\"url_de_traitement\" method=\"POST\">\n",
    "    ...\n",
    "    ...\n",
    "</form>\n",
    "```\n",
    "`url_de_traitement` est à adapter !\n",
    "A l'intérieur d'un formulaire, on place généralement des *contrôles* repérés par des balises `<input>` dont le rendu dans le navigateur va dépendre de son attribut `type`. Les contrôles `<input>` sont souvent associés à une légende dont le contenu est fixée par une balise `<label>`. Par exemple, le code  \n",
    "```html\n",
    "<label for=\"nom\">Nom (entre 4 et 8 caractères):</label>\n",
    "<input type=\"text\" id=\"nom\" name=\"nom\" minlength=\"4\" maxlength=\"8\" size=\"10\">\n",
    "```\n",
    "fournira le rendu:"
   ]
  },
  {
   "cell_type": "code",
   "execution_count": 2,
   "metadata": {},
   "outputs": [
    {
     "data": {
      "text/html": [
       "\n",
       "<form action=\"localhost:4000\" method=\"POST\">\n",
       "    <label for=\"nom\">Nom (entre 4 et 8 caractères):</label>\n",
       "    <input type=\"text\" id=\"nom\" name=\"nom\" minlength=\"4\" maxlength=\"8\" size=\"10\">\n",
       "</form>\n"
      ],
      "text/plain": [
       "<IPython.core.display.HTML object>"
      ]
     },
     "execution_count": 2,
     "metadata": {},
     "output_type": "execute_result"
    }
   ],
   "source": [
    "from IPython.core.display import HTML\n",
    "HTML(\"\"\"\n",
    "<form action=\"localhost:4000\" method=\"POST\">\n",
    "    <label for=\"nom\">Nom (entre 4 et 8 caractères):</label>\n",
    "    <input type=\"text\" id=\"nom\" name=\"nom\" minlength=\"4\" maxlength=\"8\" size=\"10\">\n",
    "</form>\n",
    "\"\"\")"
   ]
  },
  {
   "cell_type": "markdown",
   "metadata": {},
   "source": [
    "$\\triangleright$ Ouvrir le fichier `index.html` avec Visual Studio Code. Repérer le formulaire. Combien de contrôles sont présents ?  \n",
    "$\\triangleright$ Modifier l'url de traitement de la balise `<form>` selon les instructions du professeur.  \n",
    "$\\triangleright$ Ouvrir le fichier `index.html` avec le navigateur Chrome ainsi que la console de développement web.  \n",
    "$\\triangleright$ Valider le formulaire. Commenter les résultats, côté client puis côté serveur."
   ]
  },
  {
   "cell_type": "code",
   "execution_count": null,
   "metadata": {},
   "outputs": [],
   "source": []
  },
  {
   "cell_type": "code",
   "execution_count": null,
   "metadata": {},
   "outputs": [],
   "source": []
  }
 ],
 "metadata": {
  "kernelspec": {
   "display_name": "Python 3",
   "language": "python",
   "name": "python3"
  },
  "language_info": {
   "codemirror_mode": {
    "name": "ipython",
    "version": 3
   },
   "file_extension": ".py",
   "mimetype": "text/x-python",
   "name": "python",
   "nbconvert_exporter": "python",
   "pygments_lexer": "ipython3",
   "version": "3.6.9"
  }
 },
 "nbformat": 4,
 "nbformat_minor": 2
}
