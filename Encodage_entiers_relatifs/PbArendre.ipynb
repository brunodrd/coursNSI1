{
 "cells": [
  {
   "cell_type": "code",
   "execution_count": 5,
   "metadata": {},
   "outputs": [],
   "source": [
    "#Version 1\n",
    "def complement(b):\n",
    "    \"\"\"\n",
    "    Retourne un tableau non vide d'entiers appartenant à {0,1} représentant\n",
    "    le complément à deux du nombre binaire passé en paramètre.\n",
    "    b: tableau d'entiers appartenant à {0,1} correspondant à la valeur \n",
    "    d'un nombre écrit en binaire.\n",
    "    \"\"\"\n",
    "    N = len(b)\n",
    "    c2 = [0] * N\n",
    "    #Inversion des bits - complément à un\n",
    "    for i in range(N):\n",
    "        if b[i] == 0:\n",
    "            c2[i] = 1\n",
    "    #Ajouter 1 au résultat précédent\n",
    "    #1)Réalisation d'un additionneur binaire\n",
    "    #Rappel: s = a xor b et r = a and b\n",
    "    #En python l'opérateur xor est obtenu par ^\n",
    "    def addbits(a, b):\n",
    "        s = a ^ b\n",
    "        #autre possibilité: s = int((not(a) and b) or (a and not(b)))\n",
    "        r = int(a and b)\n",
    "        return s,r\n",
    "    #2) Traitement à partir du bit de poids faible\n",
    "    r = 1\n",
    "    for i in range(N-1, -1, -1):\n",
    "        c2[i], r = addbits(c2[i], r)\n",
    "    return c2\n",
    "    "
   ]
  },
  {
   "cell_type": "code",
   "execution_count": 6,
   "metadata": {},
   "outputs": [],
   "source": [
    "assert complement([1,0,1,1,1,0]) == [0, 1, 0, 0, 1, 0]"
   ]
  },
  {
   "cell_type": "code",
   "execution_count": 10,
   "metadata": {},
   "outputs": [],
   "source": [
    "#Version 2\n",
    "def complement(b):\n",
    "    \"\"\"\n",
    "    Retourne un tableau non vide d'entiers appartenant à {0,1} représentant\n",
    "    le complément à deux du nombre binaire passé en paramètre.\n",
    "    b: tableau d'entiers appartenant à {0,1} correspondant à la valeur \n",
    "    d'un nombre écrit en binaire.\n",
    "    \"\"\"\n",
    "    N = len(b)\n",
    "    c2 = [0] * N\n",
    "    #Inversion des bits - complément à un\n",
    "    for i in range(N):\n",
    "        if b[i] == 0:\n",
    "            c2[i] = 1\n",
    "    \n",
    "    #Ajouter 1 au résultat précédent\n",
    "    r = 1\n",
    "    for i in range(N-1, -1, -1):\n",
    "        s = c2[i] + r\n",
    "        r = s // 2\n",
    "        c2[i] = s % 2\n",
    "    return c2"
   ]
  },
  {
   "cell_type": "code",
   "execution_count": 11,
   "metadata": {},
   "outputs": [],
   "source": [
    "assert complement([1,0,1,1,1,0]) == [0, 1, 0, 0, 1, 0]"
   ]
  },
  {
   "cell_type": "code",
   "execution_count": 13,
   "metadata": {},
   "outputs": [],
   "source": [
    "#Version 3\n",
    "def complement(b):\n",
    "    \"\"\"\n",
    "    Retourne un tableau non vide d'entiers appartenant à {0,1} représentant\n",
    "    le complément à deux du nombre binaire passé en paramètre.\n",
    "    b: tableau d'entiers appartenant à {0,1} correspondant à la valeur \n",
    "    d'un nombre écrit en binaire.\n",
    "    \"\"\"\n",
    "    N = len(b)\n",
    "    c2 = [0] * N\n",
    "    #Inversion des bits - complément à un\n",
    "    for i in range(N):\n",
    "        if b[i] == 0:\n",
    "            c2[i] = 1\n",
    "    \n",
    "    #Ajouter 1 au résultat précédent\n",
    "    r = 1\n",
    "    for i in range(N-1, -1, -1):\n",
    "        if c2[i] == 1 and r == 1:\n",
    "            c2[i] = 0\n",
    "        else:\n",
    "            c2[i] = c2[i] or r\n",
    "            r = 0\n",
    "    return c2"
   ]
  },
  {
   "cell_type": "code",
   "execution_count": 12,
   "metadata": {},
   "outputs": [],
   "source": [
    "assert complement([1,0,1,1,1,0]) == [0, 1, 0, 0, 1, 0]"
   ]
  },
  {
   "cell_type": "code",
   "execution_count": null,
   "metadata": {},
   "outputs": [],
   "source": []
  }
 ],
 "metadata": {
  "kernelspec": {
   "display_name": "Python 3",
   "language": "python",
   "name": "python3"
  },
  "language_info": {
   "codemirror_mode": {
    "name": "ipython",
    "version": 3
   },
   "file_extension": ".py",
   "mimetype": "text/x-python",
   "name": "python",
   "nbconvert_exporter": "python",
   "pygments_lexer": "ipython3",
   "version": "3.7.2"
  }
 },
 "nbformat": 4,
 "nbformat_minor": 2
}
