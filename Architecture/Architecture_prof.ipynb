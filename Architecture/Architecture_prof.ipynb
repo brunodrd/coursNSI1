{
 "cells": [
  {
   "cell_type": "markdown",
   "metadata": {},
   "source": [
    "# Le sujet\n",
    "Depuis presque 75 ans, l'architecture des ordinateurs est basée sur un modèle qui a peu évolué: le modèle d'architecture séquentielle de Von Neumann. La naissance de ce modèle a constitué un moment-clé de l'histoire de l'informatique.  \n",
    "Il s'agira ici, dans le cadre d'une fiche d'activité de niveau première (NSI), de:  \n",
    "*  distinguer les rôles et caractéristiques des éléments du modèle;  \n",
    "*  dérouler l'exécution de quelques séquences d'instructions simples;  \n",
    "*  présenter les principales évolutions du modèle et une alternative"
   ]
  },
  {
   "cell_type": "markdown",
   "metadata": {},
   "source": [
    "# Contexte et prérequis\n",
    "Il s'agit de la première séance consacrée aux architectures matérielles. Elle a été précédée de deux séquences sur la représentation des données: représentation binaire d'un entier relatif et les opérateurs booléens (voir progression jointe). Les notions associées sont considérées comme acquises.  \n",
    "*Remarque*: les circuits combinatoires ont été rencontrés dans la séquence précédente.  \n",
    "Durée prévue: 2h\n",
    "Evaluation (QCM): séance suivante."
   ]
  },
  {
   "cell_type": "markdown",
   "metadata": {},
   "source": [
    "# Les objectifs d'apprentissage\n",
    "Cette séquence permet d'abord d'insister sur un évènement clé et de le **situer** dans l'histoire de l'informatique. Le travail préparatoire donné permet d'introduire le sujet.  \n",
    "Puis une présentation des concepts généraux est donnée, permettant à l'élève de **distinguer** le rôle et les caractéristiques des principaux constituants d'une machine.  \n",
    "Quelques instructions simples en langage d'assemblage sont données et commentées. L'élève devrait ainsi pouvoir **dérouler** une séquence d'instruction simple en langage machine.  \n",
    "Finalement, les verbes d'action utilisés dans le programme permettent de cibler trois grandes compétences:  \n",
    "*  Connaitre;  \n",
    "*  Comprendre;  \n",
    "*  Appliquer;"
   ]
  },
  {
   "cell_type": "markdown",
   "metadata": {},
   "source": [
    "# Déroulement\n",
    "Travail préparatoire donné une semaine avant la séance: recherche à propos de L'EDVAC: décrire succinctement ce projet. Qui en sont les principaux protagonistes ? Presenter quelques caractéristiques techniques\n",
    "*  Un ou un groupe d'élèves effectuent une présentation (5 min)  \n",
    "*  Présntation des concepts (30 min)  \n",
    "*  Format des instructions et exemples commentés (10 min)  \n",
    "*  Exercices 1 (usage du simulateur en ligne) et 2 (40 min)  \n",
    "*  Déroulement d'une séquence d'instruction (exercice 3) (20 min). Les questions 3 et 4 sont évaluées.  \n",
    "*  Situation actuelle et alternative: 10 min  \n"
   ]
  },
  {
   "cell_type": "markdown",
   "metadata": {},
   "source": [
    "# Evaluation\n",
    "Travail préparatoire: 2 points   \n",
    "QCM: 16 points  \n",
    "Questions 3 & 4: 2 points"
   ]
  },
  {
   "cell_type": "markdown",
   "metadata": {},
   "source": [
    "# Bibliographie et sitographie\n",
    "Histoire illustrée de l'informatique - Lazard / Mounier-Kuhn  \n",
    "Architecture des machines et des systèmes informatiques - Delacroix / Cazes  \n",
    "Du transistor à l'ordinateur - Timsit  \n",
    "Computer organization and architecture 10th edition - Stallings  \n",
    "http://www.peterhigginson.co.uk/AQA/\n"
   ]
  },
  {
   "cell_type": "code",
   "execution_count": null,
   "metadata": {},
   "outputs": [],
   "source": []
  }
 ],
 "metadata": {
  "kernelspec": {
   "display_name": "Python 3",
   "language": "python",
   "name": "python3"
  },
  "language_info": {
   "codemirror_mode": {
    "name": "ipython",
    "version": 3
   },
   "file_extension": ".py",
   "mimetype": "text/x-python",
   "name": "python",
   "nbconvert_exporter": "python",
   "pygments_lexer": "ipython3",
   "version": "3.6.8"
  }
 },
 "nbformat": 4,
 "nbformat_minor": 2
}
